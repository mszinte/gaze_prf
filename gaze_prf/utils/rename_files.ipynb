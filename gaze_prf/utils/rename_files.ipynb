{
 "cells": [
  {
   "cell_type": "code",
   "execution_count": null,
   "metadata": {},
   "outputs": [],
   "source": [
    "import os\n",
    "import shutil\n",
    "import warnings\n",
    "warnings.filterwarnings('ignore')"
   ]
  },
  {
   "cell_type": "code",
   "execution_count": null,
   "metadata": {},
   "outputs": [],
   "source": [
    "subjects = ['sub-001','sub-002','sub-003','sub-004',\n",
    "            'sub-005','sub-006','sub-007','sub-008']\n",
    "\n",
    "fit_params = ['amplitude','baseline','ecc','r2','sd','x','y','theta']\n",
    "ssh_cmd = 'ssh mszinte@login.mesocentre.univ-amu.fr'\n",
    "scratch_dir = '/scratch/mszinte'"
   ]
  },
  {
   "cell_type": "code",
   "execution_count": null,
   "metadata": {},
   "outputs": [],
   "source": [
    "# FullScreen conditions\n",
    "main_task = 'FullScreen'\n",
    "for subject in subjects:\n",
    "    attend_tasks = ['','AttendFix','AttendBar']\n",
    "    attend_tasks_old = ['','_task-AttendFix','_task-AttendStim']\n",
    "    spec_dirs = ['prf_fits.mean', 'prf_fits', 'prf_fits']\n",
    "\n",
    "    for attend_task_old, attend_task, spec_dir in zip(attend_tasks_old,attend_tasks,spec_dirs):        \n",
    "        orig_dir = \"{}/data/pRFgazeMod/derivatives/{}\".format(scratch_dir,spec_dir)\n",
    "        dest_dir = \"{}/data/gaze_prf/derivatives/pp_data\".format(scratch_dir)\n",
    "            \n",
    "        # FullScreen fits parameters\n",
    "        for fit_param in fit_params:\n",
    "            orig_file = \"{}/{}/func/{}{}_desc-gaussprf.{}_parameters.nii.gz\".format(orig_dir,subject,subject,attend_task_old,fit_param)\n",
    "            dest_file = \"{}/{}/prf/fit/{}_task-{}{}_par-{}.nii.gz\".format(dest_dir,subject,subject,main_task,attend_task,fit_param)\n",
    "            os.system(\"{} rsync -avuz {} {}\".format(ssh_cmd, orig_file,dest_file))\n",
    "            \n",
    "        # FullScreen fit predictions timeseries\n",
    "        orig_file = \"{}/{}/func/{}{}_desc-gaussprf_predictions.nii.gz\".format(orig_dir,subject,subject,attend_task_old,fit_param)\n",
    "        dest_file = \"{}/{}/prf/predictions/{}_task-{}{}_fit_predictions.nii.gz\".format(dest_dir,subject,subject,main_task,attend_task,fit_param)\n",
    "        os.system(\"{} rsync -avuz {} {}\".format(ssh_cmd, orig_file,dest_file))"
   ]
  },
  {
   "cell_type": "code",
   "execution_count": null,
   "metadata": {},
   "outputs": [],
   "source": [
    "# Gaze conditions\n",
    "gaze_tasks = ['GazeCenter','GazeLeft','GazeRight']\n",
    "spec_dir = 'prf_predictive_accuracy'\n",
    "attend_tasks = ['AttendFix','AttendBar']\n",
    "attend_tasks_old = ['AttendFix','AttendStim']\n",
    "prediction_models = ['retinotopic','spatiotopic']\n",
    "\n",
    "orig_dir = \"{}/data/pRFgazeMod/derivatives/{}\".format(scratch_dir,spec_dir)\n",
    "dest_dir = \"{}/data/gaze_prf/derivatives/pp_data\".format(scratch_dir)\n",
    "for subject in subjects:\n",
    "    for attend_task_old, attend_task in zip(attend_tasks_old,attend_tasks):\n",
    "        for gaze_task in gaze_tasks:\n",
    "            for prediction_model in prediction_models:\n",
    "                \n",
    "                # gaze condition predictions timeseries\n",
    "                orig_file = \"{}/{}/func/{}_task-{}{}_desc-{}_predictions.nii.gz\".format(orig_dir, subject, subject, attend_task_old, gaze_task, prediction_model)\n",
    "                dest_file = \"{}/{}/prf/predictions/{}_task-{}{}_{}_FullScreen-predictions.nii.gz\".format(dest_dir,subject,subject,gaze_task,attend_task,prediction_model)\n",
    "                \n",
    "                os.system(\"{} rsync -avuz {} {}\".format(ssh_cmd, orig_file,dest_file))\n",
    "                \n",
    "                # gaze condition predictions r2\n",
    "                orig_file = \"{}/{}/func/{}_task-{}{}_desc-{}_r2.nii.gz\".format(orig_dir, subject, subject, attend_task_old, gaze_task, prediction_model)\n",
    "                dest_file = \"{}/{}/prf/predictions/{}_task-{}{}_{}_FullScreen-predictions_r2.nii.gz\".format(dest_dir,subject,subject,gaze_task,attend_task,prediction_model)\n",
    "                os.system(\"{} rsync -avuz {} {}\".format(ssh_cmd, orig_file,dest_file))\n"
   ]
  }
 ],
 "metadata": {
  "kernelspec": {
   "display_name": "mszinte",
   "language": "python",
   "name": "mszinte"
  },
  "language_info": {
   "codemirror_mode": {
    "name": "ipython",
    "version": 3
   },
   "file_extension": ".py",
   "mimetype": "text/x-python",
   "name": "python",
   "nbconvert_exporter": "python",
   "pygments_lexer": "ipython3",
   "version": "3.9.12"
  }
 },
 "nbformat": 4,
 "nbformat_minor": 4
}
