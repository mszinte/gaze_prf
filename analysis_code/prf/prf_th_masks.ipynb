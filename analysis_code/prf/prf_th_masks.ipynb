{
 "cells": [
  {
   "cell_type": "markdown",
   "id": "62b4e0be-698d-4caf-875e-a997d82f8ff2",
   "metadata": {},
   "source": [
    "### Compute pRF threshold maps\n",
    "- PRF Amplitude: positive only\n",
    "- PRF R2: between 0 and 1\n",
    "- PRF Eccentricity: between 0.05 and 15 dva\n",
    "- PRF SD (size): between 0.05 and 15 dva "
   ]
  },
  {
   "cell_type": "code",
   "execution_count": 1,
   "id": "260c604f-36bc-4e78-b13f-c59400f3b041",
   "metadata": {},
   "outputs": [],
   "source": [
    "# Imports\n",
    "import os\n",
    "import numpy as np\n",
    "import pandas as pd\n",
    "import nibabel as nb\n",
    "import warnings\n",
    "warnings.filterwarnings('ignore')\n",
    "\n",
    "# Define parameters\n",
    "subjects = ['sub-001', 'sub-002', 'sub-003', 'sub-004',\n",
    "            'sub-005', 'sub-006', 'sub-007', 'sub-008']\n",
    "subjects_plot = ['sub-001', 'sub-002', 'sub-003', 'sub-004',\n",
    "                 'sub-005', 'sub-006', 'sub-007', 'sub-008', 'group']\n",
    "tasks = ['FullScreen', 'FullScreenAttendFix', 'FullScreenAttendBar']\n",
    "rois = ['V1', 'V2', 'V3', 'V3AB', 'hMT+', 'LO',\n",
    "        'VO', 'iIPS', 'sIPS', 'iPCS', 'sPCS', 'mPCS']\n",
    "\n",
    "# Define folders\n",
    "base_dir = '/home/mszinte/disks/meso_S/data/gaze_prf'\n",
    "bids_dir = \"{}\".format(base_dir)\n",
    "pp_dir = \"{}/derivatives/pp_data\".format(base_dir)\n",
    "\n",
    "# Threshold values\n",
    "amp_th = 0\n",
    "r2_th = [0, 1]\n",
    "ecc_th = [0.05, 15]\n",
    "sd_th = [0.05, 15]"
   ]
  },
  {
   "cell_type": "code",
   "execution_count": 2,
   "id": "5c553e57-0792-4a3d-98aa-69b79aa09ec8",
   "metadata": {},
   "outputs": [
    {
     "name": "stdout",
     "output_type": "stream",
     "text": [
      "saving /home/mszinte/disks/meso_S/data/gaze_prf/derivatives/pp_data/sub-001/masks/sub-001_task-FullScreen_prf_threshold.nii.gz\n",
      "saving /home/mszinte/disks/meso_S/data/gaze_prf/derivatives/pp_data/sub-002/masks/sub-002_task-FullScreen_prf_threshold.nii.gz\n",
      "saving /home/mszinte/disks/meso_S/data/gaze_prf/derivatives/pp_data/sub-003/masks/sub-003_task-FullScreen_prf_threshold.nii.gz\n",
      "saving /home/mszinte/disks/meso_S/data/gaze_prf/derivatives/pp_data/sub-004/masks/sub-004_task-FullScreen_prf_threshold.nii.gz\n",
      "saving /home/mszinte/disks/meso_S/data/gaze_prf/derivatives/pp_data/sub-005/masks/sub-005_task-FullScreen_prf_threshold.nii.gz\n",
      "saving /home/mszinte/disks/meso_S/data/gaze_prf/derivatives/pp_data/sub-006/masks/sub-006_task-FullScreen_prf_threshold.nii.gz\n",
      "saving /home/mszinte/disks/meso_S/data/gaze_prf/derivatives/pp_data/sub-007/masks/sub-007_task-FullScreen_prf_threshold.nii.gz\n",
      "saving /home/mszinte/disks/meso_S/data/gaze_prf/derivatives/pp_data/sub-008/masks/sub-008_task-FullScreen_prf_threshold.nii.gz\n",
      "saving /home/mszinte/disks/meso_S/data/gaze_prf/derivatives/pp_data/sub-001/masks/sub-001_task-FullScreenAttendFix_prf_threshold.nii.gz\n",
      "saving /home/mszinte/disks/meso_S/data/gaze_prf/derivatives/pp_data/sub-002/masks/sub-002_task-FullScreenAttendFix_prf_threshold.nii.gz\n",
      "saving /home/mszinte/disks/meso_S/data/gaze_prf/derivatives/pp_data/sub-003/masks/sub-003_task-FullScreenAttendFix_prf_threshold.nii.gz\n",
      "saving /home/mszinte/disks/meso_S/data/gaze_prf/derivatives/pp_data/sub-004/masks/sub-004_task-FullScreenAttendFix_prf_threshold.nii.gz\n",
      "saving /home/mszinte/disks/meso_S/data/gaze_prf/derivatives/pp_data/sub-005/masks/sub-005_task-FullScreenAttendFix_prf_threshold.nii.gz\n",
      "saving /home/mszinte/disks/meso_S/data/gaze_prf/derivatives/pp_data/sub-006/masks/sub-006_task-FullScreenAttendFix_prf_threshold.nii.gz\n",
      "saving /home/mszinte/disks/meso_S/data/gaze_prf/derivatives/pp_data/sub-007/masks/sub-007_task-FullScreenAttendFix_prf_threshold.nii.gz\n",
      "saving /home/mszinte/disks/meso_S/data/gaze_prf/derivatives/pp_data/sub-008/masks/sub-008_task-FullScreenAttendFix_prf_threshold.nii.gz\n",
      "saving /home/mszinte/disks/meso_S/data/gaze_prf/derivatives/pp_data/sub-001/masks/sub-001_task-FullScreenAttendBar_prf_threshold.nii.gz\n",
      "saving /home/mszinte/disks/meso_S/data/gaze_prf/derivatives/pp_data/sub-002/masks/sub-002_task-FullScreenAttendBar_prf_threshold.nii.gz\n",
      "saving /home/mszinte/disks/meso_S/data/gaze_prf/derivatives/pp_data/sub-003/masks/sub-003_task-FullScreenAttendBar_prf_threshold.nii.gz\n",
      "saving /home/mszinte/disks/meso_S/data/gaze_prf/derivatives/pp_data/sub-004/masks/sub-004_task-FullScreenAttendBar_prf_threshold.nii.gz\n",
      "saving /home/mszinte/disks/meso_S/data/gaze_prf/derivatives/pp_data/sub-005/masks/sub-005_task-FullScreenAttendBar_prf_threshold.nii.gz\n",
      "saving /home/mszinte/disks/meso_S/data/gaze_prf/derivatives/pp_data/sub-006/masks/sub-006_task-FullScreenAttendBar_prf_threshold.nii.gz\n",
      "saving /home/mszinte/disks/meso_S/data/gaze_prf/derivatives/pp_data/sub-007/masks/sub-007_task-FullScreenAttendBar_prf_threshold.nii.gz\n",
      "saving /home/mszinte/disks/meso_S/data/gaze_prf/derivatives/pp_data/sub-008/masks/sub-008_task-FullScreenAttendBar_prf_threshold.nii.gz\n"
     ]
    }
   ],
   "source": [
    "# Create pRF threshold masks\n",
    "for task in tasks:\n",
    "    for subject in subjects:\n",
    "    \n",
    "        # define folders\n",
    "        fit_dir = '{}/{}/prf/fit'.format(pp_dir, subject)\n",
    "        mask_dir = '{}/{}/masks'.format(pp_dir, subject)\n",
    "        \n",
    "        # Load fit parameters\n",
    "        r2_im = nb.load('{}/{}_task-{}_par-r2.nii.gz'.format(fit_dir,subject,task))\n",
    "        ecc_im = nb.load('{}/{}_task-{}_par-ecc.nii.gz'.format(fit_dir,subject,task))\n",
    "        sd_im = nb.load('{}/{}_task-{}_par-sd.nii.gz'.format(fit_dir,subject,task))\n",
    "        amp_im = nb.load('{}/{}_task-{}_par-amplitude.nii.gz'.format(fit_dir,subject,task))\n",
    "\n",
    "        # Create param matrix\n",
    "        r2_idx, ecc_idx, sd_idx, amp_idx, mask_idx = 0, 1, 2, 3, 4\n",
    "        param_mat = np.zeros((r2_im.shape[0],r2_im.shape[1],r2_im.shape[2],5))*np.nan\n",
    "        param_mat[...,r2_idx] = r2_im.get_fdata()\n",
    "        param_mat[...,ecc_idx] = ecc_im.get_fdata()\n",
    "        param_mat[...,sd_idx] = sd_im.get_fdata()\n",
    "        param_mat[...,amp_idx] = amp_im.get_fdata()\n",
    " \n",
    "        # Threshold param matrix by masking R2\n",
    "        param_mat_th = param_mat\n",
    "        amp_down =  param_mat_th[...,amp_idx] > amp_th\n",
    "        r2_th_down, r2_th_up = param_mat_th[...,r2_idx] >= r2_th[0],  param_mat_th[...,r2_idx] <= r2_th[1]\n",
    "        ecc_th_down, ecc_th_up = param_mat_th[...,ecc_idx] >= ecc_th[0], param_mat_th[...,ecc_idx] <= ecc_th[1]\n",
    "        sd_th_down, sd_th_up = param_mat_th[...,sd_idx] >= sd_th[0], param_mat_th[...,sd_idx] <= sd_th[1]\n",
    "        all_th = np.array((amp_down, r2_th_down, r2_th_up, ecc_th_down, ecc_th_up, sd_th_down, sd_th_up)) \n",
    "        \n",
    "        # create threhsold mask\n",
    "        param_mat[np.logical_and.reduce(all_th)==False, mask_idx] = np.nan\n",
    "        param_mat[np.logical_and.reduce(all_th)==True, mask_idx] = 1\n",
    "        \n",
    "        # save threshold masks\n",
    "        th_mask_file = \"{}/{}_task-{}_prf_threshold.nii.gz\".format(mask_dir, subject, task)\n",
    "        print('saving {}'.format(th_mask_file))\n",
    "        th_mask_img = nb.Nifti1Image(dataobj=param_mat[...,mask_idx], affine=r2_im.affine, header=r2_im.header)\n",
    "        th_mask_img.to_filename(th_mask_file)"
   ]
  },
  {
   "cell_type": "code",
   "execution_count": null,
   "id": "710c0542-cebf-4a84-bc56-d959077393dc",
   "metadata": {},
   "outputs": [],
   "source": []
  }
 ],
 "metadata": {
  "kernelspec": {
   "display_name": "mszinte",
   "language": "python",
   "name": "mszinte"
  },
  "language_info": {
   "codemirror_mode": {
    "name": "ipython",
    "version": 3
   },
   "file_extension": ".py",
   "mimetype": "text/x-python",
   "name": "python",
   "nbconvert_exporter": "python",
   "pygments_lexer": "ipython3",
   "version": "3.9.13"
  }
 },
 "nbformat": 4,
 "nbformat_minor": 5
}
