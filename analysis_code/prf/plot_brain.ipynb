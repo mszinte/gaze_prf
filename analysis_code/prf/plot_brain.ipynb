{
 "cells": [
  {
   "cell_type": "markdown",
   "id": "e4249423",
   "metadata": {},
   "source": [
    "### Analysis description\n",
    "Launch a webgl visualizer and save brain images"
   ]
  },
  {
   "cell_type": "code",
   "execution_count": 1,
   "id": "dcbec275",
   "metadata": {},
   "outputs": [],
   "source": [
    "# Imports\n",
    "import os\n",
    "import numpy as np\n",
    "import nibabel as nb\n",
    "import shutil\n",
    "import warnings\n",
    "import cortex\n",
    "import time\n",
    "import matplotlib.pyplot as plt\n",
    "from pathlib import Path\n",
    "from pycortex_utils import draw_cortex\n",
    "warnings.filterwarnings('ignore')\n",
    "\n",
    "# Define parameters\n",
    "subjects = ['sub-001','sub-002','sub-003','sub-004',\n",
    "            'sub-005','sub-006','sub-007','sub-008']\n",
    "tasks = ['FullScreenAttendFix', \n",
    "         'FullScreenAttendBar',\n",
    "         'FullScreen']\n",
    "\n",
    "# Define folders\n",
    "# base_dir = '/Users/martinszinte/disks/meso_S/data/gaze_prf'\n",
    "base_dir = '/home/mszinte/disks/meso_S/data/gaze_prf'\n",
    "bids_dir = \"{}\".format(base_dir)\n",
    "pp_dir = \"{}/derivatives/pp_data\".format(base_dir)\n",
    "pycortex_dir = \"{}/cortex\".format(pp_dir)\n",
    "\n",
    "# Plot parameters\n",
    "cmap_polar, cmap_uni, cmap_ecc_size, cmap_2d = 'hsv', 'Reds', 'Spectral', 'PU_RdBu_covar_alpha'\n",
    "save_svg = False\n",
    "xfm_name = 'identity.fmriprep'\n",
    "amp_th = 0\n",
    "r2_th = [0.05, 1]\n",
    "ecc_th = [0.1, 20]\n",
    "sd_th = [0.1, 20]\n",
    "alpha_range = [0, 0.4]\n",
    "r2_range = [0, 1]\n",
    "r2_2d_range = [0, 0.4]\n",
    "ecc_range = [0, 10]\n",
    "size_range = [0, 10]\n",
    "col_offset = 1.0/14.0\n",
    "cmap_steps = 255\n",
    "recache = False"
   ]
  },
  {
   "cell_type": "code",
   "execution_count": 2,
   "id": "30d433ac",
   "metadata": {},
   "outputs": [],
   "source": [
    "# Write pycortex config file\n",
    "pycortex_db = \"{}/db/\".format(pycortex_dir)\n",
    "pycortex_cm = \"{}/colormaps/\".format(pycortex_dir)\n",
    "pycortex_config_file  = cortex.options.usercfg\n",
    "pycortex_config_file_new = pycortex_config_file[:-4] + '_new.cfg'\n",
    "pycortex_config_file_old = pycortex_config_file[:-4] + '_old.cfg'\n",
    "\n",
    "Path(pycortex_config_file_new).touch()\n",
    "with open(pycortex_config_file, 'r') as fileIn:\n",
    "    with open(pycortex_config_file_new, 'w') as fileOut:\n",
    "        for line in fileIn:\n",
    "            if 'filestore' in line:\n",
    "                newline = 'filestore=' + pycortex_db\n",
    "                fileOut.write(newline)\n",
    "                newline = '\\n'\n",
    "            elif 'colormaps' in line:\n",
    "                newline = 'colormaps=' + pycortex_cm\n",
    "                fileOut.write(newline)\n",
    "                newline = '\\n'\n",
    "            else:\n",
    "                newline = line\n",
    "            fileOut.write(newline)\n",
    "os.rename(pycortex_config_file,pycortex_config_file_old)\n",
    "os.rename(pycortex_config_file_new, pycortex_config_file)"
   ]
  },
  {
   "cell_type": "code",
   "execution_count": 3,
   "id": "e1b4bf6a",
   "metadata": {
    "tags": []
   },
   "outputs": [],
   "source": [
    "# create the local viewer \n",
    "# set parameters\n",
    "# plot figure\n",
    "# Create param matrix\n",
    "# for subject in subjects:\n",
    "for subject in ['sub-003']:\n",
    "    maps_names = []\n",
    "    volumes = {}\n",
    "    for task in tasks:\n",
    "        \n",
    "        # Define and create folder\n",
    "        fit_dir = '{}/{}/prf/fit'.format(pp_dir, subject)\n",
    "        inflated_dir = '{}/{}/prf/inflated'.format(pp_dir, subject)\n",
    "        try: os.makedirs(inflated_dir) \n",
    "        except: pass\n",
    "\n",
    "        # Load fit parameters\n",
    "        r2_im = nb.load('{}/{}_task-{}_par-r2.nii.gz'.format(fit_dir,subject,task))\n",
    "        ecc_im = nb.load('{}/{}_task-{}_par-ecc.nii.gz'.format(fit_dir,subject,task))\n",
    "        sd_im = nb.load('{}/{}_task-{}_par-sd.nii.gz'.format(fit_dir,subject,task))\n",
    "        amp_im = nb.load('{}/{}_task-{}_par-amplitude.nii.gz'.format(fit_dir,subject,task))\n",
    "        x_im = nb.load('{}/{}_task-{}_par-x.nii.gz'.format(fit_dir,subject,task))\n",
    "        y_im = nb.load('{}/{}_task-{}_par-y.nii.gz'.format(fit_dir,subject,task))\n",
    "\n",
    "        # Create param matrix\n",
    "        r2_idx, ecc_idx, sd_idx, amp_idx, x_idx, y_idx = 0, 1, 2, 3, 4, 5\n",
    "        param_mat = np.zeros((r2_im.shape[0],r2_im.shape[1],r2_im.shape[2],6))*np.nan\n",
    "        param_mat[...,r2_idx] = r2_im.get_fdata()\n",
    "        param_mat[...,ecc_idx] = ecc_im.get_fdata()\n",
    "        param_mat[...,sd_idx] = sd_im.get_fdata()\n",
    "        param_mat[...,amp_idx] = amp_im.get_fdata()\n",
    "        param_mat[...,x_idx] = x_im.get_fdata()\n",
    "        param_mat[...,y_idx] = y_im.get_fdata()\n",
    "\n",
    "        # Threshold param matrix by masking R2\n",
    "        param_mat_th = param_mat\n",
    "        amp_down =  param_mat_th[...,amp_idx] > amp_th\n",
    "        r2_th_down, r2_th_up = param_mat_th[...,r2_idx] >= r2_th[0],  param_mat_th[...,r2_idx] <= r2_th[1]\n",
    "        ecc_th_down, ecc_th_up = param_mat_th[...,ecc_idx] >= ecc_th[0], param_mat_th[...,ecc_idx] <= ecc_th[1]\n",
    "        sd_th_down, sd_th_up = param_mat_th[...,sd_idx] >= sd_th[0], param_mat_th[...,sd_idx] <= sd_th[1]\n",
    "        all_th = np.array((amp_down, r2_th_down, r2_th_up, ecc_th_down, ecc_th_up, sd_th_down, sd_th_up)) \n",
    "        param_mat[np.logical_and.reduce(all_th)==False, r2_idx]=0\n",
    "        \n",
    "        # get R2 across tasks\n",
    "        if task == 'FullScreenAttendFix': \n",
    "            r2_attend_mat = np.zeros((r2_im.shape[0],r2_im.shape[1],r2_im.shape[2],2))*np.nan\n",
    "            r2_attend_mat[...,0] = param_mat[...,r2_idx]\n",
    "        elif task == 'FullScreenAttendBar': \n",
    "            r2_attend_mat[...,1] = param_mat[...,r2_idx]\n",
    "        \n",
    "        # Define pRF R2\n",
    "        r2_data = param_mat[...,r2_idx]\n",
    "        alpha = (r2_data - alpha_range[0])/(alpha_range[1]-alpha_range[0])\n",
    "        alpha[alpha>1]=1\n",
    "        r2_param = {'data': param_mat[...,r2_idx], 'cmap': cmap_uni, 'alpha': alpha, 'vmin': r2_range[0],'vmax': r2_range[1],\n",
    "                    'cbar': 'discrete', 'cbar_label': 'R2', 'description': '{}: pRF R2'.format(task), 'curv_brightness': 1, \n",
    "                    'curv_contrast': 0.5, 'add_roi': False, 'subject': subject, 'xfmname': xfm_name, 'save_fig':False}\n",
    "        exec('{}_r2_param = r2_param'.format(task))\n",
    "        maps_names.append('{}_r2'.format(task))\n",
    "        \n",
    "        # Define pRF eccentricity\n",
    "        ecc_data = param_mat[...,ecc_idx]\n",
    "        ecc_param = {'data': ecc_data, 'cmap': cmap_ecc_size, 'alpha': alpha, 'vmin': ecc_range[0], 'vmax': ecc_range[1],\n",
    "                     'cbar': 'ecc','roi_name': 'pRF_eccentricity','description': '{}: pRF eccentricity'.format(task), 'curv_brightness': 1, \n",
    "                     'curv_contrast': 0.5, 'add_roi': save_svg, 'subject': subject, 'xfmname': xfm_name, 'save_fig':False}\n",
    "        exec('{}_ecc_param = ecc_param'.format(task))\n",
    "        maps_names.append('{}_ecc'.format(task))\n",
    "        \n",
    "        # Define pRF polar angle\n",
    "        pol_comp_num = param_mat[...,x_idx] + 1j * param_mat[...,y_idx]\n",
    "        polar_ang = np.angle(pol_comp_num)\n",
    "        ang_norm = (polar_ang + np.pi) / (np.pi * 2.0)\n",
    "        ang_norm = np.fmod(ang_norm + col_offset,1)\n",
    "        polar_param = {'data': ang_norm, 'cmap': cmap_polar, 'alpha': alpha, 'vmin': 0, 'vmax': 1, 'cmap_steps': cmap_steps, \n",
    "                       'cbar': 'polar', 'roi_name': 'pRF_polar_angle', 'col_offset': col_offset, 'description': '{}: pRF polar angle'.format(task), \n",
    "                       'curv_brightness': 0.1, 'curv_contrast': 0.25, 'add_roi': save_svg, 'subject': subject, 'xfmname': xfm_name, 'save_fig':False}\n",
    "        exec('{}_polar_param = polar_param'.format(task))\n",
    "        maps_names.append('{}_polar'.format(task))\n",
    "        \n",
    "        # Define pRF size\n",
    "        size_data = param_mat[...,sd_idx]\n",
    "        size_param = {'data': size_data, 'cmap': cmap_ecc_size, 'alpha': alpha, 'vmin': size_range[0], 'vmax': size_range[1], \n",
    "                      'cbar': 'discrete', 'cbar_label': 'pRF size (dva)', 'description': '{}: pRF size'.format(task), 'curv_brightness': 1, \n",
    "                      'curv_contrast': 0.5, 'add_roi': False, 'subject': subject, 'xfmname': xfm_name, 'save_fig':False}\n",
    "        exec('{}_size_param = size_param'.format(task))\n",
    "        maps_names.append('{}_size'.format(task))\n",
    "        \n",
    "        # Define R2 attention comparison\n",
    "        if task == 'FullScreen':\n",
    "            attcmp_param = {'data':  r2_attend_mat[...,0], 'alpha': r2_attend_mat[...,1], 'cmap': cmap_2d, 'vmin': [r2_2d_range[0],r2_2d_range[0]],\n",
    "                            'vmax': [r2_2d_range[1],r2_2d_range[1]], 'cortex_type': 'Volume2D', 'cbar': '2D', 'add_roi': False,\n",
    "                            'description': 'Fullscreen: AttendFix vs. AttendBar', 'curv_brightness': 1, 'curv_contrast': 0.5,\n",
    "                            'cbar_label': ['AttendFix','AttednBar'], 'subject': subject, 'xfmname': xfm_name, 'save_fig':False}\n",
    "            exec('{}_attcmp_param = attcmp_param'.format(task))\n",
    "            maps_names.append('{}_attcmp'.format(task))\n"
   ]
  },
  {
   "cell_type": "code",
   "execution_count": 16,
   "id": "d6194650",
   "metadata": {},
   "outputs": [
    {
     "name": "stdout",
     "output_type": "stream",
     "text": [
      "sub-003_task-FullScreen_polar\n",
      "sub-003_task-FullScreen_ecc\n",
      "sub-003_task-FullScreen_attcmp\n"
     ]
    }
   ],
   "source": [
    "# Flatmaps\n",
    "maps2plot_names = ['FullScreen_polar','FullScreen_ecc','FullScreen_attcmp']\n",
    "\n",
    "for maps_name in maps2plot_names:\n",
    "    # Create flatmap\n",
    "    exec('{}_volume, fig = draw_cortex(**{}_param)'.format(maps_name,maps_name))\n",
    "    print(\"{}_task-{}\".format(subject, maps_name))\n",
    "\n",
    "    # Save flatmap in dataset\n",
    "    exec('vol_description = {}_param[\"description\"]'.format(maps_name))\n",
    "    exec('volume = {}_volume'.format(maps_name))\n",
    "    volumes.update({vol_description:volume})"
   ]
  },
  {
   "cell_type": "code",
   "execution_count": 17,
   "id": "9045b33e",
   "metadata": {},
   "outputs": [
    {
     "name": "stdout",
     "output_type": "stream",
     "text": [
      "To type locally...\n",
      "ssh -Y -fN -L localhost:25971:localhost:25971 admin@invibe.nohost.me\n",
      "Go to: http://localhost:25971/\n",
      "Started server on port 25971\n"
     ]
    }
   ],
   "source": [
    "port_num = 25971\n",
    "print(\"To type locally...\")\n",
    "print(\"ssh -Y -fN -L localhost:{}:localhost:{} admin@invibe.nohost.me\".format(port_num,port_num))\n",
    "print(\"Go to: http://localhost:{}/\".format(port_num))\n",
    "handle = cortex.webgl.show(data=volumes,recache = False, port=port_num)\n",
    "# to set manually\n",
    "# take out roi\n"
   ]
  },
  {
   "cell_type": "code",
   "execution_count": 15,
   "id": "dd1dea3e",
   "metadata": {},
   "outputs": [
    {
     "data": {
      "text/plain": [
       "[{}]"
      ]
     },
     "execution_count": 15,
     "metadata": {},
     "output_type": "execute_result"
    },
    {
     "name": "stdout",
     "output_type": "stream",
     "text": [
      "Stopping server\n"
     ]
    }
   ],
   "source": [
    "# Manual edit\n",
    "# 1/ Pick polar angle dataset\n",
    "# 2/ Take out labels\n",
    "# 3/ Run cell\n",
    "\n",
    "inflated_polar = {  'camera.azimuth':220,\n",
    "                    'camera.altitude':73,\n",
    "                    'camera.radius':324,\n",
    "                    'surface.{subject}.unfold':0.45,\n",
    "                    'surface.{subject}.pivot':34,\n",
    "                    'surface.{subject}.left':True,\n",
    "                    'surface.{subject}.depth':0.5,\n",
    "                    'surface.{subject}.right':True,\n",
    "                    'surface.{subject}.specularity':0.2,\n",
    "                    'surface.{subject}.dither':False,\n",
    "                    'surface.{subject}.colorbar':False,\n",
    "                    'surface.{subject}.sampler':'trilinear',\n",
    "                    'surface.{subject}.curvature.brightness':0.1,\n",
    "                    'surface.{subject}.curvature.contrast':0.25,\n",
    "                    'surface.{subject}.curvature.smoothness':0.1,\n",
    "                    }\n",
    "handle._set_view(**inflated_polar)\n",
    "time.sleep(5)\n",
    "handle.getImage('{}/{}_inflated_polar.png'.format(inflated_dir,subject),size = (3000, 3000))\n",
    "\n"
   ]
  },
  {
   "cell_type": "code",
   "execution_count": 20,
   "id": "b620e2dd-359d-4a58-82a4-b53afdb5718e",
   "metadata": {},
   "outputs": [
    {
     "data": {
      "text/plain": [
       "[{}]"
      ]
     },
     "execution_count": 20,
     "metadata": {},
     "output_type": "execute_result"
    }
   ],
   "source": [
    "# Manual edit\n",
    "# 1/ Pick eccentricty dataset\n",
    "inflated_ecc = {'camera.azimuth':220,\n",
    "                'camera.altitude':73,\n",
    "                'camera.radius':324,\n",
    "                'surface.{subject}.unfold':0.45,\n",
    "                'surface.{subject}.pivot':34,\n",
    "                'surface.{subject}.left':True,\n",
    "                'surface.{subject}.depth':0.5,\n",
    "                'surface.{subject}.right':True,\n",
    "                'surface.{subject}.specularity':0.2,\n",
    "                'surface.{subject}.dither':False,\n",
    "                'surface.{subject}.colorbar':False,\n",
    "                'surface.{subject}.sampler':'trilinear',\n",
    "                'surface.{subject}.curvature.brightness':1,\n",
    "                'surface.{subject}.curvature.contrast':0.5,\n",
    "                'surface.{subject}.curvature.smoothness':0.1,\n",
    "                }\n",
    "handle._set_view(**inflated_ecc)\n",
    "time.sleep(5)\n",
    "handle.getImage('{}/{}_inflated_ecc.png'.format(inflated_dir,subject),size = (3000, 3000))\n"
   ]
  },
  {
   "cell_type": "code",
   "execution_count": 21,
   "id": "3ff4947b-2dae-4d5d-a417-b72a76dd0e75",
   "metadata": {},
   "outputs": [
    {
     "data": {
      "text/plain": [
       "[{}]"
      ]
     },
     "execution_count": 21,
     "metadata": {},
     "output_type": "execute_result"
    },
    {
     "name": "stdout",
     "output_type": "stream",
     "text": [
      "Stopping server\n"
     ]
    }
   ],
   "source": [
    "# Manual edit\n",
    "# 1/ Pick R2 comparision dataset\n",
    "inflated_attcmp = { 'camera.azimuth':220,\n",
    "                    'camera.altitude':73,\n",
    "                    'camera.radius':324,\n",
    "                    'surface.{subject}.unfold':0.45,\n",
    "                    'surface.{subject}.pivot':34,\n",
    "                    'surface.{subject}.left':True,\n",
    "                    'surface.{subject}.depth':0.5,\n",
    "                    'surface.{subject}.right':True,\n",
    "                    'surface.{subject}.specularity':0.2,\n",
    "                    'surface.{subject}.dither':False,\n",
    "                    'surface.{subject}.colorbar':False,\n",
    "                    'surface.{subject}.sampler':'trilinear',\n",
    "                    'surface.{subject}.curvature.brightness':1,\n",
    "                    'surface.{subject}.curvature.contrast':0.5,\n",
    "                    'surface.{subject}.curvature.smoothness':0.1,\n",
    "                    }\n",
    "handle._set_view(**inflated_attcmp)\n",
    "time.sleep(5)\n",
    "handle.getImage('{}/{}_inflated_attcmp.png'.format(inflated_dir,subject),size = (3000, 3000))\n"
   ]
  },
  {
   "cell_type": "code",
   "execution_count": null,
   "id": "7bcd472a-c571-48b7-b3b8-3ddb046eb6a1",
   "metadata": {},
   "outputs": [],
   "source": []
  }
 ],
 "metadata": {
  "kernelspec": {
   "display_name": "fmri_lab",
   "language": "python",
   "name": "fmri_lab"
  },
  "language_info": {
   "codemirror_mode": {
    "name": "ipython",
    "version": 3
   },
   "file_extension": ".py",
   "mimetype": "text/x-python",
   "name": "python",
   "nbconvert_exporter": "python",
   "pygments_lexer": "ipython3",
   "version": "3.7.3"
  }
 },
 "nbformat": 4,
 "nbformat_minor": 5
}
