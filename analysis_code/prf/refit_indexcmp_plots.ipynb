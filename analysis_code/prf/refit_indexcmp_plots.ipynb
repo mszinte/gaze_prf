{
 "cells": [
  {
   "cell_type": "markdown",
   "id": "217f05fb-20dc-4797-84f8-70ad8b5fb94f",
   "metadata": {},
   "source": [
    "#### Draw R2 across ROI and attention condition"
   ]
  },
  {
   "cell_type": "code",
   "execution_count": 2,
   "id": "260c604f-36bc-4e78-b13f-c59400f3b041",
   "metadata": {},
   "outputs": [],
   "source": [
    "# Imports\n",
    "import os\n",
    "import numpy as np\n",
    "import pandas as pd\n",
    "import warnings\n",
    "warnings.filterwarnings('ignore')\n",
    "\n",
    "# Figure imports\n",
    "import plotly.graph_objects as go\n",
    "from plotly.subplots import make_subplots\n",
    "import plotly.express as px\n",
    "import plotly.express as px\n",
    "from plot_utils import plotly_template\n",
    "\n",
    "# Define parameters\n",
    "subjects = ['sub-001', 'sub-002', 'sub-003', 'sub-004',\n",
    "            'sub-005', 'sub-006', 'sub-007', 'sub-008']\n",
    "subjects_plot = ['sub-001', 'sub-002', 'sub-003', 'sub-004',\n",
    "                 'sub-005', 'sub-006', 'sub-007', 'sub-008', 'group']\n",
    "rois = ['V1', 'V2', 'V3', 'V3AB', 'hMT+', 'LO',\n",
    "        'VO', 'iIPS', 'sIPS', 'iPCS', 'sPCS', 'mPCS']\n",
    "\n",
    "# Define folders\n",
    "base_dir = '/home/mszinte/disks/meso_S/data/gaze_prf'\n",
    "bids_dir = \"{}\".format(base_dir)\n",
    "pp_dir = \"{}/derivatives/pp_data\".format(base_dir)\n",
    "\n",
    "# settings\n",
    "n_ecc_bins = 10\n",
    "best_voxels_num = 250\n",
    "\n",
    "# General figure settings\n",
    "template_specs = dict(  axes_color=\"rgba(0, 0, 0, 1)\",\n",
    "                        axes_width=2,\n",
    "                        axes_font_size=13,\n",
    "                        bg_col=\"rgba(255, 255, 255, 1)\",\n",
    "                        font='Arial',\n",
    "                        title_font_size=15,\n",
    "                        plot_width=1.5)\n",
    "fig_template = plotly_template(template_specs)"
   ]
  },
  {
   "cell_type": "markdown",
   "id": "359672ee-bf12-4770-991e-8da20416f1b7",
   "metadata": {},
   "source": [
    "- [x] organize data\n",
    "- [x] make bar plot\n",
    "- [ ] do stats against zero\n",
    "- [ ] do stats attend-fix vs attend-bar"
   ]
  },
  {
   "cell_type": "code",
   "execution_count": 3,
   "id": "da03a021-f95c-4cba-b9e0-53c0d7295128",
   "metadata": {},
   "outputs": [],
   "source": [
    "# load TSV\n",
    "for subject_num, subject in enumerate(subjects):\n",
    "    tsv_dir = '{}/{}/prf/tsv'.format(pp_dir, subject)\n",
    "    df_fn = \"{}/{}_refit_res_best{}.pkl\".format(tsv_dir,subject,int(best_voxels_num))\n",
    "    df_sub = pd.read_pickle(df_fn)\n",
    "    \n",
    "    # create new df\n",
    "    df_new = pd.DataFrame({'subject': df_sub.subject}) \n",
    "    df_new['roi'] = df_sub.roi\n",
    "    df_new['af_ref_index'] = df_sub.af_ref_index\n",
    "    df_new['ab_ref_index'] = df_sub.ab_ref_index\n",
    "    \n",
    "    # across roi\n",
    "    if subject_num > 0: df = pd.concat([df,df_new], ignore_index=True)\n",
    "    else: df = df_new\n",
    "\n",
    "df.roi = pd.Categorical(df.roi,categories=rois)"
   ]
  },
  {
   "cell_type": "code",
   "execution_count": 20,
   "id": "1b06946b-9b18-469e-ac46-2b5215a9b18a",
   "metadata": {},
   "outputs": [],
   "source": [
    "# Subplot settings\n",
    "margin_t, margin_b, margin_l, margin_r = 50, 100, 100 ,50\n",
    "rows, cols = 1, 1\n",
    "\n",
    "column_widths,row_heights = [1], [1]\n",
    "sb_specs = [[{}]]\n",
    "subplot_width, subplot_height = 350,700\n",
    "\n",
    "fig_width, fig_height = 0, 0\n",
    "for column_width in column_widths:fig_width += subplot_width*column_width\n",
    "for row_height in row_heights: fig_height +=subplot_height*row_height\n",
    "fig_width = fig_width + margin_l + margin_r\n",
    "fig_height = fig_height + margin_t + margin_b\n",
    "\n",
    "xaxis_range = [-.6, .6]\n",
    "xaxis_tick = 5\n",
    "xaxis_tickvals = np.linspace(xaxis_range[0],xaxis_range[1],xaxis_tick)\n",
    "xaxis_title = 'Reference frame<br>index (a.u.)'\n",
    "xaxis_ticktext = []\n",
    "[xaxis_ticktext.append(('{:g}'.format(val))) for val in xaxis_tickvals]\n",
    "\n",
    "x_gap_line = 0.1*xaxis_range[1]\n",
    "x_gap_asterisk = 0.15*xaxis_range[1]\n",
    "\n",
    "ab_col = \"rgba(0, 0, 0, 1)\"\n",
    "af_col = \"rgba(157, 157, 157, 1)\"\n",
    "\n",
    "hover_temp = 'ROI: %{y}<br>' + 'Ref. index: %{x:1.2f}'"
   ]
  },
  {
   "cell_type": "code",
   "execution_count": 21,
   "id": "9cb57c89-3567-4006-8810-e8848633b906",
   "metadata": {
    "tags": []
   },
   "outputs": [
    {
     "data": {
      "application/vnd.plotly.v1+json": {
       "config": {
        "displayModeBar": false,
        "plotlyServerURL": "https://plot.ly"
       },
       "data": [
        {
         "error_x": {
          "array": [
           0.045510599153830475,
           0.05688808626893747,
           0.0305403190923149,
           0.06178758421586228,
           0.057310107691170536,
           0.027784162203497324,
           0.04137538936584738,
           0.039397182552785744,
           0.04101506226956668,
           0.07437222033834764,
           0.08097397357778417,
           0.046636644505761736
          ],
          "arrayminus": [
           0.045510599153830475,
           0.05688808626893747,
           0.0305403190923149,
           0.06178758421586228,
           0.057310107691170536,
           0.027784162203497324,
           0.04137538936584738,
           0.039397182552785744,
           0.04101506226956668,
           0.07437222033834764,
           0.08097397357778417,
           0.046636644505761736
          ],
          "symmetric": false,
          "type": "data"
         },
         "hovertemplate": "ROI: %{y}<br>Ref. index: %{x:1.2f}",
         "legendgroup": "attend-bar",
         "marker": {
          "color": "rgba(0, 0, 0, 1)"
         },
         "name": "<i>attend-bar<i>",
         "orientation": "h",
         "showlegend": true,
         "type": "bar",
         "visible": true,
         "x": [
          0.46012931369820875,
          0.4209683757504598,
          0.40215299137195815,
          0.37646831192323227,
          0.25938410184979765,
          0.30851845152961566,
          0.3296347351899456,
          0.28585694105501663,
          0.3353244164066502,
          0.24907817002839977,
          0.362614438035282,
          0.2042124463615533
         ],
         "xaxis": "x",
         "y": [
          "V1",
          "V2",
          "V3",
          "V3AB",
          "hMT+",
          "LO",
          "VO",
          "iIPS",
          "sIPS",
          "iPCS",
          "sPCS",
          "mPCS"
         ],
         "yaxis": "y"
        },
        {
         "error_x": {
          "array": [
           0.03876578081533575,
           0.07079715624727267,
           0.06194003310444208,
           0.04842881909388109,
           0.09139507268609,
           0.08644794892274031,
           0.05925531572257848,
           0.06988880254710989,
           0.08539710085595573,
           0.08380872384327438,
           0.09600468746015194,
           0.06800137325976856
          ],
          "arrayminus": [
           0.03876578081533575,
           0.07079715624727267,
           0.06194003310444208,
           0.04842881909388109,
           0.09139507268609,
           0.08644794892274031,
           0.05925531572257848,
           0.06988880254710989,
           0.08539710085595573,
           0.08380872384327438,
           0.09600468746015194,
           0.06800137325976856
          ],
          "symmetric": false,
          "type": "data"
         },
         "hovertemplate": "ROI: %{y}<br>Ref. index: %{x:1.2f}",
         "legendgroup": "attend-fix",
         "marker": {
          "color": "rgba(157, 157, 157, 1)"
         },
         "name": "<i>attend-fix<i>",
         "orientation": "h",
         "showlegend": true,
         "type": "bar",
         "x": [
          0.4196130226100482,
          0.303986548931784,
          0.21049804140819445,
          0.40429024760341264,
          0.3702454405119294,
          0.41880755643025935,
          0.2910068018809363,
          0.27567241142325394,
          0.32177888037561697,
          0.2644299784579108,
          0.4116284939422963,
          0.26621928592009053
         ],
         "xaxis": "x",
         "y": [
          "V1",
          "V2",
          "V3",
          "V3AB",
          "hMT+",
          "LO",
          "VO",
          "iIPS",
          "sIPS",
          "iPCS",
          "sPCS",
          "mPCS"
         ],
         "yaxis": "y"
        }
       ],
       "layout": {
        "annotations": [
         {
          "font": {
           "size": 16
          },
          "showarrow": false,
          "text": "<b>Reference frame<br>index</b> (group)",
          "x": 0.5,
          "xanchor": "center",
          "xref": "paper",
          "y": 1,
          "yanchor": "bottom",
          "yref": "paper"
         }
        ],
        "bargap": 0.3,
        "height": 850,
        "legend": {
         "bgcolor": "rgba(255,255,255,0)",
         "tracegroupgap": 1,
         "x": -0.08,
         "xanchor": "left",
         "y": -0.15,
         "yanchor": "top"
        },
        "margin": {
         "b": 100,
         "l": 100,
         "r": 50,
         "t": 50
        },
        "template": {
         "data": {
          "barpolar": [
           {
            "marker": {
             "line": {
              "color": "rgba(0, 0, 0, 1)",
              "width": 1.5
             }
            },
            "showlegend": false,
            "thetaunit": "radians",
            "type": "barpolar"
           }
          ],
          "pie": [
           {
            "direction": "clockwise",
            "hole": 0.4,
            "marker": {
             "line": {
              "color": [
               "rgba(0, 0, 0, 1)",
               "rgba(255,255,255,0)"
              ],
              "width": [
               1.5,
               0
              ]
             }
            },
            "rotation": 0,
            "showlegend": false,
            "sort": false,
            "textposition": [
             "inside",
             "none"
            ],
            "type": "pie"
           }
          ],
          "violin": [
           {
            "box": {
             "visible": false
            },
            "hoveron": "violins",
            "line": {
             "color": "rgba(0, 0, 0, 1)",
             "width": 1.5
            },
            "marker": {
             "opacity": 0.5,
             "symbol": "x"
            },
            "meanline": {
             "color": "rgba(0, 0, 0, 1)",
             "visible": true,
             "width": 1.5
            },
            "opacity": 1,
            "points": false,
            "showlegend": false,
            "type": "violin",
            "width": 0.8
           }
          ]
         },
         "layout": {
          "annotationdefaults": {
           "font": {
            "color": "rgba(0, 0, 0, 1)",
            "family": "Arial",
            "size": 15
           }
          },
          "font": {
           "family": "Arial",
           "size": 13
          },
          "plot_bgcolor": "rgba(255, 255, 255, 1)",
          "polar": {
           "angularaxis": {
            "showticklabels": false,
            "ticks": "",
            "visible": false
           },
           "radialaxis": {
            "showticklabels": false,
            "ticks": "",
            "visible": false
           }
          },
          "xaxis": {
           "color": "rgba(0, 0, 0, 1)",
           "hoverformat": ".1f",
           "linewidth": 2,
           "range": [
            0,
            1
           ],
           "showgrid": false,
           "tickfont": {
            "family": "Arial",
            "size": 13
           },
           "ticklen": 8,
           "ticks": "outside",
           "tickwidth": 2,
           "title": {
            "font": {
             "family": "Arial",
             "size": 15
            }
           },
           "visible": true,
           "zeroline": false,
           "zerolinecolor": "rgba(0, 0, 0, 1)",
           "zerolinewidth": 2
          },
          "yaxis": {
           "color": "rgba(0, 0, 0, 1)",
           "hoverformat": ".1f",
           "linewidth": 2,
           "showgrid": false,
           "tickfont": {
            "family": "Arial",
            "size": 13
           },
           "ticklen": 8,
           "ticks": "outside",
           "tickwidth": 2,
           "title": {
            "font": {
             "family": "Arial",
             "size": 15
            }
           },
           "visible": true,
           "zeroline": false,
           "zerolinecolor": "rgba(0, 0, 0, 1)",
           "zerolinewidth": 2
          }
         }
        },
        "width": 500,
        "xaxis": {
         "anchor": "y",
         "domain": [
          0,
          1
         ],
         "linewidth": 2,
         "range": [
          -0.6,
          0.6
         ],
         "ticklen": 8,
         "ticktext": [
          "-0.6",
          "-0.3",
          "0",
          "0.3",
          "0.6"
         ],
         "tickvals": [
          -0.6,
          -0.3,
          0,
          0.29999999999999993,
          0.6
         ],
         "title": {
          "text": "Reference frame<br>index (a.u.)"
         },
         "type": "linear",
         "visible": true,
         "zeroline": true
        },
        "yaxis": {
         "anchor": "x",
         "autorange": true,
         "color": "rgba(0, 0, 0, 0)",
         "domain": [
          0,
          1
         ],
         "linewidth": 2,
         "range": [
          11.5,
          -0.5
         ],
         "tickfont": {
          "color": "black"
         },
         "ticklen": 8,
         "title": {
          "text": ""
         },
         "type": "category",
         "visible": true
        }
       }
      },
      "image/png": "[encoded data removed]",
      "text/html": [
       "<div>                            <div id=\"a47a3e51-5841-4342-bea4-c6b5f0cb4dba\" class=\"plotly-graph-div\" style=\"height:850px; width:500px;\"></div>            <script type=\"text/javascript\">                require([\"plotly\"], function(Plotly) {                    window.PLOTLYENV=window.PLOTLYENV || {};                                    if (document.getElementById(\"a47a3e51-5841-4342-bea4-c6b5f0cb4dba\")) {                    Plotly.newPlot(                        \"a47a3e51-5841-4342-bea4-c6b5f0cb4dba\",                        [{\"error_x\":{\"array\":[0.045510599153830475,0.05688808626893747,0.0305403190923149,0.06178758421586228,0.057310107691170536,0.027784162203497324,0.04137538936584738,0.039397182552785744,0.04101506226956668,0.07437222033834764,0.08097397357778417,0.046636644505761736],\"arrayminus\":[0.045510599153830475,0.05688808626893747,0.0305403190923149,0.06178758421586228,0.057310107691170536,0.027784162203497324,0.04137538936584738,0.039397182552785744,0.04101506226956668,0.07437222033834764,0.08097397357778417,0.046636644505761736],\"symmetric\":false,\"type\":\"data\"},\"hovertemplate\":\"ROI: %{y}<br>Ref. index: %{x:1.2f}\",\"legendgroup\":\"attend-bar\",\"marker\":{\"color\":\"rgba(0, 0, 0, 1)\"},\"name\":\"<i>attend-bar<i>\",\"orientation\":\"h\",\"showlegend\":true,\"x\":[0.46012931369820875,0.4209683757504598,0.40215299137195815,0.37646831192323227,0.25938410184979765,0.30851845152961566,0.3296347351899456,0.28585694105501663,0.3353244164066502,0.24907817002839977,0.362614438035282,0.2042124463615533],\"y\":[\"V1\",\"V2\",\"V3\",\"V3AB\",\"hMT+\",\"LO\",\"VO\",\"iIPS\",\"sIPS\",\"iPCS\",\"sPCS\",\"mPCS\"],\"type\":\"bar\",\"xaxis\":\"x\",\"yaxis\":\"y\"},{\"error_x\":{\"array\":[0.03876578081533575,0.07079715624727267,0.06194003310444208,0.04842881909388109,0.09139507268609,0.08644794892274031,0.05925531572257848,0.06988880254710989,0.08539710085595573,0.08380872384327438,0.09600468746015194,0.06800137325976856],\"arrayminus\":[0.03876578081533575,0.07079715624727267,0.06194003310444208,0.04842881909388109,0.09139507268609,0.08644794892274031,0.05925531572257848,0.06988880254710989,0.08539710085595573,0.08380872384327438,0.09600468746015194,0.06800137325976856],\"symmetric\":false,\"type\":\"data\"},\"hovertemplate\":\"ROI: %{y}<br>Ref. index: %{x:1.2f}\",\"legendgroup\":\"attend-fix\",\"marker\":{\"color\":\"rgba(157, 157, 157, 1)\"},\"name\":\"<i>attend-fix<i>\",\"orientation\":\"h\",\"showlegend\":true,\"x\":[0.4196130226100482,0.303986548931784,0.21049804140819445,0.40429024760341264,0.3702454405119294,0.41880755643025935,0.2910068018809363,0.27567241142325394,0.32177888037561697,0.2644299784579108,0.4116284939422963,0.26621928592009053],\"y\":[\"V1\",\"V2\",\"V3\",\"V3AB\",\"hMT+\",\"LO\",\"VO\",\"iIPS\",\"sIPS\",\"iPCS\",\"sPCS\",\"mPCS\"],\"type\":\"bar\",\"xaxis\":\"x\",\"yaxis\":\"y\"}],                        {\"template\":{\"data\":{\"barpolar\":[{\"marker\":{\"line\":{\"color\":\"rgba(0,0,0,1)\",\"width\":1.5}},\"showlegend\":false,\"thetaunit\":\"radians\",\"type\":\"barpolar\"}],\"pie\":[{\"direction\":\"clockwise\",\"hole\":0.4,\"marker\":{\"line\":{\"color\":[\"rgba(0,0,0,1)\",\"rgba(255,255,255,0)\"],\"width\":[1.5,0]}},\"rotation\":0,\"showlegend\":false,\"sort\":false,\"textposition\":[\"inside\",\"none\"],\"type\":\"pie\"}],\"violin\":[{\"box\":{\"visible\":false},\"hoveron\":\"violins\",\"line\":{\"color\":\"rgba(0, 0, 0, 1)\",\"width\":1.5},\"marker\":{\"opacity\":0.5,\"symbol\":\"x\"},\"meanline\":{\"color\":\"rgba(0, 0, 0, 1)\",\"visible\":true,\"width\":1.5},\"opacity\":1,\"points\":false,\"showlegend\":false,\"width\":0.8,\"type\":\"violin\"}]},\"layout\":{\"annotationdefaults\":{\"font\":{\"color\":\"rgba(0, 0, 0, 1)\",\"family\":\"Arial\",\"size\":15}},\"font\":{\"family\":\"Arial\",\"size\":13},\"plot_bgcolor\":\"rgba(255, 255, 255, 1)\",\"polar\":{\"angularaxis\":{\"showticklabels\":false,\"ticks\":\"\",\"visible\":false},\"radialaxis\":{\"showticklabels\":false,\"ticks\":\"\",\"visible\":false}},\"xaxis\":{\"color\":\"rgba(0, 0, 0, 1)\",\"hoverformat\":\".1f\",\"linewidth\":2,\"range\":[0,1],\"showgrid\":false,\"tickfont\":{\"family\":\"Arial\",\"size\":13},\"ticklen\":8,\"ticks\":\"outside\",\"tickwidth\":2,\"title\":{\"font\":{\"family\":\"Arial\",\"size\":15}},\"visible\":true,\"zeroline\":false,\"zerolinecolor\":\"rgba(0, 0, 0, 1)\",\"zerolinewidth\":2},\"yaxis\":{\"color\":\"rgba(0, 0, 0, 1)\",\"hoverformat\":\".1f\",\"linewidth\":2,\"showgrid\":false,\"tickfont\":{\"family\":\"Arial\",\"size\":13},\"ticklen\":8,\"ticks\":\"outside\",\"tickwidth\":2,\"title\":{\"font\":{\"family\":\"Arial\",\"size\":15}},\"visible\":true,\"zeroline\":false,\"zerolinecolor\":\"rgba(0, 0, 0, 1)\",\"zerolinewidth\":2}}},\"xaxis\":{\"anchor\":\"y\",\"domain\":[0.0,1.0],\"visible\":true,\"ticklen\":8,\"linewidth\":2,\"range\":[-0.6,0.6],\"title\":{\"text\":\"Reference frame<br>index (a.u.)\"},\"tickvals\":[-0.6,-0.3,0.0,0.29999999999999993,0.6],\"ticktext\":[\"-0.6\",\"-0.3\",\"0\",\"0.3\",\"0.6\"],\"zeroline\":true},\"yaxis\":{\"anchor\":\"x\",\"domain\":[0.0,1.0],\"visible\":true,\"ticklen\":8,\"linewidth\":2,\"autorange\":\"reversed\",\"tickfont\":{\"color\":\"black\"},\"title\":{\"text\":\"\"},\"color\":\"rgba(0,0,0,0)\"},\"annotations\":[{\"font\":{\"size\":16},\"showarrow\":false,\"text\":\"<b>Reference frame<br>index</b> (group)\",\"x\":0.5,\"xanchor\":\"center\",\"xref\":\"paper\",\"y\":1.0,\"yanchor\":\"bottom\",\"yref\":\"paper\"}],\"margin\":{\"l\":100,\"r\":50,\"t\":50,\"b\":100},\"legend\":{\"yanchor\":\"top\",\"y\":-0.15,\"x\":-0.08,\"xanchor\":\"left\",\"bgcolor\":\"rgba(255,255,255,0)\",\"tracegroupgap\":1},\"bargap\":0.3,\"width\":500,\"height\":850},                        {\"displayModeBar\": false, \"responsive\": true}                    ).then(function(){\n",
       "                            \n",
       "var gd = document.getElementById('a47a3e51-5841-4342-bea4-c6b5f0cb4dba');\n",
       "var x = new MutationObserver(function (mutations, observer) {{\n",
       "        var display = window.getComputedStyle(gd).display;\n",
       "        if (!display || display === 'none') {{\n",
       "            console.log([gd, 'removed!']);\n",
       "            Plotly.purge(gd);\n",
       "            observer.disconnect();\n",
       "        }}\n",
       "}});\n",
       "\n",
       "// Listen for the removal of the full notebook cells\n",
       "var notebookContainer = gd.closest('#notebook-container');\n",
       "if (notebookContainer) {{\n",
       "    x.observe(notebookContainer, {childList: true});\n",
       "}}\n",
       "\n",
       "// Listen for the clearing of the current output cell\n",
       "var outputEl = gd.closest('.output');\n",
       "if (outputEl) {{\n",
       "    x.observe(outputEl, {childList: true});\n",
       "}}\n",
       "\n",
       "                        })                };                });            </script>        </div>"
      ]
     },
     "metadata": {},
     "output_type": "display_data"
    }
   ],
   "source": [
    "# Subplot settings\n",
    "\n",
    "#for subject in subjects_plot:\n",
    "for subject in ['group']:\n",
    "    subplot_titles = ['<b>Reference frame<br>index</b> ({})'.format(subject)]\n",
    "    \n",
    "    fig = make_subplots(rows=rows, cols=cols, specs=sb_specs, print_grid=False, vertical_spacing=0.15, horizontal_spacing=0.05, \n",
    "                        column_widths=column_widths, row_heights=row_heights,  subplot_titles=subplot_titles)\n",
    " \n",
    "    # get data\n",
    "    if subject == 'group': \n",
    "        x_af = df.groupby(['subject','roi']).af_ref_index.mean().reset_index(name='af_ref_index_mean').groupby('roi').af_ref_index_mean.mean()\n",
    "        x_ab = df.groupby(['subject','roi']).ab_ref_index.mean().reset_index(name='ab_ref_index_mean').groupby('roi').ab_ref_index_mean.mean()\n",
    "        x_af_eb = df.groupby(['subject','roi']).af_ref_index.mean().reset_index(name='af_ref_index_mean').groupby('roi').af_ref_index_mean.sem(ddof=-1)\n",
    "        x_ab_eb = df.groupby(['subject','roi']).ab_ref_index.mean().reset_index(name='ab_ref_index_mean').groupby('roi').ab_ref_index_mean.sem(ddof=-1)\n",
    "    else:\n",
    "        x_af = df.loc[(df.subject==subject)].groupby('roi').af_ref_index.mean()\n",
    "        x_ab = df.loc[(df.subject==subject)].groupby('roi').ab_ref_index.mean()\n",
    "        x_af_eb = df.loc[(df.subject==subject)].groupby('roi').af_ref_index.std()\n",
    "        x_ab_eb = df.loc[(df.subject==subject)].groupby('roi').ab_ref_index.std()\n",
    "        \n",
    "    # bar plot\n",
    "    fig.append_trace(go.Bar(y=rois, x=x_ab, orientation='h', marker_color=ab_col, hovertemplate=hover_temp,\n",
    "                            showlegend=True, legendgroup='attend-bar', name='<i>attend-bar<i>',\n",
    "                            error_x_type='data', error_x_symmetric=False, error_x_array=x_ab_eb, error_x_arrayminus=x_ab_eb),row=1, col=1)\n",
    "\n",
    "    fig.append_trace(go.Bar(y=rois, x=x_af, orientation='h', marker_color=af_col, hovertemplate=hover_temp,\n",
    "                            showlegend=True, legendgroup='attend-fix', name='<i>attend-fix<i>', \n",
    "                            error_x_type='data', error_x_symmetric=False, error_x_array=x_af_eb, error_x_arrayminus=x_af_eb),row=1, col=1)\n",
    "\n",
    "    # set axis\n",
    "    for row in np.arange(rows):\n",
    "        for col in np.arange(cols):\n",
    "            fig.update_xaxes(visible=True, ticklen=8, linewidth=template_specs['axes_width'], row=row+1, col=col+1)\n",
    "            fig.update_yaxes(visible=True, ticklen=8, linewidth=template_specs['axes_width'], row=row+1, col=col+1, autorange='reversed')\n",
    "\n",
    "    # set figure axis\n",
    "    for xaxis in ['xaxis']:\n",
    "        exec(\"fig.layout.update({}_range=xaxis_range)\".format(xaxis))\n",
    "        exec(\"fig.layout.update({}_title=xaxis_title)\".format(xaxis))\n",
    "        exec(\"fig.layout.update({}_tickvals=xaxis_tickvals)\".format(xaxis))\n",
    "        exec(\"fig.layout.update({}_ticktext=xaxis_ticktext)\".format(xaxis))\n",
    "        exec(\"fig.layout.update({}_zeroline=True)\".format(xaxis))\n",
    "        \n",
    "    # set figure\n",
    "    fig.layout.update(yaxis_title='', yaxis_color = 'rgba(0,0,0,0)', yaxis_tickfont_color='black', bargap=0.30, template=fig_template, width=fig_width, height=fig_height, margin_l=margin_l, margin_r=margin_r, margin_t=margin_t, margin_b=margin_b,\n",
    "                      legend_yanchor='top', legend_y=-0.15,legend_x=-0.08, legend_xanchor='left', legend_bgcolor='rgba(255,255,255,0)', legend_tracegroupgap=1)\n",
    "    \n",
    "    # show and save figure\n",
    "    fig.show(config={\"displayModeBar\": False})\n",
    "    #fig.write_image(\"{}/{}_attcmp{}.pdf\".format(tsv_dir, subject, type_analysis))\n",
    "    #fig.write_html(\"{}/{}_attcmp{}.html\".format(tsv_dir, subject, type_analysis),config={\"displayModeBar\": False})"
   ]
  },
  {
   "cell_type": "code",
   "execution_count": null,
   "id": "ade24a92-3933-40c0-9fba-84ed23f9fab2",
   "metadata": {},
   "outputs": [],
   "source": []
  }
 ],
 "metadata": {
  "kernelspec": {
   "display_name": "mszinte",
   "language": "python",
   "name": "mszinte"
  },
  "language_info": {
   "codemirror_mode": {
    "name": "ipython",
    "version": 3
   },
   "file_extension": ".py",
   "mimetype": "text/x-python",
   "name": "python",
   "nbconvert_exporter": "python",
   "pygments_lexer": "ipython3",
   "version": "3.9.12"
  }
 },
 "nbformat": 4,
 "nbformat_minor": 5
}
