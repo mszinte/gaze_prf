{
 "cells": [
  {
   "cell_type": "markdown",
   "id": "cbc25220",
   "metadata": {},
   "source": [
    "### Analysis description\n",
    "Here we aim at drawing all pycortex flatmaps, create static webgl, and plot inflated brain maps.<br/>\n",
    "This analysis is ran first with _task = 'FullScreen'_ to determine and _save_svg_ = True.<br/>"
   ]
  },
  {
   "cell_type": "code",
   "execution_count": null,
   "id": "a2e962db",
   "metadata": {},
   "outputs": [],
   "source": [
    "# Imports\n",
    "import os\n",
    "import numpy as np\n",
    "import nibabel as nb\n",
    "import shutil\n",
    "import warnings\n",
    "import cortex\n",
    "import re\n",
    "import time\n",
    "import matplotlib.pyplot as plt\n",
    "from pycortex_utils import draw_cortex\n",
    "from pathlib import Path\n",
    "warnings.filterwarnings('ignore')\n",
    "\n",
    "# Define parameters\n",
    "subjects = ['sub-001','sub-002','sub-003','sub-004',\n",
    "            'sub-005','sub-006','sub-007','sub-008']\n",
    "tasks = ['FullScreenAttendFix', \n",
    "         'FullScreenAttendBar',\n",
    "         'FullScreen']\n",
    "\n",
    "\n",
    "# Define folders\n",
    "base_dir = '/home/mszinte/disks/meso_S/data/gaze_prf'\n",
    "bids_dir = \"{}\".format(base_dir)\n",
    "pp_dir = \"{}/derivatives/pp_data\".format(base_dir)\n",
    "pycortex_dir = \"{}/cortex\".format(pp_dir)\n",
    "\n",
    "# Plot parameters\n",
    "cmap_polar, cmap_uni, cmap_ecc_size, cmap_2d = 'hsv', 'Reds', 'Spectral', 'PU_RdBu_covar_alpha'\n",
    "save_svg = False\n",
    "xfm_name = 'identity.fmriprep'\n",
    "alpha_range = [0, 0.4]\n",
    "r2_range = [0, 1]\n",
    "r2_2d_range = [0, 0.4]\n",
    "ecc_range = [0, 10]\n",
    "size_range = [0, 10]\n",
    "col_offset = 1.0/14.0\n",
    "cmap_steps = 255\n",
    "recache = False\n",
    "inflated_maps_names = ['FullScreen_polar','FullScreen_ecc','FullScreen_attcmp']"
   ]
  },
  {
   "cell_type": "code",
   "execution_count": null,
   "id": "738721c2",
   "metadata": {},
   "outputs": [],
   "source": [
    "# Write pycortex config file\n",
    "pycortex_db = \"{}/db/\".format(pycortex_dir)\n",
    "pycortex_cm = \"{}/colormaps/\".format(pycortex_dir)\n",
    "pycortex_config_file  = cortex.options.usercfg\n",
    "pycortex_config_file_new = pycortex_config_file[:-4] + '_new.cfg'\n",
    "pycortex_config_file_old = pycortex_config_file[:-4] + '_old.cfg'\n",
    "\n",
    "Path(pycortex_config_file_new).touch()\n",
    "with open(pycortex_config_file, 'r') as fileIn:\n",
    "    with open(pycortex_config_file_new, 'w') as fileOut:\n",
    "        for line in fileIn:\n",
    "            if 'filestore' in line:\n",
    "                newline = 'filestore=' + pycortex_db\n",
    "                fileOut.write(newline)\n",
    "                newline = '\\n'\n",
    "            elif 'colormaps' in line:\n",
    "                newline = 'colormaps=' + pycortex_cm\n",
    "                fileOut.write(newline)\n",
    "                newline = '\\n'\n",
    "            else:\n",
    "                newline = line\n",
    "            fileOut.write(newline)\n",
    "os.rename(pycortex_config_file,pycortex_config_file_old)\n",
    "os.rename(pycortex_config_file_new, pycortex_config_file)"
   ]
  },
  {
   "cell_type": "code",
   "execution_count": null,
   "id": "487abdbd",
   "metadata": {
    "tags": []
   },
   "outputs": [],
   "source": [
    "for subject in subjects:\n",
    "    maps_names = []\n",
    "    volumes = {}\n",
    "    exec('{}_volumes = {{}}'.format(re.sub('-','_',subject)))\n",
    "    for task in tasks:\n",
    "        \n",
    "        # Define and create folder\n",
    "        fit_dir = '{}/{}/prf/fit'.format(pp_dir, subject)\n",
    "        mask_dir = '{}/{}/masks'.format(pp_dir, subject)\n",
    "        flatmaps_dir = '{}/{}/prf/flatmaps'.format(pp_dir, subject)\n",
    "        try: os.makedirs(flatmaps_dir) \n",
    "        except: pass\n",
    "    \n",
    "        # load pRF threshold masks\n",
    "        th_mat = nb.load('{}/{}_task-{}_prf_threshold.nii.gz'.format(mask_dir,subject,task)).get_fdata()\n",
    "        th_mat[np.isnan(th_mat)] = 0 # replace it by 0 for alpha maps\n",
    "\n",
    "        # Load fit parameters\n",
    "        r2_im = nb.load('{}/{}_task-{}_par-r2.nii.gz'.format(fit_dir,subject,task))\n",
    "        ecc_im = nb.load('{}/{}_task-{}_par-ecc.nii.gz'.format(fit_dir,subject,task))\n",
    "        sd_im = nb.load('{}/{}_task-{}_par-sd.nii.gz'.format(fit_dir,subject,task))\n",
    "        amp_im = nb.load('{}/{}_task-{}_par-amplitude.nii.gz'.format(fit_dir,subject,task))\n",
    "        x_im = nb.load('{}/{}_task-{}_par-x.nii.gz'.format(fit_dir,subject,task))\n",
    "        y_im = nb.load('{}/{}_task-{}_par-y.nii.gz'.format(fit_dir,subject,task))\n",
    "\n",
    "        # Create param matrix\n",
    "        r2_idx, ecc_idx, sd_idx, amp_idx, x_idx, y_idx = 0, 1, 2, 3, 4, 5\n",
    "        param_mat = np.zeros((r2_im.shape[0],r2_im.shape[1],r2_im.shape[2],6))*np.nan\n",
    "        param_mat[...,r2_idx] = r2_im.get_fdata()*th_mat # mask it by pRF threshold\n",
    "        param_mat[...,ecc_idx] = ecc_im.get_fdata()\n",
    "        param_mat[...,sd_idx] = sd_im.get_fdata()\n",
    "        param_mat[...,amp_idx] = amp_im.get_fdata()\n",
    "        param_mat[...,x_idx] = x_im.get_fdata()\n",
    "        param_mat[...,y_idx] = y_im.get_fdata()\n",
    "\n",
    "        # get R2 across tasks\n",
    "        if task == 'FullScreenAttendFix': \n",
    "            r2_attend_mat = np.zeros((r2_im.shape[0],r2_im.shape[1],r2_im.shape[2],2))*np.nan\n",
    "            r2_attend_mat[...,0] = param_mat[...,r2_idx]\n",
    "        elif task == 'FullScreenAttendBar': \n",
    "            r2_attend_mat[...,1] = param_mat[...,r2_idx]\n",
    "        \n",
    "        # Define pRF R2\n",
    "        r2_data = param_mat[...,r2_idx]\n",
    "        alpha = (r2_data - alpha_range[0])/(alpha_range[1]-alpha_range[0])\n",
    "        alpha[alpha>1]=1\n",
    "        r2_param = {'data': param_mat[...,r2_idx], 'cmap': cmap_uni, 'alpha': alpha, 'vmin': r2_range[0],'vmax': r2_range[1],\n",
    "                    'cbar': 'discrete', 'cbar_label': 'R2', 'description': '{}: pRF R2'.format(task), 'curv_brightness': 1, \n",
    "                    'curv_contrast': 0.3, 'add_roi': False, 'subject': subject, 'xfmname': xfm_name}\n",
    "        exec('{}_r2_param = r2_param'.format(task))\n",
    "        maps_names.append('{}_r2'.format(task))\n",
    "        \n",
    "        # Define pRF eccentricity\n",
    "        ecc_data = param_mat[...,ecc_idx]\n",
    "        ecc_param = {'data': ecc_data, 'cmap': cmap_ecc_size, 'alpha': alpha, 'vmin': ecc_range[0], 'vmax': ecc_range[1],\n",
    "                     'cbar': 'ecc','roi_name': 'pRF_eccentricity','description': '{}: pRF eccentricity'.format(task), 'curv_brightness': 1, \n",
    "                     'curv_contrast': 0.3, 'add_roi': save_svg, 'subject': subject, 'xfmname': xfm_name}\n",
    "        exec('{}_ecc_param = ecc_param'.format(task))\n",
    "        maps_names.append('{}_ecc'.format(task))\n",
    "        \n",
    "        # Define pRF polar angle\n",
    "        pol_comp_num = param_mat[...,x_idx] + 1j * param_mat[...,y_idx]\n",
    "        polar_ang = np.angle(pol_comp_num)\n",
    "        ang_norm = (polar_ang + np.pi) / (np.pi * 2.0)\n",
    "        ang_norm = np.fmod(ang_norm + col_offset,1)\n",
    "        polar_param = {'data': ang_norm, 'cmap': cmap_polar, 'alpha': alpha, 'vmin': 0, 'vmax': 1, 'cmap_steps': cmap_steps, \n",
    "                       'cbar': 'polar', 'roi_name': 'pRF_polar_angle', 'col_offset': col_offset, 'description': '{}: pRF polar angle'.format(task), \n",
    "                       'curv_brightness': 0.1, 'curv_contrast': 0.25, 'add_roi': save_svg, 'subject': subject, 'xfmname': xfm_name}\n",
    "        exec('{}_polar_param = polar_param'.format(task))\n",
    "        maps_names.append('{}_polar'.format(task))\n",
    "        \n",
    "        # Define pRF size\n",
    "        size_data = param_mat[...,sd_idx]\n",
    "        size_param = {'data': size_data, 'cmap': cmap_ecc_size, 'alpha': alpha, 'vmin': size_range[0], 'vmax': size_range[1], \n",
    "                      'cbar': 'discrete', 'cbar_label': 'pRF size (dva)', 'description': '{}: pRF size'.format(task), 'curv_brightness': 1, \n",
    "                      'curv_contrast': 0.3, 'add_roi': False, 'subject': subject, 'xfmname': xfm_name}\n",
    "        exec('{}_size_param = size_param'.format(task))\n",
    "        maps_names.append('{}_size'.format(task))\n",
    "        \n",
    "        # Define R2 attention comparison\n",
    "        if task == 'FullScreen':\n",
    "            attcmp_param = {'data':  r2_attend_mat[...,0], 'alpha': r2_attend_mat[...,1], 'cmap': cmap_2d, 'vmin': [r2_2d_range[0],r2_2d_range[0]],\n",
    "                            'vmax': [r2_2d_range[1],r2_2d_range[1]], 'cortex_type': 'Volume2D', 'cbar': '2D', 'add_roi': False,\n",
    "                            'description': 'FullScreen: AttendFix vs. AttendBar', 'curv_brightness': 1, 'curv_contrast': 0.3,\n",
    "                            'cbar_label': ['AttendFix','AttednBar'], 'subject': subject, 'xfmname': xfm_name}\n",
    "            exec('{}_attcmp_param = attcmp_param'.format(task))\n",
    "            maps_names.append('{}_attcmp'.format(task))\n",
    "\n",
    "    # Flatmaps\n",
    "    for maps_name in maps_names:\n",
    "        exec('{}_volume, fig = draw_cortex(**{}_param)'.format(maps_name,maps_name))\n",
    "        print(\"{}_task-{}\".format(subject, maps_name))\n",
    "        exec(\"plt.savefig('{}/{}_task-{}.pdf')\".format(flatmaps_dir, subject, maps_name))\n",
    "        plt.show()\n",
    "        exec('vol_description = {}_param[\"description\"]'.format(maps_name))\n",
    "        exec('volume = {}_volume'.format(maps_name))\n",
    "        volumes.update({vol_description:volume})\n",
    "    \n",
    "    # Save Webgl\n",
    "    webgl_dir = '{}/derivatives/webgl_data/{}/'.format(base_dir, subject)\n",
    "    if os.path.exists(webgl_dir):\n",
    "        print('deleting old : {}'.format(webgl_dir))\n",
    "        shutil.rmtree(webgl_dir)\n",
    "    print('saving: {}'.format(webgl_dir))\n",
    "    try: os.makedirs(webgl_dir)\n",
    "    except: pass\n",
    "    cortex.webgl.make_static(outpath=webgl_dir, data=volumes, recache=recache, title=subject)\n",
    "    \n",
    "    # Volumes for inflated brains\n",
    "    for maps_name in inflated_maps_names:\n",
    "        exec('{}_volume, fig = draw_cortex(**{}_param)'.format(maps_name,maps_name))\n",
    "        exec('vol_description = {}_param[\"description\"]'.format(maps_name))\n",
    "        exec('volume = {}_volume'.format(maps_name))\n",
    "        exec('{}_volumes.update({{vol_description:volume}})'.format(re.sub('-','_',subject)))"
   ]
  },
  {
   "cell_type": "code",
   "execution_count": 48,
   "id": "62256e76",
   "metadata": {},
   "outputs": [
    {
     "name": "stdout",
     "output_type": "stream",
     "text": [
      "Command to type on local terminal...\n",
      "ssh -Y -fN -L localhost:25971:localhost:25971 admin@invibe.nohost.me\n",
      "Go to (in 5 s...): http://localhost:25971/\n",
      "Started server on port 25971\n"
     ]
    }
   ],
   "source": [
    "# Webgl for inflated brain pictures\n",
    "subject2plot = 'sub-006'\n",
    "inflated_dir = '{}/{}/prf/inflated'.format(pp_dir, subject2plot)\n",
    "try: os.makedirs(inflated_dir) \n",
    "except: pass\n",
    "port_num = 25971 # open on invibe server\n",
    "print(\"Command to type on local terminal...\")\n",
    "print(\"ssh -Y -fN -L localhost:{}:localhost:{} admin@invibe.nohost.me\".format(port_num,port_num))\n",
    "print(\"Go to (in 5 s...): http://localhost:{}/\".format(port_num))\n",
    "exec('handle = cortex.webgl.show(data={}_volumes,recache = False, port=port_num, title=subject2plot, labels_visible=[])'.format(re.sub('-','_',subject2plot)))"
   ]
  },
  {
   "cell_type": "code",
   "execution_count": 49,
   "id": "4ecefe0d-08bb-4e43-a17b-e611665f4017",
   "metadata": {},
   "outputs": [],
   "source": [
    "# general settings\n",
    "inflated_general = {'camera.azimuth':225,\n",
    "                    'camera.altitude':70,\n",
    "                    'camera.radius':324,\n",
    "                    'surface.{subject}.unfold':0.5,\n",
    "                    'surface.{subject}.pivot':33,\n",
    "                    'surface.{subject}.left':True,\n",
    "                    'surface.{subject}.right':True,\n",
    "                    'surface.{subject}.depth':0.5,\n",
    "                    'surface.{subject}.specularity':0.2,\n",
    "                    'surface.{subject}.layers':4,\n",
    "                    'surface.{subject}.dither':False,\n",
    "                    'surface.{subject}.colorbar':False,\n",
    "                    'surface.{subject}.sampler':'nearest',\n",
    "                    'surface.{subject}.curvature.brightness':0.1,\n",
    "                    'surface.{subject}.curvature.contrast':0.25,\n",
    "                    'surface.{subject}.curvature.smoothness':0.1}\n",
    "handle._set_view(**inflated_general)\n",
    "time.sleep(5)"
   ]
  },
  {
   "cell_type": "code",
   "execution_count": 50,
   "id": "a5bf5c77-8bb7-4741-952a-87ad9616cdb7",
   "metadata": {},
   "outputs": [],
   "source": [
    "handle.setData(['FullScreen: pRF polar angle'])\n",
    "time.sleep(5)\n",
    "im1 = handle.getImage('{}/{}_inflated_polar.png'.format(inflated_dir,subject2plot),size = (3000, 3000))"
   ]
  },
  {
   "cell_type": "code",
   "execution_count": 51,
   "id": "f7e971fe-acd4-491f-8456-a465fc83e0d1",
   "metadata": {},
   "outputs": [],
   "source": [
    "handle.setData(['FullScreen: AttendFix vs. AttendBar'])\n",
    "time.sleep(5)\n",
    "inflated_attcmp = { 'surface.{subject}.colorbar':False}\n",
    "handle._set_view(**inflated_attcmp)\n",
    "time.sleep(5)\n",
    "im2 = handle.getImage('{}/{}_inflated_attcmp.png'.format(inflated_dir,subject2plot),size = (3000, 3000))"
   ]
  },
  {
   "cell_type": "code",
   "execution_count": 52,
   "id": "0cb6d83d-6857-4a7f-ac98-bfbf464fc979",
   "metadata": {},
   "outputs": [],
   "source": [
    "handle.setData(['FullScreen: pRF eccentricity'])\n",
    "time.sleep(5)\n",
    "inflated_ecc = {'surface.{subject}.curvature.brightness':0.9}\n",
    "handle._set_view(**inflated_ecc)\n",
    "time.sleep(5)\n",
    "im3 = handle.getImage('{}/{}_inflated_ecc.png'.format(inflated_dir,subject2plot),size = (3000, 3000))"
   ]
  },
  {
   "cell_type": "code",
   "execution_count": 47,
   "id": "37d08d99-811c-499d-b75c-80131c8ee48e",
   "metadata": {},
   "outputs": [
    {
     "data": {
      "text/plain": [
       "[None]"
      ]
     },
     "execution_count": 65,
     "metadata": {},
     "output_type": "execute_result"
    },
    {
     "name": "stdout",
     "output_type": "stream",
     "text": [
      "Stopping server\n"
     ]
    }
   ],
   "source": [
    "handle.close()"
   ]
  },
  {
   "cell_type": "code",
   "execution_count": null,
   "id": "613e3bd1-f61c-4fbb-8615-a220602d119d",
   "metadata": {},
   "outputs": [],
   "source": []
  }
 ],
 "metadata": {
  "kernelspec": {
   "display_name": "mszinte",
   "language": "python",
   "name": "mszinte"
  },
  "language_info": {
   "codemirror_mode": {
    "name": "ipython",
    "version": 3
   },
   "file_extension": ".py",
   "mimetype": "text/x-python",
   "name": "python",
   "nbconvert_exporter": "python",
   "pygments_lexer": "ipython3",
   "version": "3.9.12"
  }
 },
 "nbformat": 4,
 "nbformat_minor": 5
}
