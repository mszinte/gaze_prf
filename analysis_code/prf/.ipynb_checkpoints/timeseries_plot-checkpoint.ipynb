{
 "cells": [
  {
   "cell_type": "code",
   "execution_count": 19,
   "id": "260c604f-36bc-4e78-b13f-c59400f3b041",
   "metadata": {},
   "outputs": [],
   "source": [
    "# Imports\n",
    "import os\n",
    "import numpy as np\n",
    "import pandas as pd\n",
    "import nibabel as nb\n",
    "import warnings\n",
    "warnings.filterwarnings('ignore')\n",
    "\n",
    "# Figure imports\n",
    "import plotly.graph_objects as go\n",
    "from plotly.subplots import make_subplots\n",
    "import plotly.express as px\n",
    "import plotly.express as px\n",
    "from plot_utils import plotly_template\n",
    "\n",
    "# Define parameters\n",
    "subjects = ['sub-001','sub-002','sub-003','sub-004',\n",
    "            'sub-005','sub-006','sub-007','sub-008']\n",
    "subjects_plot = ['sub-001','sub-002','sub-003','sub-004',\n",
    "                 'sub-005','sub-006','sub-007','sub-008','group']\n",
    "tasks = ['FullScreen','FullScreenAttendFix', 'FullScreenAttendBar']\n",
    "rois = ['V1','V2','V3','V3AB','hMT+','LO','VO','iIPS','sIPS','iPCS','sPCS','mPCS']\n",
    "\n",
    "# Define folders\n",
    "base_dir = '/home/mszinte/disks/meso_S/data/gaze_prf'\n",
    "bids_dir = \"{}\".format(base_dir)\n",
    "pp_dir = \"{}/derivatives/pp_data\".format(base_dir)\n",
    "\n",
    "# Threshold values\n",
    "amp_th = 0\n",
    "r2_th = [0, 1]\n",
    "ecc_th = [0.1, 20]\n",
    "sd_th = [0.1, 20]\n",
    "cortical_mask = 'cortical'\n",
    "best_voxels_num = 250"
   ]
  },
  {
   "cell_type": "code",
   "execution_count": 20,
   "id": "5c553e57-0792-4a3d-98aa-69b79aa09ec8",
   "metadata": {},
   "outputs": [
    {
     "name": "stdout",
     "output_type": "stream",
     "text": [
      "saving /home/mszinte/disks/meso_S/data/gaze_prf/derivatives/pp_data/sub-001/masks/sub-001_task-FullScreen_prf_threshold.nii.gz\n",
      "saving /home/mszinte/disks/meso_S/data/gaze_prf/derivatives/pp_data/sub-002/masks/sub-002_task-FullScreen_prf_threshold.nii.gz\n",
      "saving /home/mszinte/disks/meso_S/data/gaze_prf/derivatives/pp_data/sub-003/masks/sub-003_task-FullScreen_prf_threshold.nii.gz\n",
      "saving /home/mszinte/disks/meso_S/data/gaze_prf/derivatives/pp_data/sub-004/masks/sub-004_task-FullScreen_prf_threshold.nii.gz\n",
      "saving /home/mszinte/disks/meso_S/data/gaze_prf/derivatives/pp_data/sub-005/masks/sub-005_task-FullScreen_prf_threshold.nii.gz\n",
      "saving /home/mszinte/disks/meso_S/data/gaze_prf/derivatives/pp_data/sub-006/masks/sub-006_task-FullScreen_prf_threshold.nii.gz\n",
      "saving /home/mszinte/disks/meso_S/data/gaze_prf/derivatives/pp_data/sub-007/masks/sub-007_task-FullScreen_prf_threshold.nii.gz\n",
      "saving /home/mszinte/disks/meso_S/data/gaze_prf/derivatives/pp_data/sub-008/masks/sub-008_task-FullScreen_prf_threshold.nii.gz\n",
      "saving /home/mszinte/disks/meso_S/data/gaze_prf/derivatives/pp_data/sub-001/masks/sub-001_task-FullScreenAttendFix_prf_threshold.nii.gz\n",
      "saving /home/mszinte/disks/meso_S/data/gaze_prf/derivatives/pp_data/sub-002/masks/sub-002_task-FullScreenAttendFix_prf_threshold.nii.gz\n",
      "saving /home/mszinte/disks/meso_S/data/gaze_prf/derivatives/pp_data/sub-003/masks/sub-003_task-FullScreenAttendFix_prf_threshold.nii.gz\n",
      "saving /home/mszinte/disks/meso_S/data/gaze_prf/derivatives/pp_data/sub-004/masks/sub-004_task-FullScreenAttendFix_prf_threshold.nii.gz\n",
      "saving /home/mszinte/disks/meso_S/data/gaze_prf/derivatives/pp_data/sub-005/masks/sub-005_task-FullScreenAttendFix_prf_threshold.nii.gz\n",
      "saving /home/mszinte/disks/meso_S/data/gaze_prf/derivatives/pp_data/sub-006/masks/sub-006_task-FullScreenAttendFix_prf_threshold.nii.gz\n",
      "saving /home/mszinte/disks/meso_S/data/gaze_prf/derivatives/pp_data/sub-007/masks/sub-007_task-FullScreenAttendFix_prf_threshold.nii.gz\n",
      "saving /home/mszinte/disks/meso_S/data/gaze_prf/derivatives/pp_data/sub-008/masks/sub-008_task-FullScreenAttendFix_prf_threshold.nii.gz\n",
      "saving /home/mszinte/disks/meso_S/data/gaze_prf/derivatives/pp_data/sub-001/masks/sub-001_task-FullScreenAttendBar_prf_threshold.nii.gz\n",
      "saving /home/mszinte/disks/meso_S/data/gaze_prf/derivatives/pp_data/sub-002/masks/sub-002_task-FullScreenAttendBar_prf_threshold.nii.gz\n",
      "saving /home/mszinte/disks/meso_S/data/gaze_prf/derivatives/pp_data/sub-003/masks/sub-003_task-FullScreenAttendBar_prf_threshold.nii.gz\n",
      "saving /home/mszinte/disks/meso_S/data/gaze_prf/derivatives/pp_data/sub-004/masks/sub-004_task-FullScreenAttendBar_prf_threshold.nii.gz\n",
      "saving /home/mszinte/disks/meso_S/data/gaze_prf/derivatives/pp_data/sub-005/masks/sub-005_task-FullScreenAttendBar_prf_threshold.nii.gz\n",
      "saving /home/mszinte/disks/meso_S/data/gaze_prf/derivatives/pp_data/sub-006/masks/sub-006_task-FullScreenAttendBar_prf_threshold.nii.gz\n",
      "saving /home/mszinte/disks/meso_S/data/gaze_prf/derivatives/pp_data/sub-007/masks/sub-007_task-FullScreenAttendBar_prf_threshold.nii.gz\n",
      "saving /home/mszinte/disks/meso_S/data/gaze_prf/derivatives/pp_data/sub-008/masks/sub-008_task-FullScreenAttendBar_prf_threshold.nii.gz\n"
     ]
    }
   ],
   "source": [
    "# Create pRF threshold masks\n",
    "for task in tasks:\n",
    "    for subject in subjects:\n",
    "    \n",
    "        # define folders\n",
    "        fit_dir = '{}/{}/prf/fit'.format(pp_dir, subject)\n",
    "        mask_dir = '{}/{}/masks'.format(pp_dir, subject)\n",
    "        \n",
    "        # Load fit parameters\n",
    "        r2_im = nb.load('{}/{}_task-{}_par-r2.nii.gz'.format(fit_dir,subject,task))\n",
    "        ecc_im = nb.load('{}/{}_task-{}_par-ecc.nii.gz'.format(fit_dir,subject,task))\n",
    "        sd_im = nb.load('{}/{}_task-{}_par-sd.nii.gz'.format(fit_dir,subject,task))\n",
    "        amp_im = nb.load('{}/{}_task-{}_par-amplitude.nii.gz'.format(fit_dir,subject,task))\n",
    "        x_im = nb.load('{}/{}_task-{}_par-x.nii.gz'.format(fit_dir,subject,task))\n",
    "        y_im = nb.load('{}/{}_task-{}_par-y.nii.gz'.format(fit_dir,subject,task))\n",
    "\n",
    "        # Create param matrix\n",
    "        r2_idx, ecc_idx, sd_idx, amp_idx, mask_idx = 0, 1, 2, 3, 4\n",
    "        param_mat = np.zeros((r2_im.shape[0],r2_im.shape[1],r2_im.shape[2],5))*np.nan\n",
    "        param_mat[...,r2_idx] = r2_im.get_fdata()\n",
    "        param_mat[...,ecc_idx] = ecc_im.get_fdata()\n",
    "        param_mat[...,sd_idx] = sd_im.get_fdata()\n",
    "        param_mat[...,amp_idx] = amp_im.get_fdata()\n",
    " \n",
    "        # Threshold param matrix by masking R2\n",
    "        param_mat_th = param_mat\n",
    "        amp_down =  param_mat_th[...,amp_idx] > amp_th\n",
    "        r2_th_down, r2_th_up = param_mat_th[...,r2_idx] >= r2_th[0],  param_mat_th[...,r2_idx] <= r2_th[1]\n",
    "        ecc_th_down, ecc_th_up = param_mat_th[...,ecc_idx] >= ecc_th[0], param_mat_th[...,ecc_idx] <= ecc_th[1]\n",
    "        sd_th_down, sd_th_up = param_mat_th[...,sd_idx] >= sd_th[0], param_mat_th[...,sd_idx] <= sd_th[1]\n",
    "        all_th = np.array((amp_down, r2_th_down, r2_th_up, ecc_th_down, ecc_th_up, sd_th_down, sd_th_up)) \n",
    "        \n",
    "        # create threhsold mask\n",
    "        param_mat[np.logical_and.reduce(all_th)==False, mask_idx] = np.nan\n",
    "        param_mat[np.logical_and.reduce(all_th)==True, mask_idx] = 1\n",
    "        \n",
    "        # save threshold masks\n",
    "        th_mask_file = \"{}/{}_task-{}_prf_threshold.nii.gz\".format(mask_dir, subject, task)\n",
    "        print('saving {}'.format(th_mask_file))\n",
    "        th_mask_img = nb.Nifti1Image(dataobj=param_mat[...,mask_idx], affine=r2_im.affine, header=r2_im.header)\n",
    "        th_mask_img.to_filename(th_mask_file)"
   ]
  },
  {
   "cell_type": "code",
   "execution_count": 21,
   "id": "40fb4c46-0199-42cb-9b4d-69f2aae725a5",
   "metadata": {},
   "outputs": [
    {
     "name": "stdout",
     "output_type": "stream",
     "text": [
      "saving /home/mszinte/disks/meso_S/data/gaze_prf/derivatives/pp_data/sub-001/prf/tsv/sub-001_task-FullScreen_prf_threshold_par.tsv\n",
      "saving /home/mszinte/disks/meso_S/data/gaze_prf/derivatives/pp_data/sub-002/prf/tsv/sub-002_task-FullScreen_prf_threshold_par.tsv\n",
      "saving /home/mszinte/disks/meso_S/data/gaze_prf/derivatives/pp_data/sub-003/prf/tsv/sub-003_task-FullScreen_prf_threshold_par.tsv\n",
      "saving /home/mszinte/disks/meso_S/data/gaze_prf/derivatives/pp_data/sub-004/prf/tsv/sub-004_task-FullScreen_prf_threshold_par.tsv\n",
      "saving /home/mszinte/disks/meso_S/data/gaze_prf/derivatives/pp_data/sub-005/prf/tsv/sub-005_task-FullScreen_prf_threshold_par.tsv\n",
      "saving /home/mszinte/disks/meso_S/data/gaze_prf/derivatives/pp_data/sub-006/prf/tsv/sub-006_task-FullScreen_prf_threshold_par.tsv\n",
      "saving /home/mszinte/disks/meso_S/data/gaze_prf/derivatives/pp_data/sub-007/prf/tsv/sub-007_task-FullScreen_prf_threshold_par.tsv\n",
      "saving /home/mszinte/disks/meso_S/data/gaze_prf/derivatives/pp_data/sub-008/prf/tsv/sub-008_task-FullScreen_prf_threshold_par.tsv\n",
      "saving /home/mszinte/disks/meso_S/data/gaze_prf/derivatives/pp_data/group/prf/tsv/group_task-FullScreen_prf_threshold_par.tsv\n",
      "saving /home/mszinte/disks/meso_S/data/gaze_prf/derivatives/pp_data/sub-001/prf/tsv/sub-001_task-FullScreenAttendFix_prf_threshold_par.tsv\n",
      "saving /home/mszinte/disks/meso_S/data/gaze_prf/derivatives/pp_data/sub-002/prf/tsv/sub-002_task-FullScreenAttendFix_prf_threshold_par.tsv\n",
      "saving /home/mszinte/disks/meso_S/data/gaze_prf/derivatives/pp_data/sub-003/prf/tsv/sub-003_task-FullScreenAttendFix_prf_threshold_par.tsv\n",
      "saving /home/mszinte/disks/meso_S/data/gaze_prf/derivatives/pp_data/sub-004/prf/tsv/sub-004_task-FullScreenAttendFix_prf_threshold_par.tsv\n",
      "saving /home/mszinte/disks/meso_S/data/gaze_prf/derivatives/pp_data/sub-005/prf/tsv/sub-005_task-FullScreenAttendFix_prf_threshold_par.tsv\n",
      "saving /home/mszinte/disks/meso_S/data/gaze_prf/derivatives/pp_data/sub-006/prf/tsv/sub-006_task-FullScreenAttendFix_prf_threshold_par.tsv\n",
      "saving /home/mszinte/disks/meso_S/data/gaze_prf/derivatives/pp_data/sub-007/prf/tsv/sub-007_task-FullScreenAttendFix_prf_threshold_par.tsv\n",
      "saving /home/mszinte/disks/meso_S/data/gaze_prf/derivatives/pp_data/sub-008/prf/tsv/sub-008_task-FullScreenAttendFix_prf_threshold_par.tsv\n",
      "saving /home/mszinte/disks/meso_S/data/gaze_prf/derivatives/pp_data/group/prf/tsv/group_task-FullScreenAttendFix_prf_threshold_par.tsv\n",
      "saving /home/mszinte/disks/meso_S/data/gaze_prf/derivatives/pp_data/sub-001/prf/tsv/sub-001_task-FullScreenAttendBar_prf_threshold_par.tsv\n",
      "saving /home/mszinte/disks/meso_S/data/gaze_prf/derivatives/pp_data/sub-002/prf/tsv/sub-002_task-FullScreenAttendBar_prf_threshold_par.tsv\n",
      "saving /home/mszinte/disks/meso_S/data/gaze_prf/derivatives/pp_data/sub-003/prf/tsv/sub-003_task-FullScreenAttendBar_prf_threshold_par.tsv\n",
      "saving /home/mszinte/disks/meso_S/data/gaze_prf/derivatives/pp_data/sub-004/prf/tsv/sub-004_task-FullScreenAttendBar_prf_threshold_par.tsv\n",
      "saving /home/mszinte/disks/meso_S/data/gaze_prf/derivatives/pp_data/sub-005/prf/tsv/sub-005_task-FullScreenAttendBar_prf_threshold_par.tsv\n",
      "saving /home/mszinte/disks/meso_S/data/gaze_prf/derivatives/pp_data/sub-006/prf/tsv/sub-006_task-FullScreenAttendBar_prf_threshold_par.tsv\n",
      "saving /home/mszinte/disks/meso_S/data/gaze_prf/derivatives/pp_data/sub-007/prf/tsv/sub-007_task-FullScreenAttendBar_prf_threshold_par.tsv\n",
      "saving /home/mszinte/disks/meso_S/data/gaze_prf/derivatives/pp_data/sub-008/prf/tsv/sub-008_task-FullScreenAttendBar_prf_threshold_par.tsv\n",
      "saving /home/mszinte/disks/meso_S/data/gaze_prf/derivatives/pp_data/group/prf/tsv/group_task-FullScreenAttendBar_prf_threshold_par.tsv\n"
     ]
    }
   ],
   "source": [
    "# Create TSV files\n",
    "for task in tasks:\n",
    "    for subject_num, subject in enumerate(subjects):\n",
    "        # define folders\n",
    "        fit_dir = '{}/{}/prf/fit'.format(pp_dir, subject)\n",
    "        mask_dir = '{}/{}/masks'.format(pp_dir, subject)\n",
    "        tsv_dir = '{}/{}/prf/tsv'.format(pp_dir, subject)\n",
    "        group_tsv_dir = '{}/{}/prf/tsv'.format(pp_dir, 'group')\n",
    "        try: os.makedirs(tsv_dir) \n",
    "        except: pass\n",
    "        try: os.makedirs(group_tsv_dir)\n",
    "        except: pass\n",
    "\n",
    "        # load pRF threshold masks\n",
    "        th_mat = nb.load('{}/{}_task-{}_prf_threshold.nii.gz'.format(mask_dir,subject,task)).get_fdata()\n",
    "\n",
    "        # load fit parameters\n",
    "        r2_mat = nb.load('{}/{}_task-{}_par-r2.nii.gz'.format(fit_dir,subject,task)).get_fdata()*th_mat\n",
    "        ecc_mat = nb.load('{}/{}_task-{}_par-ecc.nii.gz'.format(fit_dir,subject,task)).get_fdata()*th_mat\n",
    "        sd_mat = nb.load('{}/{}_task-{}_par-sd.nii.gz'.format(fit_dir,subject,task)).get_fdata()*th_mat\n",
    "        x_mat = nb.load('{}/{}_task-{}_par-x.nii.gz'.format(fit_dir,subject,task)).get_fdata()*th_mat\n",
    "        y_mat = nb.load('{}/{}_task-{}_par-y.nii.gz'.format(fit_dir,subject,task)).get_fdata()*th_mat\n",
    "\n",
    "        # creat tsv\n",
    "        for roi_num, roi in enumerate(rois):\n",
    "            # load roi\n",
    "            lh_mat = nb.load(\"{}/{}_{}_L.nii.gz\".format(mask_dir, roi, cortical_mask)).get_fdata()\n",
    "            rh_mat = nb.load(\"{}/{}_{}_R.nii.gz\".format(mask_dir, roi, cortical_mask)).get_fdata()\n",
    "            roi_mat = lh_mat + rh_mat\n",
    "            roi_mat[roi_mat==0] = np.nan\n",
    "\n",
    "            # select data by roi mask\n",
    "            r2_roi_mat = r2_mat[roi_mat==True]\n",
    "            ecc_roi_mat = ecc_mat[roi_mat==True]\n",
    "            sd_roi_mat = sd_mat[roi_mat==True]\n",
    "            x_roi_mat = x_mat[roi_mat==True]\n",
    "            y_roi_mat = y_mat[roi_mat==True]\n",
    "\n",
    "            # select data by pRF threshold mask\n",
    "            r2_roi_th_mat = r2_roi_mat[np.isnan(r2_roi_mat)==False]\n",
    "            ecc_roi_th_mat = ecc_roi_mat[np.isnan(ecc_roi_mat)==False]\n",
    "            sd_roi_th_mat = sd_roi_mat[np.isnan(sd_roi_mat)==False]\n",
    "            x_roi_th_mat = x_roi_mat[np.isnan(x_roi_mat)==False]\n",
    "            y_roi_th_mat = y_roi_mat[np.isnan(y_roi_mat)==False]\n",
    "\n",
    "            # create dataframe\n",
    "            task_roi_mat = [roi] * r2_roi_th_mat.shape[0]\n",
    "\n",
    "            df_roi = pd.DataFrame({'roi': task_roi_mat,\n",
    "                                   'r2': r2_roi_th_mat,\n",
    "                                   'ecc': ecc_roi_th_mat,\n",
    "                                   'sd': sd_roi_th_mat,\n",
    "                                   'x': x_roi_th_mat,\n",
    "                                   'y': y_roi_th_mat})\n",
    "            \n",
    "            # add rank number based on r2\n",
    "            df_roi['rank_r2']=df_roi.groupby('roi')['r2'].rank(method='max',ascending=False)\n",
    "\n",
    "            if roi_num > 0: df = pd.concat([df,df_roi],ignore_index=True)\n",
    "            else: df = df_roi\n",
    "\n",
    "        # save dataframe\n",
    "        df_fn = \"{}/{}_task-{}_prf_threshold_par.tsv\".format(tsv_dir,subject,task)\n",
    "        print('saving {}'.format(df_fn))\n",
    "        df.to_csv(df_fn, sep=\"\\t\", na_rep='NaN',index=False)\n",
    "\n",
    "        # across subjects\n",
    "        df_best = df[(df.rank_r2<=best_voxels_num)]\n",
    "        df_mean = df_best.groupby('roi').mean()\n",
    "        if subject_num == 0: df_group = df_mean\n",
    "        else: df_group = pd.concat([df_group, df_mean])\n",
    "\n",
    "    # save group data\n",
    "    df_group_fn = \"{}/group_task-{}_prf_threshold_par.tsv\".format(group_tsv_dir,task)\n",
    "    print('saving {}'.format(df_group_fn))\n",
    "    df_group.to_csv(df_group_fn, sep=\"\\t\", na_rep='NaN')"
   ]
  },
  {
   "cell_type": "code",
   "execution_count": 22,
   "id": "9cb57c89-3567-4006-8810-e8848633b906",
   "metadata": {},
   "outputs": [
    {
     "data": {
      "application/vnd.plotly.v1+json": {
       "config": {
        "displayModeBar": false,
        "plotlyServerURL": "https://plot.ly"
       },
       "data": [
        {
         "error_x": {
          "array": [
           0.07863462109368205,
           0.10289660214705448,
           0.11660528029031939,
           0.10137449730479482,
           0.07918464463592144,
           0.08682132633948894,
           0.08384910521452356,
           0.0625485778913588,
           0.0619195545584235,
           0.06519864867474613,
           0.08327939128142824,
           0.07116295103830868
          ],
          "arrayminus": [
           0.07863462109368205,
           0.10289660214705448,
           0.11660528029031939,
           0.10137449730479482,
           0.07918464463592144,
           0.08682132633948894,
           0.08384910521452356,
           0.0625485778913588,
           0.0619195545584235,
           0.06519864867474613,
           0.08327939128142824,
           0.07116295103830868
          ],
          "symmetric": false,
          "type": "data"
         },
         "hovertemplate": "ROI: %{y}<br>R2: %{x:1.2f}",
         "legendgroup": "attend-bar",
         "marker": {
          "color": "rgba(0, 0, 0, 1)"
         },
         "name": "<i>attend-bar<i>",
         "orientation": "h",
         "showlegend": true,
         "type": "bar",
         "x": [
          0.42606761169433593,
          0.4775913290977478,
          0.4735196008682251,
          0.5083701305389404,
          0.42926232528686525,
          0.41585137939453126,
          0.44082416105270383,
          0.2316611142158508,
          0.2560682456493377,
          0.24605742812156675,
          0.3523577344417572,
          0.3354206917285919
         ],
         "xaxis": "x",
         "y": [
          "V1",
          "V2",
          "V3",
          "V3AB",
          "hMT+",
          "LO",
          "VO",
          "iIPS",
          "sIPS",
          "iPCS",
          "sPCS",
          "mPCS"
         ],
         "yaxis": "y"
        },
        {
         "error_x": {
          "array": [
           0.08932739565223645,
           0.10979263532056645,
           0.10290507003964022,
           0.09730341346659704,
           0.08685127492818198,
           0.06924289950088963,
           0.1017646851607865,
           0.08719931812579153,
           0.09771739416634201,
           0.07870280297840106,
           0.0935319780555441,
           0.08138621481529314
          ],
          "arrayminus": [
           0.08932739565223645,
           0.10979263532056645,
           0.10290507003964022,
           0.09730341346659704,
           0.08685127492818198,
           0.06924289950088963,
           0.1017646851607865,
           0.08719931812579153,
           0.09771739416634201,
           0.07870280297840106,
           0.0935319780555441,
           0.08138621481529314
          ],
          "symmetric": false,
          "type": "data"
         },
         "hovertemplate": "ROI: %{y}<br>R2: %{x:1.2f}",
         "legendgroup": "attend-fix",
         "marker": {
          "color": "rgba(157, 157, 157, 1)"
         },
         "name": "<i>attend-fix<i>",
         "orientation": "h",
         "showlegend": true,
         "type": "bar",
         "x": [
          0.46236978912353516,
          0.445955019235611,
          0.36528939962387086,
          0.38560611534118655,
          0.35842555880546567,
          0.3545361452102661,
          0.422024001121521,
          0.2651338543891906,
          0.2824550397396087,
          0.2463200614452362,
          0.3413454439640045,
          0.3442444298267365
         ],
         "xaxis": "x",
         "y": [
          "V1",
          "V2",
          "V3",
          "V3AB",
          "hMT+",
          "LO",
          "VO",
          "iIPS",
          "sIPS",
          "iPCS",
          "sPCS",
          "mPCS"
         ],
         "yaxis": "y"
        }
       ],
       "layout": {
        "annotations": [
         {
          "font": {
           "size": 16
          },
          "showarrow": false,
          "text": "<b>Attention effect</b> (sub-001)",
          "x": 0.5,
          "xanchor": "center",
          "xref": "paper",
          "y": 1,
          "yanchor": "bottom",
          "yref": "paper"
         }
        ],
        "bargap": 0.3,
        "height": 800,
        "legend": {
         "bgcolor": "rgba(255,255,255,0)",
         "tracegroupgap": 1,
         "x": 0.9,
         "xanchor": "left",
         "y": 0.995,
         "yanchor": "top"
        },
        "margin": {
         "b": 70,
         "l": 50,
         "r": 20,
         "t": 50
        },
        "template": {
         "data": {
          "barpolar": [
           {
            "marker": {
             "line": {
              "color": "rgba(0, 0, 0, 1)",
              "width": 1.5
             }
            },
            "showlegend": false,
            "thetaunit": "radians",
            "type": "barpolar"
           }
          ],
          "pie": [
           {
            "direction": "clockwise",
            "hole": 0.4,
            "marker": {
             "line": {
              "color": [
               "rgba(0, 0, 0, 1)",
               "rgba(255,255,255,0)"
              ],
              "width": [
               1.5,
               0
              ]
             }
            },
            "rotation": 0,
            "showlegend": false,
            "sort": false,
            "textposition": [
             "inside",
             "none"
            ],
            "type": "pie"
           }
          ],
          "violin": [
           {
            "box": {
             "visible": false
            },
            "hoveron": "violins",
            "line": {
             "color": "rgba(0, 0, 0, 1)",
             "width": 1.5
            },
            "marker": {
             "opacity": 0.5,
             "symbol": "x"
            },
            "meanline": {
             "color": "rgba(0, 0, 0, 1)",
             "visible": true,
             "width": 1.5
            },
            "opacity": 1,
            "points": false,
            "showlegend": false,
            "type": "violin",
            "width": 0.8
           }
          ]
         },
         "layout": {
          "annotationdefaults": {
           "font": {
            "color": "rgba(0, 0, 0, 1)",
            "family": "Arial",
            "size": 15
           }
          },
          "font": {
           "family": "Arial",
           "size": 13
          },
          "plot_bgcolor": "rgba(255, 255, 255, 1)",
          "polar": {
           "angularaxis": {
            "showticklabels": false,
            "ticks": "",
            "visible": false
           },
           "radialaxis": {
            "showticklabels": false,
            "ticks": "",
            "visible": false
           }
          },
          "xaxis": {
           "color": "rgba(0, 0, 0, 1)",
           "hoverformat": ".1f",
           "linewidth": 2,
           "range": [
            0,
            1
           ],
           "showgrid": false,
           "tickfont": {
            "family": "Arial",
            "size": 13
           },
           "ticklen": 8,
           "ticks": "outside",
           "tickwidth": 2,
           "title": {
            "font": {
             "family": "Arial",
             "size": 15
            }
           },
           "visible": true,
           "zeroline": false,
           "zerolinecolor": "rgba(0, 0, 0, 1)",
           "zerolinewidth": 2
          },
          "yaxis": {
           "color": "rgba(0, 0, 0, 1)",
           "hoverformat": ".1f",
           "linewidth": 2,
           "showgrid": false,
           "tickfont": {
            "family": "Arial",
            "size": 13
           },
           "ticklen": 8,
           "ticks": "outside",
           "tickwidth": 2,
           "title": {
            "font": {
             "family": "Arial",
             "size": 15
            }
           },
           "visible": true,
           "zeroline": false,
           "zerolinecolor": "rgba(0, 0, 0, 1)",
           "zerolinewidth": 2
          }
         }
        },
        "width": 400,
        "xaxis": {
         "anchor": "y",
         "domain": [
          0,
          1
         ],
         "dtick": 0.2,
         "linewidth": 2,
         "range": [
          0,
          0.8
         ],
         "ticklen": 8,
         "title": {
          "text": "R2"
         },
         "type": "linear",
         "visible": true
        },
        "yaxis": {
         "anchor": "x",
         "autorange": true,
         "domain": [
          0,
          1
         ],
         "linewidth": 2,
         "range": [
          11.5,
          -0.5
         ],
         "ticklen": 8,
         "title": {
          "text": ""
         },
         "type": "category",
         "visible": true
        }
       }
      },
      "image/png": "[encoded data removed]",
      "text/html": [
       "<div>                            <div id=\"752566bb-c219-41b1-8312-2f4d6223e105\" class=\"plotly-graph-div\" style=\"height:800px; width:400px;\"></div>            <script type=\"text/javascript\">                require([\"plotly\"], function(Plotly) {                    window.PLOTLYENV=window.PLOTLYENV || {};                                    if (document.getElementById(\"752566bb-c219-41b1-8312-2f4d6223e105\")) {                    Plotly.newPlot(                        \"752566bb-c219-41b1-8312-2f4d6223e105\",                        [{\"error_x\":{\"array\":[0.07863462109368205,0.10289660214705448,0.11660528029031939,0.10137449730479482,0.07918464463592144,0.08682132633948894,0.08384910521452356,0.0625485778913588,0.0619195545584235,0.06519864867474613,0.08327939128142824,0.07116295103830868],\"arrayminus\":[0.07863462109368205,0.10289660214705448,0.11660528029031939,0.10137449730479482,0.07918464463592144,0.08682132633948894,0.08384910521452356,0.0625485778913588,0.0619195545584235,0.06519864867474613,0.08327939128142824,0.07116295103830868],\"symmetric\":false,\"type\":\"data\"},\"hovertemplate\":\"ROI: %{y}<br>R2: %{x:1.2f}\",\"legendgroup\":\"attend-bar\",\"marker\":{\"color\":\"rgba(0, 0, 0, 1)\"},\"name\":\"<i>attend-bar<i>\",\"orientation\":\"h\",\"showlegend\":true,\"x\":[0.42606761169433593,0.4775913290977478,0.4735196008682251,0.5083701305389404,0.42926232528686525,0.41585137939453126,0.44082416105270383,0.2316611142158508,0.2560682456493377,0.24605742812156675,0.3523577344417572,0.3354206917285919],\"y\":[\"V1\",\"V2\",\"V3\",\"V3AB\",\"hMT+\",\"LO\",\"VO\",\"iIPS\",\"sIPS\",\"iPCS\",\"sPCS\",\"mPCS\"],\"type\":\"bar\",\"xaxis\":\"x\",\"yaxis\":\"y\"},{\"error_x\":{\"array\":[0.08932739565223645,0.10979263532056645,0.10290507003964022,0.09730341346659704,0.08685127492818198,0.06924289950088963,0.1017646851607865,0.08719931812579153,0.09771739416634201,0.07870280297840106,0.0935319780555441,0.08138621481529314],\"arrayminus\":[0.08932739565223645,0.10979263532056645,0.10290507003964022,0.09730341346659704,0.08685127492818198,0.06924289950088963,0.1017646851607865,0.08719931812579153,0.09771739416634201,0.07870280297840106,0.0935319780555441,0.08138621481529314],\"symmetric\":false,\"type\":\"data\"},\"hovertemplate\":\"ROI: %{y}<br>R2: %{x:1.2f}\",\"legendgroup\":\"attend-fix\",\"marker\":{\"color\":\"rgba(157, 157, 157, 1)\"},\"name\":\"<i>attend-fix<i>\",\"orientation\":\"h\",\"showlegend\":true,\"x\":[0.46236978912353516,0.445955019235611,0.36528939962387086,0.38560611534118655,0.35842555880546567,0.3545361452102661,0.422024001121521,0.2651338543891906,0.2824550397396087,0.2463200614452362,0.3413454439640045,0.3442444298267365],\"y\":[\"V1\",\"V2\",\"V3\",\"V3AB\",\"hMT+\",\"LO\",\"VO\",\"iIPS\",\"sIPS\",\"iPCS\",\"sPCS\",\"mPCS\"],\"type\":\"bar\",\"xaxis\":\"x\",\"yaxis\":\"y\"}],                        {\"template\":{\"data\":{\"barpolar\":[{\"marker\":{\"line\":{\"color\":\"rgba(0,0,0,1)\",\"width\":1.5}},\"showlegend\":false,\"thetaunit\":\"radians\",\"type\":\"barpolar\"}],\"pie\":[{\"direction\":\"clockwise\",\"hole\":0.4,\"marker\":{\"line\":{\"color\":[\"rgba(0,0,0,1)\",\"rgba(255,255,255,0)\"],\"width\":[1.5,0]}},\"rotation\":0,\"showlegend\":false,\"sort\":false,\"textposition\":[\"inside\",\"none\"],\"type\":\"pie\"}],\"violin\":[{\"box\":{\"visible\":false},\"hoveron\":\"violins\",\"line\":{\"color\":\"rgba(0, 0, 0, 1)\",\"width\":1.5},\"marker\":{\"opacity\":0.5,\"symbol\":\"x\"},\"meanline\":{\"color\":\"rgba(0, 0, 0, 1)\",\"visible\":true,\"width\":1.5},\"opacity\":1,\"points\":false,\"showlegend\":false,\"width\":0.8,\"type\":\"violin\"}]},\"layout\":{\"annotationdefaults\":{\"font\":{\"color\":\"rgba(0, 0, 0, 1)\",\"family\":\"Arial\",\"size\":15}},\"font\":{\"family\":\"Arial\",\"size\":13},\"plot_bgcolor\":\"rgba(255, 255, 255, 1)\",\"polar\":{\"angularaxis\":{\"showticklabels\":false,\"ticks\":\"\",\"visible\":false},\"radialaxis\":{\"showticklabels\":false,\"ticks\":\"\",\"visible\":false}},\"xaxis\":{\"color\":\"rgba(0, 0, 0, 1)\",\"hoverformat\":\".1f\",\"linewidth\":2,\"range\":[0,1],\"showgrid\":false,\"tickfont\":{\"family\":\"Arial\",\"size\":13},\"ticklen\":8,\"ticks\":\"outside\",\"tickwidth\":2,\"title\":{\"font\":{\"family\":\"Arial\",\"size\":15}},\"visible\":true,\"zeroline\":false,\"zerolinecolor\":\"rgba(0, 0, 0, 1)\",\"zerolinewidth\":2},\"yaxis\":{\"color\":\"rgba(0, 0, 0, 1)\",\"hoverformat\":\".1f\",\"linewidth\":2,\"showgrid\":false,\"tickfont\":{\"family\":\"Arial\",\"size\":13},\"ticklen\":8,\"ticks\":\"outside\",\"tickwidth\":2,\"title\":{\"font\":{\"family\":\"Arial\",\"size\":15}},\"visible\":true,\"zeroline\":false,\"zerolinecolor\":\"rgba(0, 0, 0, 1)\",\"zerolinewidth\":2}}},\"xaxis\":{\"anchor\":\"y\",\"domain\":[0.0,1.0],\"visible\":true,\"ticklen\":8,\"linewidth\":2,\"range\":[0,0.8],\"title\":{\"text\":\"R2\"},\"dtick\":0.2},\"yaxis\":{\"anchor\":\"x\",\"domain\":[0.0,1.0],\"visible\":true,\"ticklen\":8,\"linewidth\":2,\"autorange\":\"reversed\",\"title\":{\"text\":\"\"}},\"annotations\":[{\"font\":{\"size\":16},\"showarrow\":false,\"text\":\"<b>Attention effect</b> (sub-001)\",\"x\":0.5,\"xanchor\":\"center\",\"xref\":\"paper\",\"y\":1.0,\"yanchor\":\"bottom\",\"yref\":\"paper\"}],\"margin\":{\"l\":50,\"r\":20,\"t\":50,\"b\":70},\"legend\":{\"yanchor\":\"top\",\"y\":0.995,\"xanchor\":\"left\",\"x\":0.9,\"bgcolor\":\"rgba(255,255,255,0)\",\"tracegroupgap\":1},\"bargap\":0.3,\"width\":400,\"height\":800},                        {\"displayModeBar\": false, \"responsive\": true}                    ).then(function(){\n",
       "                            \n",
       "var gd = document.getElementById('752566bb-c219-41b1-8312-2f4d6223e105');\n",
       "var x = new MutationObserver(function (mutations, observer) {{\n",
       "        var display = window.getComputedStyle(gd).display;\n",
       "        if (!display || display === 'none') {{\n",
       "            console.log([gd, 'removed!']);\n",
       "            Plotly.purge(gd);\n",
       "            observer.disconnect();\n",
       "        }}\n",
       "}});\n",
       "\n",
       "// Listen for the removal of the full notebook cells\n",
       "var notebookContainer = gd.closest('#notebook-container');\n",
       "if (notebookContainer) {{\n",
       "    x.observe(notebookContainer, {childList: true});\n",
       "}}\n",
       "\n",
       "// Listen for the clearing of the current output cell\n",
       "var outputEl = gd.closest('.output');\n",
       "if (outputEl) {{\n",
       "    x.observe(outputEl, {childList: true});\n",
       "}}\n",
       "\n",
       "                        })                };                });            </script>        </div>"
      ]
     },
     "metadata": {},
     "output_type": "display_data"
    },
    {
     "data": {
      "application/vnd.plotly.v1+json": {
       "config": {
        "displayModeBar": false,
        "plotlyServerURL": "https://plot.ly"
       },
       "data": [
        {
         "error_x": {
          "array": [
           0.08512863628025184,
           0.07804310161166497,
           0.08686976083810259,
           0.0808317702371491,
           0.05578555565896835,
           0.062041560680659566,
           0.0740682043883844,
           0.05924272052708819,
           0.05840912174166197,
           0.04216167926293687,
           0.0476322015646305,
           0.05474654152895679
          ],
          "arrayminus": [
           0.08512863628025184,
           0.07804310161166497,
           0.08686976083810259,
           0.0808317702371491,
           0.05578555565896835,
           0.062041560680659566,
           0.0740682043883844,
           0.05924272052708819,
           0.05840912174166197,
           0.04216167926293687,
           0.0476322015646305,
           0.05474654152895679
          ],
          "symmetric": false,
          "type": "data"
         },
         "hovertemplate": "ROI: %{y}<br>R2: %{x:1.2f}",
         "legendgroup": "attend-bar",
         "marker": {
          "color": "rgba(0, 0, 0, 1)"
         },
         "name": "<i>attend-bar<i>",
         "orientation": "h",
         "showlegend": true,
         "type": "bar",
         "x": [
          0.2655884466171264,
          0.3605833823680878,
          0.26260723328590385,
          0.2779349031448364,
          0.3055575234889984,
          0.31941955018043516,
          0.30001083397865297,
          0.21958789396286008,
          0.17680108165740965,
          0.11525919604301449,
          0.25123949766159054,
          0.23937587642669675
         ],
         "xaxis": "x",
         "y": [
          "V1",
          "V2",
          "V3",
          "V3AB",
          "hMT+",
          "LO",
          "VO",
          "iIPS",
          "sIPS",
          "iPCS",
          "sPCS",
          "mPCS"
         ],
         "yaxis": "y"
        },
        {
         "error_x": {
          "array": [
           0.08333846949932933,
           0.06972552903499181,
           0.05979279277494794,
           0.05561681256339507,
           0.05456073078966835,
           0.0751455255134301,
           0.07245690038970679,
           0.04103830265933858,
           0.04728003969561141,
           0.03632988927469145,
           0.04017606014367172,
           0.04886805123221577
          ],
          "arrayminus": [
           0.08333846949932933,
           0.06972552903499181,
           0.05979279277494794,
           0.05561681256339507,
           0.05456073078966835,
           0.0751455255134301,
           0.07245690038970679,
           0.04103830265933858,
           0.04728003969561141,
           0.03632988927469145,
           0.04017606014367172,
           0.04886805123221577
          ],
          "symmetric": false,
          "type": "data"
         },
         "hovertemplate": "ROI: %{y}<br>R2: %{x:1.2f}",
         "legendgroup": "attend-fix",
         "marker": {
          "color": "rgba(157, 157, 157, 1)"
         },
         "name": "<i>attend-fix<i>",
         "orientation": "h",
         "showlegend": true,
         "type": "bar",
         "x": [
          0.27151233458518975,
          0.2879546744823455,
          0.15589776349067686,
          0.13147635388374326,
          0.1732761363983154,
          0.24124638152122493,
          0.2255261833667755,
          0.12980367350578306,
          0.1378587481975555,
          0.09952609610557552,
          0.16836095738410947,
          0.12361004328727718
         ],
         "xaxis": "x",
         "y": [
          "V1",
          "V2",
          "V3",
          "V3AB",
          "hMT+",
          "LO",
          "VO",
          "iIPS",
          "sIPS",
          "iPCS",
          "sPCS",
          "mPCS"
         ],
         "yaxis": "y"
        }
       ],
       "layout": {
        "annotations": [
         {
          "font": {
           "size": 16
          },
          "showarrow": false,
          "text": "<b>Attention effect</b> (sub-002)",
          "x": 0.5,
          "xanchor": "center",
          "xref": "paper",
          "y": 1,
          "yanchor": "bottom",
          "yref": "paper"
         }
        ],
        "bargap": 0.3,
        "height": 800,
        "legend": {
         "bgcolor": "rgba(255,255,255,0)",
         "tracegroupgap": 1,
         "x": 0.9,
         "xanchor": "left",
         "y": 0.995,
         "yanchor": "top"
        },
        "margin": {
         "b": 70,
         "l": 50,
         "r": 20,
         "t": 50
        },
        "template": {
         "data": {
          "barpolar": [
           {
            "marker": {
             "line": {
              "color": "rgba(0, 0, 0, 1)",
              "width": 1.5
             }
            },
            "showlegend": false,
            "thetaunit": "radians",
            "type": "barpolar"
           }
          ],
          "pie": [
           {
            "direction": "clockwise",
            "hole": 0.4,
            "marker": {
             "line": {
              "color": [
               "rgba(0, 0, 0, 1)",
               "rgba(255,255,255,0)"
              ],
              "width": [
               1.5,
               0
              ]
             }
            },
            "rotation": 0,
            "showlegend": false,
            "sort": false,
            "textposition": [
             "inside",
             "none"
            ],
            "type": "pie"
           }
          ],
          "violin": [
           {
            "box": {
             "visible": false
            },
            "hoveron": "violins",
            "line": {
             "color": "rgba(0, 0, 0, 1)",
             "width": 1.5
            },
            "marker": {
             "opacity": 0.5,
             "symbol": "x"
            },
            "meanline": {
             "color": "rgba(0, 0, 0, 1)",
             "visible": true,
             "width": 1.5
            },
            "opacity": 1,
            "points": false,
            "showlegend": false,
            "type": "violin",
            "width": 0.8
           }
          ]
         },
         "layout": {
          "annotationdefaults": {
           "font": {
            "color": "rgba(0, 0, 0, 1)",
            "family": "Arial",
            "size": 15
           }
          },
          "font": {
           "family": "Arial",
           "size": 13
          },
          "plot_bgcolor": "rgba(255, 255, 255, 1)",
          "polar": {
           "angularaxis": {
            "showticklabels": false,
            "ticks": "",
            "visible": false
           },
           "radialaxis": {
            "showticklabels": false,
            "ticks": "",
            "visible": false
           }
          },
          "xaxis": {
           "color": "rgba(0, 0, 0, 1)",
           "hoverformat": ".1f",
           "linewidth": 2,
           "range": [
            0,
            1
           ],
           "showgrid": false,
           "tickfont": {
            "family": "Arial",
            "size": 13
           },
           "ticklen": 8,
           "ticks": "outside",
           "tickwidth": 2,
           "title": {
            "font": {
             "family": "Arial",
             "size": 15
            }
           },
           "visible": true,
           "zeroline": false,
           "zerolinecolor": "rgba(0, 0, 0, 1)",
           "zerolinewidth": 2
          },
          "yaxis": {
           "color": "rgba(0, 0, 0, 1)",
           "hoverformat": ".1f",
           "linewidth": 2,
           "showgrid": false,
           "tickfont": {
            "family": "Arial",
            "size": 13
           },
           "ticklen": 8,
           "ticks": "outside",
           "tickwidth": 2,
           "title": {
            "font": {
             "family": "Arial",
             "size": 15
            }
           },
           "visible": true,
           "zeroline": false,
           "zerolinecolor": "rgba(0, 0, 0, 1)",
           "zerolinewidth": 2
          }
         }
        },
        "width": 400,
        "xaxis": {
         "anchor": "y",
         "domain": [
          0,
          1
         ],
         "dtick": 0.2,
         "linewidth": 2,
         "range": [
          0,
          0.8
         ],
         "ticklen": 8,
         "title": {
          "text": "R2"
         },
         "type": "linear",
         "visible": true
        },
        "yaxis": {
         "anchor": "x",
         "autorange": true,
         "domain": [
          0,
          1
         ],
         "linewidth": 2,
         "range": [
          11.5,
          -0.5
         ],
         "ticklen": 8,
         "title": {
          "text": ""
         },
         "type": "category",
         "visible": true
        }
       }
      },
      "image/png": "[encoded data removed]",
      "text/html": [
       "<div>                            <div id=\"5572f1d7-fa54-41ae-9105-9636c26f489b\" class=\"plotly-graph-div\" style=\"height:800px; width:400px;\"></div>            <script type=\"text/javascript\">                require([\"plotly\"], function(Plotly) {                    window.PLOTLYENV=window.PLOTLYENV || {};                                    if (document.getElementById(\"5572f1d7-fa54-41ae-9105-9636c26f489b\")) {                    Plotly.newPlot(                        \"5572f1d7-fa54-41ae-9105-9636c26f489b\",                        [{\"error_x\":{\"array\":[0.08512863628025184,0.07804310161166497,0.08686976083810259,0.0808317702371491,0.05578555565896835,0.062041560680659566,0.0740682043883844,0.05924272052708819,0.05840912174166197,0.04216167926293687,0.0476322015646305,0.05474654152895679],\"arrayminus\":[0.08512863628025184,0.07804310161166497,0.08686976083810259,0.0808317702371491,0.05578555565896835,0.062041560680659566,0.0740682043883844,0.05924272052708819,0.05840912174166197,0.04216167926293687,0.0476322015646305,0.05474654152895679],\"symmetric\":false,\"type\":\"data\"},\"hovertemplate\":\"ROI: %{y}<br>R2: %{x:1.2f}\",\"legendgroup\":\"attend-bar\",\"marker\":{\"color\":\"rgba(0, 0, 0, 1)\"},\"name\":\"<i>attend-bar<i>\",\"orientation\":\"h\",\"showlegend\":true,\"x\":[0.2655884466171264,0.3605833823680878,0.26260723328590385,0.2779349031448364,0.3055575234889984,0.31941955018043516,0.30001083397865297,0.21958789396286008,0.17680108165740965,0.11525919604301449,0.25123949766159054,0.23937587642669675],\"y\":[\"V1\",\"V2\",\"V3\",\"V3AB\",\"hMT+\",\"LO\",\"VO\",\"iIPS\",\"sIPS\",\"iPCS\",\"sPCS\",\"mPCS\"],\"type\":\"bar\",\"xaxis\":\"x\",\"yaxis\":\"y\"},{\"error_x\":{\"array\":[0.08333846949932933,0.06972552903499181,0.05979279277494794,0.05561681256339507,0.05456073078966835,0.0751455255134301,0.07245690038970679,0.04103830265933858,0.04728003969561141,0.03632988927469145,0.04017606014367172,0.04886805123221577],\"arrayminus\":[0.08333846949932933,0.06972552903499181,0.05979279277494794,0.05561681256339507,0.05456073078966835,0.0751455255134301,0.07245690038970679,0.04103830265933858,0.04728003969561141,0.03632988927469145,0.04017606014367172,0.04886805123221577],\"symmetric\":false,\"type\":\"data\"},\"hovertemplate\":\"ROI: %{y}<br>R2: %{x:1.2f}\",\"legendgroup\":\"attend-fix\",\"marker\":{\"color\":\"rgba(157, 157, 157, 1)\"},\"name\":\"<i>attend-fix<i>\",\"orientation\":\"h\",\"showlegend\":true,\"x\":[0.27151233458518975,0.2879546744823455,0.15589776349067686,0.13147635388374326,0.1732761363983154,0.24124638152122493,0.2255261833667755,0.12980367350578306,0.1378587481975555,0.09952609610557552,0.16836095738410947,0.12361004328727718],\"y\":[\"V1\",\"V2\",\"V3\",\"V3AB\",\"hMT+\",\"LO\",\"VO\",\"iIPS\",\"sIPS\",\"iPCS\",\"sPCS\",\"mPCS\"],\"type\":\"bar\",\"xaxis\":\"x\",\"yaxis\":\"y\"}],                        {\"template\":{\"data\":{\"barpolar\":[{\"marker\":{\"line\":{\"color\":\"rgba(0,0,0,1)\",\"width\":1.5}},\"showlegend\":false,\"thetaunit\":\"radians\",\"type\":\"barpolar\"}],\"pie\":[{\"direction\":\"clockwise\",\"hole\":0.4,\"marker\":{\"line\":{\"color\":[\"rgba(0,0,0,1)\",\"rgba(255,255,255,0)\"],\"width\":[1.5,0]}},\"rotation\":0,\"showlegend\":false,\"sort\":false,\"textposition\":[\"inside\",\"none\"],\"type\":\"pie\"}],\"violin\":[{\"box\":{\"visible\":false},\"hoveron\":\"violins\",\"line\":{\"color\":\"rgba(0, 0, 0, 1)\",\"width\":1.5},\"marker\":{\"opacity\":0.5,\"symbol\":\"x\"},\"meanline\":{\"color\":\"rgba(0, 0, 0, 1)\",\"visible\":true,\"width\":1.5},\"opacity\":1,\"points\":false,\"showlegend\":false,\"width\":0.8,\"type\":\"violin\"}]},\"layout\":{\"annotationdefaults\":{\"font\":{\"color\":\"rgba(0, 0, 0, 1)\",\"family\":\"Arial\",\"size\":15}},\"font\":{\"family\":\"Arial\",\"size\":13},\"plot_bgcolor\":\"rgba(255, 255, 255, 1)\",\"polar\":{\"angularaxis\":{\"showticklabels\":false,\"ticks\":\"\",\"visible\":false},\"radialaxis\":{\"showticklabels\":false,\"ticks\":\"\",\"visible\":false}},\"xaxis\":{\"color\":\"rgba(0, 0, 0, 1)\",\"hoverformat\":\".1f\",\"linewidth\":2,\"range\":[0,1],\"showgrid\":false,\"tickfont\":{\"family\":\"Arial\",\"size\":13},\"ticklen\":8,\"ticks\":\"outside\",\"tickwidth\":2,\"title\":{\"font\":{\"family\":\"Arial\",\"size\":15}},\"visible\":true,\"zeroline\":false,\"zerolinecolor\":\"rgba(0, 0, 0, 1)\",\"zerolinewidth\":2},\"yaxis\":{\"color\":\"rgba(0, 0, 0, 1)\",\"hoverformat\":\".1f\",\"linewidth\":2,\"showgrid\":false,\"tickfont\":{\"family\":\"Arial\",\"size\":13},\"ticklen\":8,\"ticks\":\"outside\",\"tickwidth\":2,\"title\":{\"font\":{\"family\":\"Arial\",\"size\":15}},\"visible\":true,\"zeroline\":false,\"zerolinecolor\":\"rgba(0, 0, 0, 1)\",\"zerolinewidth\":2}}},\"xaxis\":{\"anchor\":\"y\",\"domain\":[0.0,1.0],\"visible\":true,\"ticklen\":8,\"linewidth\":2,\"range\":[0,0.8],\"title\":{\"text\":\"R2\"},\"dtick\":0.2},\"yaxis\":{\"anchor\":\"x\",\"domain\":[0.0,1.0],\"visible\":true,\"ticklen\":8,\"linewidth\":2,\"autorange\":\"reversed\",\"title\":{\"text\":\"\"}},\"annotations\":[{\"font\":{\"size\":16},\"showarrow\":false,\"text\":\"<b>Attention effect</b> (sub-002)\",\"x\":0.5,\"xanchor\":\"center\",\"xref\":\"paper\",\"y\":1.0,\"yanchor\":\"bottom\",\"yref\":\"paper\"}],\"margin\":{\"l\":50,\"r\":20,\"t\":50,\"b\":70},\"legend\":{\"yanchor\":\"top\",\"y\":0.995,\"xanchor\":\"left\",\"x\":0.9,\"bgcolor\":\"rgba(255,255,255,0)\",\"tracegroupgap\":1},\"bargap\":0.3,\"width\":400,\"height\":800},                        {\"displayModeBar\": false, \"responsive\": true}                    ).then(function(){\n",
       "                            \n",
       "var gd = document.getElementById('5572f1d7-fa54-41ae-9105-9636c26f489b');\n",
       "var x = new MutationObserver(function (mutations, observer) {{\n",
       "        var display = window.getComputedStyle(gd).display;\n",
       "        if (!display || display === 'none') {{\n",
       "            console.log([gd, 'removed!']);\n",
       "            Plotly.purge(gd);\n",
       "            observer.disconnect();\n",
       "        }}\n",
       "}});\n",
       "\n",
       "// Listen for the removal of the full notebook cells\n",
       "var notebookContainer = gd.closest('#notebook-container');\n",
       "if (notebookContainer) {{\n",
       "    x.observe(notebookContainer, {childList: true});\n",
       "}}\n",
       "\n",
       "// Listen for the clearing of the current output cell\n",
       "var outputEl = gd.closest('.output');\n",
       "if (outputEl) {{\n",
       "    x.observe(outputEl, {childList: true});\n",
       "}}\n",
       "\n",
       "                        })                };                });            </script>        </div>"
      ]
     },
     "metadata": {},
     "output_type": "display_data"
    },
    {
     "data": {
      "application/vnd.plotly.v1+json": {
       "config": {
        "displayModeBar": false,
        "plotlyServerURL": "https://plot.ly"
       },
       "data": [
        {
         "error_x": {
          "array": [
           0.09206783220348251,
           0.09636268172626691,
           0.0868305634645895,
           0.07876684722672096,
           0.07750737341904944,
           0.07580334758153713,
           0.07648502068788003,
           0.08343067223359585,
           0.113408386709678,
           0.07988460414867084,
           0.06040069514879231,
           0.06819721214884183
          ],
          "arrayminus": [
           0.09206783220348251,
           0.09636268172626691,
           0.0868305634645895,
           0.07876684722672096,
           0.07750737341904944,
           0.07580334758153713,
           0.07648502068788003,
           0.08343067223359585,
           0.113408386709678,
           0.07988460414867084,
           0.06040069514879231,
           0.06819721214884183
          ],
          "symmetric": false,
          "type": "data"
         },
         "hovertemplate": "ROI: %{y}<br>R2: %{x:1.2f}",
         "legendgroup": "attend-bar",
         "marker": {
          "color": "rgba(0, 0, 0, 1)"
         },
         "name": "<i>attend-bar<i>",
         "orientation": "h",
         "showlegend": true,
         "type": "bar",
         "x": [
          0.4862296342849731,
          0.5565551586151123,
          0.5473548359870911,
          0.5574464771747589,
          0.5138634529113769,
          0.5447612800598145,
          0.5074781150817871,
          0.3404042296409607,
          0.3125123698711395,
          0.21097906851768491,
          0.48512909626960754,
          0.4329047102928162
         ],
         "xaxis": "x",
         "y": [
          "V1",
          "V2",
          "V3",
          "V3AB",
          "hMT+",
          "LO",
          "VO",
          "iIPS",
          "sIPS",
          "iPCS",
          "sPCS",
          "mPCS"
         ],
         "yaxis": "y"
        },
        {
         "error_x": {
          "array": [
           0.0664758373896483,
           0.09059889419674594,
           0.06699679871370406,
           0.08451297106539213,
           0.07758455730944497,
           0.07222556309614717,
           0.07136879222332171,
           0.07749158733371245,
           0.11024046397706451,
           0.0794052480820376,
           0.054827079298489595,
           0.06600088427246739
          ],
          "arrayminus": [
           0.0664758373896483,
           0.09059889419674594,
           0.06699679871370406,
           0.08451297106539213,
           0.07758455730944497,
           0.07222556309614717,
           0.07136879222332171,
           0.07749158733371245,
           0.11024046397706451,
           0.0794052480820376,
           0.054827079298489595,
           0.06600088427246739
          ],
          "symmetric": false,
          "type": "data"
         },
         "hovertemplate": "ROI: %{y}<br>R2: %{x:1.2f}",
         "legendgroup": "attend-fix",
         "marker": {
          "color": "rgba(157, 157, 157, 1)"
         },
         "name": "<i>attend-fix<i>",
         "orientation": "h",
         "showlegend": true,
         "type": "bar",
         "x": [
          0.41067532801628115,
          0.4584183895587921,
          0.37477204656600954,
          0.4077310688495636,
          0.3164543483257294,
          0.40333478116989135,
          0.3584374959468842,
          0.23154568982124327,
          0.27589905905723566,
          0.17200457572937008,
          0.35527835321426393,
          0.33631509327888487
         ],
         "xaxis": "x",
         "y": [
          "V1",
          "V2",
          "V3",
          "V3AB",
          "hMT+",
          "LO",
          "VO",
          "iIPS",
          "sIPS",
          "iPCS",
          "sPCS",
          "mPCS"
         ],
         "yaxis": "y"
        }
       ],
       "layout": {
        "annotations": [
         {
          "font": {
           "size": 16
          },
          "showarrow": false,
          "text": "<b>Attention effect</b> (sub-003)",
          "x": 0.5,
          "xanchor": "center",
          "xref": "paper",
          "y": 1,
          "yanchor": "bottom",
          "yref": "paper"
         }
        ],
        "bargap": 0.3,
        "height": 800,
        "legend": {
         "bgcolor": "rgba(255,255,255,0)",
         "tracegroupgap": 1,
         "x": 0.9,
         "xanchor": "left",
         "y": 0.995,
         "yanchor": "top"
        },
        "margin": {
         "b": 70,
         "l": 50,
         "r": 20,
         "t": 50
        },
        "template": {
         "data": {
          "barpolar": [
           {
            "marker": {
             "line": {
              "color": "rgba(0, 0, 0, 1)",
              "width": 1.5
             }
            },
            "showlegend": false,
            "thetaunit": "radians",
            "type": "barpolar"
           }
          ],
          "pie": [
           {
            "direction": "clockwise",
            "hole": 0.4,
            "marker": {
             "line": {
              "color": [
               "rgba(0, 0, 0, 1)",
               "rgba(255,255,255,0)"
              ],
              "width": [
               1.5,
               0
              ]
             }
            },
            "rotation": 0,
            "showlegend": false,
            "sort": false,
            "textposition": [
             "inside",
             "none"
            ],
            "type": "pie"
           }
          ],
          "violin": [
           {
            "box": {
             "visible": false
            },
            "hoveron": "violins",
            "line": {
             "color": "rgba(0, 0, 0, 1)",
             "width": 1.5
            },
            "marker": {
             "opacity": 0.5,
             "symbol": "x"
            },
            "meanline": {
             "color": "rgba(0, 0, 0, 1)",
             "visible": true,
             "width": 1.5
            },
            "opacity": 1,
            "points": false,
            "showlegend": false,
            "type": "violin",
            "width": 0.8
           }
          ]
         },
         "layout": {
          "annotationdefaults": {
           "font": {
            "color": "rgba(0, 0, 0, 1)",
            "family": "Arial",
            "size": 15
           }
          },
          "font": {
           "family": "Arial",
           "size": 13
          },
          "plot_bgcolor": "rgba(255, 255, 255, 1)",
          "polar": {
           "angularaxis": {
            "showticklabels": false,
            "ticks": "",
            "visible": false
           },
           "radialaxis": {
            "showticklabels": false,
            "ticks": "",
            "visible": false
           }
          },
          "xaxis": {
           "color": "rgba(0, 0, 0, 1)",
           "hoverformat": ".1f",
           "linewidth": 2,
           "range": [
            0,
            1
           ],
           "showgrid": false,
           "tickfont": {
            "family": "Arial",
            "size": 13
           },
           "ticklen": 8,
           "ticks": "outside",
           "tickwidth": 2,
           "title": {
            "font": {
             "family": "Arial",
             "size": 15
            }
           },
           "visible": true,
           "zeroline": false,
           "zerolinecolor": "rgba(0, 0, 0, 1)",
           "zerolinewidth": 2
          },
          "yaxis": {
           "color": "rgba(0, 0, 0, 1)",
           "hoverformat": ".1f",
           "linewidth": 2,
           "showgrid": false,
           "tickfont": {
            "family": "Arial",
            "size": 13
           },
           "ticklen": 8,
           "ticks": "outside",
           "tickwidth": 2,
           "title": {
            "font": {
             "family": "Arial",
             "size": 15
            }
           },
           "visible": true,
           "zeroline": false,
           "zerolinecolor": "rgba(0, 0, 0, 1)",
           "zerolinewidth": 2
          }
         }
        },
        "width": 400,
        "xaxis": {
         "anchor": "y",
         "domain": [
          0,
          1
         ],
         "dtick": 0.2,
         "linewidth": 2,
         "range": [
          0,
          0.8
         ],
         "ticklen": 8,
         "title": {
          "text": "R2"
         },
         "type": "linear",
         "visible": true
        },
        "yaxis": {
         "anchor": "x",
         "autorange": true,
         "domain": [
          0,
          1
         ],
         "linewidth": 2,
         "range": [
          11.5,
          -0.5
         ],
         "ticklen": 8,
         "title": {
          "text": ""
         },
         "type": "category",
         "visible": true
        }
       }
      },
      "image/png": "[encoded data removed]",
      "text/html": [
       "<div>                            <div id=\"e2f0dd2c-e5d0-4906-8278-9e3467ac3dbf\" class=\"plotly-graph-div\" style=\"height:800px; width:400px;\"></div>            <script type=\"text/javascript\">                require([\"plotly\"], function(Plotly) {                    window.PLOTLYENV=window.PLOTLYENV || {};                                    if (document.getElementById(\"e2f0dd2c-e5d0-4906-8278-9e3467ac3dbf\")) {                    Plotly.newPlot(                        \"e2f0dd2c-e5d0-4906-8278-9e3467ac3dbf\",                        [{\"error_x\":{\"array\":[0.09206783220348251,0.09636268172626691,0.0868305634645895,0.07876684722672096,0.07750737341904944,0.07580334758153713,0.07648502068788003,0.08343067223359585,0.113408386709678,0.07988460414867084,0.06040069514879231,0.06819721214884183],\"arrayminus\":[0.09206783220348251,0.09636268172626691,0.0868305634645895,0.07876684722672096,0.07750737341904944,0.07580334758153713,0.07648502068788003,0.08343067223359585,0.113408386709678,0.07988460414867084,0.06040069514879231,0.06819721214884183],\"symmetric\":false,\"type\":\"data\"},\"hovertemplate\":\"ROI: %{y}<br>R2: %{x:1.2f}\",\"legendgroup\":\"attend-bar\",\"marker\":{\"color\":\"rgba(0, 0, 0, 1)\"},\"name\":\"<i>attend-bar<i>\",\"orientation\":\"h\",\"showlegend\":true,\"x\":[0.4862296342849731,0.5565551586151123,0.5473548359870911,0.5574464771747589,0.5138634529113769,0.5447612800598145,0.5074781150817871,0.3404042296409607,0.3125123698711395,0.21097906851768491,0.48512909626960754,0.4329047102928162],\"y\":[\"V1\",\"V2\",\"V3\",\"V3AB\",\"hMT+\",\"LO\",\"VO\",\"iIPS\",\"sIPS\",\"iPCS\",\"sPCS\",\"mPCS\"],\"type\":\"bar\",\"xaxis\":\"x\",\"yaxis\":\"y\"},{\"error_x\":{\"array\":[0.0664758373896483,0.09059889419674594,0.06699679871370406,0.08451297106539213,0.07758455730944497,0.07222556309614717,0.07136879222332171,0.07749158733371245,0.11024046397706451,0.0794052480820376,0.054827079298489595,0.06600088427246739],\"arrayminus\":[0.0664758373896483,0.09059889419674594,0.06699679871370406,0.08451297106539213,0.07758455730944497,0.07222556309614717,0.07136879222332171,0.07749158733371245,0.11024046397706451,0.0794052480820376,0.054827079298489595,0.06600088427246739],\"symmetric\":false,\"type\":\"data\"},\"hovertemplate\":\"ROI: %{y}<br>R2: %{x:1.2f}\",\"legendgroup\":\"attend-fix\",\"marker\":{\"color\":\"rgba(157, 157, 157, 1)\"},\"name\":\"<i>attend-fix<i>\",\"orientation\":\"h\",\"showlegend\":true,\"x\":[0.41067532801628115,0.4584183895587921,0.37477204656600954,0.4077310688495636,0.3164543483257294,0.40333478116989135,0.3584374959468842,0.23154568982124327,0.27589905905723566,0.17200457572937008,0.35527835321426393,0.33631509327888487],\"y\":[\"V1\",\"V2\",\"V3\",\"V3AB\",\"hMT+\",\"LO\",\"VO\",\"iIPS\",\"sIPS\",\"iPCS\",\"sPCS\",\"mPCS\"],\"type\":\"bar\",\"xaxis\":\"x\",\"yaxis\":\"y\"}],                        {\"template\":{\"data\":{\"barpolar\":[{\"marker\":{\"line\":{\"color\":\"rgba(0,0,0,1)\",\"width\":1.5}},\"showlegend\":false,\"thetaunit\":\"radians\",\"type\":\"barpolar\"}],\"pie\":[{\"direction\":\"clockwise\",\"hole\":0.4,\"marker\":{\"line\":{\"color\":[\"rgba(0,0,0,1)\",\"rgba(255,255,255,0)\"],\"width\":[1.5,0]}},\"rotation\":0,\"showlegend\":false,\"sort\":false,\"textposition\":[\"inside\",\"none\"],\"type\":\"pie\"}],\"violin\":[{\"box\":{\"visible\":false},\"hoveron\":\"violins\",\"line\":{\"color\":\"rgba(0, 0, 0, 1)\",\"width\":1.5},\"marker\":{\"opacity\":0.5,\"symbol\":\"x\"},\"meanline\":{\"color\":\"rgba(0, 0, 0, 1)\",\"visible\":true,\"width\":1.5},\"opacity\":1,\"points\":false,\"showlegend\":false,\"width\":0.8,\"type\":\"violin\"}]},\"layout\":{\"annotationdefaults\":{\"font\":{\"color\":\"rgba(0, 0, 0, 1)\",\"family\":\"Arial\",\"size\":15}},\"font\":{\"family\":\"Arial\",\"size\":13},\"plot_bgcolor\":\"rgba(255, 255, 255, 1)\",\"polar\":{\"angularaxis\":{\"showticklabels\":false,\"ticks\":\"\",\"visible\":false},\"radialaxis\":{\"showticklabels\":false,\"ticks\":\"\",\"visible\":false}},\"xaxis\":{\"color\":\"rgba(0, 0, 0, 1)\",\"hoverformat\":\".1f\",\"linewidth\":2,\"range\":[0,1],\"showgrid\":false,\"tickfont\":{\"family\":\"Arial\",\"size\":13},\"ticklen\":8,\"ticks\":\"outside\",\"tickwidth\":2,\"title\":{\"font\":{\"family\":\"Arial\",\"size\":15}},\"visible\":true,\"zeroline\":false,\"zerolinecolor\":\"rgba(0, 0, 0, 1)\",\"zerolinewidth\":2},\"yaxis\":{\"color\":\"rgba(0, 0, 0, 1)\",\"hoverformat\":\".1f\",\"linewidth\":2,\"showgrid\":false,\"tickfont\":{\"family\":\"Arial\",\"size\":13},\"ticklen\":8,\"ticks\":\"outside\",\"tickwidth\":2,\"title\":{\"font\":{\"family\":\"Arial\",\"size\":15}},\"visible\":true,\"zeroline\":false,\"zerolinecolor\":\"rgba(0, 0, 0, 1)\",\"zerolinewidth\":2}}},\"xaxis\":{\"anchor\":\"y\",\"domain\":[0.0,1.0],\"visible\":true,\"ticklen\":8,\"linewidth\":2,\"range\":[0,0.8],\"title\":{\"text\":\"R2\"},\"dtick\":0.2},\"yaxis\":{\"anchor\":\"x\",\"domain\":[0.0,1.0],\"visible\":true,\"ticklen\":8,\"linewidth\":2,\"autorange\":\"reversed\",\"title\":{\"text\":\"\"}},\"annotations\":[{\"font\":{\"size\":16},\"showarrow\":false,\"text\":\"<b>Attention effect</b> (sub-003)\",\"x\":0.5,\"xanchor\":\"center\",\"xref\":\"paper\",\"y\":1.0,\"yanchor\":\"bottom\",\"yref\":\"paper\"}],\"margin\":{\"l\":50,\"r\":20,\"t\":50,\"b\":70},\"legend\":{\"yanchor\":\"top\",\"y\":0.995,\"xanchor\":\"left\",\"x\":0.9,\"bgcolor\":\"rgba(255,255,255,0)\",\"tracegroupgap\":1},\"bargap\":0.3,\"width\":400,\"height\":800},                        {\"displayModeBar\": false, \"responsive\": true}                    ).then(function(){\n",
       "                            \n",
       "var gd = document.getElementById('e2f0dd2c-e5d0-4906-8278-9e3467ac3dbf');\n",
       "var x = new MutationObserver(function (mutations, observer) {{\n",
       "        var display = window.getComputedStyle(gd).display;\n",
       "        if (!display || display === 'none') {{\n",
       "            console.log([gd, 'removed!']);\n",
       "            Plotly.purge(gd);\n",
       "            observer.disconnect();\n",
       "        }}\n",
       "}});\n",
       "\n",
       "// Listen for the removal of the full notebook cells\n",
       "var notebookContainer = gd.closest('#notebook-container');\n",
       "if (notebookContainer) {{\n",
       "    x.observe(notebookContainer, {childList: true});\n",
       "}}\n",
       "\n",
       "// Listen for the clearing of the current output cell\n",
       "var outputEl = gd.closest('.output');\n",
       "if (outputEl) {{\n",
       "    x.observe(outputEl, {childList: true});\n",
       "}}\n",
       "\n",
       "                        })                };                });            </script>        </div>"
      ]
     },
     "metadata": {},
     "output_type": "display_data"
    },
    {
     "data": {
      "application/vnd.plotly.v1+json": {
       "config": {
        "displayModeBar": false,
        "plotlyServerURL": "https://plot.ly"
       },
       "data": [
        {
         "error_x": {
          "array": [
           0.07369838436802446,
           0.09081151091278629,
           0.09030460179169417,
           0.08634668173100866,
           0.07740395870362449,
           0.08978865223574287,
           0.0704382841624725,
           0.0708040472514672,
           0.07424690564451124,
           0.08094107106949554,
           0.07774121094639987,
           0.08586476515991831
          ],
          "arrayminus": [
           0.07369838436802446,
           0.09081151091278629,
           0.09030460179169417,
           0.08634668173100866,
           0.07740395870362449,
           0.08978865223574287,
           0.0704382841624725,
           0.0708040472514672,
           0.07424690564451124,
           0.08094107106949554,
           0.07774121094639987,
           0.08586476515991831
          ],
          "symmetric": false,
          "type": "data"
         },
         "hovertemplate": "ROI: %{y}<br>R2: %{x:1.2f}",
         "legendgroup": "attend-bar",
         "marker": {
          "color": "rgba(0, 0, 0, 1)"
         },
         "name": "<i>attend-bar<i>",
         "orientation": "h",
         "showlegend": true,
         "type": "bar",
         "x": [
          0.46316122269630433,
          0.5896638917922974,
          0.48417267656326296,
          0.5280743458271027,
          0.4828776240348816,
          0.5449738533496856,
          0.5395653381347656,
          0.5011963591575622,
          0.3385153489112854,
          0.3327420468330383,
          0.40158497977256774,
          0.4050328614711761
         ],
         "xaxis": "x",
         "y": [
          "V1",
          "V2",
          "V3",
          "V3AB",
          "hMT+",
          "LO",
          "VO",
          "iIPS",
          "sIPS",
          "iPCS",
          "sPCS",
          "mPCS"
         ],
         "yaxis": "y"
        },
        {
         "error_x": {
          "array": [
           0.07159325321395994,
           0.08861846703591138,
           0.0984919535292985,
           0.10902935796164677,
           0.09599481355812775,
           0.11589942366150834,
           0.07772146619167147,
           0.07115256808149446,
           0.0793919969074006,
           0.08772412731719083,
           0.07590085706963104,
           0.09226085506927606
          ],
          "arrayminus": [
           0.07159325321395994,
           0.08861846703591138,
           0.0984919535292985,
           0.10902935796164677,
           0.09599481355812775,
           0.11589942366150834,
           0.07772146619167147,
           0.07115256808149446,
           0.0793919969074006,
           0.08772412731719083,
           0.07590085706963104,
           0.09226085506927606
          ],
          "symmetric": false,
          "type": "data"
         },
         "hovertemplate": "ROI: %{y}<br>R2: %{x:1.2f}",
         "legendgroup": "attend-fix",
         "marker": {
          "color": "rgba(157, 157, 157, 1)"
         },
         "name": "<i>attend-fix<i>",
         "orientation": "h",
         "showlegend": true,
         "type": "bar",
         "x": [
          0.5169514522552491,
          0.5762161617279052,
          0.4556640069484711,
          0.5166883513927459,
          0.3784004418849945,
          0.44342107748985293,
          0.46880870175361633,
          0.446335506439209,
          0.26308624076843257,
          0.23977431607246397,
          0.30714702177047726,
          0.29267463660240167
         ],
         "xaxis": "x",
         "y": [
          "V1",
          "V2",
          "V3",
          "V3AB",
          "hMT+",
          "LO",
          "VO",
          "iIPS",
          "sIPS",
          "iPCS",
          "sPCS",
          "mPCS"
         ],
         "yaxis": "y"
        }
       ],
       "layout": {
        "annotations": [
         {
          "font": {
           "size": 16
          },
          "showarrow": false,
          "text": "<b>Attention effect</b> (sub-004)",
          "x": 0.5,
          "xanchor": "center",
          "xref": "paper",
          "y": 1,
          "yanchor": "bottom",
          "yref": "paper"
         }
        ],
        "bargap": 0.3,
        "height": 800,
        "legend": {
         "bgcolor": "rgba(255,255,255,0)",
         "tracegroupgap": 1,
         "x": 0.9,
         "xanchor": "left",
         "y": 0.995,
         "yanchor": "top"
        },
        "margin": {
         "b": 70,
         "l": 50,
         "r": 20,
         "t": 50
        },
        "template": {
         "data": {
          "barpolar": [
           {
            "marker": {
             "line": {
              "color": "rgba(0, 0, 0, 1)",
              "width": 1.5
             }
            },
            "showlegend": false,
            "thetaunit": "radians",
            "type": "barpolar"
           }
          ],
          "pie": [
           {
            "direction": "clockwise",
            "hole": 0.4,
            "marker": {
             "line": {
              "color": [
               "rgba(0, 0, 0, 1)",
               "rgba(255,255,255,0)"
              ],
              "width": [
               1.5,
               0
              ]
             }
            },
            "rotation": 0,
            "showlegend": false,
            "sort": false,
            "textposition": [
             "inside",
             "none"
            ],
            "type": "pie"
           }
          ],
          "violin": [
           {
            "box": {
             "visible": false
            },
            "hoveron": "violins",
            "line": {
             "color": "rgba(0, 0, 0, 1)",
             "width": 1.5
            },
            "marker": {
             "opacity": 0.5,
             "symbol": "x"
            },
            "meanline": {
             "color": "rgba(0, 0, 0, 1)",
             "visible": true,
             "width": 1.5
            },
            "opacity": 1,
            "points": false,
            "showlegend": false,
            "type": "violin",
            "width": 0.8
           }
          ]
         },
         "layout": {
          "annotationdefaults": {
           "font": {
            "color": "rgba(0, 0, 0, 1)",
            "family": "Arial",
            "size": 15
           }
          },
          "font": {
           "family": "Arial",
           "size": 13
          },
          "plot_bgcolor": "rgba(255, 255, 255, 1)",
          "polar": {
           "angularaxis": {
            "showticklabels": false,
            "ticks": "",
            "visible": false
           },
           "radialaxis": {
            "showticklabels": false,
            "ticks": "",
            "visible": false
           }
          },
          "xaxis": {
           "color": "rgba(0, 0, 0, 1)",
           "hoverformat": ".1f",
           "linewidth": 2,
           "range": [
            0,
            1
           ],
           "showgrid": false,
           "tickfont": {
            "family": "Arial",
            "size": 13
           },
           "ticklen": 8,
           "ticks": "outside",
           "tickwidth": 2,
           "title": {
            "font": {
             "family": "Arial",
             "size": 15
            }
           },
           "visible": true,
           "zeroline": false,
           "zerolinecolor": "rgba(0, 0, 0, 1)",
           "zerolinewidth": 2
          },
          "yaxis": {
           "color": "rgba(0, 0, 0, 1)",
           "hoverformat": ".1f",
           "linewidth": 2,
           "showgrid": false,
           "tickfont": {
            "family": "Arial",
            "size": 13
           },
           "ticklen": 8,
           "ticks": "outside",
           "tickwidth": 2,
           "title": {
            "font": {
             "family": "Arial",
             "size": 15
            }
           },
           "visible": true,
           "zeroline": false,
           "zerolinecolor": "rgba(0, 0, 0, 1)",
           "zerolinewidth": 2
          }
         }
        },
        "width": 400,
        "xaxis": {
         "anchor": "y",
         "domain": [
          0,
          1
         ],
         "dtick": 0.2,
         "linewidth": 2,
         "range": [
          0,
          0.8
         ],
         "ticklen": 8,
         "title": {
          "text": "R2"
         },
         "type": "linear",
         "visible": true
        },
        "yaxis": {
         "anchor": "x",
         "autorange": true,
         "domain": [
          0,
          1
         ],
         "linewidth": 2,
         "range": [
          11.5,
          -0.5
         ],
         "ticklen": 8,
         "title": {
          "text": ""
         },
         "type": "category",
         "visible": true
        }
       }
      },
      "image/png": "[encoded data removed]",
      "text/html": [
       "<div>                            <div id=\"92d26d7b-9533-4b3d-9c8a-9b8fbad7293c\" class=\"plotly-graph-div\" style=\"height:800px; width:400px;\"></div>            <script type=\"text/javascript\">                require([\"plotly\"], function(Plotly) {                    window.PLOTLYENV=window.PLOTLYENV || {};                                    if (document.getElementById(\"92d26d7b-9533-4b3d-9c8a-9b8fbad7293c\")) {                    Plotly.newPlot(                        \"92d26d7b-9533-4b3d-9c8a-9b8fbad7293c\",                        [{\"error_x\":{\"array\":[0.07369838436802446,0.09081151091278629,0.09030460179169417,0.08634668173100866,0.07740395870362449,0.08978865223574287,0.0704382841624725,0.0708040472514672,0.07424690564451124,0.08094107106949554,0.07774121094639987,0.08586476515991831],\"arrayminus\":[0.07369838436802446,0.09081151091278629,0.09030460179169417,0.08634668173100866,0.07740395870362449,0.08978865223574287,0.0704382841624725,0.0708040472514672,0.07424690564451124,0.08094107106949554,0.07774121094639987,0.08586476515991831],\"symmetric\":false,\"type\":\"data\"},\"hovertemplate\":\"ROI: %{y}<br>R2: %{x:1.2f}\",\"legendgroup\":\"attend-bar\",\"marker\":{\"color\":\"rgba(0, 0, 0, 1)\"},\"name\":\"<i>attend-bar<i>\",\"orientation\":\"h\",\"showlegend\":true,\"x\":[0.46316122269630433,0.5896638917922974,0.48417267656326296,0.5280743458271027,0.4828776240348816,0.5449738533496856,0.5395653381347656,0.5011963591575622,0.3385153489112854,0.3327420468330383,0.40158497977256774,0.4050328614711761],\"y\":[\"V1\",\"V2\",\"V3\",\"V3AB\",\"hMT+\",\"LO\",\"VO\",\"iIPS\",\"sIPS\",\"iPCS\",\"sPCS\",\"mPCS\"],\"type\":\"bar\",\"xaxis\":\"x\",\"yaxis\":\"y\"},{\"error_x\":{\"array\":[0.07159325321395994,0.08861846703591138,0.0984919535292985,0.10902935796164677,0.09599481355812775,0.11589942366150834,0.07772146619167147,0.07115256808149446,0.0793919969074006,0.08772412731719083,0.07590085706963104,0.09226085506927606],\"arrayminus\":[0.07159325321395994,0.08861846703591138,0.0984919535292985,0.10902935796164677,0.09599481355812775,0.11589942366150834,0.07772146619167147,0.07115256808149446,0.0793919969074006,0.08772412731719083,0.07590085706963104,0.09226085506927606],\"symmetric\":false,\"type\":\"data\"},\"hovertemplate\":\"ROI: %{y}<br>R2: %{x:1.2f}\",\"legendgroup\":\"attend-fix\",\"marker\":{\"color\":\"rgba(157, 157, 157, 1)\"},\"name\":\"<i>attend-fix<i>\",\"orientation\":\"h\",\"showlegend\":true,\"x\":[0.5169514522552491,0.5762161617279052,0.4556640069484711,0.5166883513927459,0.3784004418849945,0.44342107748985293,0.46880870175361633,0.446335506439209,0.26308624076843257,0.23977431607246397,0.30714702177047726,0.29267463660240167],\"y\":[\"V1\",\"V2\",\"V3\",\"V3AB\",\"hMT+\",\"LO\",\"VO\",\"iIPS\",\"sIPS\",\"iPCS\",\"sPCS\",\"mPCS\"],\"type\":\"bar\",\"xaxis\":\"x\",\"yaxis\":\"y\"}],                        {\"template\":{\"data\":{\"barpolar\":[{\"marker\":{\"line\":{\"color\":\"rgba(0,0,0,1)\",\"width\":1.5}},\"showlegend\":false,\"thetaunit\":\"radians\",\"type\":\"barpolar\"}],\"pie\":[{\"direction\":\"clockwise\",\"hole\":0.4,\"marker\":{\"line\":{\"color\":[\"rgba(0,0,0,1)\",\"rgba(255,255,255,0)\"],\"width\":[1.5,0]}},\"rotation\":0,\"showlegend\":false,\"sort\":false,\"textposition\":[\"inside\",\"none\"],\"type\":\"pie\"}],\"violin\":[{\"box\":{\"visible\":false},\"hoveron\":\"violins\",\"line\":{\"color\":\"rgba(0, 0, 0, 1)\",\"width\":1.5},\"marker\":{\"opacity\":0.5,\"symbol\":\"x\"},\"meanline\":{\"color\":\"rgba(0, 0, 0, 1)\",\"visible\":true,\"width\":1.5},\"opacity\":1,\"points\":false,\"showlegend\":false,\"width\":0.8,\"type\":\"violin\"}]},\"layout\":{\"annotationdefaults\":{\"font\":{\"color\":\"rgba(0, 0, 0, 1)\",\"family\":\"Arial\",\"size\":15}},\"font\":{\"family\":\"Arial\",\"size\":13},\"plot_bgcolor\":\"rgba(255, 255, 255, 1)\",\"polar\":{\"angularaxis\":{\"showticklabels\":false,\"ticks\":\"\",\"visible\":false},\"radialaxis\":{\"showticklabels\":false,\"ticks\":\"\",\"visible\":false}},\"xaxis\":{\"color\":\"rgba(0, 0, 0, 1)\",\"hoverformat\":\".1f\",\"linewidth\":2,\"range\":[0,1],\"showgrid\":false,\"tickfont\":{\"family\":\"Arial\",\"size\":13},\"ticklen\":8,\"ticks\":\"outside\",\"tickwidth\":2,\"title\":{\"font\":{\"family\":\"Arial\",\"size\":15}},\"visible\":true,\"zeroline\":false,\"zerolinecolor\":\"rgba(0, 0, 0, 1)\",\"zerolinewidth\":2},\"yaxis\":{\"color\":\"rgba(0, 0, 0, 1)\",\"hoverformat\":\".1f\",\"linewidth\":2,\"showgrid\":false,\"tickfont\":{\"family\":\"Arial\",\"size\":13},\"ticklen\":8,\"ticks\":\"outside\",\"tickwidth\":2,\"title\":{\"font\":{\"family\":\"Arial\",\"size\":15}},\"visible\":true,\"zeroline\":false,\"zerolinecolor\":\"rgba(0, 0, 0, 1)\",\"zerolinewidth\":2}}},\"xaxis\":{\"anchor\":\"y\",\"domain\":[0.0,1.0],\"visible\":true,\"ticklen\":8,\"linewidth\":2,\"range\":[0,0.8],\"title\":{\"text\":\"R2\"},\"dtick\":0.2},\"yaxis\":{\"anchor\":\"x\",\"domain\":[0.0,1.0],\"visible\":true,\"ticklen\":8,\"linewidth\":2,\"autorange\":\"reversed\",\"title\":{\"text\":\"\"}},\"annotations\":[{\"font\":{\"size\":16},\"showarrow\":false,\"text\":\"<b>Attention effect</b> (sub-004)\",\"x\":0.5,\"xanchor\":\"center\",\"xref\":\"paper\",\"y\":1.0,\"yanchor\":\"bottom\",\"yref\":\"paper\"}],\"margin\":{\"l\":50,\"r\":20,\"t\":50,\"b\":70},\"legend\":{\"yanchor\":\"top\",\"y\":0.995,\"xanchor\":\"left\",\"x\":0.9,\"bgcolor\":\"rgba(255,255,255,0)\",\"tracegroupgap\":1},\"bargap\":0.3,\"width\":400,\"height\":800},                        {\"displayModeBar\": false, \"responsive\": true}                    ).then(function(){\n",
       "                            \n",
       "var gd = document.getElementById('92d26d7b-9533-4b3d-9c8a-9b8fbad7293c');\n",
       "var x = new MutationObserver(function (mutations, observer) {{\n",
       "        var display = window.getComputedStyle(gd).display;\n",
       "        if (!display || display === 'none') {{\n",
       "            console.log([gd, 'removed!']);\n",
       "            Plotly.purge(gd);\n",
       "            observer.disconnect();\n",
       "        }}\n",
       "}});\n",
       "\n",
       "// Listen for the removal of the full notebook cells\n",
       "var notebookContainer = gd.closest('#notebook-container');\n",
       "if (notebookContainer) {{\n",
       "    x.observe(notebookContainer, {childList: true});\n",
       "}}\n",
       "\n",
       "// Listen for the clearing of the current output cell\n",
       "var outputEl = gd.closest('.output');\n",
       "if (outputEl) {{\n",
       "    x.observe(outputEl, {childList: true});\n",
       "}}\n",
       "\n",
       "                        })                };                });            </script>        </div>"
      ]
     },
     "metadata": {},
     "output_type": "display_data"
    },
    {
     "data": {
      "application/vnd.plotly.v1+json": {
       "config": {
        "displayModeBar": false,
        "plotlyServerURL": "https://plot.ly"
       },
       "data": [
        {
         "error_x": {
          "array": [
           0.0879033789239069,
           0.08508420450289417,
           0.11320307902802385,
           0.09018896922740098,
           0.06312490561625086,
           0.09914687031375183,
           0.05804696679928502,
           0.0790546288098787,
           0.07030792939674682,
           0.03802009602897357,
           0.056035924553032086,
           0.05144467001610036
          ],
          "arrayminus": [
           0.0879033789239069,
           0.08508420450289417,
           0.11320307902802385,
           0.09018896922740098,
           0.06312490561625086,
           0.09914687031375183,
           0.05804696679928502,
           0.0790546288098787,
           0.07030792939674682,
           0.03802009602897357,
           0.056035924553032086,
           0.05144467001610036
          ],
          "symmetric": false,
          "type": "data"
         },
         "hovertemplate": "ROI: %{y}<br>R2: %{x:1.2f}",
         "legendgroup": "attend-bar",
         "marker": {
          "color": "rgba(0, 0, 0, 1)"
         },
         "name": "<i>attend-bar<i>",
         "orientation": "h",
         "showlegend": true,
         "type": "bar",
         "x": [
          0.29562055015563965,
          0.41263038325309753,
          0.3998601632118225,
          0.37908925795555115,
          0.38094351649284364,
          0.4083554961681366,
          0.3224574139118195,
          0.25290334868431086,
          0.22392088127136228,
          0.13557368159294125,
          0.2405021262168884,
          0.14664544558525083
         ],
         "xaxis": "x",
         "y": [
          "V1",
          "V2",
          "V3",
          "V3AB",
          "hMT+",
          "LO",
          "VO",
          "iIPS",
          "sIPS",
          "iPCS",
          "sPCS",
          "mPCS"
         ],
         "yaxis": "y"
        },
        {
         "error_x": {
          "array": [
           0.08592875728469986,
           0.07472621830641535,
           0.0872414001581853,
           0.09946958439540449,
           0.07134260998717361,
           0.07639838614162137,
           0.0802635246871177,
           0.05592665871384673,
           0.044524227372698795,
           0.040649964128981954,
           0.04764862293314794,
           0.026928995854386836
          ],
          "arrayminus": [
           0.08592875728469986,
           0.07472621830641535,
           0.0872414001581853,
           0.09946958439540449,
           0.07134260998717361,
           0.07639838614162137,
           0.0802635246871177,
           0.05592665871384673,
           0.044524227372698795,
           0.040649964128981954,
           0.04764862293314794,
           0.026928995854386836
          ],
          "symmetric": false,
          "type": "data"
         },
         "hovertemplate": "ROI: %{y}<br>R2: %{x:1.2f}",
         "legendgroup": "attend-fix",
         "marker": {
          "color": "rgba(157, 157, 157, 1)"
         },
         "name": "<i>attend-fix<i>",
         "orientation": "h",
         "showlegend": true,
         "type": "bar",
         "x": [
          0.22487632250785825,
          0.31463359212875364,
          0.26121237850189205,
          0.2592906992435455,
          0.222967561006546,
          0.2607990169525146,
          0.23560328769683836,
          0.13073716473579403,
          0.12645368003845212,
          0.13811115360260007,
          0.14339649391174314,
          0.09206434321403499
         ],
         "xaxis": "x",
         "y": [
          "V1",
          "V2",
          "V3",
          "V3AB",
          "hMT+",
          "LO",
          "VO",
          "iIPS",
          "sIPS",
          "iPCS",
          "sPCS",
          "mPCS"
         ],
         "yaxis": "y"
        }
       ],
       "layout": {
        "annotations": [
         {
          "font": {
           "size": 16
          },
          "showarrow": false,
          "text": "<b>Attention effect</b> (sub-005)",
          "x": 0.5,
          "xanchor": "center",
          "xref": "paper",
          "y": 1,
          "yanchor": "bottom",
          "yref": "paper"
         }
        ],
        "bargap": 0.3,
        "height": 800,
        "legend": {
         "bgcolor": "rgba(255,255,255,0)",
         "tracegroupgap": 1,
         "x": 0.9,
         "xanchor": "left",
         "y": 0.995,
         "yanchor": "top"
        },
        "margin": {
         "b": 70,
         "l": 50,
         "r": 20,
         "t": 50
        },
        "template": {
         "data": {
          "barpolar": [
           {
            "marker": {
             "line": {
              "color": "rgba(0, 0, 0, 1)",
              "width": 1.5
             }
            },
            "showlegend": false,
            "thetaunit": "radians",
            "type": "barpolar"
           }
          ],
          "pie": [
           {
            "direction": "clockwise",
            "hole": 0.4,
            "marker": {
             "line": {
              "color": [
               "rgba(0, 0, 0, 1)",
               "rgba(255,255,255,0)"
              ],
              "width": [
               1.5,
               0
              ]
             }
            },
            "rotation": 0,
            "showlegend": false,
            "sort": false,
            "textposition": [
             "inside",
             "none"
            ],
            "type": "pie"
           }
          ],
          "violin": [
           {
            "box": {
             "visible": false
            },
            "hoveron": "violins",
            "line": {
             "color": "rgba(0, 0, 0, 1)",
             "width": 1.5
            },
            "marker": {
             "opacity": 0.5,
             "symbol": "x"
            },
            "meanline": {
             "color": "rgba(0, 0, 0, 1)",
             "visible": true,
             "width": 1.5
            },
            "opacity": 1,
            "points": false,
            "showlegend": false,
            "type": "violin",
            "width": 0.8
           }
          ]
         },
         "layout": {
          "annotationdefaults": {
           "font": {
            "color": "rgba(0, 0, 0, 1)",
            "family": "Arial",
            "size": 15
           }
          },
          "font": {
           "family": "Arial",
           "size": 13
          },
          "plot_bgcolor": "rgba(255, 255, 255, 1)",
          "polar": {
           "angularaxis": {
            "showticklabels": false,
            "ticks": "",
            "visible": false
           },
           "radialaxis": {
            "showticklabels": false,
            "ticks": "",
            "visible": false
           }
          },
          "xaxis": {
           "color": "rgba(0, 0, 0, 1)",
           "hoverformat": ".1f",
           "linewidth": 2,
           "range": [
            0,
            1
           ],
           "showgrid": false,
           "tickfont": {
            "family": "Arial",
            "size": 13
           },
           "ticklen": 8,
           "ticks": "outside",
           "tickwidth": 2,
           "title": {
            "font": {
             "family": "Arial",
             "size": 15
            }
           },
           "visible": true,
           "zeroline": false,
           "zerolinecolor": "rgba(0, 0, 0, 1)",
           "zerolinewidth": 2
          },
          "yaxis": {
           "color": "rgba(0, 0, 0, 1)",
           "hoverformat": ".1f",
           "linewidth": 2,
           "showgrid": false,
           "tickfont": {
            "family": "Arial",
            "size": 13
           },
           "ticklen": 8,
           "ticks": "outside",
           "tickwidth": 2,
           "title": {
            "font": {
             "family": "Arial",
             "size": 15
            }
           },
           "visible": true,
           "zeroline": false,
           "zerolinecolor": "rgba(0, 0, 0, 1)",
           "zerolinewidth": 2
          }
         }
        },
        "width": 400,
        "xaxis": {
         "anchor": "y",
         "domain": [
          0,
          1
         ],
         "dtick": 0.2,
         "linewidth": 2,
         "range": [
          0,
          0.8
         ],
         "ticklen": 8,
         "title": {
          "text": "R2"
         },
         "type": "linear",
         "visible": true
        },
        "yaxis": {
         "anchor": "x",
         "autorange": true,
         "domain": [
          0,
          1
         ],
         "linewidth": 2,
         "range": [
          11.5,
          -0.5
         ],
         "ticklen": 8,
         "title": {
          "text": ""
         },
         "type": "category",
         "visible": true
        }
       }
      },
      "image/png": "[encoded data removed]",
      "text/html": [
       "<div>                            <div id=\"bb633a05-8f39-4f0e-bbf9-bb4b976df34f\" class=\"plotly-graph-div\" style=\"height:800px; width:400px;\"></div>            <script type=\"text/javascript\">                require([\"plotly\"], function(Plotly) {                    window.PLOTLYENV=window.PLOTLYENV || {};                                    if (document.getElementById(\"bb633a05-8f39-4f0e-bbf9-bb4b976df34f\")) {                    Plotly.newPlot(                        \"bb633a05-8f39-4f0e-bbf9-bb4b976df34f\",                        [{\"error_x\":{\"array\":[0.0879033789239069,0.08508420450289417,0.11320307902802385,0.09018896922740098,0.06312490561625086,0.09914687031375183,0.05804696679928502,0.0790546288098787,0.07030792939674682,0.03802009602897357,0.056035924553032086,0.05144467001610036],\"arrayminus\":[0.0879033789239069,0.08508420450289417,0.11320307902802385,0.09018896922740098,0.06312490561625086,0.09914687031375183,0.05804696679928502,0.0790546288098787,0.07030792939674682,0.03802009602897357,0.056035924553032086,0.05144467001610036],\"symmetric\":false,\"type\":\"data\"},\"hovertemplate\":\"ROI: %{y}<br>R2: %{x:1.2f}\",\"legendgroup\":\"attend-bar\",\"marker\":{\"color\":\"rgba(0, 0, 0, 1)\"},\"name\":\"<i>attend-bar<i>\",\"orientation\":\"h\",\"showlegend\":true,\"x\":[0.29562055015563965,0.41263038325309753,0.3998601632118225,0.37908925795555115,0.38094351649284364,0.4083554961681366,0.3224574139118195,0.25290334868431086,0.22392088127136228,0.13557368159294125,0.2405021262168884,0.14664544558525083],\"y\":[\"V1\",\"V2\",\"V3\",\"V3AB\",\"hMT+\",\"LO\",\"VO\",\"iIPS\",\"sIPS\",\"iPCS\",\"sPCS\",\"mPCS\"],\"type\":\"bar\",\"xaxis\":\"x\",\"yaxis\":\"y\"},{\"error_x\":{\"array\":[0.08592875728469986,0.07472621830641535,0.0872414001581853,0.09946958439540449,0.07134260998717361,0.07639838614162137,0.0802635246871177,0.05592665871384673,0.044524227372698795,0.040649964128981954,0.04764862293314794,0.026928995854386836],\"arrayminus\":[0.08592875728469986,0.07472621830641535,0.0872414001581853,0.09946958439540449,0.07134260998717361,0.07639838614162137,0.0802635246871177,0.05592665871384673,0.044524227372698795,0.040649964128981954,0.04764862293314794,0.026928995854386836],\"symmetric\":false,\"type\":\"data\"},\"hovertemplate\":\"ROI: %{y}<br>R2: %{x:1.2f}\",\"legendgroup\":\"attend-fix\",\"marker\":{\"color\":\"rgba(157, 157, 157, 1)\"},\"name\":\"<i>attend-fix<i>\",\"orientation\":\"h\",\"showlegend\":true,\"x\":[0.22487632250785825,0.31463359212875364,0.26121237850189205,0.2592906992435455,0.222967561006546,0.2607990169525146,0.23560328769683836,0.13073716473579403,0.12645368003845212,0.13811115360260007,0.14339649391174314,0.09206434321403499],\"y\":[\"V1\",\"V2\",\"V3\",\"V3AB\",\"hMT+\",\"LO\",\"VO\",\"iIPS\",\"sIPS\",\"iPCS\",\"sPCS\",\"mPCS\"],\"type\":\"bar\",\"xaxis\":\"x\",\"yaxis\":\"y\"}],                        {\"template\":{\"data\":{\"barpolar\":[{\"marker\":{\"line\":{\"color\":\"rgba(0,0,0,1)\",\"width\":1.5}},\"showlegend\":false,\"thetaunit\":\"radians\",\"type\":\"barpolar\"}],\"pie\":[{\"direction\":\"clockwise\",\"hole\":0.4,\"marker\":{\"line\":{\"color\":[\"rgba(0,0,0,1)\",\"rgba(255,255,255,0)\"],\"width\":[1.5,0]}},\"rotation\":0,\"showlegend\":false,\"sort\":false,\"textposition\":[\"inside\",\"none\"],\"type\":\"pie\"}],\"violin\":[{\"box\":{\"visible\":false},\"hoveron\":\"violins\",\"line\":{\"color\":\"rgba(0, 0, 0, 1)\",\"width\":1.5},\"marker\":{\"opacity\":0.5,\"symbol\":\"x\"},\"meanline\":{\"color\":\"rgba(0, 0, 0, 1)\",\"visible\":true,\"width\":1.5},\"opacity\":1,\"points\":false,\"showlegend\":false,\"width\":0.8,\"type\":\"violin\"}]},\"layout\":{\"annotationdefaults\":{\"font\":{\"color\":\"rgba(0, 0, 0, 1)\",\"family\":\"Arial\",\"size\":15}},\"font\":{\"family\":\"Arial\",\"size\":13},\"plot_bgcolor\":\"rgba(255, 255, 255, 1)\",\"polar\":{\"angularaxis\":{\"showticklabels\":false,\"ticks\":\"\",\"visible\":false},\"radialaxis\":{\"showticklabels\":false,\"ticks\":\"\",\"visible\":false}},\"xaxis\":{\"color\":\"rgba(0, 0, 0, 1)\",\"hoverformat\":\".1f\",\"linewidth\":2,\"range\":[0,1],\"showgrid\":false,\"tickfont\":{\"family\":\"Arial\",\"size\":13},\"ticklen\":8,\"ticks\":\"outside\",\"tickwidth\":2,\"title\":{\"font\":{\"family\":\"Arial\",\"size\":15}},\"visible\":true,\"zeroline\":false,\"zerolinecolor\":\"rgba(0, 0, 0, 1)\",\"zerolinewidth\":2},\"yaxis\":{\"color\":\"rgba(0, 0, 0, 1)\",\"hoverformat\":\".1f\",\"linewidth\":2,\"showgrid\":false,\"tickfont\":{\"family\":\"Arial\",\"size\":13},\"ticklen\":8,\"ticks\":\"outside\",\"tickwidth\":2,\"title\":{\"font\":{\"family\":\"Arial\",\"size\":15}},\"visible\":true,\"zeroline\":false,\"zerolinecolor\":\"rgba(0, 0, 0, 1)\",\"zerolinewidth\":2}}},\"xaxis\":{\"anchor\":\"y\",\"domain\":[0.0,1.0],\"visible\":true,\"ticklen\":8,\"linewidth\":2,\"range\":[0,0.8],\"title\":{\"text\":\"R2\"},\"dtick\":0.2},\"yaxis\":{\"anchor\":\"x\",\"domain\":[0.0,1.0],\"visible\":true,\"ticklen\":8,\"linewidth\":2,\"autorange\":\"reversed\",\"title\":{\"text\":\"\"}},\"annotations\":[{\"font\":{\"size\":16},\"showarrow\":false,\"text\":\"<b>Attention effect</b> (sub-005)\",\"x\":0.5,\"xanchor\":\"center\",\"xref\":\"paper\",\"y\":1.0,\"yanchor\":\"bottom\",\"yref\":\"paper\"}],\"margin\":{\"l\":50,\"r\":20,\"t\":50,\"b\":70},\"legend\":{\"yanchor\":\"top\",\"y\":0.995,\"xanchor\":\"left\",\"x\":0.9,\"bgcolor\":\"rgba(255,255,255,0)\",\"tracegroupgap\":1},\"bargap\":0.3,\"width\":400,\"height\":800},                        {\"displayModeBar\": false, \"responsive\": true}                    ).then(function(){\n",
       "                            \n",
       "var gd = document.getElementById('bb633a05-8f39-4f0e-bbf9-bb4b976df34f');\n",
       "var x = new MutationObserver(function (mutations, observer) {{\n",
       "        var display = window.getComputedStyle(gd).display;\n",
       "        if (!display || display === 'none') {{\n",
       "            console.log([gd, 'removed!']);\n",
       "            Plotly.purge(gd);\n",
       "            observer.disconnect();\n",
       "        }}\n",
       "}});\n",
       "\n",
       "// Listen for the removal of the full notebook cells\n",
       "var notebookContainer = gd.closest('#notebook-container');\n",
       "if (notebookContainer) {{\n",
       "    x.observe(notebookContainer, {childList: true});\n",
       "}}\n",
       "\n",
       "// Listen for the clearing of the current output cell\n",
       "var outputEl = gd.closest('.output');\n",
       "if (outputEl) {{\n",
       "    x.observe(outputEl, {childList: true});\n",
       "}}\n",
       "\n",
       "                        })                };                });            </script>        </div>"
      ]
     },
     "metadata": {},
     "output_type": "display_data"
    },
    {
     "data": {
      "application/vnd.plotly.v1+json": {
       "config": {
        "displayModeBar": false,
        "plotlyServerURL": "https://plot.ly"
       },
       "data": [
        {
         "error_x": {
          "array": [
           0.08509265533634934,
           0.1123937506706796,
           0.10957546668696672,
           0.12936993987900555,
           0.08185799394503523,
           0.0819318894218868,
           0.07633782535941305,
           0.07436098873962559,
           0.07832203026513204,
           0.07469003325886503,
           0.06321442878559386,
           0.08372628769064037
          ],
          "arrayminus": [
           0.08509265533634934,
           0.1123937506706796,
           0.10957546668696672,
           0.12936993987900555,
           0.08185799394503523,
           0.0819318894218868,
           0.07633782535941305,
           0.07436098873962559,
           0.07832203026513204,
           0.07469003325886503,
           0.06321442878559386,
           0.08372628769064037
          ],
          "symmetric": false,
          "type": "data"
         },
         "hovertemplate": "ROI: %{y}<br>R2: %{x:1.2f}",
         "legendgroup": "attend-bar",
         "marker": {
          "color": "rgba(0, 0, 0, 1)"
         },
         "name": "<i>attend-bar<i>",
         "orientation": "h",
         "showlegend": true,
         "type": "bar",
         "x": [
          0.5164217414855957,
          0.47617689204216,
          0.44777256894111633,
          0.4261848428249359,
          0.45286271715164184,
          0.5168236861228943,
          0.4275353600978851,
          0.363591376543045,
          0.3167203409671783,
          0.19385186648368832,
          0.41750306487083433,
          0.26044533157348626
         ],
         "xaxis": "x",
         "y": [
          "V1",
          "V2",
          "V3",
          "V3AB",
          "hMT+",
          "LO",
          "VO",
          "iIPS",
          "sIPS",
          "iPCS",
          "sPCS",
          "mPCS"
         ],
         "yaxis": "y"
        },
        {
         "error_x": {
          "array": [
           0.07148630631606329,
           0.10705813630807236,
           0.09086618522137337,
           0.09308880695492046,
           0.08371498568126536,
           0.0676329020346316,
           0.08094699452093591,
           0.1000523317082747,
           0.07567327500739333,
           0.07179091069434496,
           0.06917252442180599,
           0.07953841581471638
          ],
          "arrayminus": [
           0.07148630631606329,
           0.10705813630807236,
           0.09086618522137337,
           0.09308880695492046,
           0.08371498568126536,
           0.0676329020346316,
           0.08094699452093591,
           0.1000523317082747,
           0.07567327500739333,
           0.07179091069434496,
           0.06917252442180599,
           0.07953841581471638
          ],
          "symmetric": false,
          "type": "data"
         },
         "hovertemplate": "ROI: %{y}<br>R2: %{x:1.2f}",
         "legendgroup": "attend-fix",
         "marker": {
          "color": "rgba(157, 157, 157, 1)"
         },
         "name": "<i>attend-fix<i>",
         "orientation": "h",
         "showlegend": true,
         "type": "bar",
         "x": [
          0.4312259771823883,
          0.33654981255531313,
          0.2781421496868133,
          0.2338942363262176,
          0.325733514547348,
          0.476227680683136,
          0.3586988151073456,
          0.3364709231853485,
          0.26408415603637697,
          0.1494831128120422,
          0.3871513566970825,
          0.21706573343276975
         ],
         "xaxis": "x",
         "y": [
          "V1",
          "V2",
          "V3",
          "V3AB",
          "hMT+",
          "LO",
          "VO",
          "iIPS",
          "sIPS",
          "iPCS",
          "sPCS",
          "mPCS"
         ],
         "yaxis": "y"
        }
       ],
       "layout": {
        "annotations": [
         {
          "font": {
           "size": 16
          },
          "showarrow": false,
          "text": "<b>Attention effect</b> (sub-006)",
          "x": 0.5,
          "xanchor": "center",
          "xref": "paper",
          "y": 1,
          "yanchor": "bottom",
          "yref": "paper"
         }
        ],
        "bargap": 0.3,
        "height": 800,
        "legend": {
         "bgcolor": "rgba(255,255,255,0)",
         "tracegroupgap": 1,
         "x": 0.9,
         "xanchor": "left",
         "y": 0.995,
         "yanchor": "top"
        },
        "margin": {
         "b": 70,
         "l": 50,
         "r": 20,
         "t": 50
        },
        "template": {
         "data": {
          "barpolar": [
           {
            "marker": {
             "line": {
              "color": "rgba(0, 0, 0, 1)",
              "width": 1.5
             }
            },
            "showlegend": false,
            "thetaunit": "radians",
            "type": "barpolar"
           }
          ],
          "pie": [
           {
            "direction": "clockwise",
            "hole": 0.4,
            "marker": {
             "line": {
              "color": [
               "rgba(0, 0, 0, 1)",
               "rgba(255,255,255,0)"
              ],
              "width": [
               1.5,
               0
              ]
             }
            },
            "rotation": 0,
            "showlegend": false,
            "sort": false,
            "textposition": [
             "inside",
             "none"
            ],
            "type": "pie"
           }
          ],
          "violin": [
           {
            "box": {
             "visible": false
            },
            "hoveron": "violins",
            "line": {
             "color": "rgba(0, 0, 0, 1)",
             "width": 1.5
            },
            "marker": {
             "opacity": 0.5,
             "symbol": "x"
            },
            "meanline": {
             "color": "rgba(0, 0, 0, 1)",
             "visible": true,
             "width": 1.5
            },
            "opacity": 1,
            "points": false,
            "showlegend": false,
            "type": "violin",
            "width": 0.8
           }
          ]
         },
         "layout": {
          "annotationdefaults": {
           "font": {
            "color": "rgba(0, 0, 0, 1)",
            "family": "Arial",
            "size": 15
           }
          },
          "font": {
           "family": "Arial",
           "size": 13
          },
          "plot_bgcolor": "rgba(255, 255, 255, 1)",
          "polar": {
           "angularaxis": {
            "showticklabels": false,
            "ticks": "",
            "visible": false
           },
           "radialaxis": {
            "showticklabels": false,
            "ticks": "",
            "visible": false
           }
          },
          "xaxis": {
           "color": "rgba(0, 0, 0, 1)",
           "hoverformat": ".1f",
           "linewidth": 2,
           "range": [
            0,
            1
           ],
           "showgrid": false,
           "tickfont": {
            "family": "Arial",
            "size": 13
           },
           "ticklen": 8,
           "ticks": "outside",
           "tickwidth": 2,
           "title": {
            "font": {
             "family": "Arial",
             "size": 15
            }
           },
           "visible": true,
           "zeroline": false,
           "zerolinecolor": "rgba(0, 0, 0, 1)",
           "zerolinewidth": 2
          },
          "yaxis": {
           "color": "rgba(0, 0, 0, 1)",
           "hoverformat": ".1f",
           "linewidth": 2,
           "showgrid": false,
           "tickfont": {
            "family": "Arial",
            "size": 13
           },
           "ticklen": 8,
           "ticks": "outside",
           "tickwidth": 2,
           "title": {
            "font": {
             "family": "Arial",
             "size": 15
            }
           },
           "visible": true,
           "zeroline": false,
           "zerolinecolor": "rgba(0, 0, 0, 1)",
           "zerolinewidth": 2
          }
         }
        },
        "width": 400,
        "xaxis": {
         "anchor": "y",
         "domain": [
          0,
          1
         ],
         "dtick": 0.2,
         "linewidth": 2,
         "range": [
          0,
          0.8
         ],
         "ticklen": 8,
         "title": {
          "text": "R2"
         },
         "type": "linear",
         "visible": true
        },
        "yaxis": {
         "anchor": "x",
         "autorange": true,
         "domain": [
          0,
          1
         ],
         "linewidth": 2,
         "range": [
          11.5,
          -0.5
         ],
         "ticklen": 8,
         "title": {
          "text": ""
         },
         "type": "category",
         "visible": true
        }
       }
      },
      "image/png": "[encoded data removed]",
      "text/html": [
       "<div>                            <div id=\"0c5c6182-9852-4605-a810-fcffbdfc23ad\" class=\"plotly-graph-div\" style=\"height:800px; width:400px;\"></div>            <script type=\"text/javascript\">                require([\"plotly\"], function(Plotly) {                    window.PLOTLYENV=window.PLOTLYENV || {};                                    if (document.getElementById(\"0c5c6182-9852-4605-a810-fcffbdfc23ad\")) {                    Plotly.newPlot(                        \"0c5c6182-9852-4605-a810-fcffbdfc23ad\",                        [{\"error_x\":{\"array\":[0.08509265533634934,0.1123937506706796,0.10957546668696672,0.12936993987900555,0.08185799394503523,0.0819318894218868,0.07633782535941305,0.07436098873962559,0.07832203026513204,0.07469003325886503,0.06321442878559386,0.08372628769064037],\"arrayminus\":[0.08509265533634934,0.1123937506706796,0.10957546668696672,0.12936993987900555,0.08185799394503523,0.0819318894218868,0.07633782535941305,0.07436098873962559,0.07832203026513204,0.07469003325886503,0.06321442878559386,0.08372628769064037],\"symmetric\":false,\"type\":\"data\"},\"hovertemplate\":\"ROI: %{y}<br>R2: %{x:1.2f}\",\"legendgroup\":\"attend-bar\",\"marker\":{\"color\":\"rgba(0, 0, 0, 1)\"},\"name\":\"<i>attend-bar<i>\",\"orientation\":\"h\",\"showlegend\":true,\"x\":[0.5164217414855957,0.47617689204216,0.44777256894111633,0.4261848428249359,0.45286271715164184,0.5168236861228943,0.4275353600978851,0.363591376543045,0.3167203409671783,0.19385186648368832,0.41750306487083433,0.26044533157348626],\"y\":[\"V1\",\"V2\",\"V3\",\"V3AB\",\"hMT+\",\"LO\",\"VO\",\"iIPS\",\"sIPS\",\"iPCS\",\"sPCS\",\"mPCS\"],\"type\":\"bar\",\"xaxis\":\"x\",\"yaxis\":\"y\"},{\"error_x\":{\"array\":[0.07148630631606329,0.10705813630807236,0.09086618522137337,0.09308880695492046,0.08371498568126536,0.0676329020346316,0.08094699452093591,0.1000523317082747,0.07567327500739333,0.07179091069434496,0.06917252442180599,0.07953841581471638],\"arrayminus\":[0.07148630631606329,0.10705813630807236,0.09086618522137337,0.09308880695492046,0.08371498568126536,0.0676329020346316,0.08094699452093591,0.1000523317082747,0.07567327500739333,0.07179091069434496,0.06917252442180599,0.07953841581471638],\"symmetric\":false,\"type\":\"data\"},\"hovertemplate\":\"ROI: %{y}<br>R2: %{x:1.2f}\",\"legendgroup\":\"attend-fix\",\"marker\":{\"color\":\"rgba(157, 157, 157, 1)\"},\"name\":\"<i>attend-fix<i>\",\"orientation\":\"h\",\"showlegend\":true,\"x\":[0.4312259771823883,0.33654981255531313,0.2781421496868133,0.2338942363262176,0.325733514547348,0.476227680683136,0.3586988151073456,0.3364709231853485,0.26408415603637697,0.1494831128120422,0.3871513566970825,0.21706573343276975],\"y\":[\"V1\",\"V2\",\"V3\",\"V3AB\",\"hMT+\",\"LO\",\"VO\",\"iIPS\",\"sIPS\",\"iPCS\",\"sPCS\",\"mPCS\"],\"type\":\"bar\",\"xaxis\":\"x\",\"yaxis\":\"y\"}],                        {\"template\":{\"data\":{\"barpolar\":[{\"marker\":{\"line\":{\"color\":\"rgba(0,0,0,1)\",\"width\":1.5}},\"showlegend\":false,\"thetaunit\":\"radians\",\"type\":\"barpolar\"}],\"pie\":[{\"direction\":\"clockwise\",\"hole\":0.4,\"marker\":{\"line\":{\"color\":[\"rgba(0,0,0,1)\",\"rgba(255,255,255,0)\"],\"width\":[1.5,0]}},\"rotation\":0,\"showlegend\":false,\"sort\":false,\"textposition\":[\"inside\",\"none\"],\"type\":\"pie\"}],\"violin\":[{\"box\":{\"visible\":false},\"hoveron\":\"violins\",\"line\":{\"color\":\"rgba(0, 0, 0, 1)\",\"width\":1.5},\"marker\":{\"opacity\":0.5,\"symbol\":\"x\"},\"meanline\":{\"color\":\"rgba(0, 0, 0, 1)\",\"visible\":true,\"width\":1.5},\"opacity\":1,\"points\":false,\"showlegend\":false,\"width\":0.8,\"type\":\"violin\"}]},\"layout\":{\"annotationdefaults\":{\"font\":{\"color\":\"rgba(0, 0, 0, 1)\",\"family\":\"Arial\",\"size\":15}},\"font\":{\"family\":\"Arial\",\"size\":13},\"plot_bgcolor\":\"rgba(255, 255, 255, 1)\",\"polar\":{\"angularaxis\":{\"showticklabels\":false,\"ticks\":\"\",\"visible\":false},\"radialaxis\":{\"showticklabels\":false,\"ticks\":\"\",\"visible\":false}},\"xaxis\":{\"color\":\"rgba(0, 0, 0, 1)\",\"hoverformat\":\".1f\",\"linewidth\":2,\"range\":[0,1],\"showgrid\":false,\"tickfont\":{\"family\":\"Arial\",\"size\":13},\"ticklen\":8,\"ticks\":\"outside\",\"tickwidth\":2,\"title\":{\"font\":{\"family\":\"Arial\",\"size\":15}},\"visible\":true,\"zeroline\":false,\"zerolinecolor\":\"rgba(0, 0, 0, 1)\",\"zerolinewidth\":2},\"yaxis\":{\"color\":\"rgba(0, 0, 0, 1)\",\"hoverformat\":\".1f\",\"linewidth\":2,\"showgrid\":false,\"tickfont\":{\"family\":\"Arial\",\"size\":13},\"ticklen\":8,\"ticks\":\"outside\",\"tickwidth\":2,\"title\":{\"font\":{\"family\":\"Arial\",\"size\":15}},\"visible\":true,\"zeroline\":false,\"zerolinecolor\":\"rgba(0, 0, 0, 1)\",\"zerolinewidth\":2}}},\"xaxis\":{\"anchor\":\"y\",\"domain\":[0.0,1.0],\"visible\":true,\"ticklen\":8,\"linewidth\":2,\"range\":[0,0.8],\"title\":{\"text\":\"R2\"},\"dtick\":0.2},\"yaxis\":{\"anchor\":\"x\",\"domain\":[0.0,1.0],\"visible\":true,\"ticklen\":8,\"linewidth\":2,\"autorange\":\"reversed\",\"title\":{\"text\":\"\"}},\"annotations\":[{\"font\":{\"size\":16},\"showarrow\":false,\"text\":\"<b>Attention effect</b> (sub-006)\",\"x\":0.5,\"xanchor\":\"center\",\"xref\":\"paper\",\"y\":1.0,\"yanchor\":\"bottom\",\"yref\":\"paper\"}],\"margin\":{\"l\":50,\"r\":20,\"t\":50,\"b\":70},\"legend\":{\"yanchor\":\"top\",\"y\":0.995,\"xanchor\":\"left\",\"x\":0.9,\"bgcolor\":\"rgba(255,255,255,0)\",\"tracegroupgap\":1},\"bargap\":0.3,\"width\":400,\"height\":800},                        {\"displayModeBar\": false, \"responsive\": true}                    ).then(function(){\n",
       "                            \n",
       "var gd = document.getElementById('0c5c6182-9852-4605-a810-fcffbdfc23ad');\n",
       "var x = new MutationObserver(function (mutations, observer) {{\n",
       "        var display = window.getComputedStyle(gd).display;\n",
       "        if (!display || display === 'none') {{\n",
       "            console.log([gd, 'removed!']);\n",
       "            Plotly.purge(gd);\n",
       "            observer.disconnect();\n",
       "        }}\n",
       "}});\n",
       "\n",
       "// Listen for the removal of the full notebook cells\n",
       "var notebookContainer = gd.closest('#notebook-container');\n",
       "if (notebookContainer) {{\n",
       "    x.observe(notebookContainer, {childList: true});\n",
       "}}\n",
       "\n",
       "// Listen for the clearing of the current output cell\n",
       "var outputEl = gd.closest('.output');\n",
       "if (outputEl) {{\n",
       "    x.observe(outputEl, {childList: true});\n",
       "}}\n",
       "\n",
       "                        })                };                });            </script>        </div>"
      ]
     },
     "metadata": {},
     "output_type": "display_data"
    },
    {
     "data": {
      "application/vnd.plotly.v1+json": {
       "config": {
        "displayModeBar": false,
        "plotlyServerURL": "https://plot.ly"
       },
       "data": [
        {
         "error_x": {
          "array": [
           0.09597928104740257,
           0.08410108025786792,
           0.10912530481988181,
           0.12075054895880924,
           0.08233873152016677,
           0.05515193513013783,
           0.08963252967541994,
           0.06831252632155387,
           0.07642048801849521,
           0.08099717753788155,
           0.052677841528831294,
           0.09407428033126973
          ],
          "arrayminus": [
           0.09597928104740257,
           0.08410108025786792,
           0.10912530481988181,
           0.12075054895880924,
           0.08233873152016677,
           0.05515193513013783,
           0.08963252967541994,
           0.06831252632155387,
           0.07642048801849521,
           0.08099717753788155,
           0.052677841528831294,
           0.09407428033126973
          ],
          "symmetric": false,
          "type": "data"
         },
         "hovertemplate": "ROI: %{y}<br>R2: %{x:1.2f}",
         "legendgroup": "attend-bar",
         "marker": {
          "color": "rgba(0, 0, 0, 1)"
         },
         "name": "<i>attend-bar<i>",
         "orientation": "h",
         "showlegend": true,
         "type": "bar",
         "x": [
          0.36135217785835266,
          0.5866394662857055,
          0.3796139676570892,
          0.3134755795001984,
          0.4008190231323242,
          0.27258040189743044,
          0.286083800792694,
          0.4293187990188599,
          0.45788299989700315,
          0.33071811246871946,
          0.4458105869293213,
          0.3117782638072967
         ],
         "xaxis": "x",
         "y": [
          "V1",
          "V2",
          "V3",
          "V3AB",
          "hMT+",
          "LO",
          "VO",
          "iIPS",
          "sIPS",
          "iPCS",
          "sPCS",
          "mPCS"
         ],
         "yaxis": "y"
        },
        {
         "error_x": {
          "array": [
           0.09881003044360909,
           0.09033571732868621,
           0.12347516300537265,
           0.11733158768483058,
           0.07700649355077929,
           0.04793028820847382,
           0.09655475496379745,
           0.08297129442704343,
           0.0838224006639031,
           0.08869805837460934,
           0.062225044285626877,
           0.09647056492873321
          ],
          "arrayminus": [
           0.09881003044360909,
           0.09033571732868621,
           0.12347516300537265,
           0.11733158768483058,
           0.07700649355077929,
           0.04793028820847382,
           0.09655475496379745,
           0.08297129442704343,
           0.0838224006639031,
           0.08869805837460934,
           0.062225044285626877,
           0.09647056492873321
          ],
          "symmetric": false,
          "type": "data"
         },
         "hovertemplate": "ROI: %{y}<br>R2: %{x:1.2f}",
         "legendgroup": "attend-fix",
         "marker": {
          "color": "rgba(157, 157, 157, 1)"
         },
         "name": "<i>attend-fix<i>",
         "orientation": "h",
         "showlegend": true,
         "type": "bar",
         "x": [
          0.2633320143222808,
          0.5632238626480103,
          0.3221892082691193,
          0.2190190186500549,
          0.30283815598487857,
          0.20706559348106382,
          0.23913409066200253,
          0.35324533009529113,
          0.3805911264419556,
          0.3199339480400085,
          0.38626927947998047,
          0.28054763579368586
         ],
         "xaxis": "x",
         "y": [
          "V1",
          "V2",
          "V3",
          "V3AB",
          "hMT+",
          "LO",
          "VO",
          "iIPS",
          "sIPS",
          "iPCS",
          "sPCS",
          "mPCS"
         ],
         "yaxis": "y"
        }
       ],
       "layout": {
        "annotations": [
         {
          "font": {
           "size": 16
          },
          "showarrow": false,
          "text": "<b>Attention effect</b> (sub-007)",
          "x": 0.5,
          "xanchor": "center",
          "xref": "paper",
          "y": 1,
          "yanchor": "bottom",
          "yref": "paper"
         }
        ],
        "bargap": 0.3,
        "height": 800,
        "legend": {
         "bgcolor": "rgba(255,255,255,0)",
         "tracegroupgap": 1,
         "x": 0.9,
         "xanchor": "left",
         "y": 0.995,
         "yanchor": "top"
        },
        "margin": {
         "b": 70,
         "l": 50,
         "r": 20,
         "t": 50
        },
        "template": {
         "data": {
          "barpolar": [
           {
            "marker": {
             "line": {
              "color": "rgba(0, 0, 0, 1)",
              "width": 1.5
             }
            },
            "showlegend": false,
            "thetaunit": "radians",
            "type": "barpolar"
           }
          ],
          "pie": [
           {
            "direction": "clockwise",
            "hole": 0.4,
            "marker": {
             "line": {
              "color": [
               "rgba(0, 0, 0, 1)",
               "rgba(255,255,255,0)"
              ],
              "width": [
               1.5,
               0
              ]
             }
            },
            "rotation": 0,
            "showlegend": false,
            "sort": false,
            "textposition": [
             "inside",
             "none"
            ],
            "type": "pie"
           }
          ],
          "violin": [
           {
            "box": {
             "visible": false
            },
            "hoveron": "violins",
            "line": {
             "color": "rgba(0, 0, 0, 1)",
             "width": 1.5
            },
            "marker": {
             "opacity": 0.5,
             "symbol": "x"
            },
            "meanline": {
             "color": "rgba(0, 0, 0, 1)",
             "visible": true,
             "width": 1.5
            },
            "opacity": 1,
            "points": false,
            "showlegend": false,
            "type": "violin",
            "width": 0.8
           }
          ]
         },
         "layout": {
          "annotationdefaults": {
           "font": {
            "color": "rgba(0, 0, 0, 1)",
            "family": "Arial",
            "size": 15
           }
          },
          "font": {
           "family": "Arial",
           "size": 13
          },
          "plot_bgcolor": "rgba(255, 255, 255, 1)",
          "polar": {
           "angularaxis": {
            "showticklabels": false,
            "ticks": "",
            "visible": false
           },
           "radialaxis": {
            "showticklabels": false,
            "ticks": "",
            "visible": false
           }
          },
          "xaxis": {
           "color": "rgba(0, 0, 0, 1)",
           "hoverformat": ".1f",
           "linewidth": 2,
           "range": [
            0,
            1
           ],
           "showgrid": false,
           "tickfont": {
            "family": "Arial",
            "size": 13
           },
           "ticklen": 8,
           "ticks": "outside",
           "tickwidth": 2,
           "title": {
            "font": {
             "family": "Arial",
             "size": 15
            }
           },
           "visible": true,
           "zeroline": false,
           "zerolinecolor": "rgba(0, 0, 0, 1)",
           "zerolinewidth": 2
          },
          "yaxis": {
           "color": "rgba(0, 0, 0, 1)",
           "hoverformat": ".1f",
           "linewidth": 2,
           "showgrid": false,
           "tickfont": {
            "family": "Arial",
            "size": 13
           },
           "ticklen": 8,
           "ticks": "outside",
           "tickwidth": 2,
           "title": {
            "font": {
             "family": "Arial",
             "size": 15
            }
           },
           "visible": true,
           "zeroline": false,
           "zerolinecolor": "rgba(0, 0, 0, 1)",
           "zerolinewidth": 2
          }
         }
        },
        "width": 400,
        "xaxis": {
         "anchor": "y",
         "domain": [
          0,
          1
         ],
         "dtick": 0.2,
         "linewidth": 2,
         "range": [
          0,
          0.8
         ],
         "ticklen": 8,
         "title": {
          "text": "R2"
         },
         "type": "linear",
         "visible": true
        },
        "yaxis": {
         "anchor": "x",
         "autorange": true,
         "domain": [
          0,
          1
         ],
         "linewidth": 2,
         "range": [
          11.5,
          -0.5
         ],
         "ticklen": 8,
         "title": {
          "text": ""
         },
         "type": "category",
         "visible": true
        }
       }
      },
      "image/png": "[encoded data removed]",
      "text/html": [
       "<div>                            <div id=\"23e8eaf2-a199-42f4-b38b-4c472508be61\" class=\"plotly-graph-div\" style=\"height:800px; width:400px;\"></div>            <script type=\"text/javascript\">                require([\"plotly\"], function(Plotly) {                    window.PLOTLYENV=window.PLOTLYENV || {};                                    if (document.getElementById(\"23e8eaf2-a199-42f4-b38b-4c472508be61\")) {                    Plotly.newPlot(                        \"23e8eaf2-a199-42f4-b38b-4c472508be61\",                        [{\"error_x\":{\"array\":[0.09597928104740257,0.08410108025786792,0.10912530481988181,0.12075054895880924,0.08233873152016677,0.05515193513013783,0.08963252967541994,0.06831252632155387,0.07642048801849521,0.08099717753788155,0.052677841528831294,0.09407428033126973],\"arrayminus\":[0.09597928104740257,0.08410108025786792,0.10912530481988181,0.12075054895880924,0.08233873152016677,0.05515193513013783,0.08963252967541994,0.06831252632155387,0.07642048801849521,0.08099717753788155,0.052677841528831294,0.09407428033126973],\"symmetric\":false,\"type\":\"data\"},\"hovertemplate\":\"ROI: %{y}<br>R2: %{x:1.2f}\",\"legendgroup\":\"attend-bar\",\"marker\":{\"color\":\"rgba(0, 0, 0, 1)\"},\"name\":\"<i>attend-bar<i>\",\"orientation\":\"h\",\"showlegend\":true,\"x\":[0.36135217785835266,0.5866394662857055,0.3796139676570892,0.3134755795001984,0.4008190231323242,0.27258040189743044,0.286083800792694,0.4293187990188599,0.45788299989700315,0.33071811246871946,0.4458105869293213,0.3117782638072967],\"y\":[\"V1\",\"V2\",\"V3\",\"V3AB\",\"hMT+\",\"LO\",\"VO\",\"iIPS\",\"sIPS\",\"iPCS\",\"sPCS\",\"mPCS\"],\"type\":\"bar\",\"xaxis\":\"x\",\"yaxis\":\"y\"},{\"error_x\":{\"array\":[0.09881003044360909,0.09033571732868621,0.12347516300537265,0.11733158768483058,0.07700649355077929,0.04793028820847382,0.09655475496379745,0.08297129442704343,0.0838224006639031,0.08869805837460934,0.062225044285626877,0.09647056492873321],\"arrayminus\":[0.09881003044360909,0.09033571732868621,0.12347516300537265,0.11733158768483058,0.07700649355077929,0.04793028820847382,0.09655475496379745,0.08297129442704343,0.0838224006639031,0.08869805837460934,0.062225044285626877,0.09647056492873321],\"symmetric\":false,\"type\":\"data\"},\"hovertemplate\":\"ROI: %{y}<br>R2: %{x:1.2f}\",\"legendgroup\":\"attend-fix\",\"marker\":{\"color\":\"rgba(157, 157, 157, 1)\"},\"name\":\"<i>attend-fix<i>\",\"orientation\":\"h\",\"showlegend\":true,\"x\":[0.2633320143222808,0.5632238626480103,0.3221892082691193,0.2190190186500549,0.30283815598487857,0.20706559348106382,0.23913409066200253,0.35324533009529113,0.3805911264419556,0.3199339480400085,0.38626927947998047,0.28054763579368586],\"y\":[\"V1\",\"V2\",\"V3\",\"V3AB\",\"hMT+\",\"LO\",\"VO\",\"iIPS\",\"sIPS\",\"iPCS\",\"sPCS\",\"mPCS\"],\"type\":\"bar\",\"xaxis\":\"x\",\"yaxis\":\"y\"}],                        {\"template\":{\"data\":{\"barpolar\":[{\"marker\":{\"line\":{\"color\":\"rgba(0,0,0,1)\",\"width\":1.5}},\"showlegend\":false,\"thetaunit\":\"radians\",\"type\":\"barpolar\"}],\"pie\":[{\"direction\":\"clockwise\",\"hole\":0.4,\"marker\":{\"line\":{\"color\":[\"rgba(0,0,0,1)\",\"rgba(255,255,255,0)\"],\"width\":[1.5,0]}},\"rotation\":0,\"showlegend\":false,\"sort\":false,\"textposition\":[\"inside\",\"none\"],\"type\":\"pie\"}],\"violin\":[{\"box\":{\"visible\":false},\"hoveron\":\"violins\",\"line\":{\"color\":\"rgba(0, 0, 0, 1)\",\"width\":1.5},\"marker\":{\"opacity\":0.5,\"symbol\":\"x\"},\"meanline\":{\"color\":\"rgba(0, 0, 0, 1)\",\"visible\":true,\"width\":1.5},\"opacity\":1,\"points\":false,\"showlegend\":false,\"width\":0.8,\"type\":\"violin\"}]},\"layout\":{\"annotationdefaults\":{\"font\":{\"color\":\"rgba(0, 0, 0, 1)\",\"family\":\"Arial\",\"size\":15}},\"font\":{\"family\":\"Arial\",\"size\":13},\"plot_bgcolor\":\"rgba(255, 255, 255, 1)\",\"polar\":{\"angularaxis\":{\"showticklabels\":false,\"ticks\":\"\",\"visible\":false},\"radialaxis\":{\"showticklabels\":false,\"ticks\":\"\",\"visible\":false}},\"xaxis\":{\"color\":\"rgba(0, 0, 0, 1)\",\"hoverformat\":\".1f\",\"linewidth\":2,\"range\":[0,1],\"showgrid\":false,\"tickfont\":{\"family\":\"Arial\",\"size\":13},\"ticklen\":8,\"ticks\":\"outside\",\"tickwidth\":2,\"title\":{\"font\":{\"family\":\"Arial\",\"size\":15}},\"visible\":true,\"zeroline\":false,\"zerolinecolor\":\"rgba(0, 0, 0, 1)\",\"zerolinewidth\":2},\"yaxis\":{\"color\":\"rgba(0, 0, 0, 1)\",\"hoverformat\":\".1f\",\"linewidth\":2,\"showgrid\":false,\"tickfont\":{\"family\":\"Arial\",\"size\":13},\"ticklen\":8,\"ticks\":\"outside\",\"tickwidth\":2,\"title\":{\"font\":{\"family\":\"Arial\",\"size\":15}},\"visible\":true,\"zeroline\":false,\"zerolinecolor\":\"rgba(0, 0, 0, 1)\",\"zerolinewidth\":2}}},\"xaxis\":{\"anchor\":\"y\",\"domain\":[0.0,1.0],\"visible\":true,\"ticklen\":8,\"linewidth\":2,\"range\":[0,0.8],\"title\":{\"text\":\"R2\"},\"dtick\":0.2},\"yaxis\":{\"anchor\":\"x\",\"domain\":[0.0,1.0],\"visible\":true,\"ticklen\":8,\"linewidth\":2,\"autorange\":\"reversed\",\"title\":{\"text\":\"\"}},\"annotations\":[{\"font\":{\"size\":16},\"showarrow\":false,\"text\":\"<b>Attention effect</b> (sub-007)\",\"x\":0.5,\"xanchor\":\"center\",\"xref\":\"paper\",\"y\":1.0,\"yanchor\":\"bottom\",\"yref\":\"paper\"}],\"margin\":{\"l\":50,\"r\":20,\"t\":50,\"b\":70},\"legend\":{\"yanchor\":\"top\",\"y\":0.995,\"xanchor\":\"left\",\"x\":0.9,\"bgcolor\":\"rgba(255,255,255,0)\",\"tracegroupgap\":1},\"bargap\":0.3,\"width\":400,\"height\":800},                        {\"displayModeBar\": false, \"responsive\": true}                    ).then(function(){\n",
       "                            \n",
       "var gd = document.getElementById('23e8eaf2-a199-42f4-b38b-4c472508be61');\n",
       "var x = new MutationObserver(function (mutations, observer) {{\n",
       "        var display = window.getComputedStyle(gd).display;\n",
       "        if (!display || display === 'none') {{\n",
       "            console.log([gd, 'removed!']);\n",
       "            Plotly.purge(gd);\n",
       "            observer.disconnect();\n",
       "        }}\n",
       "}});\n",
       "\n",
       "// Listen for the removal of the full notebook cells\n",
       "var notebookContainer = gd.closest('#notebook-container');\n",
       "if (notebookContainer) {{\n",
       "    x.observe(notebookContainer, {childList: true});\n",
       "}}\n",
       "\n",
       "// Listen for the clearing of the current output cell\n",
       "var outputEl = gd.closest('.output');\n",
       "if (outputEl) {{\n",
       "    x.observe(outputEl, {childList: true});\n",
       "}}\n",
       "\n",
       "                        })                };                });            </script>        </div>"
      ]
     },
     "metadata": {},
     "output_type": "display_data"
    },
    {
     "data": {
      "application/vnd.plotly.v1+json": {
       "config": {
        "displayModeBar": false,
        "plotlyServerURL": "https://plot.ly"
       },
       "data": [
        {
         "error_x": {
          "array": [
           0.10545235716956068,
           0.07410456627449387,
           0.0929522825034382,
           0.08982028628932612,
           0.06422422504313498,
           0.07702682542482563,
           0.09021760007220822,
           0.10257608932013416,
           0.09603618223374483,
           0.06277299259993092,
           0.08046863726848014,
           0.09000316387521363
          ],
          "arrayminus": [
           0.10545235716956068,
           0.07410456627449387,
           0.0929522825034382,
           0.08982028628932612,
           0.06422422504313498,
           0.07702682542482563,
           0.09021760007220822,
           0.10257608932013416,
           0.09603618223374483,
           0.06277299259993092,
           0.08046863726848014,
           0.09000316387521363
          ],
          "symmetric": false,
          "type": "data"
         },
         "hovertemplate": "ROI: %{y}<br>R2: %{x:1.2f}",
         "legendgroup": "attend-bar",
         "marker": {
          "color": "rgba(0, 0, 0, 1)"
         },
         "name": "<i>attend-bar<i>",
         "orientation": "h",
         "showlegend": true,
         "type": "bar",
         "x": [
          0.45759139919281006,
          0.6795582597255707,
          0.5971197710037232,
          0.5646438024044037,
          0.5208450696468353,
          0.5401573402881622,
          0.49626960515975954,
          0.4396196632385254,
          0.3406233730316162,
          0.32638679385185243,
          0.41123965430259707,
          0.42165342259407046
         ],
         "xaxis": "x",
         "y": [
          "V1",
          "V2",
          "V3",
          "V3AB",
          "hMT+",
          "LO",
          "VO",
          "iIPS",
          "sIPS",
          "iPCS",
          "sPCS",
          "mPCS"
         ],
         "yaxis": "y"
        },
        {
         "error_x": {
          "array": [
           0.08423720446150028,
           0.08585823404558218,
           0.09120444442304679,
           0.12840876979252094,
           0.062086637016918696,
           0.06736500188854293,
           0.07791791280624065,
           0.08248204324422315,
           0.09410247135319315,
           0.06967799291585221,
           0.07238569777837398,
           0.09313564907973747
          ],
          "arrayminus": [
           0.08423720446150028,
           0.08585823404558218,
           0.09120444442304679,
           0.12840876979252094,
           0.062086637016918696,
           0.06736500188854293,
           0.07791791280624065,
           0.08248204324422315,
           0.09410247135319315,
           0.06967799291585221,
           0.07238569777837398,
           0.09313564907973747
          ],
          "symmetric": false,
          "type": "data"
         },
         "hovertemplate": "ROI: %{y}<br>R2: %{x:1.2f}",
         "legendgroup": "attend-fix",
         "marker": {
          "color": "rgba(157, 157, 157, 1)"
         },
         "name": "<i>attend-fix<i>",
         "orientation": "h",
         "showlegend": true,
         "type": "bar",
         "x": [
          0.4929346807003021,
          0.5733009586334229,
          0.44008853340148923,
          0.4099443550109863,
          0.48633158659935,
          0.45314826226234434,
          0.5036662926673889,
          0.4199501848220825,
          0.31265984296798705,
          0.25923367881774895,
          0.39782780027389525,
          0.40391628170013427
         ],
         "xaxis": "x",
         "y": [
          "V1",
          "V2",
          "V3",
          "V3AB",
          "hMT+",
          "LO",
          "VO",
          "iIPS",
          "sIPS",
          "iPCS",
          "sPCS",
          "mPCS"
         ],
         "yaxis": "y"
        }
       ],
       "layout": {
        "annotations": [
         {
          "font": {
           "size": 16
          },
          "showarrow": false,
          "text": "<b>Attention effect</b> (sub-008)",
          "x": 0.5,
          "xanchor": "center",
          "xref": "paper",
          "y": 1,
          "yanchor": "bottom",
          "yref": "paper"
         }
        ],
        "bargap": 0.3,
        "height": 800,
        "legend": {
         "bgcolor": "rgba(255,255,255,0)",
         "tracegroupgap": 1,
         "x": 0.9,
         "xanchor": "left",
         "y": 0.995,
         "yanchor": "top"
        },
        "margin": {
         "b": 70,
         "l": 50,
         "r": 20,
         "t": 50
        },
        "template": {
         "data": {
          "barpolar": [
           {
            "marker": {
             "line": {
              "color": "rgba(0, 0, 0, 1)",
              "width": 1.5
             }
            },
            "showlegend": false,
            "thetaunit": "radians",
            "type": "barpolar"
           }
          ],
          "pie": [
           {
            "direction": "clockwise",
            "hole": 0.4,
            "marker": {
             "line": {
              "color": [
               "rgba(0, 0, 0, 1)",
               "rgba(255,255,255,0)"
              ],
              "width": [
               1.5,
               0
              ]
             }
            },
            "rotation": 0,
            "showlegend": false,
            "sort": false,
            "textposition": [
             "inside",
             "none"
            ],
            "type": "pie"
           }
          ],
          "violin": [
           {
            "box": {
             "visible": false
            },
            "hoveron": "violins",
            "line": {
             "color": "rgba(0, 0, 0, 1)",
             "width": 1.5
            },
            "marker": {
             "opacity": 0.5,
             "symbol": "x"
            },
            "meanline": {
             "color": "rgba(0, 0, 0, 1)",
             "visible": true,
             "width": 1.5
            },
            "opacity": 1,
            "points": false,
            "showlegend": false,
            "type": "violin",
            "width": 0.8
           }
          ]
         },
         "layout": {
          "annotationdefaults": {
           "font": {
            "color": "rgba(0, 0, 0, 1)",
            "family": "Arial",
            "size": 15
           }
          },
          "font": {
           "family": "Arial",
           "size": 13
          },
          "plot_bgcolor": "rgba(255, 255, 255, 1)",
          "polar": {
           "angularaxis": {
            "showticklabels": false,
            "ticks": "",
            "visible": false
           },
           "radialaxis": {
            "showticklabels": false,
            "ticks": "",
            "visible": false
           }
          },
          "xaxis": {
           "color": "rgba(0, 0, 0, 1)",
           "hoverformat": ".1f",
           "linewidth": 2,
           "range": [
            0,
            1
           ],
           "showgrid": false,
           "tickfont": {
            "family": "Arial",
            "size": 13
           },
           "ticklen": 8,
           "ticks": "outside",
           "tickwidth": 2,
           "title": {
            "font": {
             "family": "Arial",
             "size": 15
            }
           },
           "visible": true,
           "zeroline": false,
           "zerolinecolor": "rgba(0, 0, 0, 1)",
           "zerolinewidth": 2
          },
          "yaxis": {
           "color": "rgba(0, 0, 0, 1)",
           "hoverformat": ".1f",
           "linewidth": 2,
           "showgrid": false,
           "tickfont": {
            "family": "Arial",
            "size": 13
           },
           "ticklen": 8,
           "ticks": "outside",
           "tickwidth": 2,
           "title": {
            "font": {
             "family": "Arial",
             "size": 15
            }
           },
           "visible": true,
           "zeroline": false,
           "zerolinecolor": "rgba(0, 0, 0, 1)",
           "zerolinewidth": 2
          }
         }
        },
        "width": 400,
        "xaxis": {
         "anchor": "y",
         "domain": [
          0,
          1
         ],
         "dtick": 0.2,
         "linewidth": 2,
         "range": [
          0,
          0.8
         ],
         "ticklen": 8,
         "title": {
          "text": "R2"
         },
         "type": "linear",
         "visible": true
        },
        "yaxis": {
         "anchor": "x",
         "autorange": true,
         "domain": [
          0,
          1
         ],
         "linewidth": 2,
         "range": [
          11.5,
          -0.5
         ],
         "ticklen": 8,
         "title": {
          "text": ""
         },
         "type": "category",
         "visible": true
        }
       }
      },
      "image/png": "[encoded data removed]",
      "text/html": [
       "<div>                            <div id=\"f846c263-305e-4cce-accd-388219f4c093\" class=\"plotly-graph-div\" style=\"height:800px; width:400px;\"></div>            <script type=\"text/javascript\">                require([\"plotly\"], function(Plotly) {                    window.PLOTLYENV=window.PLOTLYENV || {};                                    if (document.getElementById(\"f846c263-305e-4cce-accd-388219f4c093\")) {                    Plotly.newPlot(                        \"f846c263-305e-4cce-accd-388219f4c093\",                        [{\"error_x\":{\"array\":[0.10545235716956068,0.07410456627449387,0.0929522825034382,0.08982028628932612,0.06422422504313498,0.07702682542482563,0.09021760007220822,0.10257608932013416,0.09603618223374483,0.06277299259993092,0.08046863726848014,0.09000316387521363],\"arrayminus\":[0.10545235716956068,0.07410456627449387,0.0929522825034382,0.08982028628932612,0.06422422504313498,0.07702682542482563,0.09021760007220822,0.10257608932013416,0.09603618223374483,0.06277299259993092,0.08046863726848014,0.09000316387521363],\"symmetric\":false,\"type\":\"data\"},\"hovertemplate\":\"ROI: %{y}<br>R2: %{x:1.2f}\",\"legendgroup\":\"attend-bar\",\"marker\":{\"color\":\"rgba(0, 0, 0, 1)\"},\"name\":\"<i>attend-bar<i>\",\"orientation\":\"h\",\"showlegend\":true,\"x\":[0.45759139919281006,0.6795582597255707,0.5971197710037232,0.5646438024044037,0.5208450696468353,0.5401573402881622,0.49626960515975954,0.4396196632385254,0.3406233730316162,0.32638679385185243,0.41123965430259707,0.42165342259407046],\"y\":[\"V1\",\"V2\",\"V3\",\"V3AB\",\"hMT+\",\"LO\",\"VO\",\"iIPS\",\"sIPS\",\"iPCS\",\"sPCS\",\"mPCS\"],\"type\":\"bar\",\"xaxis\":\"x\",\"yaxis\":\"y\"},{\"error_x\":{\"array\":[0.08423720446150028,0.08585823404558218,0.09120444442304679,0.12840876979252094,0.062086637016918696,0.06736500188854293,0.07791791280624065,0.08248204324422315,0.09410247135319315,0.06967799291585221,0.07238569777837398,0.09313564907973747],\"arrayminus\":[0.08423720446150028,0.08585823404558218,0.09120444442304679,0.12840876979252094,0.062086637016918696,0.06736500188854293,0.07791791280624065,0.08248204324422315,0.09410247135319315,0.06967799291585221,0.07238569777837398,0.09313564907973747],\"symmetric\":false,\"type\":\"data\"},\"hovertemplate\":\"ROI: %{y}<br>R2: %{x:1.2f}\",\"legendgroup\":\"attend-fix\",\"marker\":{\"color\":\"rgba(157, 157, 157, 1)\"},\"name\":\"<i>attend-fix<i>\",\"orientation\":\"h\",\"showlegend\":true,\"x\":[0.4929346807003021,0.5733009586334229,0.44008853340148923,0.4099443550109863,0.48633158659935,0.45314826226234434,0.5036662926673889,0.4199501848220825,0.31265984296798705,0.25923367881774895,0.39782780027389525,0.40391628170013427],\"y\":[\"V1\",\"V2\",\"V3\",\"V3AB\",\"hMT+\",\"LO\",\"VO\",\"iIPS\",\"sIPS\",\"iPCS\",\"sPCS\",\"mPCS\"],\"type\":\"bar\",\"xaxis\":\"x\",\"yaxis\":\"y\"}],                        {\"template\":{\"data\":{\"barpolar\":[{\"marker\":{\"line\":{\"color\":\"rgba(0,0,0,1)\",\"width\":1.5}},\"showlegend\":false,\"thetaunit\":\"radians\",\"type\":\"barpolar\"}],\"pie\":[{\"direction\":\"clockwise\",\"hole\":0.4,\"marker\":{\"line\":{\"color\":[\"rgba(0,0,0,1)\",\"rgba(255,255,255,0)\"],\"width\":[1.5,0]}},\"rotation\":0,\"showlegend\":false,\"sort\":false,\"textposition\":[\"inside\",\"none\"],\"type\":\"pie\"}],\"violin\":[{\"box\":{\"visible\":false},\"hoveron\":\"violins\",\"line\":{\"color\":\"rgba(0, 0, 0, 1)\",\"width\":1.5},\"marker\":{\"opacity\":0.5,\"symbol\":\"x\"},\"meanline\":{\"color\":\"rgba(0, 0, 0, 1)\",\"visible\":true,\"width\":1.5},\"opacity\":1,\"points\":false,\"showlegend\":false,\"width\":0.8,\"type\":\"violin\"}]},\"layout\":{\"annotationdefaults\":{\"font\":{\"color\":\"rgba(0, 0, 0, 1)\",\"family\":\"Arial\",\"size\":15}},\"font\":{\"family\":\"Arial\",\"size\":13},\"plot_bgcolor\":\"rgba(255, 255, 255, 1)\",\"polar\":{\"angularaxis\":{\"showticklabels\":false,\"ticks\":\"\",\"visible\":false},\"radialaxis\":{\"showticklabels\":false,\"ticks\":\"\",\"visible\":false}},\"xaxis\":{\"color\":\"rgba(0, 0, 0, 1)\",\"hoverformat\":\".1f\",\"linewidth\":2,\"range\":[0,1],\"showgrid\":false,\"tickfont\":{\"family\":\"Arial\",\"size\":13},\"ticklen\":8,\"ticks\":\"outside\",\"tickwidth\":2,\"title\":{\"font\":{\"family\":\"Arial\",\"size\":15}},\"visible\":true,\"zeroline\":false,\"zerolinecolor\":\"rgba(0, 0, 0, 1)\",\"zerolinewidth\":2},\"yaxis\":{\"color\":\"rgba(0, 0, 0, 1)\",\"hoverformat\":\".1f\",\"linewidth\":2,\"showgrid\":false,\"tickfont\":{\"family\":\"Arial\",\"size\":13},\"ticklen\":8,\"ticks\":\"outside\",\"tickwidth\":2,\"title\":{\"font\":{\"family\":\"Arial\",\"size\":15}},\"visible\":true,\"zeroline\":false,\"zerolinecolor\":\"rgba(0, 0, 0, 1)\",\"zerolinewidth\":2}}},\"xaxis\":{\"anchor\":\"y\",\"domain\":[0.0,1.0],\"visible\":true,\"ticklen\":8,\"linewidth\":2,\"range\":[0,0.8],\"title\":{\"text\":\"R2\"},\"dtick\":0.2},\"yaxis\":{\"anchor\":\"x\",\"domain\":[0.0,1.0],\"visible\":true,\"ticklen\":8,\"linewidth\":2,\"autorange\":\"reversed\",\"title\":{\"text\":\"\"}},\"annotations\":[{\"font\":{\"size\":16},\"showarrow\":false,\"text\":\"<b>Attention effect</b> (sub-008)\",\"x\":0.5,\"xanchor\":\"center\",\"xref\":\"paper\",\"y\":1.0,\"yanchor\":\"bottom\",\"yref\":\"paper\"}],\"margin\":{\"l\":50,\"r\":20,\"t\":50,\"b\":70},\"legend\":{\"yanchor\":\"top\",\"y\":0.995,\"xanchor\":\"left\",\"x\":0.9,\"bgcolor\":\"rgba(255,255,255,0)\",\"tracegroupgap\":1},\"bargap\":0.3,\"width\":400,\"height\":800},                        {\"displayModeBar\": false, \"responsive\": true}                    ).then(function(){\n",
       "                            \n",
       "var gd = document.getElementById('f846c263-305e-4cce-accd-388219f4c093');\n",
       "var x = new MutationObserver(function (mutations, observer) {{\n",
       "        var display = window.getComputedStyle(gd).display;\n",
       "        if (!display || display === 'none') {{\n",
       "            console.log([gd, 'removed!']);\n",
       "            Plotly.purge(gd);\n",
       "            observer.disconnect();\n",
       "        }}\n",
       "}});\n",
       "\n",
       "// Listen for the removal of the full notebook cells\n",
       "var notebookContainer = gd.closest('#notebook-container');\n",
       "if (notebookContainer) {{\n",
       "    x.observe(notebookContainer, {childList: true});\n",
       "}}\n",
       "\n",
       "// Listen for the clearing of the current output cell\n",
       "var outputEl = gd.closest('.output');\n",
       "if (outputEl) {{\n",
       "    x.observe(outputEl, {childList: true});\n",
       "}}\n",
       "\n",
       "                        })                };                });            </script>        </div>"
      ]
     },
     "metadata": {},
     "output_type": "display_data"
    },
    {
     "data": {
      "application/vnd.plotly.v1+json": {
       "config": {
        "displayModeBar": false,
        "plotlyServerURL": "https://plot.ly"
       },
       "data": [
        {
         "error_x": {
          "array": [
           null,
           null,
           null,
           null,
           null,
           null,
           null,
           null,
           null,
           null,
           null,
           null,
           null,
           null,
           null,
           null,
           null,
           null,
           null,
           null,
           null,
           null,
           null,
           null,
           null,
           null,
           null,
           null,
           null,
           null,
           null,
           null,
           null,
           null,
           null,
           null,
           null,
           null,
           null,
           null,
           null,
           null,
           null,
           null,
           null,
           null,
           null,
           null,
           null,
           null,
           null,
           null,
           null,
           null,
           null,
           null,
           null,
           null,
           null,
           null,
           null,
           null,
           null,
           null,
           null,
           null,
           null,
           null,
           null,
           null,
           null,
           null,
           null,
           null,
           null,
           null,
           null,
           null,
           null,
           null,
           null,
           null,
           null,
           null,
           null,
           null,
           null,
           null,
           null,
           null,
           null,
           null,
           null,
           null,
           null,
           null
          ],
          "arrayminus": [
           null,
           null,
           null,
           null,
           null,
           null,
           null,
           null,
           null,
           null,
           null,
           null,
           null,
           null,
           null,
           null,
           null,
           null,
           null,
           null,
           null,
           null,
           null,
           null,
           null,
           null,
           null,
           null,
           null,
           null,
           null,
           null,
           null,
           null,
           null,
           null,
           null,
           null,
           null,
           null,
           null,
           null,
           null,
           null,
           null,
           null,
           null,
           null,
           null,
           null,
           null,
           null,
           null,
           null,
           null,
           null,
           null,
           null,
           null,
           null,
           null,
           null,
           null,
           null,
           null,
           null,
           null,
           null,
           null,
           null,
           null,
           null,
           null,
           null,
           null,
           null,
           null,
           null,
           null,
           null,
           null,
           null,
           null,
           null,
           null,
           null,
           null,
           null,
           null,
           null,
           null,
           null,
           null,
           null,
           null,
           null
          ],
          "symmetric": false,
          "type": "data"
         },
         "hovertemplate": "ROI: %{y}<br>R2: %{x:1.2f}",
         "legendgroup": "attend-bar",
         "marker": {
          "color": "rgba(0, 0, 0, 1)"
         },
         "name": "<i>attend-bar<i>",
         "orientation": "h",
         "showlegend": true,
         "type": "bar",
         "x": [
          0.4260676116943359,
          0.4775913290977478,
          0.4735196008682251,
          0.5083701305389404,
          0.4292623252868652,
          0.4158513793945312,
          0.4408241610527038,
          0.2316611142158508,
          0.2560682456493378,
          0.2460574281215667,
          0.3523577344417572,
          0.3354206917285919,
          0.2655884466171264,
          0.3605833823680878,
          0.2626072332859039,
          0.2779349031448364,
          0.3055575234889984,
          0.3194195501804351,
          0.3000108339786529,
          0.2195878939628601,
          0.1768010816574096,
          0.1152591960430145,
          0.2512394976615906,
          0.2393758764266967,
          0.4862296342849731,
          0.5565551586151123,
          0.5473548359870911,
          0.5574464771747589,
          0.5138634529113769,
          0.5447612800598145,
          0.5074781150817871,
          0.3404042296409607,
          0.3125123698711395,
          0.2109790685176849,
          0.4851290962696075,
          0.4329047102928162,
          0.4631612226963043,
          0.5896638917922974,
          0.4841726765632629,
          0.5280743458271027,
          0.4828776240348816,
          0.5449738533496856,
          0.5395653381347656,
          0.5011963591575622,
          0.3385153489112854,
          0.3327420468330383,
          0.4015849797725677,
          0.4050328614711761,
          0.2956205501556396,
          0.4126303832530975,
          0.3998601632118225,
          0.3790892579555511,
          0.3809435164928436,
          0.4083554961681366,
          0.3224574139118195,
          0.2529033486843109,
          0.2239208812713623,
          0.1355736815929412,
          0.2405021262168884,
          0.1466454455852508,
          0.5164217414855957,
          0.47617689204216,
          0.4477725689411163,
          0.4261848428249359,
          0.4528627171516418,
          0.5168236861228943,
          0.4275353600978851,
          0.363591376543045,
          0.3167203409671783,
          0.1938518664836883,
          0.4175030648708343,
          0.2604453315734863,
          0.3613521778583526,
          0.5866394662857055,
          0.3796139676570892,
          0.3134755795001984,
          0.4008190231323242,
          0.2725804018974304,
          0.2860838007926941,
          0.4293187990188599,
          0.4578829998970031,
          0.3307181124687194,
          0.4458105869293213,
          0.3117782638072967,
          0.45759139919281,
          0.6795582597255707,
          0.5971197710037232,
          0.5646438024044037,
          0.5208450696468353,
          0.5401573402881622,
          0.4962696051597595,
          0.4396196632385254,
          0.3406233730316162,
          0.3263867938518524,
          0.411239654302597,
          0.4216534225940704
         ],
         "xaxis": "x",
         "y": [
          "V1",
          "V2",
          "V3",
          "V3AB",
          "hMT+",
          "LO",
          "VO",
          "iIPS",
          "sIPS",
          "iPCS",
          "sPCS",
          "mPCS"
         ],
         "yaxis": "y"
        },
        {
         "error_x": {
          "array": [
           null,
           null,
           null,
           null,
           null,
           null,
           null,
           null,
           null,
           null,
           null,
           null,
           null,
           null,
           null,
           null,
           null,
           null,
           null,
           null,
           null,
           null,
           null,
           null,
           null,
           null,
           null,
           null,
           null,
           null,
           null,
           null,
           null,
           null,
           null,
           null,
           null,
           null,
           null,
           null,
           null,
           null,
           null,
           null,
           null,
           null,
           null,
           null,
           null,
           null,
           null,
           null,
           null,
           null,
           null,
           null,
           null,
           null,
           null,
           null,
           null,
           null,
           null,
           null,
           null,
           null,
           null,
           null,
           null,
           null,
           null,
           null,
           null,
           null,
           null,
           null,
           null,
           null,
           null,
           null,
           null,
           null,
           null,
           null,
           null,
           null,
           null,
           null,
           null,
           null,
           null,
           null,
           null,
           null,
           null,
           null
          ],
          "arrayminus": [
           null,
           null,
           null,
           null,
           null,
           null,
           null,
           null,
           null,
           null,
           null,
           null,
           null,
           null,
           null,
           null,
           null,
           null,
           null,
           null,
           null,
           null,
           null,
           null,
           null,
           null,
           null,
           null,
           null,
           null,
           null,
           null,
           null,
           null,
           null,
           null,
           null,
           null,
           null,
           null,
           null,
           null,
           null,
           null,
           null,
           null,
           null,
           null,
           null,
           null,
           null,
           null,
           null,
           null,
           null,
           null,
           null,
           null,
           null,
           null,
           null,
           null,
           null,
           null,
           null,
           null,
           null,
           null,
           null,
           null,
           null,
           null,
           null,
           null,
           null,
           null,
           null,
           null,
           null,
           null,
           null,
           null,
           null,
           null,
           null,
           null,
           null,
           null,
           null,
           null,
           null,
           null,
           null,
           null,
           null,
           null
          ],
          "symmetric": false,
          "type": "data"
         },
         "hovertemplate": "ROI: %{y}<br>R2: %{x:1.2f}",
         "legendgroup": "attend-fix",
         "marker": {
          "color": "rgba(157, 157, 157, 1)"
         },
         "name": "<i>attend-fix<i>",
         "orientation": "h",
         "showlegend": true,
         "type": "bar",
         "x": [
          0.4623697891235351,
          0.445955019235611,
          0.3652893996238708,
          0.3856061153411865,
          0.3584255588054656,
          0.3545361452102661,
          0.422024001121521,
          0.2651338543891907,
          0.2824550397396088,
          0.2463200614452362,
          0.3413454439640045,
          0.3442444298267365,
          0.2715123345851898,
          0.2879546744823456,
          0.1558977634906768,
          0.1314763538837433,
          0.1732761363983154,
          0.2412463815212249,
          0.2255261833667755,
          0.1298036735057831,
          0.1378587481975555,
          0.0995260961055755,
          0.1683609573841095,
          0.1236100432872772,
          0.4106753280162811,
          0.4584183895587921,
          0.3747720465660095,
          0.4077310688495636,
          0.3164543483257294,
          0.4033347811698913,
          0.3584374959468842,
          0.2315456898212433,
          0.2758990590572357,
          0.1720045757293701,
          0.3552783532142639,
          0.3363150932788848,
          0.5169514522552491,
          0.5762161617279052,
          0.4556640069484711,
          0.5166883513927459,
          0.3784004418849945,
          0.4434210774898529,
          0.4688087017536163,
          0.446335506439209,
          0.2630862407684326,
          0.239774316072464,
          0.3071470217704773,
          0.2926746366024017,
          0.2248763225078582,
          0.3146335921287536,
          0.2612123785018921,
          0.2592906992435455,
          0.222967561006546,
          0.2607990169525147,
          0.2356032876968384,
          0.130737164735794,
          0.1264536800384521,
          0.1381111536026001,
          0.1433964939117431,
          0.092064343214035,
          0.4312259771823883,
          0.3365498125553131,
          0.2781421496868133,
          0.2338942363262176,
          0.325733514547348,
          0.476227680683136,
          0.3586988151073456,
          0.3364709231853485,
          0.2640841560363769,
          0.1494831128120422,
          0.3871513566970825,
          0.2170657334327697,
          0.2633320143222808,
          0.5632238626480103,
          0.3221892082691193,
          0.2190190186500549,
          0.3028381559848785,
          0.2070655934810638,
          0.2391340906620025,
          0.3532453300952911,
          0.3805911264419556,
          0.3199339480400085,
          0.3862692794799804,
          0.2805476357936859,
          0.4929346807003021,
          0.5733009586334229,
          0.4400885334014892,
          0.4099443550109863,
          0.48633158659935,
          0.4531482622623443,
          0.5036662926673889,
          0.4199501848220825,
          0.312659842967987,
          0.259233678817749,
          0.3978278002738952,
          0.4039162817001342
         ],
         "xaxis": "x",
         "y": [
          "V1",
          "V2",
          "V3",
          "V3AB",
          "hMT+",
          "LO",
          "VO",
          "iIPS",
          "sIPS",
          "iPCS",
          "sPCS",
          "mPCS"
         ],
         "yaxis": "y"
        }
       ],
       "layout": {
        "annotations": [
         {
          "font": {
           "size": 16
          },
          "showarrow": false,
          "text": "<b>Attention effect</b> (group)",
          "x": 0.5,
          "xanchor": "center",
          "xref": "paper",
          "y": 1,
          "yanchor": "bottom",
          "yref": "paper"
         }
        ],
        "bargap": 0.3,
        "height": 800,
        "legend": {
         "bgcolor": "rgba(255,255,255,0)",
         "tracegroupgap": 1,
         "x": 0.9,
         "xanchor": "left",
         "y": 0.995,
         "yanchor": "top"
        },
        "margin": {
         "b": 70,
         "l": 50,
         "r": 20,
         "t": 50
        },
        "template": {
         "data": {
          "barpolar": [
           {
            "marker": {
             "line": {
              "color": "rgba(0, 0, 0, 1)",
              "width": 1.5
             }
            },
            "showlegend": false,
            "thetaunit": "radians",
            "type": "barpolar"
           }
          ],
          "pie": [
           {
            "direction": "clockwise",
            "hole": 0.4,
            "marker": {
             "line": {
              "color": [
               "rgba(0, 0, 0, 1)",
               "rgba(255,255,255,0)"
              ],
              "width": [
               1.5,
               0
              ]
             }
            },
            "rotation": 0,
            "showlegend": false,
            "sort": false,
            "textposition": [
             "inside",
             "none"
            ],
            "type": "pie"
           }
          ],
          "violin": [
           {
            "box": {
             "visible": false
            },
            "hoveron": "violins",
            "line": {
             "color": "rgba(0, 0, 0, 1)",
             "width": 1.5
            },
            "marker": {
             "opacity": 0.5,
             "symbol": "x"
            },
            "meanline": {
             "color": "rgba(0, 0, 0, 1)",
             "visible": true,
             "width": 1.5
            },
            "opacity": 1,
            "points": false,
            "showlegend": false,
            "type": "violin",
            "width": 0.8
           }
          ]
         },
         "layout": {
          "annotationdefaults": {
           "font": {
            "color": "rgba(0, 0, 0, 1)",
            "family": "Arial",
            "size": 15
           }
          },
          "font": {
           "family": "Arial",
           "size": 13
          },
          "plot_bgcolor": "rgba(255, 255, 255, 1)",
          "polar": {
           "angularaxis": {
            "showticklabels": false,
            "ticks": "",
            "visible": false
           },
           "radialaxis": {
            "showticklabels": false,
            "ticks": "",
            "visible": false
           }
          },
          "xaxis": {
           "color": "rgba(0, 0, 0, 1)",
           "hoverformat": ".1f",
           "linewidth": 2,
           "range": [
            0,
            1
           ],
           "showgrid": false,
           "tickfont": {
            "family": "Arial",
            "size": 13
           },
           "ticklen": 8,
           "ticks": "outside",
           "tickwidth": 2,
           "title": {
            "font": {
             "family": "Arial",
             "size": 15
            }
           },
           "visible": true,
           "zeroline": false,
           "zerolinecolor": "rgba(0, 0, 0, 1)",
           "zerolinewidth": 2
          },
          "yaxis": {
           "color": "rgba(0, 0, 0, 1)",
           "hoverformat": ".1f",
           "linewidth": 2,
           "showgrid": false,
           "tickfont": {
            "family": "Arial",
            "size": 13
           },
           "ticklen": 8,
           "ticks": "outside",
           "tickwidth": 2,
           "title": {
            "font": {
             "family": "Arial",
             "size": 15
            }
           },
           "visible": true,
           "zeroline": false,
           "zerolinecolor": "rgba(0, 0, 0, 1)",
           "zerolinewidth": 2
          }
         }
        },
        "width": 400,
        "xaxis": {
         "anchor": "y",
         "domain": [
          0,
          1
         ],
         "dtick": 0.2,
         "linewidth": 2,
         "range": [
          0,
          0.8
         ],
         "ticklen": 8,
         "title": {
          "text": "R2"
         },
         "type": "linear",
         "visible": true
        },
        "yaxis": {
         "anchor": "x",
         "autorange": true,
         "domain": [
          0,
          1
         ],
         "linewidth": 2,
         "range": [
          11.5,
          -0.5
         ],
         "ticklen": 8,
         "title": {
          "text": ""
         },
         "type": "category",
         "visible": true
        }
       }
      },
      "image/png": "[encoded data removed]",
      "text/html": [
       "<div>                            <div id=\"7b0829ed-96db-43f8-bcea-76829d972840\" class=\"plotly-graph-div\" style=\"height:800px; width:400px;\"></div>            <script type=\"text/javascript\">                require([\"plotly\"], function(Plotly) {                    window.PLOTLYENV=window.PLOTLYENV || {};                                    if (document.getElementById(\"7b0829ed-96db-43f8-bcea-76829d972840\")) {                    Plotly.newPlot(                        \"7b0829ed-96db-43f8-bcea-76829d972840\",                        [{\"error_x\":{\"array\":[null,null,null,null,null,null,null,null,null,null,null,null,null,null,null,null,null,null,null,null,null,null,null,null,null,null,null,null,null,null,null,null,null,null,null,null,null,null,null,null,null,null,null,null,null,null,null,null,null,null,null,null,null,null,null,null,null,null,null,null,null,null,null,null,null,null,null,null,null,null,null,null,null,null,null,null,null,null,null,null,null,null,null,null,null,null,null,null,null,null,null,null,null,null,null,null],\"arrayminus\":[null,null,null,null,null,null,null,null,null,null,null,null,null,null,null,null,null,null,null,null,null,null,null,null,null,null,null,null,null,null,null,null,null,null,null,null,null,null,null,null,null,null,null,null,null,null,null,null,null,null,null,null,null,null,null,null,null,null,null,null,null,null,null,null,null,null,null,null,null,null,null,null,null,null,null,null,null,null,null,null,null,null,null,null,null,null,null,null,null,null,null,null,null,null,null,null],\"symmetric\":false,\"type\":\"data\"},\"hovertemplate\":\"ROI: %{y}<br>R2: %{x:1.2f}\",\"legendgroup\":\"attend-bar\",\"marker\":{\"color\":\"rgba(0, 0, 0, 1)\"},\"name\":\"<i>attend-bar<i>\",\"orientation\":\"h\",\"showlegend\":true,\"x\":[0.4260676116943359,0.4775913290977478,0.4735196008682251,0.5083701305389404,0.4292623252868652,0.4158513793945312,0.4408241610527038,0.2316611142158508,0.2560682456493378,0.2460574281215667,0.3523577344417572,0.3354206917285919,0.2655884466171264,0.3605833823680878,0.2626072332859039,0.2779349031448364,0.3055575234889984,0.3194195501804351,0.3000108339786529,0.2195878939628601,0.1768010816574096,0.1152591960430145,0.2512394976615906,0.2393758764266967,0.4862296342849731,0.5565551586151123,0.5473548359870911,0.5574464771747589,0.5138634529113769,0.5447612800598145,0.5074781150817871,0.3404042296409607,0.3125123698711395,0.2109790685176849,0.4851290962696075,0.4329047102928162,0.4631612226963043,0.5896638917922974,0.4841726765632629,0.5280743458271027,0.4828776240348816,0.5449738533496856,0.5395653381347656,0.5011963591575622,0.3385153489112854,0.3327420468330383,0.4015849797725677,0.4050328614711761,0.2956205501556396,0.4126303832530975,0.3998601632118225,0.3790892579555511,0.3809435164928436,0.4083554961681366,0.3224574139118195,0.2529033486843109,0.2239208812713623,0.1355736815929412,0.2405021262168884,0.1466454455852508,0.5164217414855957,0.47617689204216,0.4477725689411163,0.4261848428249359,0.4528627171516418,0.5168236861228943,0.4275353600978851,0.363591376543045,0.3167203409671783,0.1938518664836883,0.4175030648708343,0.2604453315734863,0.3613521778583526,0.5866394662857055,0.3796139676570892,0.3134755795001984,0.4008190231323242,0.2725804018974304,0.2860838007926941,0.4293187990188599,0.4578829998970031,0.3307181124687194,0.4458105869293213,0.3117782638072967,0.45759139919281,0.6795582597255707,0.5971197710037232,0.5646438024044037,0.5208450696468353,0.5401573402881622,0.4962696051597595,0.4396196632385254,0.3406233730316162,0.3263867938518524,0.411239654302597,0.4216534225940704],\"y\":[\"V1\",\"V2\",\"V3\",\"V3AB\",\"hMT+\",\"LO\",\"VO\",\"iIPS\",\"sIPS\",\"iPCS\",\"sPCS\",\"mPCS\"],\"type\":\"bar\",\"xaxis\":\"x\",\"yaxis\":\"y\"},{\"error_x\":{\"array\":[null,null,null,null,null,null,null,null,null,null,null,null,null,null,null,null,null,null,null,null,null,null,null,null,null,null,null,null,null,null,null,null,null,null,null,null,null,null,null,null,null,null,null,null,null,null,null,null,null,null,null,null,null,null,null,null,null,null,null,null,null,null,null,null,null,null,null,null,null,null,null,null,null,null,null,null,null,null,null,null,null,null,null,null,null,null,null,null,null,null,null,null,null,null,null,null],\"arrayminus\":[null,null,null,null,null,null,null,null,null,null,null,null,null,null,null,null,null,null,null,null,null,null,null,null,null,null,null,null,null,null,null,null,null,null,null,null,null,null,null,null,null,null,null,null,null,null,null,null,null,null,null,null,null,null,null,null,null,null,null,null,null,null,null,null,null,null,null,null,null,null,null,null,null,null,null,null,null,null,null,null,null,null,null,null,null,null,null,null,null,null,null,null,null,null,null,null],\"symmetric\":false,\"type\":\"data\"},\"hovertemplate\":\"ROI: %{y}<br>R2: %{x:1.2f}\",\"legendgroup\":\"attend-fix\",\"marker\":{\"color\":\"rgba(157, 157, 157, 1)\"},\"name\":\"<i>attend-fix<i>\",\"orientation\":\"h\",\"showlegend\":true,\"x\":[0.4623697891235351,0.445955019235611,0.3652893996238708,0.3856061153411865,0.3584255588054656,0.3545361452102661,0.422024001121521,0.2651338543891907,0.2824550397396088,0.2463200614452362,0.3413454439640045,0.3442444298267365,0.2715123345851898,0.2879546744823456,0.1558977634906768,0.1314763538837433,0.1732761363983154,0.2412463815212249,0.2255261833667755,0.1298036735057831,0.1378587481975555,0.0995260961055755,0.1683609573841095,0.1236100432872772,0.4106753280162811,0.4584183895587921,0.3747720465660095,0.4077310688495636,0.3164543483257294,0.4033347811698913,0.3584374959468842,0.2315456898212433,0.2758990590572357,0.1720045757293701,0.3552783532142639,0.3363150932788848,0.5169514522552491,0.5762161617279052,0.4556640069484711,0.5166883513927459,0.3784004418849945,0.4434210774898529,0.4688087017536163,0.446335506439209,0.2630862407684326,0.239774316072464,0.3071470217704773,0.2926746366024017,0.2248763225078582,0.3146335921287536,0.2612123785018921,0.2592906992435455,0.222967561006546,0.2607990169525147,0.2356032876968384,0.130737164735794,0.1264536800384521,0.1381111536026001,0.1433964939117431,0.092064343214035,0.4312259771823883,0.3365498125553131,0.2781421496868133,0.2338942363262176,0.325733514547348,0.476227680683136,0.3586988151073456,0.3364709231853485,0.2640841560363769,0.1494831128120422,0.3871513566970825,0.2170657334327697,0.2633320143222808,0.5632238626480103,0.3221892082691193,0.2190190186500549,0.3028381559848785,0.2070655934810638,0.2391340906620025,0.3532453300952911,0.3805911264419556,0.3199339480400085,0.3862692794799804,0.2805476357936859,0.4929346807003021,0.5733009586334229,0.4400885334014892,0.4099443550109863,0.48633158659935,0.4531482622623443,0.5036662926673889,0.4199501848220825,0.312659842967987,0.259233678817749,0.3978278002738952,0.4039162817001342],\"y\":[\"V1\",\"V2\",\"V3\",\"V3AB\",\"hMT+\",\"LO\",\"VO\",\"iIPS\",\"sIPS\",\"iPCS\",\"sPCS\",\"mPCS\"],\"type\":\"bar\",\"xaxis\":\"x\",\"yaxis\":\"y\"}],                        {\"template\":{\"data\":{\"barpolar\":[{\"marker\":{\"line\":{\"color\":\"rgba(0,0,0,1)\",\"width\":1.5}},\"showlegend\":false,\"thetaunit\":\"radians\",\"type\":\"barpolar\"}],\"pie\":[{\"direction\":\"clockwise\",\"hole\":0.4,\"marker\":{\"line\":{\"color\":[\"rgba(0,0,0,1)\",\"rgba(255,255,255,0)\"],\"width\":[1.5,0]}},\"rotation\":0,\"showlegend\":false,\"sort\":false,\"textposition\":[\"inside\",\"none\"],\"type\":\"pie\"}],\"violin\":[{\"box\":{\"visible\":false},\"hoveron\":\"violins\",\"line\":{\"color\":\"rgba(0, 0, 0, 1)\",\"width\":1.5},\"marker\":{\"opacity\":0.5,\"symbol\":\"x\"},\"meanline\":{\"color\":\"rgba(0, 0, 0, 1)\",\"visible\":true,\"width\":1.5},\"opacity\":1,\"points\":false,\"showlegend\":false,\"width\":0.8,\"type\":\"violin\"}]},\"layout\":{\"annotationdefaults\":{\"font\":{\"color\":\"rgba(0, 0, 0, 1)\",\"family\":\"Arial\",\"size\":15}},\"font\":{\"family\":\"Arial\",\"size\":13},\"plot_bgcolor\":\"rgba(255, 255, 255, 1)\",\"polar\":{\"angularaxis\":{\"showticklabels\":false,\"ticks\":\"\",\"visible\":false},\"radialaxis\":{\"showticklabels\":false,\"ticks\":\"\",\"visible\":false}},\"xaxis\":{\"color\":\"rgba(0, 0, 0, 1)\",\"hoverformat\":\".1f\",\"linewidth\":2,\"range\":[0,1],\"showgrid\":false,\"tickfont\":{\"family\":\"Arial\",\"size\":13},\"ticklen\":8,\"ticks\":\"outside\",\"tickwidth\":2,\"title\":{\"font\":{\"family\":\"Arial\",\"size\":15}},\"visible\":true,\"zeroline\":false,\"zerolinecolor\":\"rgba(0, 0, 0, 1)\",\"zerolinewidth\":2},\"yaxis\":{\"color\":\"rgba(0, 0, 0, 1)\",\"hoverformat\":\".1f\",\"linewidth\":2,\"showgrid\":false,\"tickfont\":{\"family\":\"Arial\",\"size\":13},\"ticklen\":8,\"ticks\":\"outside\",\"tickwidth\":2,\"title\":{\"font\":{\"family\":\"Arial\",\"size\":15}},\"visible\":true,\"zeroline\":false,\"zerolinecolor\":\"rgba(0, 0, 0, 1)\",\"zerolinewidth\":2}}},\"xaxis\":{\"anchor\":\"y\",\"domain\":[0.0,1.0],\"visible\":true,\"ticklen\":8,\"linewidth\":2,\"range\":[0,0.8],\"title\":{\"text\":\"R2\"},\"dtick\":0.2},\"yaxis\":{\"anchor\":\"x\",\"domain\":[0.0,1.0],\"visible\":true,\"ticklen\":8,\"linewidth\":2,\"autorange\":\"reversed\",\"title\":{\"text\":\"\"}},\"annotations\":[{\"font\":{\"size\":16},\"showarrow\":false,\"text\":\"<b>Attention effect</b> (group)\",\"x\":0.5,\"xanchor\":\"center\",\"xref\":\"paper\",\"y\":1.0,\"yanchor\":\"bottom\",\"yref\":\"paper\"}],\"margin\":{\"l\":50,\"r\":20,\"t\":50,\"b\":70},\"legend\":{\"yanchor\":\"top\",\"y\":0.995,\"xanchor\":\"left\",\"x\":0.9,\"bgcolor\":\"rgba(255,255,255,0)\",\"tracegroupgap\":1},\"bargap\":0.3,\"width\":400,\"height\":800},                        {\"displayModeBar\": false, \"responsive\": true}                    ).then(function(){\n",
       "                            \n",
       "var gd = document.getElementById('7b0829ed-96db-43f8-bcea-76829d972840');\n",
       "var x = new MutationObserver(function (mutations, observer) {{\n",
       "        var display = window.getComputedStyle(gd).display;\n",
       "        if (!display || display === 'none') {{\n",
       "            console.log([gd, 'removed!']);\n",
       "            Plotly.purge(gd);\n",
       "            observer.disconnect();\n",
       "        }}\n",
       "}});\n",
       "\n",
       "// Listen for the removal of the full notebook cells\n",
       "var notebookContainer = gd.closest('#notebook-container');\n",
       "if (notebookContainer) {{\n",
       "    x.observe(notebookContainer, {childList: true});\n",
       "}}\n",
       "\n",
       "// Listen for the clearing of the current output cell\n",
       "var outputEl = gd.closest('.output');\n",
       "if (outputEl) {{\n",
       "    x.observe(outputEl, {childList: true});\n",
       "}}\n",
       "\n",
       "                        })                };                });            </script>        </div>"
      ]
     },
     "metadata": {},
     "output_type": "display_data"
    }
   ],
   "source": [
    "# General figure settings\n",
    "template_specs = dict(  axes_color=\"rgba(0, 0, 0, 1)\",\n",
    "                        axes_width=2,\n",
    "                        axes_font_size=13,\n",
    "                        bg_col=\"rgba(255, 255, 255, 1)\",\n",
    "                        font='Arial',\n",
    "                        title_font_size=15,\n",
    "                        plot_width=1.5)\n",
    "fig_template = plotly_template(template_specs)\n",
    "\n",
    "y_range_stair = [0,15]\n",
    "y_range_perf = [0,1]\n",
    "ab_line_col = \"rgba(0, 0, 0, 1)\"\n",
    "af_line_col = \"rgba(157, 157, 157, 1)\"\n",
    "ab_area_col = \"rgba(0, 0, 0, 0.3)\"\n",
    "af_area_col = \"rgba(157, 157, 157, 0.3)\"\n",
    "\n",
    "# Subplot settings\n",
    "rows, cols = 1, 1\n",
    "fig_height, fig_width = 800,400\n",
    "column_widths,row_heights = [1],[1]\n",
    "sb_specs = [[{}]]\n",
    "hovertemplate_task = 'ROI: %{y}<br>' + 'R2: %{x:1.2f}'\n",
    "\n",
    "for subject in subjects_plot:\n",
    "    subplot_titles = ['<b>Attention effect</b> ({})'.format(subject)]\n",
    "\n",
    "    fig = make_subplots(rows=rows, cols=cols, specs=sb_specs, print_grid=False, vertical_spacing=0.15, horizontal_spacing=0.05, \n",
    "                    column_widths=column_widths, row_heights=row_heights,  subplot_titles=subplot_titles)\n",
    "    \n",
    "    # Get Data\n",
    "    tsv_dir = '{}/{}/prf/tsv'.format(pp_dir, subject)\n",
    "    af_fn = \"{}/{}_task-FullScreenAttendFix_prf_threshold_par.tsv\".format(tsv_dir,subject)\n",
    "    ab_fn = \"{}/{}_task-FullScreenAttendBar_prf_threshold_par.tsv\".format(tsv_dir,subject)\n",
    "    af_df = pd.read_csv(af_fn, sep=\"\\t\")\n",
    "    ab_df = pd.read_csv(ab_fn, sep=\"\\t\")\n",
    "    \n",
    "    if subject == 'group':\n",
    "        x_af, x_ab = af_df.groupby(level=0).r2.mean(), ab_df.groupby(level=0).r2.mean()\n",
    "        x_af_eb, x_ab_eb = af_df.groupby(level=0).r2.sem(), ab_df.groupby(level=0).r2.sem()\n",
    "        eb_end = 'sem'\n",
    "    else:\n",
    "        # filter data based on best 250 voxels\n",
    "        af_df = af_df[(af_df.rank_r2<=best_voxels_num)]\n",
    "        ab_df = ab_df[(ab_df.rank_r2<=best_voxels_num)]\n",
    "        \n",
    "        x_af, x_ab = af_df.groupby('roi').r2.mean(), ab_df.groupby('roi').r2.mean()\n",
    "        x_af_eb, x_ab_eb = af_df.groupby('roi').r2.std(), ab_df.groupby('roi').r2.std()\n",
    "        eb_end = 'std'\n",
    "    \n",
    "    # bar plot\n",
    "    fig.append_trace(go.Bar(y=rois, x=x_ab, orientation='h',\n",
    "                            showlegend=True, legendgroup='attend-bar', name='<i>attend-bar<i>', \n",
    "                            marker_color=ab_line_col, hovertemplate=hovertemplate_task,\n",
    "                            error_x_type='data', error_x_symmetric=False, error_x_array=x_ab_eb, error_x_arrayminus=x_ab_eb),row=1, col=1)\n",
    "    \n",
    "    fig.append_trace(go.Bar(y=rois, x=x_af, orientation='h',\n",
    "                            showlegend=True, legendgroup='attend-fix', name='<i>attend-fix<i>', \n",
    "                            marker_color=af_line_col, hovertemplate=hovertemplate_task,\n",
    "                            error_x_type='data', error_x_symmetric=False, error_x_array=x_af_eb, error_x_arrayminus=x_af_eb),row=1, col=1)\n",
    "    # set axis\n",
    "    for row in np.arange(rows):\n",
    "        for col in np.arange(cols):\n",
    "            fig.update_xaxes(visible=True, ticklen=8, linewidth=template_specs['axes_width'], row=row+1, col=col+1)\n",
    "            fig.update_yaxes(visible=True, ticklen=8, linewidth=template_specs['axes_width'], row=row+1, col=col+1, autorange='reversed')\n",
    "\n",
    "    # set figure\n",
    "    fig.layout.update(xaxis_range =[0,0.8], xaxis_title='R2', xaxis_dtick=0.2,\n",
    "                      yaxis_title='',bargap=0.30,\n",
    "                      template=fig_template, width=fig_width, height=fig_height, margin_l=50, margin_r=20, margin_t=50, margin_b=70,\n",
    "                      legend_yanchor='top', \n",
    "                      legend_y=0.995, legend_xanchor='left', legend_x=0.9, legend_bgcolor='rgba(255,255,255,0)', legend_tracegroupgap=1)\n",
    "    \n",
    "    # show and save figure\n",
    "    fig.show(config={\"displayModeBar\": False})\n",
    "    fig.write_image(\"{}/{}_attcmp.pdf\".format(tsv_dir, subject))\n",
    "    fig.write_html(\"{}/{}_attcmp.html\".format(tsv_dir, subject),config={\"displayModeBar\": False})"
   ]
  },
  {
   "cell_type": "code",
   "execution_count": null,
   "id": "32ee51de-e44b-4299-a591-d26b3a89b6e1",
   "metadata": {},
   "outputs": [],
   "source": []
  }
 ],
 "metadata": {
  "kernelspec": {
   "display_name": "fmri_lab",
   "language": "python",
   "name": "fmri_lab"
  },
  "language_info": {
   "codemirror_mode": {
    "name": "ipython",
    "version": 3
   },
   "file_extension": ".py",
   "mimetype": "text/x-python",
   "name": "python",
   "nbconvert_exporter": "python",
   "pygments_lexer": "ipython3",
   "version": "3.7.3"
  }
 },
 "nbformat": 4,
 "nbformat_minor": 5
}
