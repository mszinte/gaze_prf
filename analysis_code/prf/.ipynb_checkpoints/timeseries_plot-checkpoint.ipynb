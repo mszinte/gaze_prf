{
 "cells": [
  {
   "cell_type": "markdown",
   "id": "217f05fb-20dc-4797-84f8-70ad8b5fb94f",
   "metadata": {
    "tags": []
   },
   "source": [
    "#### Draw time series\n",
    "* [x] make data averages\n",
    "* [x] get data of FullScreen\n",
    "* [x] select voxels based on masks of pRF threshold\n",
    "* [x] select voxels based on masks of ROI\n",
    "* [x] select voxels based on r2 range\n",
    "* [ ] check what visual design in fullscreen looks like\n",
    "* [ ] create matrix with equal size for gaze_center/gaze_right/gaze_left as fullscreen\n",
    "* [ ] get model prediction based on parameters\n",
    "* [ ] plot z-score data points with running average\n",
    "* [ ] plot pRF on 2D map"
   ]
  },
  {
   "cell_type": "code",
   "execution_count": 10,
   "id": "260c604f-36bc-4e78-b13f-c59400f3b041",
   "metadata": {},
   "outputs": [],
   "source": [
    "# Imports\n",
    "import os\n",
    "import numpy as np\n",
    "import nibabel as nb\n",
    "import pandas as pd\n",
    "import scipy\n",
    "import warnings\n",
    "warnings.filterwarnings('ignore')\n",
    "\n",
    "# Figure imports\n",
    "import plotly.graph_objects as go\n",
    "from plotly.subplots import make_subplots\n",
    "import plotly.express as px\n",
    "import plotly.express as px\n",
    "from plot_utils import plotly_template\n",
    "\n",
    "# pRFpy\n",
    "from prfpy.stimulus import PRFStimulus2D\n",
    "from prfpy.model import Iso2DGaussianModel\n",
    "from prfpy.fit import Iso2DGaussianFitter\n",
    "\n",
    "# Define parameters\n",
    "subjects = ['sub-001', 'sub-002', 'sub-003', 'sub-004',\n",
    "            'sub-005', 'sub-006', 'sub-007', 'sub-008']\n",
    "\n",
    "# Define folders\n",
    "base_dir = '/home/mszinte/disks/meso_S/data/gaze_prf'\n",
    "bids_dir = \"{}\".format(base_dir)\n",
    "pp_dir = \"{}/derivatives/pp_data\".format(base_dir)\n",
    "vdm_dir = \"{}/derivatives/visual_dm\".format(base_dir)\n",
    "\n",
    "# settings\n",
    "subject2plot = 'sub-003'\n",
    "roi2plot = 'V1'\n",
    "cortical_mask = 'cortical'\n",
    "fit_dir = '{}/{}/prf/fit'.format(pp_dir, subject2plot)\n",
    "func_avg_dir = '{}/{}/func_avg'.format(pp_dir, subject2plot)\n",
    "mask_dir = '{}/{}/masks'.format(pp_dir, subject2plot)\n",
    "\n",
    "# General figure settings\n",
    "template_specs = dict(  axes_color=\"rgba(0, 0, 0, 1)\",\n",
    "                        axes_width=2,\n",
    "                        axes_font_size=13,\n",
    "                        bg_col=\"rgba(255, 255, 255, 1)\",\n",
    "                        font='Arial',\n",
    "                        title_font_size=15,\n",
    "                        plot_width=1.5)\n",
    "fig_template = plotly_template(template_specs)"
   ]
  },
  {
   "cell_type": "code",
   "execution_count": 3,
   "id": "ade24a92-3933-40c0-9fba-84ed23f9fab2",
   "metadata": {},
   "outputs": [
    {
     "data": {
      "text/html": [
       "<div>\n",
       "<style scoped>\n",
       "    .dataframe tbody tr th:only-of-type {\n",
       "        vertical-align: middle;\n",
       "    }\n",
       "\n",
       "    .dataframe tbody tr th {\n",
       "        vertical-align: top;\n",
       "    }\n",
       "\n",
       "    .dataframe thead th {\n",
       "        text-align: right;\n",
       "    }\n",
       "</style>\n",
       "<table border=\"1\" class=\"dataframe\">\n",
       "  <thead>\n",
       "    <tr style=\"text-align: right;\">\n",
       "      <th></th>\n",
       "      <th>r2</th>\n",
       "      <th>ecc</th>\n",
       "      <th>sd</th>\n",
       "      <th>x</th>\n",
       "      <th>y</th>\n",
       "      <th>amplitude</th>\n",
       "      <th>baseline</th>\n",
       "      <th>ts</th>\n",
       "    </tr>\n",
       "  </thead>\n",
       "  <tbody>\n",
       "    <tr>\n",
       "      <th>1589</th>\n",
       "      <td>0.777370</td>\n",
       "      <td>4.394455</td>\n",
       "      <td>1.413183</td>\n",
       "      <td>-3.274886</td>\n",
       "      <td>-2.930248</td>\n",
       "      <td>0.000116</td>\n",
       "      <td>-0.402491</td>\n",
       "      <td>[0.5660327076911926, 0.22134047746658325, 0.04...</td>\n",
       "    </tr>\n",
       "    <tr>\n",
       "      <th>1847</th>\n",
       "      <td>0.604246</td>\n",
       "      <td>4.632115</td>\n",
       "      <td>1.409082</td>\n",
       "      <td>-3.324748</td>\n",
       "      <td>-3.225297</td>\n",
       "      <td>0.000090</td>\n",
       "      <td>-0.299130</td>\n",
       "      <td>[-0.25288811326026917, 0.12473074346780777, -0...</td>\n",
       "    </tr>\n",
       "    <tr>\n",
       "      <th>1848</th>\n",
       "      <td>0.515946</td>\n",
       "      <td>5.698321</td>\n",
       "      <td>1.407065</td>\n",
       "      <td>-4.120252</td>\n",
       "      <td>-3.936291</td>\n",
       "      <td>0.000087</td>\n",
       "      <td>-0.252958</td>\n",
       "      <td>[-0.5958005785942078, -0.19687967002391815, -0...</td>\n",
       "    </tr>\n",
       "  </tbody>\n",
       "</table>\n",
       "</div>"
      ],
      "text/plain": [
       "            r2       ecc        sd         x         y  amplitude  baseline  \\\n",
       "1589  0.777370  4.394455  1.413183 -3.274886 -2.930248   0.000116 -0.402491   \n",
       "1847  0.604246  4.632115  1.409082 -3.324748 -3.225297   0.000090 -0.299130   \n",
       "1848  0.515946  5.698321  1.407065 -4.120252 -3.936291   0.000087 -0.252958   \n",
       "\n",
       "                                                     ts  \n",
       "1589  [0.5660327076911926, 0.22134047746658325, 0.04...  \n",
       "1847  [-0.25288811326026917, 0.12473074346780777, -0...  \n",
       "1848  [-0.5958005785942078, -0.19687967002391815, -0...  "
      ]
     },
     "execution_count": 3,
     "metadata": {},
     "output_type": "execute_result"
    }
   ],
   "source": [
    "# Load time series\n",
    "fs_fn = '{}/{}_task-FullScreen_fmriprep_dct_avg.nii.gz'.format(func_avg_dir,subject2plot)\n",
    "fs_ts = nb.load(fs_fn).get_fdata()\n",
    "\n",
    "# Load roi mask\n",
    "lh_mat = nb.load(\"{}/{}_{}_L.nii.gz\".format(mask_dir, roi2plot, cortical_mask)).get_fdata()\n",
    "rh_mat = nb.load(\"{}/{}_{}_R.nii.gz\".format(mask_dir, roi2plot, cortical_mask)).get_fdata()\n",
    "roi_mat = lh_mat + rh_mat\n",
    "roi_mat[roi_mat==0] = np.nan\n",
    "\n",
    "# Load pRF threshold masks\n",
    "th_mat = nb.load('{}/{}_task-FullScreen_prf_threshold.nii.gz'.format(mask_dir,subject2plot)).get_fdata()\n",
    "\n",
    "# Combined masks\n",
    "th_roi_mat = th_mat*roi_mat\n",
    "\n",
    "# Load fit parameters\n",
    "fs_r2_mat = nb.load('{}/{}_task-FullScreen_par-r2.nii.gz'.format(fit_dir,subject2plot)).get_fdata()\n",
    "fs_ecc_mat = nb.load('{}/{}_task-FullScreen_par-ecc.nii.gz'.format(fit_dir,subject2plot)).get_fdata()\n",
    "fs_sd_mat = nb.load('{}/{}_task-FullScreen_par-sd.nii.gz'.format(fit_dir,subject2plot)).get_fdata()\n",
    "fs_x_mat = nb.load('{}/{}_task-FullScreen_par-x.nii.gz'.format(fit_dir,subject2plot)).get_fdata()\n",
    "fs_y_mat = nb.load('{}/{}_task-FullScreen_par-y.nii.gz'.format(fit_dir,subject2plot)).get_fdata()\n",
    "fs_amp_mat = nb.load('{}/{}_task-FullScreen_par-amplitude.nii.gz'.format(fit_dir,subject2plot)).get_fdata()\n",
    "fs_bsl_mat = nb.load('{}/{}_task-FullScreen_par-baseline.nii.gz'.format(fit_dir,subject2plot)).get_fdata()\n"
   ]
  },
  {
   "cell_type": "code",
   "execution_count": 48,
   "id": "547b3c91-83ba-4ed5-95af-c5389e5539b6",
   "metadata": {},
   "outputs": [
    {
     "data": {
      "text/plain": [
       "(135, 240, 122)"
      ]
     },
     "execution_count": 48,
     "metadata": {},
     "output_type": "execute_result"
    }
   ],
   "source": [
    "# Get model timeseries\n",
    "visual_dm_file = scipy.io.loadmat(\"{}/GazeLeft_vd.mat\".format(vdm_dir))\n",
    "# visual_dm = visual_dm_file['stim'].transpose([1,0,2])\n",
    "visual_dm.shape\n",
    "# stimulus = PRFStimulus2D(   screen_size_cm=analysis_info['screen_width'],\n",
    "#                             screen_distance_cm=analysis_info['screen_distance'],\n",
    "#                             design_matrix=visual_dm,\n",
    "#                             TR=analysis_info['TR'])"
   ]
  },
  {
   "cell_type": "code",
   "execution_count": 41,
   "id": "ad1f76b8-43e4-4495-a0f6-5f7dfcbbca1b",
   "metadata": {},
   "outputs": [
    {
     "data": {
      "text/plain": [
       "(135, 240, 122)"
      ]
     },
     "execution_count": 41,
     "metadata": {},
     "output_type": "execute_result"
    }
   ],
   "source": []
  },
  {
   "cell_type": "code",
   "execution_count": 3,
   "id": "644ed36b-8730-4ff4-afd6-55fe9c743e97",
   "metadata": {},
   "outputs": [],
   "source": [
    "# create dataframe with masked data\n",
    "fs_ts_df = pd.DataFrame({'r2': fs_r2_mat[th_roi_mat == True],\n",
    "                         'ecc': fs_ecc_mat[th_roi_mat == True],\n",
    "                         'sd': fs_sd_mat[th_roi_mat == True],\n",
    "                         'x': fs_x_mat[th_roi_mat == True],\n",
    "                         'y': fs_y_mat[th_roi_mat == True],\n",
    "                         'amplitude': fs_amp_mat[th_roi_mat == True],\n",
    "                         'baseline': fs_bsl_mat[th_roi_mat == True],\n",
    "                         'data_ts': fs_ts[th_roi_mat == True,:].tolist()})\n",
    "\n",
    "# select voxels\n",
    "fs_ts_df.loc[(fs_ts_df.r2>0.5) & (fs_ts_df.sd<1.5) & (fs_ts_df.x<-3) & (fs_ts_df.x<-2.5) & (fs_ts_df.y<-2.5)]"
   ]
  }
 ],
 "metadata": {
  "kernelspec": {
   "display_name": "mszinte",
   "language": "python",
   "name": "mszinte"
  },
  "language_info": {
   "codemirror_mode": {
    "name": "ipython",
    "version": 3
   },
   "file_extension": ".py",
   "mimetype": "text/x-python",
   "name": "python",
   "nbconvert_exporter": "python",
   "pygments_lexer": "ipython3",
   "version": "3.9.12"
  }
 },
 "nbformat": 4,
 "nbformat_minor": 5
}
