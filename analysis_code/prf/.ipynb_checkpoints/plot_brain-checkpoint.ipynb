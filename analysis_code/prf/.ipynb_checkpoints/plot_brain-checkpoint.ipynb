{
 "cells": [
  {
   "cell_type": "markdown",
   "id": "7ff66705",
   "metadata": {},
   "source": [
    "### Analysis description\n",
    "Launch a webgl visualizer and save brain images"
   ]
  },
  {
   "cell_type": "code",
   "execution_count": null,
   "id": "1ff984f5",
   "metadata": {},
   "outputs": [],
   "source": [
    "# Imports\n",
    "import os\n",
    "import numpy as np\n",
    "import nibabel as nb\n",
    "import shutil\n",
    "import warnings\n",
    "import cortex\n",
    "import matplotlib.pyplot as plt\n",
    "from pathlib import Path\n",
    "from pycortex_utils import draw_cortex\n",
    "warnings.filterwarnings('ignore')\n",
    "\n",
    "# Define parameters\n",
    "subjects = ['sub-001','sub-002','sub-003','sub-004',\n",
    "            'sub-005','sub-006','sub-007','sub-008']\n",
    "tasks = ['FullScreenAttendFix', \n",
    "         'FullScreenAttendBar',\n",
    "         'FullScreen']\n",
    "\n",
    "# Define folders\n",
    "base_dir = '/home/mszinte/disks/meso_S/data/gaze_prf'\n",
    "bids_dir = \"{}\".format(base_dir)\n",
    "pp_dir = \"{}/derivatives/pp_data\".format(base_dir)\n",
    "pycortex_dir = \"{}/cortex\".format(pp_dir)\n",
    "\n",
    "# Plot parameters\n",
    "cmap_polar, cmap_uni, cmap_ecc_size, cmap_2d = 'hsv', 'Reds', 'Spectral', 'PU_RdBu_covar_alpha'\n",
    "save_svg = False\n",
    "xfm_name = 'identity.fmriprep'\n",
    "amp_th = 0\n",
    "r2_th = [0.05, 1]\n",
    "ecc_th = [0.1, 20]\n",
    "sd_th = [0.1, 20]\n",
    "alpha_range = [0, 0.4]\n",
    "r2_range = [0, 1]\n",
    "r2_2d_range = [0, 0.4]\n",
    "ecc_range = [0, 10]\n",
    "size_range = [0, 10]\n",
    "col_offset = 1.0/14.0\n",
    "cmap_steps = 255\n",
    "recache = False"
   ]
  },
  {
   "cell_type": "code",
   "execution_count": null,
   "id": "cf8086e4",
   "metadata": {},
   "outputs": [],
   "source": [
    "# Write pycortex config file\n",
    "pycortex_db = \"{}/db/\".format(pycortex_dir)\n",
    "pycortex_cm = \"{}/colormaps/\".format(pycortex_dir)\n",
    "pycortex_config_file  = cortex.options.usercfg\n",
    "pycortex_config_file_new = pycortex_config_file[:-4] + '_new.cfg'\n",
    "pycortex_config_file_old = pycortex_config_file[:-4] + '_old.cfg'\n",
    "\n",
    "Path(pycortex_config_file_new).touch()\n",
    "with open(pycortex_config_file, 'r') as fileIn:\n",
    "    with open(pycortex_config_file_new, 'w') as fileOut:\n",
    "        for line in fileIn:\n",
    "            if 'filestore' in line:\n",
    "                newline = 'filestore=' + pycortex_db\n",
    "                fileOut.write(newline)\n",
    "                newline = '\\n'\n",
    "            elif 'colormaps' in line:\n",
    "                newline = 'colormaps=' + pycortex_cm\n",
    "                fileOut.write(newline)\n",
    "                newline = '\\n'\n",
    "            else:\n",
    "                newline = line\n",
    "            fileOut.write(newline)\n",
    "os.rename(pycortex_config_file,pycortex_config_file_old)\n",
    "os.rename(pycortex_config_file_new, pycortex_config_file)"
   ]
  },
  {
   "cell_type": "code",
   "execution_count": null,
   "id": "39e509f5",
   "metadata": {
    "tags": []
   },
   "outputs": [],
   "source": [
    "for subject in ['sub-001','sub-002']:\n",
    "    \n",
    "    # load dataset\n",
    "    # pick the volume to use\n",
    "    # create the local viewer \n",
    "    # set parameters\n",
    "    # plot figure\n",
    "    \n"
   ]
  },
  {
   "cell_type": "code",
   "execution_count": null,
   "id": "d30cc162-9b9e-4f4a-95f1-f7d2d9a8d86d",
   "metadata": {},
   "outputs": [],
   "source": []
  }
 ],
 "metadata": {
  "kernelspec": {
   "display_name": "fmri_lab",
   "language": "python",
   "name": "fmri_lab"
  },
  "language_info": {
   "codemirror_mode": {
    "name": "ipython",
    "version": 3
   },
   "file_extension": ".py",
   "mimetype": "text/x-python",
   "name": "python",
   "nbconvert_exporter": "python",
   "pygments_lexer": "ipython3",
   "version": "3.7.3"
  }
 },
 "nbformat": 4,
 "nbformat_minor": 5
}
