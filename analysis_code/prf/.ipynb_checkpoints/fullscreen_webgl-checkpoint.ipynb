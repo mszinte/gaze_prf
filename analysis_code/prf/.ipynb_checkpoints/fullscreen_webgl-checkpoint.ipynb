{
 "cells": [
  {
   "cell_type": "markdown",
   "id": "e6b701ad-e3b7-4c7d-8b9d-e235d7d0b74b",
   "metadata": {},
   "source": [
    "### Analysis description\n",
    "Here we aim at drawing fullscreen average runs on the surface of individual participant the pRF parameters.\n",
    "This analysis precede the manual definition of the visual ROIs."
   ]
  },
  {
   "cell_type": "code",
   "execution_count": null,
   "id": "ad000d54-76ca-47a4-8277-678d85cc8801",
   "metadata": {},
   "outputs": [],
   "source": [
    "# Imports\n",
    "import os\n",
    "import numpy as np\n",
    "import nibabel as nb\n",
    "import ipdb\n",
    "import warnings\n",
    "import cortex\n",
    "from pathlib import Path\n",
    "import matplotlib.pyplot as plt\n",
    "import matplotlib.colors as colors\n",
    "from matplotlib import cm\n",
    "import matplotlib as mpl\n",
    "warnings.filterwarnings('ignore')\n",
    "\n",
    "# Define parameters\n",
    "subjects = ['sub-001','sub-002','sub-003','sub-004',\n",
    "            'sub-005','sub-006','sub-007','sub-008']\n",
    "gaze_tasks = ['FullScreen','GazeCenter','GazeLeft','GazeRight']\n",
    "attend_tasks = ['AttendFix','AttendBar']\n",
    "\n",
    "# Define folders\n",
    "base_dir = '/home/mszinte/disks/meso_S/data/gaze_prf'\n",
    "bids_dir = \"{}\".format(base_dir)\n",
    "pp_dir = \"{}/derivatives/pp_data\".format(base_dir)\n",
    "pycortex_dir = \"{}/cortex\".format(pp_dir)\n",
    "\n",
    "\n",
    "# Parameters\n",
    "recache = True"
   ]
  },
  {
   "cell_type": "code",
   "execution_count": null,
   "id": "e6dee1f0-f115-4d16-8365-350a2ed57cf0",
   "metadata": {},
   "outputs": [],
   "source": [
    "# Write pycortex config file\n",
    "pycortex_db = \"{}/db/\".format(pycortex_dir)\n",
    "pycortex_cm = \"{}/colormaps/\".format(pycortex_dir)\n",
    "pycortex_config_file  = cortex.options.usercfg\n",
    "pycortex_config_file_new = pycortex_config_file[:-4] + '_new.cfg'\n",
    "pycortex_config_file_old = pycortex_config_file[:-4] + '_old.cfg'\n",
    "\n",
    "Path(pycortex_config_file_new).touch()\n",
    "with open(pycortex_config_file, 'r') as fileIn:\n",
    "    with open(pycortex_config_file_new, 'w') as fileOut:\n",
    "        for line in fileIn:\n",
    "            if 'filestore' in line:\n",
    "                newline = 'filestore=' + pycortex_db\n",
    "                fileOut.write(newline)\n",
    "                newline = '\\n'\n",
    "            elif 'colormaps' in line:\n",
    "                newline = 'colormaps=' + pycortex_cm\n",
    "                fileOut.write(newline)\n",
    "                newline = '\\n'\n",
    "            else:\n",
    "                newline = line\n",
    "            fileOut.write(newline)\n",
    "os.rename(pycortex_config_file,pycortex_config_file_old)\n",
    "os.rename(pycortex_config_file_new, pycortex_config_file)"
   ]
  },
  {
   "cell_type": "code",
   "execution_count": null,
   "id": "7e56c98c-69fc-4684-bc7d-8183e20b6686",
   "metadata": {
    "tags": []
   },
   "outputs": [],
   "source": [
    "for subject in subjects:\n",
    "\n",
    "    datasets_dir = '{}/{}/prf/pycortex/datasets'.format(pp_dir, subject)\n",
    "    webgl_dir = '{}/derivatives/webgl_data/{}/'.format(base_dir, subject)\n",
    "    try: os.makedirs(webgl_dir)\n",
    "    except: pass\n",
    "\n",
    "    print(webgl_dir)\n",
    "\n",
    "    # Load datasets\n",
    "    \n",
    "    # Fullscreen average dataset\n",
    "    fs_dataset_file = \"{}/{}_task-{}.hdf\".format(datasets_dir, subject,  gaze_tasks[0])\n",
    "    fs_dataset = cortex.load(fs_dataset_file)\n",
    "\n",
    "    # Put them together\n",
    "    new_dataset = cortex.Dataset(fs = fs_dataset)\n",
    "    cortex.webgl.make_static(outpath=webgl_dir, data=new_dataset, recache=recache)"
   ]
  },
  {
   "cell_type": "code",
   "execution_count": null,
   "id": "a24b8eef-2fe3-42f5-a11a-ee751114474b",
   "metadata": {},
   "outputs": [],
   "source": []
  }
 ],
 "metadata": {
  "kernelspec": {
   "display_name": "fmri_lab",
   "language": "python",
   "name": "fmri_lab"
  },
  "language_info": {
   "codemirror_mode": {
    "name": "ipython",
    "version": 3
   },
   "file_extension": ".py",
   "mimetype": "text/x-python",
   "name": "python",
   "nbconvert_exporter": "python",
   "pygments_lexer": "ipython3",
   "version": "3.7.3"
  }
 },
 "nbformat": 4,
 "nbformat_minor": 5
}
