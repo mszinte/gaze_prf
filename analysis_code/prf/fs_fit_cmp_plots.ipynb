{
 "cells": [
  {
   "cell_type": "markdown",
   "id": "217f05fb-20dc-4797-84f8-70ad8b5fb94f",
   "metadata": {
    "tags": []
   },
   "source": [
    "#### Draw R2 change"
   ]
  },
  {
   "cell_type": "code",
   "execution_count": 1,
   "id": "260c604f-36bc-4e78-b13f-c59400f3b041",
   "metadata": {},
   "outputs": [],
   "source": [
    "# Imports\n",
    "import os\n",
    "import numpy as np\n",
    "import nibabel as nb\n",
    "import pandas as pd\n",
    "import warnings\n",
    "import pingouin\n",
    "\n",
    "warnings.filterwarnings('ignore')\n",
    "\n",
    "# Figure imports\n",
    "import plotly.graph_objects as go\n",
    "from plotly.subplots import make_subplots\n",
    "import plotly.express as px\n",
    "import plotly.express as px\n",
    "from plot_utils import plotly_template\n",
    "\n",
    "# stats\n",
    "from scipy.stats import permutation_test\n",
    "def statistic(condA, condB, axis):\n",
    "    return np.nanmean(condA, axis=axis) - np.nanmean(condB, axis=axis)\n",
    "n_permutation = 10000\n",
    "\n",
    "def get_pval(perm_res):\n",
    "    p_val_unilateral = perm_res.pvalue/2\n",
    "    p_val_bilateral = perm_res.pvalue\n",
    "\n",
    "    if p_val_unilateral > 0.05: p_text_unilateral = 'p = {:1.2f}'.format(p_val_unilateral)\n",
    "    if p_val_unilateral < 0.05: p_text_unilateral = 'p < 0.05'\n",
    "    if p_val_unilateral < 0.01: p_text_unilateral = 'p < 0.01'\n",
    "    if p_val_unilateral < 0.001: p_text_unilateral = 'p < 0.001'\n",
    "    if p_val_unilateral < 0.0001: p_text_unilateral = 'p < 0.0001'\n",
    "\n",
    "    if p_val_bilateral > 0.05: p_text_bilateral = 'p = {:1.2f}'.format(p_val_bilateral)\n",
    "    if p_val_bilateral < 0.05: p_text_bilateral = 'p < 0.05'\n",
    "    if p_val_bilateral < 0.01: p_text_bilateral = 'p < 0.01'\n",
    "    if p_val_bilateral < 0.001: p_text_bilateral = 'p < 0.001'\n",
    "    if p_val_bilateral < 0.0001: p_text_bilateral = 'p < 0.0001'\n",
    "    \n",
    "    return (p_val_unilateral, p_text_unilateral, p_val_bilateral, p_text_bilateral)\n",
    "\n",
    "\n",
    "# Define folders\n",
    "base_dir = '/home/mszinte/disks/meso_S/data/gaze_prf'\n",
    "bids_dir = \"{}\".format(base_dir)\n",
    "pp_dir = \"{}/derivatives/pp_data\".format(base_dir)\n",
    "group_tsv_dir = '{}/{}/prf/tsv'.format(pp_dir, 'group')\n",
    "\n",
    "# settings\n",
    "subjects = ['sub-001', 'sub-002', 'sub-003', 'sub-004',\n",
    "            'sub-005', 'sub-006', 'sub-007', 'sub-008']\n",
    "subjects_plot = ['sub-001', 'sub-002', 'sub-003', 'sub-004',\n",
    "                 'sub-005', 'sub-006', 'sub-007', 'sub-008', 'group']\n",
    "tasks = ['FullScreen', 'FullScreenAttendFix', 'FullScreenAttendBar']\n",
    "rois = ['V1', 'V2', 'V3', 'V3AB', 'hMT+', 'LO',\n",
    "        'VO', 'iIPS', 'sIPS', 'iPCS', 'sPCS', 'mPCS']\n",
    "\n",
    "best_voxels_num = 250\n",
    "type_analyses = ['','_best{}'.format(best_voxels_num)]\n",
    "\n",
    "\n",
    "# general figure settings\n",
    "template_specs = dict(  axes_color=\"rgba(0, 0, 0, 1)\",\n",
    "                        axes_width=2,\n",
    "                        axes_font_size=13,\n",
    "                        bg_col=\"rgba(255, 255, 255, 1)\",\n",
    "                        font='Arial',\n",
    "                        title_font_size=15,\n",
    "                        plot_width=1.5)\n",
    "\n",
    "fig_template = plotly_template(template_specs)\n",
    "\n",
    "\n",
    "# Subplot settings\n",
    "margin_t, margin_b, margin_l, margin_r = 50, 100, 100 ,50\n",
    "rows, cols = 1, 2\n",
    "\n",
    "column_widths,row_heights = [1,1], [1]\n",
    "sb_specs = [[{},{}]]\n",
    "subplot_width, subplot_height = 300,700\n",
    "\n",
    "fig_width, fig_height = 0, 0\n",
    "for column_width in column_widths:fig_width += subplot_width*column_width\n",
    "for row_height in row_heights: fig_height +=subplot_height*row_height\n",
    "fig_width = fig_width + margin_l + margin_r\n",
    "fig_height = fig_height + margin_t + margin_b\n",
    "\n",
    "hovertemplate = 'ROI: %{y}<br>' + 'R2 change: %{x:1.2f}'\n",
    "\n",
    "\n",
    "yaxis_range = [0.3, 12.7]\n",
    "yaxis_tick = 12\n",
    "yaxis_tickvals = np.flipud(np.linspace(1,12,yaxis_tick))\n",
    "yaxis_ticktext = rois\n",
    "y_rois = np.flipud(np.arange(0,len(rois))+1)\n",
    "\n",
    "retino_col = 'rgba(227, 6, 19, 1)'\n",
    "spatio_col = 'rgba(29, 113, 184, 1)'\n"
   ]
  },
  {
   "cell_type": "code",
   "execution_count": 5,
   "id": "b06ad63a-dbdc-406d-ab58-0f70ad6794f4",
   "metadata": {},
   "outputs": [
    {
     "name": "stdout",
     "output_type": "stream",
     "text": [
      "saving /home/mszinte/disks/meso_S/data/gaze_prf/derivatives/pp_data/group/prf/tsv/group_task-AttendFix_retino_spatio_r2change_stats.tsv\n",
      "saving /home/mszinte/disks/meso_S/data/gaze_prf/derivatives/pp_data/group/prf/tsv/group_task-AttendBar_retino_spatio_r2change_stats.tsv\n"
     ]
    },
    {
     "data": {
      "application/vnd.plotly.v1+json": {
       "config": {
        "displayModeBar": false,
        "plotlyServerURL": "https://plot.ly"
       },
       "data": [
        {
         "error_x": {
          "array": [
           0.016488013349721727,
           0.013486258448468007,
           0.013324630202518924,
           0.010816343773221698,
           0.006580612187236081,
           0.010948679793691731,
           0.004824061239891425,
           0.008875393361149193,
           0.004800426018524373,
           0.004393962565290195,
           0.006941215718512541,
           0.003770836353724317
          ],
          "arrayminus": [
           0.016488013349721727,
           0.013486258448468007,
           0.013324630202518924,
           0.010816343773221698,
           0.006580612187236081,
           0.010948679793691731,
           0.004824061239891425,
           0.008875393361149193,
           0.004800426018524373,
           0.004393962565290195,
           0.006941215718512541,
           0.003770836353724317
          ],
          "symmetric": false,
          "type": "data"
         },
         "hovertemplate": "ROI: %{y}<br>R2 change: %{x:1.2f}",
         "legendgroup": "spatio",
         "marker": {
          "color": "rgba(29, 113, 184, 1)"
         },
         "name": "<i>spatiotopic prediction<i>",
         "orientation": "h",
         "showlegend": true,
         "type": "bar",
         "x": [
          -0.07728214483986644,
          -0.05851944300385816,
          -0.056459184327403725,
          -0.03089461737893967,
          0.002469686279879333,
          -0.016033371839330023,
          -0.009150284529024957,
          0.0012172383033948186,
          -0.000913521204674688,
          0.0003894307420182453,
          0.0018252781863476771,
          0.0032733966690116877
         ],
         "xaxis": "x",
         "y": [
          12,
          11,
          10,
          9,
          8,
          7,
          6,
          5,
          4,
          3,
          2,
          1
         ],
         "yaxis": "y"
        },
        {
         "error_x": {
          "array": [
           0.006954338043389386,
           0.004977245626760933,
           0.006697401075763419,
           0.01196541942412093,
           0.007031858655318664,
           0.010750161441801617,
           0.006339095926637296,
           0.009266792737038504,
           0.004638717645189823,
           0.0037987048705931396,
           0.006440702887123501,
           0.003732133829988499
          ],
          "arrayminus": [
           0.006954338043389386,
           0.004977245626760933,
           0.006697401075763419,
           0.01196541942412093,
           0.007031858655318664,
           0.010750161441801617,
           0.006339095926637296,
           0.009266792737038504,
           0.004638717645189823,
           0.0037987048705931396,
           0.006440702887123501,
           0.003732133829988499
          ],
          "symmetric": false,
          "type": "data"
         },
         "hovertemplate": "ROI: %{y}<br>R2 change: %{x:1.2f}",
         "legendgroup": "retino",
         "marker": {
          "color": "rgba(227, 6, 19, 1)"
         },
         "name": "<i>retinotopic prediction<i>",
         "orientation": "h",
         "showlegend": true,
         "type": "bar",
         "x": [
          0.00431034168835119,
          0.004709262539083083,
          0.0042908888327953185,
          0.010539232385369359,
          0.009567707393201886,
          0.01048633024601264,
          0.007776877902764325,
          0.009002387878861871,
          0.004012866959638031,
          0.0024214745200184067,
          0.005834899348414463,
          0.004675082044892192
         ],
         "xaxis": "x",
         "y": [
          12,
          11,
          10,
          9,
          8,
          7,
          6,
          5,
          4,
          3,
          2,
          1
         ],
         "yaxis": "y"
        },
        {
         "hoverinfo": "skip",
         "marker": {
          "color": "black",
          "size": 15,
          "symbol": "line-ns-open"
         },
         "mode": "markers",
         "showlegend": false,
         "type": "scatter",
         "x": [
          -0.15000000000000002,
          -0.15000000000000002,
          -0.15000000000000002,
          -0.15000000000000002,
          -0.15000000000000002,
          -0.15000000000000002,
          -0.15000000000000002,
          -0.15000000000000002,
          -0.15000000000000002,
          -0.15000000000000002,
          -0.15000000000000002,
          -0.15000000000000002
         ],
         "xaxis": "x",
         "y": [
          12,
          11,
          10,
          9,
          8,
          7,
          6,
          5,
          4,
          3,
          2,
          1
         ],
         "yaxis": "y"
        },
        {
         "hoverinfo": "skip",
         "marker": {
          "color": "black",
          "size": 10,
          "symbol": "asterisk-open"
         },
         "mode": "markers",
         "showlegend": false,
         "type": "scatter",
         "x": [
          -0.16500000000000004,
          -0.16500000000000004,
          -0.16500000000000004,
          -0.16500000000000004,
          -0.16500000000000004,
          -0.16500000000000004,
          -0.16500000000000004,
          -0.16500000000000004,
          -0.16500000000000004,
          -0.16500000000000004,
          -0.16500000000000004,
          -0.16500000000000004
         ],
         "xaxis": "x",
         "y": [
          12,
          11,
          10,
          9,
          8,
          7,
          6,
          5,
          4,
          3,
          2,
          1
         ],
         "yaxis": "y"
        },
        {
         "hoverinfo": "skip",
         "marker": {
          "color": "rgba(29, 113, 184, 1)",
          "size": 10,
          "symbol": "asterisk-open"
         },
         "mode": "markers",
         "showlegend": false,
         "type": "scatter",
         "x": [
          0.05,
          0.05,
          0.05,
          0.05,
          0.05
         ],
         "xaxis": "x",
         "y": [
          11.82,
          10.82,
          9.82,
          8.82,
          5.82
         ],
         "yaxis": "y"
        },
        {
         "hoverinfo": "skip",
         "marker": {
          "color": "rgba(227, 6, 19, 1)",
          "size": 10,
          "symbol": "asterisk-open"
         },
         "mode": "markers",
         "showlegend": false,
         "type": "scatter",
         "x": [],
         "xaxis": "x",
         "y": [],
         "yaxis": "y"
        },
        {
         "error_x": {
          "array": [
           0.012877914555001476,
           0.009654627324991054,
           0.0078069679911657065,
           0.010414136228296475,
           0.010768997738596702,
           0.012716005968606215,
           0.01067678004929465,
           0.007359609777896276,
           0.00350995976421859,
           0.004943323789627417,
           0.0032802615174673077,
           0.0022353200162464944
          ],
          "arrayminus": [
           0.012877914555001476,
           0.009654627324991054,
           0.0078069679911657065,
           0.010414136228296475,
           0.010768997738596702,
           0.012716005968606215,
           0.01067678004929465,
           0.007359609777896276,
           0.00350995976421859,
           0.004943323789627417,
           0.0032802615174673077,
           0.0022353200162464944
          ],
          "symmetric": false,
          "type": "data"
         },
         "hovertemplate": "ROI: %{y}<br>R2 change: %{x:1.2f}",
         "legendgroup": "spatio",
         "marker": {
          "color": "rgba(29, 113, 184, 1)"
         },
         "name": "<i>spatiotopic prediction<i>",
         "orientation": "h",
         "showlegend": false,
         "type": "bar",
         "x": [
          -0.059793935962561266,
          -0.03218810348731794,
          -0.023765138527455903,
          -0.0103552430576909,
          0.0091161282983824,
          -0.012704197202578383,
          0.0035593077016440365,
          0.00730475588880834,
          0.004788586712923138,
          0.005976542904164625,
          0.001969739701587839,
          0.0026577190105885303
         ],
         "xaxis": "x2",
         "y": [
          12,
          11,
          10,
          9,
          8,
          7,
          6,
          5,
          4,
          3,
          2,
          1
         ],
         "yaxis": "y2"
        },
        {
         "error_x": {
          "array": [
           0.0032834877802898556,
           0.0030598154870128975,
           0.004290527582114271,
           0.008409132284362202,
           0.01007331596527668,
           0.011375213635822782,
           0.009940212039952207,
           0.0074899422012527665,
           0.0038354850870039527,
           0.004956775300672227,
           0.0032549687011560326,
           0.0026923212465768784
          ],
          "arrayminus": [
           0.0032834877802898556,
           0.0030598154870128975,
           0.004290527582114271,
           0.008409132284362202,
           0.01007331596527668,
           0.011375213635822782,
           0.009940212039952207,
           0.0074899422012527665,
           0.0038354850870039527,
           0.004956775300672227,
           0.0032549687011560326,
           0.0026923212465768784
          ],
          "symmetric": false,
          "type": "data"
         },
         "hovertemplate": "ROI: %{y}<br>R2 change: %{x:1.2f}",
         "legendgroup": "retino",
         "marker": {
          "color": "rgba(227, 6, 19, 1)"
         },
         "name": "<i>retinotopic prediction<i>",
         "orientation": "h",
         "showlegend": false,
         "type": "bar",
         "x": [
          -0.0021360781045370227,
          -0.0007476662947037493,
          -0.0036728311785233295,
          0.004647179004472798,
          0.01375232367000695,
          0.002465709980446494,
          0.010976187002106206,
          0.00983318803418445,
          0.00722504241924494,
          0.007962136425908184,
          0.0044877564033056466,
          0.004033032993863661
         ],
         "xaxis": "x2",
         "y": [
          12,
          11,
          10,
          9,
          8,
          7,
          6,
          5,
          4,
          3,
          2,
          1
         ],
         "yaxis": "y2"
        },
        {
         "hoverinfo": "skip",
         "marker": {
          "color": "black",
          "size": 15,
          "symbol": "line-ns-open"
         },
         "mode": "markers",
         "showlegend": false,
         "type": "scatter",
         "x": [
          -0.15000000000000002,
          -0.15000000000000002,
          -0.15000000000000002,
          -0.15000000000000002,
          -0.15000000000000002,
          -0.15000000000000002,
          -0.15000000000000002,
          -0.15000000000000002,
          -0.15000000000000002,
          -0.15000000000000002,
          -0.15000000000000002
         ],
         "xaxis": "x2",
         "y": [
          12,
          11,
          10,
          9,
          8,
          7,
          6,
          4,
          3,
          2,
          1
         ],
         "yaxis": "y2"
        },
        {
         "hoverinfo": "skip",
         "marker": {
          "color": "black",
          "size": 10,
          "symbol": "asterisk-open"
         },
         "mode": "markers",
         "showlegend": false,
         "type": "scatter",
         "x": [
          -0.16500000000000004,
          -0.16500000000000004,
          -0.16500000000000004,
          -0.16500000000000004,
          -0.16500000000000004,
          -0.16500000000000004,
          -0.16500000000000004,
          -0.16500000000000004,
          -0.16500000000000004,
          -0.16500000000000004,
          -0.16500000000000004
         ],
         "xaxis": "x2",
         "y": [
          12,
          11,
          10,
          9,
          8,
          7,
          6,
          4,
          3,
          2,
          1
         ],
         "yaxis": "y2"
        },
        {
         "hoverinfo": "skip",
         "marker": {
          "color": "rgba(29, 113, 184, 1)",
          "size": 10,
          "symbol": "asterisk-open"
         },
         "mode": "markers",
         "showlegend": false,
         "type": "scatter",
         "x": [
          0.05,
          0.05,
          0.05
         ],
         "xaxis": "x2",
         "y": [
          11.82,
          10.82,
          9.82
         ],
         "yaxis": "y2"
        },
        {
         "hoverinfo": "skip",
         "marker": {
          "color": "rgba(227, 6, 19, 1)",
          "size": 10,
          "symbol": "asterisk-open"
         },
         "mode": "markers",
         "showlegend": false,
         "type": "scatter",
         "x": [
          0.05
         ],
         "xaxis": "x2",
         "y": [
          4.18
         ],
         "yaxis": "y2"
        }
       ],
       "layout": {
        "annotations": [
         {
          "font": {
           "size": 16
          },
          "showarrow": false,
          "text": "<b>Attend-bar</b> (group)",
          "x": 0.2,
          "xanchor": "center",
          "xref": "paper",
          "y": 1,
          "yanchor": "bottom",
          "yref": "paper"
         },
         {
          "font": {
           "size": 16
          },
          "showarrow": false,
          "text": "<b>Attend-fix</b> (group)",
          "x": 0.8,
          "xanchor": "center",
          "xref": "paper",
          "y": 1,
          "yanchor": "bottom",
          "yref": "paper"
         }
        ],
        "bargap": 0.3,
        "height": 850,
        "legend": {
         "bgcolor": "rgba(255,255,255,0)",
         "tracegroupgap": 1,
         "x": -0.05,
         "xanchor": "left",
         "y": -0.15,
         "yanchor": "top"
        },
        "margin": {
         "b": 100,
         "l": 100,
         "r": 50,
         "t": 50
        },
        "template": {
         "data": {
          "barpolar": [
           {
            "marker": {
             "line": {
              "color": "rgba(0, 0, 0, 1)",
              "width": 1.5
             }
            },
            "showlegend": false,
            "thetaunit": "radians",
            "type": "barpolar"
           }
          ],
          "pie": [
           {
            "direction": "clockwise",
            "hole": 0.4,
            "marker": {
             "line": {
              "color": [
               "rgba(0, 0, 0, 1)",
               "rgba(255,255,255,0)"
              ],
              "width": [
               1.5,
               0
              ]
             }
            },
            "rotation": 0,
            "showlegend": false,
            "sort": false,
            "textposition": [
             "inside",
             "none"
            ],
            "type": "pie"
           }
          ],
          "violin": [
           {
            "box": {
             "visible": false
            },
            "hoveron": "violins",
            "line": {
             "color": "rgba(0, 0, 0, 1)",
             "width": 1.5
            },
            "marker": {
             "opacity": 0.5,
             "symbol": "x"
            },
            "meanline": {
             "color": "rgba(0, 0, 0, 1)",
             "visible": true,
             "width": 1.5
            },
            "opacity": 1,
            "points": false,
            "showlegend": false,
            "type": "violin",
            "width": 0.8
           }
          ]
         },
         "layout": {
          "annotationdefaults": {
           "font": {
            "color": "rgba(0, 0, 0, 1)",
            "family": "Arial",
            "size": 15
           }
          },
          "font": {
           "family": "Arial",
           "size": 13
          },
          "plot_bgcolor": "rgba(255, 255, 255, 1)",
          "polar": {
           "angularaxis": {
            "showticklabels": false,
            "ticks": "",
            "visible": false
           },
           "radialaxis": {
            "showticklabels": false,
            "ticks": "",
            "visible": false
           }
          },
          "xaxis": {
           "color": "rgba(0, 0, 0, 1)",
           "hoverformat": ".1f",
           "linewidth": 2,
           "range": [
            0,
            1
           ],
           "showgrid": false,
           "tickfont": {
            "family": "Arial",
            "size": 13
           },
           "ticklen": 8,
           "ticks": "outside",
           "tickwidth": 2,
           "title": {
            "font": {
             "family": "Arial",
             "size": 15
            }
           },
           "visible": true,
           "zeroline": false,
           "zerolinecolor": "rgba(0, 0, 0, 1)",
           "zerolinewidth": 2
          },
          "yaxis": {
           "color": "rgba(0, 0, 0, 1)",
           "hoverformat": ".1f",
           "linewidth": 2,
           "showgrid": false,
           "tickfont": {
            "family": "Arial",
            "size": 13
           },
           "ticklen": 8,
           "ticks": "outside",
           "tickwidth": 2,
           "title": {
            "font": {
             "family": "Arial",
             "size": 15
            }
           },
           "visible": true,
           "zeroline": false,
           "zerolinecolor": "rgba(0, 0, 0, 1)",
           "zerolinewidth": 2
          }
         }
        },
        "width": 750,
        "xaxis": {
         "anchor": "y",
         "domain": [
          0,
          0.4
         ],
         "linewidth": 2,
         "range": [
          -0.2,
          0.1
         ],
         "ticklen": 8,
         "ticktext": [
          "0.1",
          "0",
          "-0.1",
          "-0.2"
         ],
         "tickvals": [
          0.1,
          2.7755575615628914e-17,
          -0.09999999999999999,
          -0.2
         ],
         "title": {
          "text": "R2 change relative<br>to <i>gaze center"
         },
         "type": "linear",
         "visible": true,
         "zeroline": true
        },
        "xaxis2": {
         "anchor": "y2",
         "domain": [
          0.6000000000000001,
          1
         ],
         "linewidth": 2,
         "range": [
          -0.2,
          0.1
         ],
         "ticklen": 8,
         "ticktext": [
          "0.1",
          "0",
          "-0.1",
          "-0.2"
         ],
         "tickvals": [
          0.1,
          2.7755575615628914e-17,
          -0.09999999999999999,
          -0.2
         ],
         "title": {
          "text": "R2 change relative<br>to <i>gaze center"
         },
         "type": "linear",
         "visible": true,
         "zeroline": true
        },
        "yaxis": {
         "anchor": "x",
         "color": "rgba(0, 0, 0, 0)",
         "domain": [
          0,
          1
         ],
         "range": [
          0.3,
          12.7
         ],
         "tickfont": {
          "color": "black"
         },
         "ticktext": [
          "V1",
          "V2",
          "V3",
          "V3AB",
          "hMT+",
          "LO",
          "VO",
          "iIPS",
          "sIPS",
          "iPCS",
          "sPCS",
          "mPCS"
         ],
         "tickvals": [
          12,
          11,
          10,
          9,
          8,
          7,
          6,
          5,
          4,
          3,
          2,
          1
         ],
         "title": {
          "text": ""
         },
         "type": "linear"
        },
        "yaxis2": {
         "anchor": "x2",
         "color": "rgba(0, 0, 0, 0)",
         "domain": [
          0,
          1
         ],
         "range": [
          0.3,
          12.7
         ],
         "tickfont": {
          "color": "black"
         },
         "ticktext": [
          "V1",
          "V2",
          "V3",
          "V3AB",
          "hMT+",
          "LO",
          "VO",
          "iIPS",
          "sIPS",
          "iPCS",
          "sPCS",
          "mPCS"
         ],
         "tickvals": [
          12,
          11,
          10,
          9,
          8,
          7,
          6,
          5,
          4,
          3,
          2,
          1
         ],
         "type": "linear"
        }
       }
      },
      "image/png": "[encoded data removed]",
      "text/html": [
       "<div>                            <div id=\"d7691a21-a5d5-4cd2-920a-42179240e266\" class=\"plotly-graph-div\" style=\"height:850px; width:750px;\"></div>            <script type=\"text/javascript\">                require([\"plotly\"], function(Plotly) {                    window.PLOTLYENV=window.PLOTLYENV || {};                                    if (document.getElementById(\"d7691a21-a5d5-4cd2-920a-42179240e266\")) {                    Plotly.newPlot(                        \"d7691a21-a5d5-4cd2-920a-42179240e266\",                        [{\"error_x\":{\"array\":[0.016488013349721727,0.013486258448468007,0.013324630202518924,0.010816343773221698,0.006580612187236081,0.010948679793691731,0.004824061239891425,0.008875393361149193,0.004800426018524373,0.004393962565290195,0.006941215718512541,0.003770836353724317],\"arrayminus\":[0.016488013349721727,0.013486258448468007,0.013324630202518924,0.010816343773221698,0.006580612187236081,0.010948679793691731,0.004824061239891425,0.008875393361149193,0.004800426018524373,0.004393962565290195,0.006941215718512541,0.003770836353724317],\"symmetric\":false,\"type\":\"data\"},\"hovertemplate\":\"ROI: %{y}<br>R2 change: %{x:1.2f}\",\"legendgroup\":\"spatio\",\"marker\":{\"color\":\"rgba(29, 113, 184, 1)\"},\"name\":\"<i>spatiotopic prediction<i>\",\"orientation\":\"h\",\"showlegend\":true,\"x\":[-0.07728214483986644,-0.05851944300385816,-0.056459184327403725,-0.03089461737893967,0.002469686279879333,-0.016033371839330023,-0.009150284529024957,0.0012172383033948186,-0.000913521204674688,0.0003894307420182453,0.0018252781863476771,0.0032733966690116877],\"y\":[12,11,10,9,8,7,6,5,4,3,2,1],\"type\":\"bar\",\"xaxis\":\"x\",\"yaxis\":\"y\"},{\"error_x\":{\"array\":[0.006954338043389386,0.004977245626760933,0.006697401075763419,0.01196541942412093,0.007031858655318664,0.010750161441801617,0.006339095926637296,0.009266792737038504,0.004638717645189823,0.0037987048705931396,0.006440702887123501,0.003732133829988499],\"arrayminus\":[0.006954338043389386,0.004977245626760933,0.006697401075763419,0.01196541942412093,0.007031858655318664,0.010750161441801617,0.006339095926637296,0.009266792737038504,0.004638717645189823,0.0037987048705931396,0.006440702887123501,0.003732133829988499],\"symmetric\":false,\"type\":\"data\"},\"hovertemplate\":\"ROI: %{y}<br>R2 change: %{x:1.2f}\",\"legendgroup\":\"retino\",\"marker\":{\"color\":\"rgba(227, 6, 19, 1)\"},\"name\":\"<i>retinotopic prediction<i>\",\"orientation\":\"h\",\"showlegend\":true,\"x\":[0.00431034168835119,0.004709262539083083,0.0042908888327953185,0.010539232385369359,0.009567707393201886,0.01048633024601264,0.007776877902764325,0.009002387878861871,0.004012866959638031,0.0024214745200184067,0.005834899348414463,0.004675082044892192],\"y\":[12,11,10,9,8,7,6,5,4,3,2,1],\"type\":\"bar\",\"xaxis\":\"x\",\"yaxis\":\"y\"},{\"hoverinfo\":\"skip\",\"marker\":{\"color\":\"black\",\"size\":15,\"symbol\":\"line-ns-open\"},\"mode\":\"markers\",\"showlegend\":false,\"x\":[-0.15000000000000002,-0.15000000000000002,-0.15000000000000002,-0.15000000000000002,-0.15000000000000002,-0.15000000000000002,-0.15000000000000002,-0.15000000000000002,-0.15000000000000002,-0.15000000000000002,-0.15000000000000002,-0.15000000000000002],\"y\":[12,11,10,9,8,7,6,5,4,3,2,1],\"type\":\"scatter\",\"xaxis\":\"x\",\"yaxis\":\"y\"},{\"hoverinfo\":\"skip\",\"marker\":{\"color\":\"black\",\"size\":10,\"symbol\":\"asterisk-open\"},\"mode\":\"markers\",\"showlegend\":false,\"x\":[-0.16500000000000004,-0.16500000000000004,-0.16500000000000004,-0.16500000000000004,-0.16500000000000004,-0.16500000000000004,-0.16500000000000004,-0.16500000000000004,-0.16500000000000004,-0.16500000000000004,-0.16500000000000004,-0.16500000000000004],\"y\":[12,11,10,9,8,7,6,5,4,3,2,1],\"type\":\"scatter\",\"xaxis\":\"x\",\"yaxis\":\"y\"},{\"hoverinfo\":\"skip\",\"marker\":{\"color\":\"rgba(29, 113, 184, 1)\",\"size\":10,\"symbol\":\"asterisk-open\"},\"mode\":\"markers\",\"showlegend\":false,\"x\":[0.05,0.05,0.05,0.05,0.05],\"y\":[11.82,10.82,9.82,8.82,5.82],\"type\":\"scatter\",\"xaxis\":\"x\",\"yaxis\":\"y\"},{\"hoverinfo\":\"skip\",\"marker\":{\"color\":\"rgba(227, 6, 19, 1)\",\"size\":10,\"symbol\":\"asterisk-open\"},\"mode\":\"markers\",\"showlegend\":false,\"x\":[],\"y\":[],\"type\":\"scatter\",\"xaxis\":\"x\",\"yaxis\":\"y\"},{\"error_x\":{\"array\":[0.012877914555001476,0.009654627324991054,0.0078069679911657065,0.010414136228296475,0.010768997738596702,0.012716005968606215,0.01067678004929465,0.007359609777896276,0.00350995976421859,0.004943323789627417,0.0032802615174673077,0.0022353200162464944],\"arrayminus\":[0.012877914555001476,0.009654627324991054,0.0078069679911657065,0.010414136228296475,0.010768997738596702,0.012716005968606215,0.01067678004929465,0.007359609777896276,0.00350995976421859,0.004943323789627417,0.0032802615174673077,0.0022353200162464944],\"symmetric\":false,\"type\":\"data\"},\"hovertemplate\":\"ROI: %{y}<br>R2 change: %{x:1.2f}\",\"legendgroup\":\"spatio\",\"marker\":{\"color\":\"rgba(29, 113, 184, 1)\"},\"name\":\"<i>spatiotopic prediction<i>\",\"orientation\":\"h\",\"showlegend\":false,\"x\":[-0.059793935962561266,-0.03218810348731794,-0.023765138527455903,-0.0103552430576909,0.0091161282983824,-0.012704197202578383,0.0035593077016440365,0.00730475588880834,0.004788586712923138,0.005976542904164625,0.001969739701587839,0.0026577190105885303],\"y\":[12,11,10,9,8,7,6,5,4,3,2,1],\"type\":\"bar\",\"xaxis\":\"x2\",\"yaxis\":\"y2\"},{\"error_x\":{\"array\":[0.0032834877802898556,0.0030598154870128975,0.004290527582114271,0.008409132284362202,0.01007331596527668,0.011375213635822782,0.009940212039952207,0.0074899422012527665,0.0038354850870039527,0.004956775300672227,0.0032549687011560326,0.0026923212465768784],\"arrayminus\":[0.0032834877802898556,0.0030598154870128975,0.004290527582114271,0.008409132284362202,0.01007331596527668,0.011375213635822782,0.009940212039952207,0.0074899422012527665,0.0038354850870039527,0.004956775300672227,0.0032549687011560326,0.0026923212465768784],\"symmetric\":false,\"type\":\"data\"},\"hovertemplate\":\"ROI: %{y}<br>R2 change: %{x:1.2f}\",\"legendgroup\":\"retino\",\"marker\":{\"color\":\"rgba(227, 6, 19, 1)\"},\"name\":\"<i>retinotopic prediction<i>\",\"orientation\":\"h\",\"showlegend\":false,\"x\":[-0.0021360781045370227,-0.0007476662947037493,-0.0036728311785233295,0.004647179004472798,0.01375232367000695,0.002465709980446494,0.010976187002106206,0.00983318803418445,0.00722504241924494,0.007962136425908184,0.0044877564033056466,0.004033032993863661],\"y\":[12,11,10,9,8,7,6,5,4,3,2,1],\"type\":\"bar\",\"xaxis\":\"x2\",\"yaxis\":\"y2\"},{\"hoverinfo\":\"skip\",\"marker\":{\"color\":\"black\",\"size\":15,\"symbol\":\"line-ns-open\"},\"mode\":\"markers\",\"showlegend\":false,\"x\":[-0.15000000000000002,-0.15000000000000002,-0.15000000000000002,-0.15000000000000002,-0.15000000000000002,-0.15000000000000002,-0.15000000000000002,-0.15000000000000002,-0.15000000000000002,-0.15000000000000002,-0.15000000000000002],\"y\":[12,11,10,9,8,7,6,4,3,2,1],\"type\":\"scatter\",\"xaxis\":\"x2\",\"yaxis\":\"y2\"},{\"hoverinfo\":\"skip\",\"marker\":{\"color\":\"black\",\"size\":10,\"symbol\":\"asterisk-open\"},\"mode\":\"markers\",\"showlegend\":false,\"x\":[-0.16500000000000004,-0.16500000000000004,-0.16500000000000004,-0.16500000000000004,-0.16500000000000004,-0.16500000000000004,-0.16500000000000004,-0.16500000000000004,-0.16500000000000004,-0.16500000000000004,-0.16500000000000004],\"y\":[12,11,10,9,8,7,6,4,3,2,1],\"type\":\"scatter\",\"xaxis\":\"x2\",\"yaxis\":\"y2\"},{\"hoverinfo\":\"skip\",\"marker\":{\"color\":\"rgba(29, 113, 184, 1)\",\"size\":10,\"symbol\":\"asterisk-open\"},\"mode\":\"markers\",\"showlegend\":false,\"x\":[0.05,0.05,0.05],\"y\":[11.82,10.82,9.82],\"type\":\"scatter\",\"xaxis\":\"x2\",\"yaxis\":\"y2\"},{\"hoverinfo\":\"skip\",\"marker\":{\"color\":\"rgba(227, 6, 19, 1)\",\"size\":10,\"symbol\":\"asterisk-open\"},\"mode\":\"markers\",\"showlegend\":false,\"x\":[0.05],\"y\":[4.18],\"type\":\"scatter\",\"xaxis\":\"x2\",\"yaxis\":\"y2\"}],                        {\"template\":{\"data\":{\"barpolar\":[{\"marker\":{\"line\":{\"color\":\"rgba(0,0,0,1)\",\"width\":1.5}},\"showlegend\":false,\"thetaunit\":\"radians\",\"type\":\"barpolar\"}],\"pie\":[{\"direction\":\"clockwise\",\"hole\":0.4,\"marker\":{\"line\":{\"color\":[\"rgba(0,0,0,1)\",\"rgba(255,255,255,0)\"],\"width\":[1.5,0]}},\"rotation\":0,\"showlegend\":false,\"sort\":false,\"textposition\":[\"inside\",\"none\"],\"type\":\"pie\"}],\"violin\":[{\"box\":{\"visible\":false},\"hoveron\":\"violins\",\"line\":{\"color\":\"rgba(0, 0, 0, 1)\",\"width\":1.5},\"marker\":{\"opacity\":0.5,\"symbol\":\"x\"},\"meanline\":{\"color\":\"rgba(0, 0, 0, 1)\",\"visible\":true,\"width\":1.5},\"opacity\":1,\"points\":false,\"showlegend\":false,\"width\":0.8,\"type\":\"violin\"}]},\"layout\":{\"annotationdefaults\":{\"font\":{\"color\":\"rgba(0, 0, 0, 1)\",\"family\":\"Arial\",\"size\":15}},\"font\":{\"family\":\"Arial\",\"size\":13},\"plot_bgcolor\":\"rgba(255, 255, 255, 1)\",\"polar\":{\"angularaxis\":{\"showticklabels\":false,\"ticks\":\"\",\"visible\":false},\"radialaxis\":{\"showticklabels\":false,\"ticks\":\"\",\"visible\":false}},\"xaxis\":{\"color\":\"rgba(0, 0, 0, 1)\",\"hoverformat\":\".1f\",\"linewidth\":2,\"range\":[0,1],\"showgrid\":false,\"tickfont\":{\"family\":\"Arial\",\"size\":13},\"ticklen\":8,\"ticks\":\"outside\",\"tickwidth\":2,\"title\":{\"font\":{\"family\":\"Arial\",\"size\":15}},\"visible\":true,\"zeroline\":false,\"zerolinecolor\":\"rgba(0, 0, 0, 1)\",\"zerolinewidth\":2},\"yaxis\":{\"color\":\"rgba(0, 0, 0, 1)\",\"hoverformat\":\".1f\",\"linewidth\":2,\"showgrid\":false,\"tickfont\":{\"family\":\"Arial\",\"size\":13},\"ticklen\":8,\"ticks\":\"outside\",\"tickwidth\":2,\"title\":{\"font\":{\"family\":\"Arial\",\"size\":15}},\"visible\":true,\"zeroline\":false,\"zerolinecolor\":\"rgba(0, 0, 0, 1)\",\"zerolinewidth\":2}}},\"xaxis\":{\"anchor\":\"y\",\"domain\":[0.0,0.4],\"visible\":true,\"ticklen\":8,\"linewidth\":2,\"range\":[-0.2,0.1],\"title\":{\"text\":\"R2 change relative<br>to <i>gaze center\"},\"tickvals\":[0.1,2.7755575615628914e-17,-0.09999999999999999,-0.2],\"ticktext\":[\"0.1\",\"0\",\"-0.1\",\"-0.2\"],\"zeroline\":true},\"yaxis\":{\"anchor\":\"x\",\"domain\":[0.0,1.0],\"range\":[0.3,12.7],\"tickvals\":[12.0,11.0,10.0,9.0,8.0,7.0,6.0,5.0,4.0,3.0,2.0,1.0],\"ticktext\":[\"V1\",\"V2\",\"V3\",\"V3AB\",\"hMT+\",\"LO\",\"VO\",\"iIPS\",\"sIPS\",\"iPCS\",\"sPCS\",\"mPCS\"],\"color\":\"rgba(0,0,0,0)\",\"tickfont\":{\"color\":\"black\"},\"title\":{\"text\":\"\"}},\"xaxis2\":{\"anchor\":\"y2\",\"domain\":[0.6000000000000001,1.0],\"visible\":true,\"ticklen\":8,\"linewidth\":2,\"range\":[-0.2,0.1],\"title\":{\"text\":\"R2 change relative<br>to <i>gaze center\"},\"tickvals\":[0.1,2.7755575615628914e-17,-0.09999999999999999,-0.2],\"ticktext\":[\"0.1\",\"0\",\"-0.1\",\"-0.2\"],\"zeroline\":true},\"yaxis2\":{\"anchor\":\"x2\",\"domain\":[0.0,1.0],\"range\":[0.3,12.7],\"tickvals\":[12.0,11.0,10.0,9.0,8.0,7.0,6.0,5.0,4.0,3.0,2.0,1.0],\"ticktext\":[\"V1\",\"V2\",\"V3\",\"V3AB\",\"hMT+\",\"LO\",\"VO\",\"iIPS\",\"sIPS\",\"iPCS\",\"sPCS\",\"mPCS\"],\"color\":\"rgba(0,0,0,0)\",\"tickfont\":{\"color\":\"black\"}},\"annotations\":[{\"font\":{\"size\":16},\"showarrow\":false,\"text\":\"<b>Attend-bar</b> (group)\",\"x\":0.2,\"xanchor\":\"center\",\"xref\":\"paper\",\"y\":1.0,\"yanchor\":\"bottom\",\"yref\":\"paper\"},{\"font\":{\"size\":16},\"showarrow\":false,\"text\":\"<b>Attend-fix</b> (group)\",\"x\":0.8,\"xanchor\":\"center\",\"xref\":\"paper\",\"y\":1.0,\"yanchor\":\"bottom\",\"yref\":\"paper\"}],\"margin\":{\"l\":100,\"r\":50,\"t\":50,\"b\":100},\"legend\":{\"yanchor\":\"top\",\"y\":-0.15,\"x\":-0.05,\"xanchor\":\"left\",\"bgcolor\":\"rgba(255,255,255,0)\",\"tracegroupgap\":1},\"bargap\":0.3,\"width\":750,\"height\":850},                        {\"displayModeBar\": false, \"responsive\": true}                    ).then(function(){\n",
       "                            \n",
       "var gd = document.getElementById('d7691a21-a5d5-4cd2-920a-42179240e266');\n",
       "var x = new MutationObserver(function (mutations, observer) {{\n",
       "        var display = window.getComputedStyle(gd).display;\n",
       "        if (!display || display === 'none') {{\n",
       "            console.log([gd, 'removed!']);\n",
       "            Plotly.purge(gd);\n",
       "            observer.disconnect();\n",
       "        }}\n",
       "}});\n",
       "\n",
       "// Listen for the removal of the full notebook cells\n",
       "var notebookContainer = gd.closest('#notebook-container');\n",
       "if (notebookContainer) {{\n",
       "    x.observe(notebookContainer, {childList: true});\n",
       "}}\n",
       "\n",
       "// Listen for the clearing of the current output cell\n",
       "var outputEl = gd.closest('.output');\n",
       "if (outputEl) {{\n",
       "    x.observe(outputEl, {childList: true});\n",
       "}}\n",
       "\n",
       "                        })                };                });            </script>        </div>"
      ]
     },
     "metadata": {},
     "output_type": "display_data"
    },
    {
     "name": "stdout",
     "output_type": "stream",
     "text": [
      "saving /home/mszinte/disks/meso_S/data/gaze_prf/derivatives/pp_data/group/prf/tsv/group_task-AttendFix_retino_spatio_r2change_stats_best250.tsv\n",
      "saving /home/mszinte/disks/meso_S/data/gaze_prf/derivatives/pp_data/group/prf/tsv/group_task-AttendBar_retino_spatio_r2change_stats_best250.tsv\n"
     ]
    },
    {
     "data": {
      "application/vnd.plotly.v1+json": {
       "config": {
        "displayModeBar": false,
        "plotlyServerURL": "https://plot.ly"
       },
       "data": [
        {
         "error_x": {
          "array": [
           0.05219240258137691,
           0.045776637457947925,
           0.036439211358138504,
           0.026170786683607547,
           0.022484055085295267,
           0.025936467923622187,
           0.016514727261726637,
           0.03850667348976756,
           0.03681050024366955,
           0.025098694993006394,
           0.03324510412145671,
           0.024788509156472304
          ],
          "arrayminus": [
           0.05219240258137691,
           0.045776637457947925,
           0.036439211358138504,
           0.026170786683607547,
           0.022484055085295267,
           0.025936467923622187,
           0.016514727261726637,
           0.03850667348976756,
           0.03681050024366955,
           0.025098694993006394,
           0.03324510412145671,
           0.024788509156472304
          ],
          "symmetric": false,
          "type": "data"
         },
         "hovertemplate": "ROI: %{y}<br>R2 change: %{x:1.2f}",
         "legendgroup": "spatio",
         "marker": {
          "color": "rgba(29, 113, 184, 1)"
         },
         "name": "<i>spatiotopic prediction<i>",
         "orientation": "h",
         "showlegend": true,
         "type": "bar",
         "x": [
          -0.2891100493520498,
          -0.23869615864753724,
          -0.18547033789071693,
          -0.08881240874528884,
          0.01722248674929142,
          -0.042083079814910884,
          -0.05369655223190784,
          0.009928891045561281,
          0.015411056116223338,
          0.008440923690795897,
          0.022298070564866067,
          0.023599875807762145
         ],
         "xaxis": "x",
         "y": [
          12,
          11,
          10,
          9,
          8,
          7,
          6,
          5,
          4,
          3,
          2,
          1
         ],
         "yaxis": "y"
        },
        {
         "error_x": {
          "array": [
           0.019480398421142367,
           0.01521752499992245,
           0.018579124521782935,
           0.02884251562790519,
           0.023754509965912194,
           0.026605474514492525,
           0.02763013818829931,
           0.03851639775240902,
           0.03647263036874205,
           0.02321822203858182,
           0.03192651376152149,
           0.02426306165916507
          ],
          "arrayminus": [
           0.019480398421142367,
           0.01521752499992245,
           0.018579124521782935,
           0.02884251562790519,
           0.023754509965912194,
           0.026605474514492525,
           0.02763013818829931,
           0.03851639775240902,
           0.03647263036874205,
           0.02321822203858182,
           0.03192651376152149,
           0.02426306165916507
          ],
          "symmetric": false,
          "type": "data"
         },
         "hovertemplate": "ROI: %{y}<br>R2 change: %{x:1.2f}",
         "legendgroup": "retino",
         "marker": {
          "color": "rgba(227, 6, 19, 1)"
         },
         "name": "<i>retinotopic prediction<i>",
         "orientation": "h",
         "showlegend": true,
         "type": "bar",
         "x": [
          0.010873402506113052,
          0.011671121686697006,
          0.014952668204544538,
          0.0310407530516386,
          0.033116150915622714,
          0.03271283721923828,
          0.03298079328238964,
          0.036052267947170626,
          0.03663606667518615,
          0.016146185025572773,
          0.03958364570140839,
          0.028754889339208604
         ],
         "xaxis": "x",
         "y": [
          12,
          11,
          10,
          9,
          8,
          7,
          6,
          5,
          4,
          3,
          2,
          1
         ],
         "yaxis": "y"
        },
        {
         "hoverinfo": "skip",
         "marker": {
          "color": "black",
          "size": 15,
          "symbol": "line-ns-open"
         },
         "mode": "markers",
         "showlegend": false,
         "type": "scatter",
         "x": [
          -0.375,
          -0.375,
          -0.375,
          -0.375,
          -0.375,
          -0.375,
          -0.375,
          -0.375,
          -0.375,
          -0.375,
          -0.375,
          -0.375
         ],
         "xaxis": "x",
         "y": [
          12,
          11,
          10,
          9,
          8,
          7,
          6,
          5,
          4,
          3,
          2,
          1
         ],
         "yaxis": "y"
        },
        {
         "hoverinfo": "skip",
         "marker": {
          "color": "black",
          "size": 10,
          "symbol": "asterisk-open"
         },
         "mode": "markers",
         "showlegend": false,
         "type": "scatter",
         "x": [
          -0.41250000000000003,
          -0.41250000000000003,
          -0.41250000000000003,
          -0.41250000000000003,
          -0.41250000000000003,
          -0.41250000000000003,
          -0.41250000000000003,
          -0.41250000000000003,
          -0.41250000000000003,
          -0.41250000000000003,
          -0.41250000000000003,
          -0.41250000000000003
         ],
         "xaxis": "x",
         "y": [
          12,
          11,
          10,
          9,
          8,
          7,
          6,
          5,
          4,
          3,
          2,
          1
         ],
         "yaxis": "y"
        },
        {
         "hoverinfo": "skip",
         "marker": {
          "color": "rgba(29, 113, 184, 1)",
          "size": 10,
          "symbol": "asterisk-open"
         },
         "mode": "markers",
         "showlegend": false,
         "type": "scatter",
         "x": [
          0.2,
          0.2,
          0.2,
          0.2,
          0.2
         ],
         "xaxis": "x",
         "y": [
          11.82,
          10.82,
          9.82,
          8.82,
          5.82
         ],
         "yaxis": "y"
        },
        {
         "hoverinfo": "skip",
         "marker": {
          "color": "rgba(227, 6, 19, 1)",
          "size": 10,
          "symbol": "asterisk-open"
         },
         "mode": "markers",
         "showlegend": false,
         "type": "scatter",
         "x": [],
         "xaxis": "x",
         "y": [],
         "yaxis": "y"
        },
        {
         "error_x": {
          "array": [
           0.03975519086689253,
           0.03637800873573229,
           0.031041058068090526,
           0.03684006807037162,
           0.04257783515726552,
           0.05216063810293334,
           0.04898249627707106,
           0.033168709489044663,
           0.03376300980336278,
           0.026483416446274895,
           0.02206642085903897,
           0.01206768022476293
          ],
          "arrayminus": [
           0.03975519086689253,
           0.03637800873573229,
           0.031041058068090526,
           0.03684006807037162,
           0.04257783515726552,
           0.05216063810293334,
           0.04898249627707106,
           0.033168709489044663,
           0.03376300980336278,
           0.026483416446274895,
           0.02206642085903897,
           0.01206768022476293
          ],
          "symmetric": false,
          "type": "data"
         },
         "hovertemplate": "ROI: %{y}<br>R2 change: %{x:1.2f}",
         "legendgroup": "spatio",
         "marker": {
          "color": "rgba(29, 113, 184, 1)"
         },
         "name": "<i>spatiotopic prediction<i>",
         "orientation": "h",
         "showlegend": false,
         "type": "bar",
         "x": [
          -0.23594743072986601,
          -0.15451780420541764,
          -0.10382583893673966,
          -0.04187110511958599,
          0.030196910396218298,
          -0.02371946243941784,
          -0.0015017802715301524,
          0.03414856313169003,
          0.046089982479810714,
          0.03009205485880375,
          0.013262385368347167,
          0.013676602855324745
         ],
         "xaxis": "x2",
         "y": [
          12,
          11,
          10,
          9,
          8,
          7,
          6,
          5,
          4,
          3,
          2,
          1
         ],
         "yaxis": "y2"
        },
        {
         "error_x": {
          "array": [
           0.011257626960790105,
           0.012052874627209467,
           0.01716789513896731,
           0.03149459675922131,
           0.03990357289338573,
           0.04639336587189593,
           0.0408715632441015,
           0.03213704139860813,
           0.03446846770797275,
           0.025412392749499794,
           0.021221057033679828,
           0.012758596168577352
          ],
          "arrayminus": [
           0.011257626960790105,
           0.012052874627209467,
           0.01716789513896731,
           0.03149459675922131,
           0.03990357289338573,
           0.04639336587189593,
           0.0408715632441015,
           0.03213704139860813,
           0.03446846770797275,
           0.025412392749499794,
           0.021221057033679828,
           0.012758596168577352
          ],
          "symmetric": false,
          "type": "data"
         },
         "hovertemplate": "ROI: %{y}<br>R2 change: %{x:1.2f}",
         "legendgroup": "retino",
         "marker": {
          "color": "rgba(227, 6, 19, 1)"
         },
         "name": "<i>retinotopic prediction<i>",
         "orientation": "h",
         "showlegend": false,
         "type": "bar",
         "x": [
          -0.0022496348023414614,
          0.003361031219363214,
          -0.011155296671881256,
          0.017131533786654475,
          0.04746168586611747,
          0.026101159423589704,
          0.04598613715171814,
          0.047080654725432394,
          0.06140945050120354,
          0.03832467165589333,
          0.027090824604034423,
          0.018853071466088295
         ],
         "xaxis": "x2",
         "y": [
          12,
          11,
          10,
          9,
          8,
          7,
          6,
          5,
          4,
          3,
          2,
          1
         ],
         "yaxis": "y2"
        },
        {
         "hoverinfo": "skip",
         "marker": {
          "color": "black",
          "size": 15,
          "symbol": "line-ns-open"
         },
         "mode": "markers",
         "showlegend": false,
         "type": "scatter",
         "x": [
          -0.375,
          -0.375,
          -0.375,
          -0.375,
          -0.375,
          -0.375,
          -0.375,
          -0.375,
          -0.375,
          -0.375,
          -0.375,
          -0.375
         ],
         "xaxis": "x2",
         "y": [
          12,
          11,
          10,
          9,
          8,
          7,
          6,
          5,
          4,
          3,
          2,
          1
         ],
         "yaxis": "y2"
        },
        {
         "hoverinfo": "skip",
         "marker": {
          "color": "black",
          "size": 10,
          "symbol": "asterisk-open"
         },
         "mode": "markers",
         "showlegend": false,
         "type": "scatter",
         "x": [
          -0.41250000000000003,
          -0.41250000000000003,
          -0.41250000000000003,
          -0.41250000000000003,
          -0.41250000000000003,
          -0.41250000000000003,
          -0.41250000000000003,
          -0.41250000000000003,
          -0.41250000000000003,
          -0.41250000000000003,
          -0.41250000000000003,
          -0.41250000000000003
         ],
         "xaxis": "x2",
         "y": [
          12,
          11,
          10,
          9,
          8,
          7,
          6,
          5,
          4,
          3,
          2,
          1
         ],
         "yaxis": "y2"
        },
        {
         "hoverinfo": "skip",
         "marker": {
          "color": "rgba(29, 113, 184, 1)",
          "size": 10,
          "symbol": "asterisk-open"
         },
         "mode": "markers",
         "showlegend": false,
         "type": "scatter",
         "x": [
          0.2,
          0.2,
          0.2
         ],
         "xaxis": "x2",
         "y": [
          11.82,
          10.82,
          9.82
         ],
         "yaxis": "y2"
        },
        {
         "hoverinfo": "skip",
         "marker": {
          "color": "rgba(227, 6, 19, 1)",
          "size": 10,
          "symbol": "asterisk-open"
         },
         "mode": "markers",
         "showlegend": false,
         "type": "scatter",
         "x": [],
         "xaxis": "x2",
         "y": [],
         "yaxis": "y2"
        }
       ],
       "layout": {
        "annotations": [
         {
          "font": {
           "size": 16
          },
          "showarrow": false,
          "text": "<b>Attend-bar</b> (group)",
          "x": 0.2,
          "xanchor": "center",
          "xref": "paper",
          "y": 1,
          "yanchor": "bottom",
          "yref": "paper"
         },
         {
          "font": {
           "size": 16
          },
          "showarrow": false,
          "text": "<b>Attend-fix</b> (group)",
          "x": 0.8,
          "xanchor": "center",
          "xref": "paper",
          "y": 1,
          "yanchor": "bottom",
          "yref": "paper"
         }
        ],
        "bargap": 0.3,
        "height": 850,
        "legend": {
         "bgcolor": "rgba(255,255,255,0)",
         "tracegroupgap": 1,
         "x": -0.05,
         "xanchor": "left",
         "y": -0.15,
         "yanchor": "top"
        },
        "margin": {
         "b": 100,
         "l": 100,
         "r": 50,
         "t": 50
        },
        "template": {
         "data": {
          "barpolar": [
           {
            "marker": {
             "line": {
              "color": "rgba(0, 0, 0, 1)",
              "width": 1.5
             }
            },
            "showlegend": false,
            "thetaunit": "radians",
            "type": "barpolar"
           }
          ],
          "pie": [
           {
            "direction": "clockwise",
            "hole": 0.4,
            "marker": {
             "line": {
              "color": [
               "rgba(0, 0, 0, 1)",
               "rgba(255,255,255,0)"
              ],
              "width": [
               1.5,
               0
              ]
             }
            },
            "rotation": 0,
            "showlegend": false,
            "sort": false,
            "textposition": [
             "inside",
             "none"
            ],
            "type": "pie"
           }
          ],
          "violin": [
           {
            "box": {
             "visible": false
            },
            "hoveron": "violins",
            "line": {
             "color": "rgba(0, 0, 0, 1)",
             "width": 1.5
            },
            "marker": {
             "opacity": 0.5,
             "symbol": "x"
            },
            "meanline": {
             "color": "rgba(0, 0, 0, 1)",
             "visible": true,
             "width": 1.5
            },
            "opacity": 1,
            "points": false,
            "showlegend": false,
            "type": "violin",
            "width": 0.8
           }
          ]
         },
         "layout": {
          "annotationdefaults": {
           "font": {
            "color": "rgba(0, 0, 0, 1)",
            "family": "Arial",
            "size": 15
           }
          },
          "font": {
           "family": "Arial",
           "size": 13
          },
          "plot_bgcolor": "rgba(255, 255, 255, 1)",
          "polar": {
           "angularaxis": {
            "showticklabels": false,
            "ticks": "",
            "visible": false
           },
           "radialaxis": {
            "showticklabels": false,
            "ticks": "",
            "visible": false
           }
          },
          "xaxis": {
           "color": "rgba(0, 0, 0, 1)",
           "hoverformat": ".1f",
           "linewidth": 2,
           "range": [
            0,
            1
           ],
           "showgrid": false,
           "tickfont": {
            "family": "Arial",
            "size": 13
           },
           "ticklen": 8,
           "ticks": "outside",
           "tickwidth": 2,
           "title": {
            "font": {
             "family": "Arial",
             "size": 15
            }
           },
           "visible": true,
           "zeroline": false,
           "zerolinecolor": "rgba(0, 0, 0, 1)",
           "zerolinewidth": 2
          },
          "yaxis": {
           "color": "rgba(0, 0, 0, 1)",
           "hoverformat": ".1f",
           "linewidth": 2,
           "showgrid": false,
           "tickfont": {
            "family": "Arial",
            "size": 13
           },
           "ticklen": 8,
           "ticks": "outside",
           "tickwidth": 2,
           "title": {
            "font": {
             "family": "Arial",
             "size": 15
            }
           },
           "visible": true,
           "zeroline": false,
           "zerolinecolor": "rgba(0, 0, 0, 1)",
           "zerolinewidth": 2
          }
         }
        },
        "width": 750,
        "xaxis": {
         "anchor": "y",
         "domain": [
          0,
          0.4
         ],
         "linewidth": 2,
         "range": [
          -0.5,
          0.25
         ],
         "ticklen": 8,
         "ticktext": [
          "0.25",
          "0",
          "-0.25",
          "-0.5"
         ],
         "tickvals": [
          0.25,
          0,
          -0.25,
          -0.5
         ],
         "title": {
          "text": "R2 change relative<br>to <i>gaze center"
         },
         "type": "linear",
         "visible": true,
         "zeroline": true
        },
        "xaxis2": {
         "anchor": "y2",
         "domain": [
          0.6000000000000001,
          1
         ],
         "linewidth": 2,
         "range": [
          -0.5,
          0.25
         ],
         "ticklen": 8,
         "ticktext": [
          "0.25",
          "0",
          "-0.25",
          "-0.5"
         ],
         "tickvals": [
          0.25,
          0,
          -0.25,
          -0.5
         ],
         "title": {
          "text": "R2 change relative<br>to <i>gaze center"
         },
         "type": "linear",
         "visible": true,
         "zeroline": true
        },
        "yaxis": {
         "anchor": "x",
         "color": "rgba(0, 0, 0, 0)",
         "domain": [
          0,
          1
         ],
         "range": [
          0.3,
          12.7
         ],
         "tickfont": {
          "color": "black"
         },
         "ticktext": [
          "V1",
          "V2",
          "V3",
          "V3AB",
          "hMT+",
          "LO",
          "VO",
          "iIPS",
          "sIPS",
          "iPCS",
          "sPCS",
          "mPCS"
         ],
         "tickvals": [
          12,
          11,
          10,
          9,
          8,
          7,
          6,
          5,
          4,
          3,
          2,
          1
         ],
         "title": {
          "text": ""
         },
         "type": "linear"
        },
        "yaxis2": {
         "anchor": "x2",
         "color": "rgba(0, 0, 0, 0)",
         "domain": [
          0,
          1
         ],
         "range": [
          0.3,
          12.7
         ],
         "tickfont": {
          "color": "black"
         },
         "ticktext": [
          "V1",
          "V2",
          "V3",
          "V3AB",
          "hMT+",
          "LO",
          "VO",
          "iIPS",
          "sIPS",
          "iPCS",
          "sPCS",
          "mPCS"
         ],
         "tickvals": [
          12,
          11,
          10,
          9,
          8,
          7,
          6,
          5,
          4,
          3,
          2,
          1
         ],
         "type": "linear"
        }
       }
      },
      "image/png": "[encoded data removed]",
      "text/html": [
       "<div>                            <div id=\"2401a670-ab74-453d-9a8d-7e93cd1233f4\" class=\"plotly-graph-div\" style=\"height:850px; width:750px;\"></div>            <script type=\"text/javascript\">                require([\"plotly\"], function(Plotly) {                    window.PLOTLYENV=window.PLOTLYENV || {};                                    if (document.getElementById(\"2401a670-ab74-453d-9a8d-7e93cd1233f4\")) {                    Plotly.newPlot(                        \"2401a670-ab74-453d-9a8d-7e93cd1233f4\",                        [{\"error_x\":{\"array\":[0.05219240258137691,0.045776637457947925,0.036439211358138504,0.026170786683607547,0.022484055085295267,0.025936467923622187,0.016514727261726637,0.03850667348976756,0.03681050024366955,0.025098694993006394,0.03324510412145671,0.024788509156472304],\"arrayminus\":[0.05219240258137691,0.045776637457947925,0.036439211358138504,0.026170786683607547,0.022484055085295267,0.025936467923622187,0.016514727261726637,0.03850667348976756,0.03681050024366955,0.025098694993006394,0.03324510412145671,0.024788509156472304],\"symmetric\":false,\"type\":\"data\"},\"hovertemplate\":\"ROI: %{y}<br>R2 change: %{x:1.2f}\",\"legendgroup\":\"spatio\",\"marker\":{\"color\":\"rgba(29, 113, 184, 1)\"},\"name\":\"<i>spatiotopic prediction<i>\",\"orientation\":\"h\",\"showlegend\":true,\"x\":[-0.2891100493520498,-0.23869615864753724,-0.18547033789071693,-0.08881240874528884,0.01722248674929142,-0.042083079814910884,-0.05369655223190784,0.009928891045561281,0.015411056116223338,0.008440923690795897,0.022298070564866067,0.023599875807762145],\"y\":[12,11,10,9,8,7,6,5,4,3,2,1],\"type\":\"bar\",\"xaxis\":\"x\",\"yaxis\":\"y\"},{\"error_x\":{\"array\":[0.019480398421142367,0.01521752499992245,0.018579124521782935,0.02884251562790519,0.023754509965912194,0.026605474514492525,0.02763013818829931,0.03851639775240902,0.03647263036874205,0.02321822203858182,0.03192651376152149,0.02426306165916507],\"arrayminus\":[0.019480398421142367,0.01521752499992245,0.018579124521782935,0.02884251562790519,0.023754509965912194,0.026605474514492525,0.02763013818829931,0.03851639775240902,0.03647263036874205,0.02321822203858182,0.03192651376152149,0.02426306165916507],\"symmetric\":false,\"type\":\"data\"},\"hovertemplate\":\"ROI: %{y}<br>R2 change: %{x:1.2f}\",\"legendgroup\":\"retino\",\"marker\":{\"color\":\"rgba(227, 6, 19, 1)\"},\"name\":\"<i>retinotopic prediction<i>\",\"orientation\":\"h\",\"showlegend\":true,\"x\":[0.010873402506113052,0.011671121686697006,0.014952668204544538,0.0310407530516386,0.033116150915622714,0.03271283721923828,0.03298079328238964,0.036052267947170626,0.03663606667518615,0.016146185025572773,0.03958364570140839,0.028754889339208604],\"y\":[12,11,10,9,8,7,6,5,4,3,2,1],\"type\":\"bar\",\"xaxis\":\"x\",\"yaxis\":\"y\"},{\"hoverinfo\":\"skip\",\"marker\":{\"color\":\"black\",\"size\":15,\"symbol\":\"line-ns-open\"},\"mode\":\"markers\",\"showlegend\":false,\"x\":[-0.375,-0.375,-0.375,-0.375,-0.375,-0.375,-0.375,-0.375,-0.375,-0.375,-0.375,-0.375],\"y\":[12,11,10,9,8,7,6,5,4,3,2,1],\"type\":\"scatter\",\"xaxis\":\"x\",\"yaxis\":\"y\"},{\"hoverinfo\":\"skip\",\"marker\":{\"color\":\"black\",\"size\":10,\"symbol\":\"asterisk-open\"},\"mode\":\"markers\",\"showlegend\":false,\"x\":[-0.41250000000000003,-0.41250000000000003,-0.41250000000000003,-0.41250000000000003,-0.41250000000000003,-0.41250000000000003,-0.41250000000000003,-0.41250000000000003,-0.41250000000000003,-0.41250000000000003,-0.41250000000000003,-0.41250000000000003],\"y\":[12,11,10,9,8,7,6,5,4,3,2,1],\"type\":\"scatter\",\"xaxis\":\"x\",\"yaxis\":\"y\"},{\"hoverinfo\":\"skip\",\"marker\":{\"color\":\"rgba(29, 113, 184, 1)\",\"size\":10,\"symbol\":\"asterisk-open\"},\"mode\":\"markers\",\"showlegend\":false,\"x\":[0.2,0.2,0.2,0.2,0.2],\"y\":[11.82,10.82,9.82,8.82,5.82],\"type\":\"scatter\",\"xaxis\":\"x\",\"yaxis\":\"y\"},{\"hoverinfo\":\"skip\",\"marker\":{\"color\":\"rgba(227, 6, 19, 1)\",\"size\":10,\"symbol\":\"asterisk-open\"},\"mode\":\"markers\",\"showlegend\":false,\"x\":[],\"y\":[],\"type\":\"scatter\",\"xaxis\":\"x\",\"yaxis\":\"y\"},{\"error_x\":{\"array\":[0.03975519086689253,0.03637800873573229,0.031041058068090526,0.03684006807037162,0.04257783515726552,0.05216063810293334,0.04898249627707106,0.033168709489044663,0.03376300980336278,0.026483416446274895,0.02206642085903897,0.01206768022476293],\"arrayminus\":[0.03975519086689253,0.03637800873573229,0.031041058068090526,0.03684006807037162,0.04257783515726552,0.05216063810293334,0.04898249627707106,0.033168709489044663,0.03376300980336278,0.026483416446274895,0.02206642085903897,0.01206768022476293],\"symmetric\":false,\"type\":\"data\"},\"hovertemplate\":\"ROI: %{y}<br>R2 change: %{x:1.2f}\",\"legendgroup\":\"spatio\",\"marker\":{\"color\":\"rgba(29, 113, 184, 1)\"},\"name\":\"<i>spatiotopic prediction<i>\",\"orientation\":\"h\",\"showlegend\":false,\"x\":[-0.23594743072986601,-0.15451780420541764,-0.10382583893673966,-0.04187110511958599,0.030196910396218298,-0.02371946243941784,-0.0015017802715301524,0.03414856313169003,0.046089982479810714,0.03009205485880375,0.013262385368347167,0.013676602855324745],\"y\":[12,11,10,9,8,7,6,5,4,3,2,1],\"type\":\"bar\",\"xaxis\":\"x2\",\"yaxis\":\"y2\"},{\"error_x\":{\"array\":[0.011257626960790105,0.012052874627209467,0.01716789513896731,0.03149459675922131,0.03990357289338573,0.04639336587189593,0.0408715632441015,0.03213704139860813,0.03446846770797275,0.025412392749499794,0.021221057033679828,0.012758596168577352],\"arrayminus\":[0.011257626960790105,0.012052874627209467,0.01716789513896731,0.03149459675922131,0.03990357289338573,0.04639336587189593,0.0408715632441015,0.03213704139860813,0.03446846770797275,0.025412392749499794,0.021221057033679828,0.012758596168577352],\"symmetric\":false,\"type\":\"data\"},\"hovertemplate\":\"ROI: %{y}<br>R2 change: %{x:1.2f}\",\"legendgroup\":\"retino\",\"marker\":{\"color\":\"rgba(227, 6, 19, 1)\"},\"name\":\"<i>retinotopic prediction<i>\",\"orientation\":\"h\",\"showlegend\":false,\"x\":[-0.0022496348023414614,0.003361031219363214,-0.011155296671881256,0.017131533786654475,0.04746168586611747,0.026101159423589704,0.04598613715171814,0.047080654725432394,0.06140945050120354,0.03832467165589333,0.027090824604034423,0.018853071466088295],\"y\":[12,11,10,9,8,7,6,5,4,3,2,1],\"type\":\"bar\",\"xaxis\":\"x2\",\"yaxis\":\"y2\"},{\"hoverinfo\":\"skip\",\"marker\":{\"color\":\"black\",\"size\":15,\"symbol\":\"line-ns-open\"},\"mode\":\"markers\",\"showlegend\":false,\"x\":[-0.375,-0.375,-0.375,-0.375,-0.375,-0.375,-0.375,-0.375,-0.375,-0.375,-0.375,-0.375],\"y\":[12,11,10,9,8,7,6,5,4,3,2,1],\"type\":\"scatter\",\"xaxis\":\"x2\",\"yaxis\":\"y2\"},{\"hoverinfo\":\"skip\",\"marker\":{\"color\":\"black\",\"size\":10,\"symbol\":\"asterisk-open\"},\"mode\":\"markers\",\"showlegend\":false,\"x\":[-0.41250000000000003,-0.41250000000000003,-0.41250000000000003,-0.41250000000000003,-0.41250000000000003,-0.41250000000000003,-0.41250000000000003,-0.41250000000000003,-0.41250000000000003,-0.41250000000000003,-0.41250000000000003,-0.41250000000000003],\"y\":[12,11,10,9,8,7,6,5,4,3,2,1],\"type\":\"scatter\",\"xaxis\":\"x2\",\"yaxis\":\"y2\"},{\"hoverinfo\":\"skip\",\"marker\":{\"color\":\"rgba(29, 113, 184, 1)\",\"size\":10,\"symbol\":\"asterisk-open\"},\"mode\":\"markers\",\"showlegend\":false,\"x\":[0.2,0.2,0.2],\"y\":[11.82,10.82,9.82],\"type\":\"scatter\",\"xaxis\":\"x2\",\"yaxis\":\"y2\"},{\"hoverinfo\":\"skip\",\"marker\":{\"color\":\"rgba(227, 6, 19, 1)\",\"size\":10,\"symbol\":\"asterisk-open\"},\"mode\":\"markers\",\"showlegend\":false,\"x\":[],\"y\":[],\"type\":\"scatter\",\"xaxis\":\"x2\",\"yaxis\":\"y2\"}],                        {\"template\":{\"data\":{\"barpolar\":[{\"marker\":{\"line\":{\"color\":\"rgba(0,0,0,1)\",\"width\":1.5}},\"showlegend\":false,\"thetaunit\":\"radians\",\"type\":\"barpolar\"}],\"pie\":[{\"direction\":\"clockwise\",\"hole\":0.4,\"marker\":{\"line\":{\"color\":[\"rgba(0,0,0,1)\",\"rgba(255,255,255,0)\"],\"width\":[1.5,0]}},\"rotation\":0,\"showlegend\":false,\"sort\":false,\"textposition\":[\"inside\",\"none\"],\"type\":\"pie\"}],\"violin\":[{\"box\":{\"visible\":false},\"hoveron\":\"violins\",\"line\":{\"color\":\"rgba(0, 0, 0, 1)\",\"width\":1.5},\"marker\":{\"opacity\":0.5,\"symbol\":\"x\"},\"meanline\":{\"color\":\"rgba(0, 0, 0, 1)\",\"visible\":true,\"width\":1.5},\"opacity\":1,\"points\":false,\"showlegend\":false,\"width\":0.8,\"type\":\"violin\"}]},\"layout\":{\"annotationdefaults\":{\"font\":{\"color\":\"rgba(0, 0, 0, 1)\",\"family\":\"Arial\",\"size\":15}},\"font\":{\"family\":\"Arial\",\"size\":13},\"plot_bgcolor\":\"rgba(255, 255, 255, 1)\",\"polar\":{\"angularaxis\":{\"showticklabels\":false,\"ticks\":\"\",\"visible\":false},\"radialaxis\":{\"showticklabels\":false,\"ticks\":\"\",\"visible\":false}},\"xaxis\":{\"color\":\"rgba(0, 0, 0, 1)\",\"hoverformat\":\".1f\",\"linewidth\":2,\"range\":[0,1],\"showgrid\":false,\"tickfont\":{\"family\":\"Arial\",\"size\":13},\"ticklen\":8,\"ticks\":\"outside\",\"tickwidth\":2,\"title\":{\"font\":{\"family\":\"Arial\",\"size\":15}},\"visible\":true,\"zeroline\":false,\"zerolinecolor\":\"rgba(0, 0, 0, 1)\",\"zerolinewidth\":2},\"yaxis\":{\"color\":\"rgba(0, 0, 0, 1)\",\"hoverformat\":\".1f\",\"linewidth\":2,\"showgrid\":false,\"tickfont\":{\"family\":\"Arial\",\"size\":13},\"ticklen\":8,\"ticks\":\"outside\",\"tickwidth\":2,\"title\":{\"font\":{\"family\":\"Arial\",\"size\":15}},\"visible\":true,\"zeroline\":false,\"zerolinecolor\":\"rgba(0, 0, 0, 1)\",\"zerolinewidth\":2}}},\"xaxis\":{\"anchor\":\"y\",\"domain\":[0.0,0.4],\"visible\":true,\"ticklen\":8,\"linewidth\":2,\"range\":[-0.5,0.25],\"title\":{\"text\":\"R2 change relative<br>to <i>gaze center\"},\"tickvals\":[0.25,0.0,-0.25,-0.5],\"ticktext\":[\"0.25\",\"0\",\"-0.25\",\"-0.5\"],\"zeroline\":true},\"yaxis\":{\"anchor\":\"x\",\"domain\":[0.0,1.0],\"range\":[0.3,12.7],\"tickvals\":[12.0,11.0,10.0,9.0,8.0,7.0,6.0,5.0,4.0,3.0,2.0,1.0],\"ticktext\":[\"V1\",\"V2\",\"V3\",\"V3AB\",\"hMT+\",\"LO\",\"VO\",\"iIPS\",\"sIPS\",\"iPCS\",\"sPCS\",\"mPCS\"],\"color\":\"rgba(0,0,0,0)\",\"tickfont\":{\"color\":\"black\"},\"title\":{\"text\":\"\"}},\"xaxis2\":{\"anchor\":\"y2\",\"domain\":[0.6000000000000001,1.0],\"visible\":true,\"ticklen\":8,\"linewidth\":2,\"range\":[-0.5,0.25],\"title\":{\"text\":\"R2 change relative<br>to <i>gaze center\"},\"tickvals\":[0.25,0.0,-0.25,-0.5],\"ticktext\":[\"0.25\",\"0\",\"-0.25\",\"-0.5\"],\"zeroline\":true},\"yaxis2\":{\"anchor\":\"x2\",\"domain\":[0.0,1.0],\"range\":[0.3,12.7],\"tickvals\":[12.0,11.0,10.0,9.0,8.0,7.0,6.0,5.0,4.0,3.0,2.0,1.0],\"ticktext\":[\"V1\",\"V2\",\"V3\",\"V3AB\",\"hMT+\",\"LO\",\"VO\",\"iIPS\",\"sIPS\",\"iPCS\",\"sPCS\",\"mPCS\"],\"color\":\"rgba(0,0,0,0)\",\"tickfont\":{\"color\":\"black\"}},\"annotations\":[{\"font\":{\"size\":16},\"showarrow\":false,\"text\":\"<b>Attend-bar</b> (group)\",\"x\":0.2,\"xanchor\":\"center\",\"xref\":\"paper\",\"y\":1.0,\"yanchor\":\"bottom\",\"yref\":\"paper\"},{\"font\":{\"size\":16},\"showarrow\":false,\"text\":\"<b>Attend-fix</b> (group)\",\"x\":0.8,\"xanchor\":\"center\",\"xref\":\"paper\",\"y\":1.0,\"yanchor\":\"bottom\",\"yref\":\"paper\"}],\"margin\":{\"l\":100,\"r\":50,\"t\":50,\"b\":100},\"legend\":{\"yanchor\":\"top\",\"y\":-0.15,\"x\":-0.05,\"xanchor\":\"left\",\"bgcolor\":\"rgba(255,255,255,0)\",\"tracegroupgap\":1},\"bargap\":0.3,\"width\":750,\"height\":850},                        {\"displayModeBar\": false, \"responsive\": true}                    ).then(function(){\n",
       "                            \n",
       "var gd = document.getElementById('2401a670-ab74-453d-9a8d-7e93cd1233f4');\n",
       "var x = new MutationObserver(function (mutations, observer) {{\n",
       "        var display = window.getComputedStyle(gd).display;\n",
       "        if (!display || display === 'none') {{\n",
       "            console.log([gd, 'removed!']);\n",
       "            Plotly.purge(gd);\n",
       "            observer.disconnect();\n",
       "        }}\n",
       "}});\n",
       "\n",
       "// Listen for the removal of the full notebook cells\n",
       "var notebookContainer = gd.closest('#notebook-container');\n",
       "if (notebookContainer) {{\n",
       "    x.observe(notebookContainer, {childList: true});\n",
       "}}\n",
       "\n",
       "// Listen for the clearing of the current output cell\n",
       "var outputEl = gd.closest('.output');\n",
       "if (outputEl) {{\n",
       "    x.observe(outputEl, {childList: true});\n",
       "}}\n",
       "\n",
       "                        })                };                });            </script>        </div>"
      ]
     },
     "metadata": {},
     "output_type": "display_data"
    }
   ],
   "source": [
    "# load TSV\n",
    "for type_analysis in type_analyses:    \n",
    "    for subject_num, subject in enumerate(subjects):\n",
    "        tsv_dir = '{}/{}/prf/tsv'.format(pp_dir, subject)\n",
    "        df_fn = \"{}/{}_all_res{}.pkl\".format(tsv_dir, subject, type_analysis)\n",
    "        df_sub = pd.read_pickle(df_fn)\n",
    "\n",
    "        # create new df\n",
    "        df_new = pd.DataFrame({'subject': df_sub.subject}) \n",
    "        df_new['roi'] = df_sub.roi\n",
    "\n",
    "        # compute mean change relative to gaze center\n",
    "        df_new['retino_pred_ab_r2_change']= ((df_sub.retino_pred_gl_ab_r2 - df_sub.retino_pred_gc_ab_r2) + (df_sub.retino_pred_gr_ab_r2 - df_sub.retino_pred_gc_ab_r2)/2.0)\n",
    "        df_new['retino_pred_af_r2_change']= ((df_sub.retino_pred_gl_af_r2 - df_sub.retino_pred_gc_af_r2) + (df_sub.retino_pred_gr_af_r2 - df_sub.retino_pred_gc_af_r2)/2.0)\n",
    "\n",
    "        df_new['spatio_pred_ab_r2_change']= ((df_sub.spatio_pred_gl_ab_r2 - df_sub.spatio_pred_gc_ab_r2) + (df_sub.spatio_pred_gr_ab_r2 - df_sub.spatio_pred_gc_ab_r2)/2.0)\n",
    "        df_new['spatio_pred_af_r2_change']= ((df_sub.spatio_pred_gl_af_r2 - df_sub.spatio_pred_gc_af_r2) + (df_sub.spatio_pred_gr_af_r2 - df_sub.spatio_pred_gc_af_r2)/2.0)\n",
    "\n",
    "        # across roi\n",
    "        if subject_num > 0: \n",
    "            df = pd.concat([df,df_new], ignore_index=True)\n",
    "        else:\n",
    "            df = df_new\n",
    "\n",
    "    df.roi = pd.Categorical(df.roi,categories=rois)\n",
    "    \n",
    "    # Compute permutation statistics results\n",
    "    for cond in ['af','ab']:\n",
    "        for roi_num, roi in enumerate(rois):\n",
    "\n",
    "            \n",
    "            retino_r2change_array = df.loc[(df.roi == roi)].groupby(['subject'])['retino_pred_{}_r2_change'.format(cond)].mean()\n",
    "            spatio_r2change_array = df.loc[(df.roi == roi)].groupby(['subject'])['spatio_pred_{}_r2_change'.format(cond)].mean()\n",
    "            zero_r2change__index_array = np.zeros_like(retino_r2change_array)\n",
    "\n",
    "            # retino vs. spatio\n",
    "            retino_spatio_perm_res = permutation_test((retino_r2change_array, spatio_r2change_array), statistic, n_resamples=n_permutation, \n",
    "                                        alternative='two-sided', permutation_type='samples', vectorized=True, axis=0)\n",
    "\n",
    "            retino_spatio_p_val_uni, retino_spatio_p_text_uni, retino_spatio_p_val_bi, retino_spatio_p_text_bi = get_pval(retino_spatio_perm_res)\n",
    "            \n",
    "            # retino vs. zero \n",
    "            retino_zero_perm_res = permutation_test((retino_r2change_array, zero_r2change__index_array), statistic, n_resamples=n_permutation, \n",
    "                                alternative='two-sided', permutation_type='samples', vectorized=True, axis=0)\n",
    "            retino_zero_p_val_uni, retino_zero_p_text_uni, retino_zero_p_val_bi, retino_zero_p_text_bi = get_pval(retino_zero_perm_res)\n",
    "            \n",
    "            # spatio vs. zero \n",
    "            spatio_zero_perm_res = permutation_test((spatio_r2change_array, zero_r2change__index_array), statistic, n_resamples=n_permutation, \n",
    "                                alternative='two-sided', permutation_type='samples', vectorized=True, axis=0)\n",
    "            spatio_zero_p_val_uni, spatio_zero_p_text_uni, spatio_zero_p_val_bi, spatio_zero_p_text_bi = get_pval(spatio_zero_perm_res)\n",
    "\n",
    "\n",
    "            df_stats = pd.DataFrame({  'roi': [roi],\n",
    "                                       'cond': [cond],\n",
    "                                       'retino_r2change_mean': np.nanmean(retino_r2change_array),\n",
    "                                       'retino_r2change_sem': np.nanstd(retino_r2change_array)/np.sqrt(retino_r2change_array.shape[0]-1),\n",
    "                                       'spatio_r2change_mean': np.nanmean(spatio_r2change_array),\n",
    "                                       'spatio_r2change_sem': np.nanstd(spatio_r2change_array)/np.sqrt(retino_r2change_array.shape[0]-1),\n",
    "                                       'retino_spatio_diff': retino_spatio_perm_res.statistic,\n",
    "                                       'retino_spatio_p_val_unilateral': retino_spatio_p_val_uni,\n",
    "                                       'retino_spatio_p_text_unilateral': retino_spatio_p_text_uni,\n",
    "                                       'retino_spatio_p_val_bilateral': retino_spatio_p_val_bi,\n",
    "                                       'retino_spatio_p_text_bilateral': retino_spatio_p_text_bi,\n",
    "                                       'retino_zero_diff': retino_zero_perm_res.statistic,\n",
    "                                       'retino_zero_p_val_unilateral': retino_zero_p_val_uni,\n",
    "                                       'retino_zero_p_text_unilateral': retino_zero_p_text_uni,\n",
    "                                       'retino_zero_p_val_bilateral': retino_zero_p_val_bi,\n",
    "                                       'retino_zero_p_text_bilateral': retino_zero_p_text_bi,\n",
    "                                       'spatio_zero_diff': spatio_zero_perm_res.statistic,\n",
    "                                       'spatio_zero_p_val_unilateral': spatio_zero_p_val_uni,\n",
    "                                       'spatio_zero_p_text_unilateral': spatio_zero_p_text_uni,\n",
    "                                       'spatio_zero_p_val_bilateral': spatio_zero_p_val_bi,\n",
    "                                       'spatio_zero_p_text_bilateral': spatio_zero_p_text_bi})\n",
    "            # across roi\n",
    "            if roi_num == 0: df_stats_roi = df_stats\n",
    "            else: df_stats_roi = pd.concat([df_stats_roi, df_stats])\n",
    "\n",
    "        if cond == 'ab': df_stats_roi_fn = \"{}/group_task-AttendBar_retino_spatio_r2change_stats{}.tsv\".format(group_tsv_dir,type_analysis)\n",
    "        elif cond == 'af': df_stats_roi_fn = \"{}/group_task-AttendFix_retino_spatio_r2change_stats{}.tsv\".format(group_tsv_dir,type_analysis)\n",
    "\n",
    "        print('saving {}'.format(df_stats_roi_fn))\n",
    "        df_stats_roi.to_csv(df_stats_roi_fn, sep=\"\\t\", na_rep='NaN')    \n",
    "    \n",
    "\n",
    "    if type_analysis == '_best{}'.format(best_voxels_num):\n",
    "        xaxis_range = [-0.5,0.25]\n",
    "        xaxis_tick = 4\n",
    "    else:\n",
    "        xaxis_range = [-0.2,0.1]\n",
    "        xaxis_tick = 4\n",
    "    asterisk_x = xaxis_range[1] - 0.05\n",
    "    \n",
    "    xaxis_tickvals = np.flipud(np.linspace(xaxis_range[0],xaxis_range[1],xaxis_tick))\n",
    "    xaxis_ticktext = []\n",
    "    [xaxis_ticktext.append(('{:1.2g}'.format(np.round(val,2)))) for val in xaxis_tickvals]\n",
    "    xaxis_title = 'R2 change relative<br>to <i>gaze center'\n",
    "    x_gap_line = 0.5*(xaxis_range[1]-xaxis_range[0])\n",
    "    x_gap_asterisk = 0.55*(xaxis_range[1]-xaxis_range[0])\n",
    "\n",
    "    \n",
    "    #for subject in subjects_plot:\n",
    "    for subject in ['group']:\n",
    "        tsv_dir = '{}/{}/prf/tsv'.format(pp_dir, subject)\n",
    "        subplot_titles = ['<b>Attend-bar</b> ({})'.format(subject),\n",
    "                          '<b>Attend-fix</b> ({})'.format(subject)]\n",
    "\n",
    "        fig = make_subplots(rows=rows, cols=cols, specs=sb_specs, print_grid=False, vertical_spacing=0.15, horizontal_spacing=0.2, \n",
    "                        column_widths=column_widths, row_heights=row_heights,  subplot_titles=subplot_titles)\n",
    "\n",
    "        # Get Data\n",
    "        col = 0\n",
    "        for cond in ['ab','af']:\n",
    "            if cond == 'ab': show_legend = True\n",
    "            elif cond == 'af':show_legend = False\n",
    "            col = col+1\n",
    "\n",
    "            if subject == 'group': \n",
    "                x_retino = df.groupby(['roi','subject'])['retino_pred_{}_r2_change'.format(cond)].mean().reset_index(name='retino_pred_{}_r2_change'.format(cond)).groupby('roi')['retino_pred_{}_r2_change'.format(cond)].mean()\n",
    "                x_spatio = df.groupby(['roi','subject'])['spatio_pred_{}_r2_change'.format(cond)].mean().reset_index(name='spatio_pred_{}_r2_change'.format(cond)).groupby('roi')['spatio_pred_{}_r2_change'.format(cond)].mean()\n",
    "                x_retino_eb = df.groupby(['roi','subject'])['retino_pred_{}_r2_change'.format(cond)].mean().reset_index(name='retino_pred_{}_r2_change'.format(cond)).groupby('roi')['retino_pred_{}_r2_change'.format(cond)].std()/np.sqrt(len(subjects)-1)\n",
    "                x_spatio_eb = df.groupby(['roi','subject'])['spatio_pred_{}_r2_change'.format(cond)].mean().reset_index(name='spatio_pred_{}_r2_change'.format(cond)).groupby('roi')['spatio_pred_{}_r2_change'.format(cond)].std()/np.sqrt(len(subjects)-1)\n",
    "            else: \n",
    "                x_retino = df.loc[(df.subject == subject)].groupby('roi')['retino_pred_{}_r2_change'.format(cond)].mean()\n",
    "                x_spatio = df.loc[(df.subject == subject)].groupby('roi')['spatio_pred_{}_r2_change'.format(cond)].mean()\n",
    "                x_retino_eb = df.loc[(df.subject == subject)].groupby('roi')['retino_pred_{}_r2_change'.format(cond)].std()\n",
    "                x_spatio_eb = df.loc[(df.subject == subject)].groupby('roi')['spatio_pred_{}_r2_change'.format(cond)].std()\n",
    "\n",
    "            # bar plot\n",
    "            fig.append_trace(go.Bar(y=y_rois, x=x_spatio, orientation='h',\n",
    "                                    showlegend=show_legend, legendgroup='spatio', name='<i>spatiotopic prediction<i>', \n",
    "                                    marker_color=spatio_col, hovertemplate=hovertemplate,\n",
    "                                    error_x_type='data', error_x_symmetric=False, error_x_array=x_spatio_eb, error_x_arrayminus=x_spatio_eb),row=1, col=col)\n",
    "\n",
    "            fig.append_trace(go.Bar(y=y_rois, x=x_retino, orientation='h',\n",
    "                                    showlegend=show_legend, legendgroup='retino', name='<i>retinotopic prediction<i>',\n",
    "                                    marker_color=retino_col, hovertemplate=hovertemplate,\n",
    "                                    error_x_type='data', error_x_symmetric=False, error_x_array=x_retino_eb, error_x_arrayminus=x_retino_eb),row=1, col=col)\n",
    "\n",
    "\n",
    "\n",
    "            # get Stats \n",
    "            if subject == 'group': \n",
    "                \n",
    "                if cond == 'ab': stats_df = pd.read_csv(\"{}/group_task-AttendBar_retino_spatio_r2change_stats{}.tsv\".format(group_tsv_dir,type_analysis), sep=\"\\t\")\n",
    "                elif cond == 'af': stats_df = pd.read_csv(\"{}/group_task-AttendFix_retino_spatio_r2change_stats{}.tsv\".format(group_tsv_dir,type_analysis), sep=\"\\t\")\n",
    "            \n",
    "            \n",
    "                # x_retino vs x_spatio                \n",
    "                p_flag = stats_df.retino_spatio_p_val_unilateral<0.05\n",
    "\n",
    "                fig.append_trace(go.Scatter(x=np.max((x_retino,x_spatio),axis=0)[p_flag]*0-x_gap_line, y=y_rois[p_flag], marker_symbol='line-ns-open', \n",
    "                                            showlegend=False, mode='markers', marker_color='black', hoverinfo='skip', marker_size= 15),row=1, col=col)\n",
    "\n",
    "                fig.append_trace(go.Scatter(x=np.max((x_retino,x_spatio),axis=0)[p_flag]*0-x_gap_asterisk, y=y_rois[p_flag], marker_symbol='asterisk-open',\n",
    "                                            showlegend=False, mode='markers', marker_color='black', hoverinfo='skip', marker_size= 10),row=1, col=col)\n",
    "                \n",
    "                \n",
    "                # spatio vs zero\n",
    "                p_flag = stats_df.spatio_zero_p_val_unilateral<0.05\n",
    "                fig.append_trace(go.Scatter(x=y_rois[p_flag]*0+asterisk_x, y=y_rois[p_flag]-0.18, marker_symbol='asterisk-open',\n",
    "                                            showlegend=False, mode='markers', marker_color=spatio_col, hoverinfo='skip', marker_size= 10),row=1, col=col)\n",
    "                \n",
    "\n",
    "                # retino vs zero\n",
    "                p_flag = stats_df.retino_zero_p_val_unilateral<0.05\n",
    "                fig.append_trace(go.Scatter(x=y_rois[p_flag]*0+asterisk_x, y=y_rois[p_flag]+0.18, marker_symbol='asterisk-open',\n",
    "                                            showlegend=False, mode='markers', marker_color=retino_col, hoverinfo='skip', marker_size= 10),row=1, col=col)\n",
    "\n",
    "                \n",
    "\n",
    "        # set axis\n",
    "        for row in np.arange(rows):\n",
    "            for col in np.arange(cols):\n",
    "                fig.update_xaxes(visible=True, ticklen=8, linewidth=template_specs['axes_width'], row=row+1, col=col+1)\n",
    "\n",
    "        # set figure\n",
    "        \n",
    "        # set figure axis\n",
    "        for xaxis in ['xaxis','xaxis2']:\n",
    "            exec(\"fig.layout.update({}_range=xaxis_range)\".format(xaxis))\n",
    "            exec(\"fig.layout.update({}_title=xaxis_title)\".format(xaxis))\n",
    "            exec(\"fig.layout.update({}_tickvals=xaxis_tickvals)\".format(xaxis))\n",
    "            exec(\"fig.layout.update({}_ticktext=xaxis_ticktext)\".format(xaxis))\n",
    "            exec(\"fig.layout.update({}_zeroline=True)\".format(xaxis))\n",
    "\n",
    "        for yaxis in ['yaxis','yaxis2']:\n",
    "            exec(\"fig.layout.update({}_range=yaxis_range)\".format(yaxis))\n",
    "            exec(\"fig.layout.update({}_tickvals=yaxis_tickvals)\".format(yaxis))\n",
    "            exec(\"fig.layout.update({}_ticktext=yaxis_ticktext)\".format(yaxis))\n",
    "            exec(\"fig.layout.update({}_color='rgba(0,0,0,0)')\".format(yaxis))\n",
    "            exec(\"fig.layout.update({}_tickfont_color='black')\".format(yaxis))\n",
    "\n",
    "        \n",
    "        fig.layout.update(yaxis_title='', bargap=0.3, template=fig_template, width=fig_width, height=fig_height, margin_l=margin_l, margin_r=margin_r, margin_t=margin_t, margin_b=margin_b,\n",
    "                          legend_yanchor='top', legend_y=-0.15,legend_x=-0.05, legend_xanchor='left', legend_bgcolor='rgba(255,255,255,0)', legend_tracegroupgap=1)\n",
    "\n",
    "        # show and save figure\n",
    "        fig.show(config={\"displayModeBar\": False})\n",
    "        fig.write_image(\"{}/{}_fs_fit{}.pdf\".format(tsv_dir, subject, type_analysis))\n",
    "        fig.write_html(\"{}/{}_fs_fit{}.html\".format(tsv_dir, subject, type_analysis),config={\"displayModeBar\": False})\n",
    "    "
   ]
  },
  {
   "cell_type": "code",
   "execution_count": null,
   "id": "271ffe2f-3541-42c1-831c-fb63767096f7",
   "metadata": {},
   "outputs": [],
   "source": []
  }
 ],
 "metadata": {
  "kernelspec": {
   "display_name": "mszinte",
   "language": "python",
   "name": "mszinte"
  },
  "language_info": {
   "codemirror_mode": {
    "name": "ipython",
    "version": 3
   },
   "file_extension": ".py",
   "mimetype": "text/x-python",
   "name": "python",
   "nbconvert_exporter": "python",
   "pygments_lexer": "ipython3",
   "version": "3.9.13"
  }
 },
 "nbformat": 4,
 "nbformat_minor": 5
}
