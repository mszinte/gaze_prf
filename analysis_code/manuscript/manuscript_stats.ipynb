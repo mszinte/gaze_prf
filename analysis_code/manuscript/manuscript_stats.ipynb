{
 "cells": [
  {
   "cell_type": "markdown",
   "id": "0b2b9e4c-cd98-4023-b44b-e22c9caf1d46",
   "metadata": {},
   "source": [
    "# Statistical report"
   ]
  },
  {
   "cell_type": "code",
   "execution_count": 2,
   "id": "32b24093-fa16-4ac5-8bc9-b73471755c3b",
   "metadata": {},
   "outputs": [],
   "source": [
    "# Import\n",
    "import pandas as pd\n",
    "import numpy as np\n",
    "\n",
    "# Settings\n",
    "base_dir = '/home/mszinte/disks/meso_S/data/gaze_prf'\n",
    "behav_dir = \"{}/derivatives/behav_data\".format(base_dir)\n",
    "pp_dir = \"{}/derivatives/pp_data\".format(base_dir)\n",
    "subject = 'group'\n",
    "num_sub = 8\n",
    "best_voxels_num = 250\n",
    "type_analyses = ['','_best{}'.format(best_voxels_num)]\n",
    "rois = ['V1', 'V2', 'V3', 'V3AB', 'hMT+', 'LO',\n",
    "        'VO', 'iIPS', 'sIPS', 'iPCS', 'sPCS', 'mPCS']"
   ]
  },
  {
   "cell_type": "markdown",
   "id": "e7b6c62e-5901-47ce-8c74-a738be4bbff2",
   "metadata": {},
   "source": [
    "## Results section\n",
    "### PRF modeling and attention effect "
   ]
  },
  {
   "cell_type": "code",
   "execution_count": 154,
   "id": "eb5bea29-2778-44ce-a476-d25e91664691",
   "metadata": {},
   "outputs": [
    {
     "name": "stdout",
     "output_type": "stream",
     "text": [
      "full screen, attend-bar: 74.06% ± 2.50\n",
      "full screen, attend-fix: 80.26% ± 0.40\n"
     ]
    }
   ],
   "source": [
    "# Full screen behavioral performances\n",
    "tasks_fn = \"{}/{}/{}_behav.tsv\".format(behav_dir, subject, subject)\n",
    "tasks_df = pd.read_csv(tasks_fn, sep=\"\\t\")\n",
    "\n",
    "# Full screen\n",
    "print(\"full screen, attend-bar: {:1.2f}% ± {:1.2f}\".format(\n",
    "    tasks_df['FullScreenAttendBar_perf_mean'][0]*100, \n",
    "    tasks_df['FullScreenAttendBar_perf_sem'][0]*100))\n",
    "print(\"full screen, attend-fix: {:1.2f}% ± {:1.2f}\".format(\n",
    "    tasks_df['FullScreenAttendFix_perf_mean'][0]*100, \n",
    "    tasks_df['FullScreenAttendFix_perf_sem'][0]*100))"
   ]
  },
  {
   "cell_type": "code",
   "execution_count": 155,
   "id": "62937137-b8e3-4eca-a4be-0d52f252b5a5",
   "metadata": {},
   "outputs": [
    {
     "name": "stdout",
     "output_type": "stream",
     "text": [
      "All voxels analysis:\n",
      "R2 (ROI: all but LO): attend-bar: 0.16 > R2 > 0.04\n",
      "R2 (ROI: all but LO): attend-fix: 0.13 > R2 > 0.03\n",
      "R2 (ROI: all but LO): attend-bar vs. attend-fix: 0.0078 > ps > 0.0000\n",
      "R2 (ROI: LO): attend-bar: 0.12 ± 0.01 vs. attend-fix: 0.11 ± 0.02, p = 0.05\n",
      "\n",
      "Best voxels analysis:\n",
      "R2 (ROI: all but LO): attend-bar: 0.51 > R2 > 0.18\n",
      "R2 (ROI: all but LO): attend-fix: 0.43 > R2 > 0.15\n",
      "R2 (ROI: all but LO): attend-bar vs. attend-fix: 0.0117 > ps > 0.0000\n",
      "R2 (ROI: LO): attend-bar: 0.38 ± 0.03 vs. attend-fix: 0.36 ± 0.04, p = 0.24\n",
      "\n"
     ]
    }
   ],
   "source": [
    "# Full screen explained variance (R2)\n",
    "tsv_dir = '{}/{}/prf/tsv'.format(pp_dir, subject)\n",
    "\n",
    "for type_analysis in type_analyses:\n",
    "    if type_analysis == '': \n",
    "        print('All voxels analysis:')\n",
    "    elif type_analysis == '_best{}'.format(best_voxels_num): \n",
    "        print('Best voxels analysis:')\n",
    "        \n",
    "    stats_df = pd.read_csv(\"{}/group_task-FullScreen_prf_threshold_stats{}.tsv\".format(tsv_dir,type_analysis), sep=\"\\t\")\n",
    "\n",
    "    print(\"R2 (ROI: all but LO): attend-bar: {:1.2f} > R2 > {:1.2f}\".format(\n",
    "        stats_df.loc[(stats_df.roi!='LO')].ab_rsqrt_mean.max(),\n",
    "        stats_df.loc[(stats_df.roi!='LO')].ab_rsqrt_mean.min()))\n",
    "\n",
    "    print(\"R2 (ROI: all but LO): attend-fix: {:1.2f} > R2 > {:1.2f}\".format(\n",
    "        stats_df.loc[(stats_df.roi!='LO')].af_rsqrt_mean.max(),\n",
    "        stats_df.loc[(stats_df.roi!='LO')].af_rsqrt_mean.min()))\n",
    "\n",
    "    print(\"R2 (ROI: all but LO): attend-bar vs. attend-fix: {:1.4f} > ps > {:1.4f}\".format(\n",
    "        stats_df.loc[(stats_df.roi!='LO')].ab_af_p_val_unilateral.max(),\n",
    "        stats_df.loc[(stats_df.roi!='LO')].ab_af_p_val_unilateral.min()))\n",
    "\n",
    "    print(\"R2 (ROI: LO): attend-bar: {:1.2f} ± {:1.2f} vs. attend-fix: {:1.2f} ± {:1.2f}, {:s}\\n\".format(\n",
    "        stats_df.loc[(stats_df.roi=='LO')].ab_rsqrt_mean.item(),\n",
    "        stats_df.loc[(stats_df.roi=='LO')].ab_rsqrt_sem.item(),\n",
    "        stats_df.loc[(stats_df.roi=='LO')].af_rsqrt_mean.item(),\n",
    "        stats_df.loc[(stats_df.roi=='LO')].af_rsqrt_sem.item(),\n",
    "        stats_df.loc[(stats_df.roi=='LO')].ab_af_p_text_unilateral.item()))"
   ]
  },
  {
   "cell_type": "code",
   "execution_count": 57,
   "id": "f12be5c9-fddc-47b8-8189-5c232d7a4daf",
   "metadata": {},
   "outputs": [
    {
     "name": "stdout",
     "output_type": "stream",
     "text": [
      "All voxels analysis:\n",
      "R2 change (ROI: all) spatiotopic prediction: attend-bar: 0.33% > R2 change > -7.73%\n",
      "R2 change (ROI: all) retinotopic prediction: attend-bar: 1.05% > R2 change > 0.24%\n",
      "R2 change (ROI: all) spatiopic vs. retinotopic prediction: attend-bar: 0.0156 > ps > 0.0000\n",
      "R2 change (ROI: V3AB) spatiotopic vs. zero: attend-bar: p = 0.0312\n",
      "R2 change (ROI: VO) spatiotopic vs. zero: attend-bar: p = 0.0859\n",
      "\n",
      "R2 change (ROI: all except iPCS) spatiotopic prediction: attend-fix: 0.91% > R2 change > -5.98%\n",
      "R2 change (ROI: iPCS) spatiotopic prediction: attend-fix: R2 change = 0.01%\n",
      "R2 change (ROI: all except iPCS) retinotopic prediction: attend-fix: 1.38% > R2 change > -0.37%\n",
      "R2 change (ROI: iPCS) retinotopic prediction: attend-fix: R2 change = 0.01%\n",
      "R2 change (ROI: all except iPCS) spatiotopic vs. retinotopic prediction: attend-fix: 0.1094 > ps > 0.0000\n",
      "R2 change (ROI: iPCS) spatiotopic vs. retinotopic prediction: attend-fix: p = 0.0547\n",
      "\n",
      "R2 change (ROI: V1/V2/V3) spatiotopic vs. zero: attend-bar and attend-fix: 0.0312 > ps > 0.0000\n",
      "\n",
      "Best voxels analysis:\n",
      "R2 change (ROI: all) spatiotopic prediction: attend-bar: 2.36% > R2 change > -28.91%\n",
      "R2 change (ROI: all) retinotopic prediction: attend-bar: 3.96% > R2 change > 1.09%\n",
      "R2 change (ROI: all) spatiopic vs. retinotopic prediction: attend-bar: 0.0195 > ps > 0.0000\n",
      "R2 change (ROI: V3AB) spatiotopic vs. zero: attend-bar: p = 0.0156\n",
      "R2 change (ROI: VO) spatiotopic vs. zero: attend-bar: p = 0.0078\n",
      "\n",
      "R2 change (ROI: all except iPCS) spatiotopic prediction: attend-fix: 4.61% > R2 change > -23.59%\n",
      "R2 change (ROI: iPCS) spatiotopic prediction: attend-fix: R2 change = 0.03%\n",
      "R2 change (ROI: all except iPCS) retinotopic prediction: attend-fix: 6.14% > R2 change > -1.12%\n",
      "R2 change (ROI: iPCS) retinotopic prediction: attend-fix: R2 change = 0.04%\n",
      "R2 change (ROI: all except iPCS) spatiotopic vs. retinotopic prediction: attend-fix: 0.0391 > ps > 0.0000\n",
      "R2 change (ROI: iPCS) spatiotopic vs. retinotopic prediction: attend-fix: p = 0.0703\n",
      "\n",
      "R2 change (ROI: V1/V2/V3) spatiotopic vs. zero: attend-bar and attend-fix: 0.0156 > ps > 0.0000\n",
      "\n"
     ]
    }
   ],
   "source": [
    "tsv_dir = '{}/{}/prf/tsv'.format(pp_dir, subject)\n",
    "\n",
    "for type_analysis in type_analyses:\n",
    "    if type_analysis == '': \n",
    "        print('All voxels analysis:')\n",
    "    elif type_analysis == '_best{}'.format(best_voxels_num): \n",
    "        print('Best voxels analysis:')\n",
    "\n",
    "    stats_df = pd.read_csv(\"{}/group_task-AttendBar_retino_spatio_r2change_stats{}.tsv\".format(tsv_dir,type_analysis), sep=\"\\t\")\n",
    "    \n",
    "    print(\"R2 change (ROI: all) spatiotopic prediction: attend-bar: {:1.2f}% > R2 change > {:1.2f}%\".format(\n",
    "        stats_df.spatio_r2change_mean.max()*100,\n",
    "        stats_df.spatio_r2change_mean.min()*100))\n",
    "    \n",
    "    print(\"R2 change (ROI: all) retinotopic prediction: attend-bar: {:1.2f}% > R2 change > {:1.2f}%\".format(\n",
    "        stats_df.retino_r2change_mean.max()*100,\n",
    "        stats_df.retino_r2change_mean.min()*100))\n",
    "    \n",
    "    print(\"R2 change (ROI: all) spatiopic vs. retinotopic prediction: attend-bar: {:1.4f} > ps > {:1.4f}\".format(\n",
    "        stats_df.retino_spatio_p_val_unilateral.max(),\n",
    "        stats_df.retino_spatio_p_val_unilateral.min()))\n",
    "    \n",
    "    ab_v1v2v3 = stats_df.loc[(stats_df.roi=='V1') | (stats_df.roi=='V2') | (stats_df.roi=='V3')].spatio_zero_p_val_bilateral\n",
    "    \n",
    "    print(\"R2 change (ROI: V3AB) spatiotopic vs. zero: attend-bar: p = {:1.4f}\".format(\n",
    "        stats_df.loc[(stats_df.roi=='V3AB')].spatio_zero_p_val_bilateral.item()))\n",
    "    \n",
    "    print(\"R2 change (ROI: VO) spatiotopic vs. zero: attend-bar: p = {:1.4f}\\n\".format(\n",
    "        stats_df.loc[(stats_df.roi=='VO')].spatio_zero_p_val_bilateral.item()))\n",
    "    \n",
    "    stats_df = pd.read_csv(\"{}/group_task-AttendFix_retino_spatio_r2change_stats{}.tsv\".format(tsv_dir,type_analysis), sep=\"\\t\")\n",
    "    \n",
    "    print(\"R2 change (ROI: all except iPCS) spatiotopic prediction: attend-fix: {:1.2f}% > R2 change > {:1.2f}%\".format(\n",
    "        stats_df.loc[(stats_df.roi!='iPCS')].spatio_r2change_mean.max()*100,\n",
    "        stats_df.loc[(stats_df.roi!='iPCS')].spatio_r2change_mean.min()*100))\n",
    "    \n",
    "    print(\"R2 change (ROI: iPCS) spatiotopic prediction: attend-fix: R2 change = {:1.2f}%\".format(\n",
    "        stats_df.loc[(stats_df.roi=='iPCS')].spatio_r2change_mean.item()))\n",
    "    \n",
    "    print(\"R2 change (ROI: all except iPCS) retinotopic prediction: attend-fix: {:1.2f}% > R2 change > {:1.2f}%\".format(\n",
    "        stats_df.loc[(stats_df.roi!='iPCS')].retino_r2change_mean.max()*100,\n",
    "        stats_df.loc[(stats_df.roi!='iPCS')].retino_r2change_mean.min()*100))\n",
    "    \n",
    "    print(\"R2 change (ROI: iPCS) retinotopic prediction: attend-fix: R2 change = {:1.2f}%\".format(\n",
    "        stats_df.loc[(stats_df.roi=='iPCS')].retino_r2change_mean.item()))\n",
    "    \n",
    "    print(\"R2 change (ROI: all except iPCS) spatiotopic vs. retinotopic prediction: attend-fix: {:1.4f} > ps > {:1.4f}\".format(\n",
    "        stats_df.loc[(stats_df.roi!='iPCS')].retino_spatio_p_val_bilateral.max(),\n",
    "        stats_df.loc[(stats_df.roi!='iPCS')].retino_spatio_p_val_bilateral.min()))\n",
    "    \n",
    "    print(\"R2 change (ROI: iPCS) spatiotopic vs. retinotopic prediction: attend-fix: p = {:1.4f}\\n\".format(\n",
    "        stats_df.loc[(stats_df.roi=='iPCS')].retino_spatio_p_val_bilateral.item()))\n",
    "    \n",
    "    af_v1v2v3 = stats_df.loc[(stats_df.roi=='V1') | (stats_df.roi=='V2') | (stats_df.roi=='V3')].spatio_zero_p_val_bilateral\n",
    "    \n",
    "    print(\"R2 change (ROI: V1/V2/V3) spatiotopic vs. zero: attend-bar and attend-fix: {:1.4f} > ps > {:1.4f}\\n\".format(\n",
    "        np.max([ab_v1v2v3,af_v1v2v3]),np.min([ab_v1v2v3,af_v1v2v3])))"
   ]
  },
  {
   "cell_type": "code",
   "execution_count": 53,
   "id": "bd5e1234-ef0d-4874-893f-d6ca875f357d",
   "metadata": {
    "tags": []
   },
   "outputs": [
    {
     "data": {
      "text/plain": [
       "array([0.0078125, 0.0078125, 0.015625 , 0.2578125, 0.5859375, 0.6875   ,\n",
       "       0.96875  , 0.40625  , 0.1953125, 0.53125  , 0.265625 ])"
      ]
     },
     "execution_count": 53,
     "metadata": {},
     "output_type": "execute_result"
    }
   ],
   "source": [
    "spatio_zero_p_val_bilateral.values"
   ]
  },
  {
   "cell_type": "markdown",
   "id": "f4692876-30d4-4d7a-9cf0-418b8c632e5d",
   "metadata": {},
   "source": [
    "### Out-of-sample retinotopic and spatiotopic predictions"
   ]
  },
  {
   "cell_type": "code",
   "execution_count": 157,
   "id": "e106755a-e5b7-47fa-9b31-68b53bb4994a",
   "metadata": {},
   "outputs": [
    {
     "name": "stdout",
     "output_type": "stream",
     "text": [
      "gaze center, attend-bar: 76.27% ± 1.67\n",
      "gaze center, attend-fix: 76.95% ± 1.48\n",
      "gaze left, attend-bar: 76.59% ± 2.30\n",
      "gaze left, attend-fix: 75.88% ± 2.49\n",
      "gaze right, attend-bar: 78.09% ± 1.66\n",
      "gaze right, attend-fix: 80.61% ± 1.25\n"
     ]
    }
   ],
   "source": [
    "# Gaze conditions behavioral performances\n",
    "tasks_fn = \"{}/{}/{}_behav.tsv\".format(behav_dir, subject, subject)\n",
    "tasks_df = pd.read_csv(tasks_fn, sep=\"\\t\")\n",
    "\n",
    "# Gaze center\n",
    "print(\"gaze center, attend-bar: {:1.2f}% ± {:1.2f}\".format(\n",
    "    tasks_df['GazeCenterAttendBar_perf_mean'][0]*100, \n",
    "    tasks_df['GazeCenterAttendBar_perf_sem'][0]*100))\n",
    "print(\"gaze center, attend-fix: {:1.2f}% ± {:1.2f}\".format(\n",
    "    tasks_df['GazeCenterAttendFix_perf_mean'][0]*100, \n",
    "    tasks_df['GazeCenterAttendFix_perf_sem'][0]*100))\n",
    "\n",
    "# Gaze left\n",
    "print(\"gaze left, attend-bar: {:1.2f}% ± {:1.2f}\".format(\n",
    "    tasks_df['GazeLeftAttendBar_perf_mean'][0]*100, \n",
    "    tasks_df['GazeLeftAttendBar_perf_sem'][0]*100))\n",
    "print(\"gaze left, attend-fix: {:1.2f}% ± {:1.2f}\".format(\n",
    "    tasks_df['GazeLeftAttendFix_perf_mean'][0]*100, \n",
    "    tasks_df['GazeLeftAttendFix_perf_sem'][0]*100))\n",
    "\n",
    "# Gaze right\n",
    "print(\"gaze right, attend-bar: {:1.2f}% ± {:1.2f}\".format(\n",
    "    tasks_df['GazeRightAttendBar_perf_mean'][0]*100, \n",
    "    tasks_df['GazeRightAttendBar_perf_sem'][0]*100))\n",
    "print(\"gaze right, attend-fix: {:1.2f}% ± {:1.2f}\".format(\n",
    "    tasks_df['GazeRightAttendFix_perf_mean'][0]*100, \n",
    "    tasks_df['GazeRightAttendFix_perf_sem'][0]*100))"
   ]
  },
  {
   "cell_type": "markdown",
   "id": "07e4048f-ede7-4406-b266-3e913b683e69",
   "metadata": {},
   "source": [
    "### Inset retinotopic and spatiotopic predictions"
   ]
  },
  {
   "cell_type": "code",
   "execution_count": 158,
   "id": "bd870bf9-00f7-45b7-8538-c6927d042253",
   "metadata": {},
   "outputs": [
    {
     "name": "stdout",
     "output_type": "stream",
     "text": [
      "All voxels analysis:\n",
      "RFI (ROI: all): attend-bar: 0.34 > RFI > 0.18\n",
      "RFI (ROI: all): attend-bar vs. zero: 0.0078 > ps > 0.0000\n",
      "RFI (ROI: all): attend-fix: 0.30 > RFI > 0.15\n",
      "RFI (ROI: all): attend-fix vs. zero: 0.0156 > ps > 0.0000\n",
      "RFI (ROI: all but V2/V3): attend-bar vs. attend-fix: 0.95 > ps > 0.07\n",
      "RFI (ROI: V2): attend-bar: 0.29 ± 0.02 vs. attend-fix 0.20 ± 0.02, p < 0.01\n",
      "RFI (ROI: V3): attend-bar: 0.29 ± 0.02 vs. attend-fix 0.15 ± 0.03, p < 0.0001\n",
      "\n",
      "Best voxels analysis:\n",
      "RFI (ROI: all): attend-bar: 0.46 > RFI > 0.20\n",
      "RFI (ROI: all): attend-bar vs. zero: 0.0312 > ps > 0.0000\n",
      "RFI (ROI: all): attend-fix: 0.42 > RFI > 0.21\n",
      "RFI (ROI: all): attend-fix vs. zero: 0.0312 > ps > 0.0000\n",
      "RFI (ROI: all but V2/V3): attend-bar vs. attend-fix: 0.93 > ps > 0.38\n",
      "RFI (ROI: V2): attend-bar: 0.42 ± 0.06 vs. attend-fix 0.30 ± 0.08, p < 0.01\n",
      "RFI (ROI: V3): attend-bar: 0.40 ± 0.03 vs. attend-fix 0.21 ± 0.07, p < 0.01\n",
      "\n"
     ]
    }
   ],
   "source": [
    "tsv_dir = '{}/{}/prf/tsv'.format(pp_dir, subject)\n",
    "\n",
    "# RFI across ROIs\n",
    "for type_analysis in type_analyses:\n",
    "    if type_analysis == '': \n",
    "        print('All voxels analysis:')\n",
    "    elif type_analysis == '_best{}'.format(best_voxels_num): \n",
    "        print('Best voxels analysis:')\n",
    "\n",
    "    stats_df = pd.read_csv(\"{}/group_ref_index_stats{}.tsv\".format(tsv_dir,type_analysis), sep=\"\\t\")\n",
    "    \n",
    "    print(\"RFI (ROI: all): attend-bar: {:1.2f} > RFI > {:1.2f}\".format(\n",
    "    stats_df.ab_ref_index_mean.max(),\n",
    "    stats_df.ab_ref_index_mean.min()))\n",
    "    \n",
    "    print(\"RFI (ROI: all): attend-bar vs. zero: {:1.4f} > ps > {:1.4f}\".format(\n",
    "    stats_df.ab_zero_p_val_bilateral.max(),\n",
    "    stats_df.ab_zero_p_val_bilateral.min()))\n",
    "    \n",
    "    print(\"RFI (ROI: all): attend-fix: {:1.2f} > RFI > {:1.2f}\".format(\n",
    "    stats_df.af_ref_index_mean.max(),\n",
    "    stats_df.af_ref_index_mean.min()))\n",
    "    \n",
    "    print(\"RFI (ROI: all): attend-fix vs. zero: {:1.4f} > ps > {:1.4f}\".format(\n",
    "    stats_df.af_zero_p_val_bilateral.max(),\n",
    "    stats_df.af_zero_p_val_bilateral.min()))\n",
    "    \n",
    "    print(\"RFI (ROI: all but V2/V3): attend-bar vs. attend-fix: {:1.2f} > ps > {:1.2f}\".format(\n",
    "        stats_df.loc[(stats_df.roi!='V2') & (stats_df.roi!='V3')].ab_af_p_val_bilateral.max(),\n",
    "        stats_df.loc[(stats_df.roi!='V2') & (stats_df.roi!='V3')].ab_af_p_val_bilateral.min()))\n",
    "    \n",
    "    print(\"RFI (ROI: V2): attend-bar: {:1.2f} ± {:1.2f} vs. attend-fix {:1.2f} ± {:1.2f}, {}\".format(\n",
    "        stats_df.loc[(stats_df.roi=='V2')].ab_ref_index_mean.item(),\n",
    "        stats_df.loc[(stats_df.roi=='V2')].ab_ref_index_sem.item(),\n",
    "        stats_df.loc[(stats_df.roi=='V2')].af_ref_index_mean.item(),\n",
    "        stats_df.loc[(stats_df.roi=='V2')].af_ref_index_sem.item(),\n",
    "        stats_df.loc[(stats_df.roi=='V2')].ab_af_p_text_bilateral.item()))\n",
    "    \n",
    "    print(\"RFI (ROI: V3): attend-bar: {:1.2f} ± {:1.2f} vs. attend-fix {:1.2f} ± {:1.2f}, {}\\n\".format(\n",
    "        stats_df.loc[(stats_df.roi=='V3')].ab_ref_index_mean.item(),\n",
    "        stats_df.loc[(stats_df.roi=='V3')].ab_ref_index_sem.item(),\n",
    "        stats_df.loc[(stats_df.roi=='V3')].af_ref_index_mean.item(),\n",
    "        stats_df.loc[(stats_df.roi=='V3')].af_ref_index_sem.item(),\n",
    "        stats_df.loc[(stats_df.roi=='V3')].ab_af_p_text_bilateral.item()))\n",
    "        "
   ]
  },
  {
   "cell_type": "markdown",
   "id": "9fd57481-1c1b-4730-9956-52ccd78d2842",
   "metadata": {},
   "source": [
    "### Bayesian decoding"
   ]
  },
  {
   "cell_type": "code",
   "execution_count": 159,
   "id": "01447de4-93e7-460b-83f7-a763c44dfbbf",
   "metadata": {},
   "outputs": [
    {
     "name": "stdout",
     "output_type": "stream",
     "text": [
      "r (ROI: all): attend-bar: 0.77 > r > 0.13\n",
      "r (ROI: all): attend-bar vs. zero: 0.0391 > ps > 0.0000\n",
      "r (ROI: V1): attend-bar: 0.73 ± 0.04, p < 0.01\n",
      "r (ROI: hMT+): attend-bar: 0.70 ± 0.05, p < 0.0001\n",
      "r (ROI: all but sIPS/iPCS): attend-fix: 0.67 > r > 0.17\n",
      "r (ROI: all but sIPS/iPCS): attend-fix vs. zero: 0.0078 > ps > 0.0000\n",
      "r (ROI: sIPS): attend-fix: 0.02 ± 0.03, p = 0.49\n",
      "r (ROI: iPCS): attend-fix: 0.07 ± 0.05, p = 0.21\n",
      "r (ROI: all but V3/hMT+/iPCS): attend-bar vs. attend-fix: 0.0391 > ps > 0.0000\n",
      "r (ROI: V3): p = 0.09\n",
      "r (ROI: hMT+): p = 0.06\n",
      "r (ROI: iPCS): p = 0.21\n"
     ]
    }
   ],
   "source": [
    "# Correlation bar position with ground truth\n",
    "# r across ROIs\n",
    "tsv_dir = '{}/{}/decode/tsv'.format(pp_dir, 'group')\n",
    "stats_df = pd.read_csv(\"{}/group_ground_truth_cor_stats_best250.tsv\".format(tsv_dir), sep=\"\\t\")\n",
    "\n",
    "print(\"r (ROI: all): attend-bar: {:1.2f} > r > {:1.2f}\".format(\n",
    "    stats_df.ab_ground_truth_cor_mean.max(),\n",
    "    stats_df.ab_ground_truth_cor_mean.min()))\n",
    "\n",
    "print(\"r (ROI: all): attend-bar vs. zero: {:1.4f} > ps > {:1.4f}\".format(\n",
    "    stats_df.ab_zero_p_val_bilateral.max(),\n",
    "    stats_df.ab_zero_p_val_bilateral.min()))\n",
    "\n",
    "print(\"r (ROI: V1): attend-bar: {:1.2f} ± {:1.2f}, {}\".format(\n",
    "    stats_df.loc[stats_df.roi=='V1'].ab_ground_truth_cor_mean.item(),\n",
    "    stats_df.loc[stats_df.roi=='V1'].ab_ground_truth_cor_sem.item(),\n",
    "    stats_df.loc[stats_df.roi=='V1'].ab_zero_p_text_bilateral.item()))\n",
    "\n",
    "print(\"r (ROI: hMT+): attend-bar: {:1.2f} ± {:1.2f}, {}\".format(\n",
    "    stats_df.loc[stats_df.roi=='hMT+'].ab_ground_truth_cor_mean.item(),\n",
    "    stats_df.loc[stats_df.roi=='hMT+'].ab_ground_truth_cor_sem.item(),\n",
    "    stats_df.loc[stats_df.roi=='hMT+'].ab_zero_p_text_bilateral.item()))\n",
    "\n",
    "print(\"r (ROI: all but sIPS/iPCS): attend-fix: {:1.2f} > r > {:1.2f}\".format(\n",
    "    stats_df.loc[(stats_df.roi!='sIPS') & (stats_df.roi!='iPCS')].af_ground_truth_cor_mean.max(),\n",
    "    stats_df.loc[(stats_df.roi!='sIPS') & (stats_df.roi!='iPCS')].af_ground_truth_cor_mean.min()))\n",
    "\n",
    "print(\"r (ROI: all but sIPS/iPCS): attend-fix vs. zero: {:1.4f} > ps > {:1.4f}\".format(\n",
    "    stats_df.loc[(stats_df.roi!='sIPS') & (stats_df.roi!='iPCS')].af_zero_p_val_bilateral.max(),\n",
    "    stats_df.loc[(stats_df.roi!='sIPS') & (stats_df.roi!='iPCS')].af_zero_p_val_bilateral.min()))\n",
    "\n",
    "print(\"r (ROI: sIPS): attend-fix: {:1.2f} ± {:1.2f}, {}\".format(\n",
    "    stats_df.loc[stats_df.roi=='sIPS'].af_ground_truth_cor_mean.item(),\n",
    "    stats_df.loc[stats_df.roi=='sIPS'].af_ground_truth_cor_sem.item(),\n",
    "    stats_df.loc[stats_df.roi=='sIPS'].af_zero_p_text_bilateral.item()))\n",
    "\n",
    "print(\"r (ROI: iPCS): attend-fix: {:1.2f} ± {:1.2f}, {}\".format(\n",
    "    stats_df.loc[stats_df.roi=='iPCS'].af_ground_truth_cor_mean.item(),\n",
    "    stats_df.loc[stats_df.roi=='iPCS'].af_ground_truth_cor_sem.item(),\n",
    "    stats_df.loc[stats_df.roi=='iPCS'].af_zero_p_text_bilateral.item()))\n",
    "\n",
    "print(\"r (ROI: all but V3/hMT+/iPCS): attend-bar vs. attend-fix: {:1.4f} > ps > {:1.4f}\".format(\n",
    "    stats_df.loc[(stats_df.roi!='V3') & (stats_df.roi!='hMT+') & (stats_df.roi!='iPCS')].ab_af_p_val_bilateral.max(),\n",
    "    stats_df.loc[(stats_df.roi!='V3') & (stats_df.roi!='hMT+') & (stats_df.roi!='iPCS')].ab_af_p_val_bilateral.min()))\n",
    "\n",
    "print(\"r (ROI: V3): {}\".format(\n",
    "    stats_df.loc[stats_df.roi=='V3'].ab_af_p_text_bilateral.item()))\n",
    "\n",
    "print(\"r (ROI: hMT+): {}\".format(\n",
    "    stats_df.loc[stats_df.roi=='hMT+'].ab_af_p_text_bilateral.item()))\n",
    "\n",
    "print(\"r (ROI: iPCS): {}\".format(\n",
    "    stats_df.loc[stats_df.roi=='iPCS'].ab_af_p_text_bilateral.item()))"
   ]
  },
  {
   "cell_type": "code",
   "execution_count": 160,
   "id": "4f552b23-1eb1-45e1-8031-74251b08a148",
   "metadata": {},
   "outputs": [
    {
     "name": "stdout",
     "output_type": "stream",
     "text": [
      "RFI (ROI: all): attend-bar: 0.71 > RFI > 0.51\n",
      "RFI (ROI: all): attend-bar vs. zero: 0.0078 > ps > 0.0000\n",
      "RFI (ROI: all): attend-fix: 0.64 > RFI > 0.47\n",
      "RFI (ROI: all): attend-fix vs. zero: 0.0078 > ps > 0.0000\n",
      "RFI (ROI: V1/V3AB/iIPS/sIPS/sPCS/mPCS): attend-bar vs. attend-fix: 0.0391 > ps > 0.0078\n",
      "RFI (ROI: V2/V3/hMT+/LO/VO/iPCS): attend-bar vs. attend-fix: 0.3359 > ps > 0.0625\n"
     ]
    }
   ],
   "source": [
    "# RFI across ROIs\n",
    "tsv_dir = '{}/{}/decode/tsv'.format(pp_dir, 'group')\n",
    "stats_df = pd.read_csv(\"{}/group_ref_index_stats_best250.tsv\".format(tsv_dir), sep=\"\\t\")\n",
    "\n",
    "print(\"RFI (ROI: all): attend-bar: {:1.2f} > RFI > {:1.2f}\".format(\n",
    "    stats_df.ab_ref_index_mean.max(),\n",
    "    stats_df.ab_ref_index_mean.min()))\n",
    "\n",
    "print(\"RFI (ROI: all): attend-bar vs. zero: {:1.4f} > ps > {:1.4f}\".format(\n",
    "    stats_df.ab_zero_p_val_bilateral.max(),\n",
    "    stats_df.ab_zero_p_val_bilateral.min()))\n",
    "\n",
    "print(\"RFI (ROI: all): attend-fix: {:1.2f} > RFI > {:1.2f}\".format(\n",
    "    stats_df.af_ref_index_mean.max(),\n",
    "    stats_df.af_ref_index_mean.min()))\n",
    "\n",
    "print(\"RFI (ROI: all): attend-fix vs. zero: {:1.4f} > ps > {:1.4f}\".format(\n",
    "    stats_df.af_zero_p_val_bilateral.max(),\n",
    "    stats_df.af_zero_p_val_bilateral.min()))\n",
    "\n",
    "print(\"RFI (ROI: V1/V3AB/iIPS/sIPS/sPCS/mPCS): attend-bar vs. attend-fix: {:1.4f} > ps > {:1.4f}\".format(\n",
    "    stats_df.loc[(stats_df.roi=='V1') | (stats_df.roi=='V3AB') | (stats_df.roi=='iIPS') | (stats_df.roi=='sIPS') \\\n",
    "                 | (stats_df.roi=='sPCS') | (stats_df.roi=='mPCS')].ab_af_p_val_bilateral.max(),\n",
    "    stats_df.loc[(stats_df.roi=='V1') | (stats_df.roi=='V3AB') | (stats_df.roi=='iIPS') | (stats_df.roi=='sIPS') \\\n",
    "                 | (stats_df.roi=='sPCS') | (stats_df.roi=='mPCS')].ab_af_p_val_bilateral.min()))\n",
    "\n",
    "print(\"RFI (ROI: V2/V3/hMT+/LO/VO/iPCS): attend-bar vs. attend-fix: {:1.4f} > ps > {:1.4f}\".format(\n",
    "    stats_df.loc[(stats_df.roi=='V2') | (stats_df.roi=='V3') | (stats_df.roi=='hMT+') | (stats_df.roi=='LO') \\\n",
    "                 | (stats_df.roi=='VO') | (stats_df.roi=='iPCS')].ab_af_p_val_bilateral.max(),\n",
    "    stats_df.loc[(stats_df.roi=='V2') | (stats_df.roi=='V3') | (stats_df.roi=='hMT+') | (stats_df.roi=='LO') \\\n",
    "                 | (stats_df.roi=='VO') | (stats_df.roi=='iPCS')].ab_af_p_val_bilateral.min()))"
   ]
  }
 ],
 "metadata": {
  "kernelspec": {
   "display_name": "mszinte",
   "language": "python",
   "name": "mszinte"
  },
  "language_info": {
   "codemirror_mode": {
    "name": "ipython",
    "version": 3
   },
   "file_extension": ".py",
   "mimetype": "text/x-python",
   "name": "python",
   "nbconvert_exporter": "python",
   "pygments_lexer": "ipython3",
   "version": "3.9.13"
  }
 },
 "nbformat": 4,
 "nbformat_minor": 5
}
