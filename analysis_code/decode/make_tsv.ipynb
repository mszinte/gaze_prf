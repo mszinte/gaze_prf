{
 "cells": [
  {
   "cell_type": "code",
   "execution_count": null,
   "id": "95527838-4ecc-4615-a34d-ed3970ae3ed1",
   "metadata": {},
   "outputs": [],
   "source": [
    "## Imports\n",
    "import os\n",
    "import numpy as np\n",
    "import pandas as pd\n",
    "import nibabel as nb\n",
    "import warnings\n",
    "warnings.filterwarnings('ignore')\n",
    "\n",
    "# Define parameters\n",
    "subjects = ['sub-001', 'sub-002', 'sub-003', 'sub-004',\n",
    "            'sub-005', 'sub-006', 'sub-007', 'sub-008']\n",
    "rois = ['V1', 'V2', 'V3', 'V3AB', 'hMT+', 'LO',\n",
    "        'VO', 'iIPS', 'sIPS', 'iPCS', 'sPCS', 'mPCS']\n",
    "gaze_tasks = ['GazeCenter','GazeLeft','GazeRight']\n",
    "attend_tasks = ['AttendFix', 'AttendBar']\n",
    "# Define folders\n",
    "base_dir = '/home/mszinte/disks/meso_S/data/gaze_prf'\n",
    "bids_dir = \"{}\".format(base_dir)\n",
    "pp_dir = \"{}/derivatives/pp_data\".format(base_dir)"
   ]
  },
  {
   "cell_type": "markdown",
   "id": "4781fbae-58f3-4a6d-abe1-78c3837f2d45",
   "metadata": {},
   "source": [
    "### Compute averaged decoding position and height over runs "
   ]
  },
  {
   "cell_type": "code",
   "execution_count": 2,
   "id": "40fb4c46-0199-42cb-9b4d-69f2aae725a5",
   "metadata": {
    "tags": []
   },
   "outputs": [
    {
     "name": "stdout",
     "output_type": "stream",
     "text": [
      "saving /home/mszinte/disks/meso_S/data/gaze_prf/derivatives/pp_data/sub-004/decode/tsv/sub-004_task-GazeRightAttendFix_decode_par.pkl\n",
      "saving /home/mszinte/disks/meso_S/data/gaze_prf/derivatives/pp_data/sub-004/decode/tsv/sub-004_task-GazeRightAttendBar_decode_par.pkl\n",
      "saving /home/mszinte/disks/meso_S/data/gaze_prf/derivatives/pp_data/sub-005/decode/tsv/sub-005_task-GazeCenterAttendFix_decode_par.pkl\n",
      "saving /home/mszinte/disks/meso_S/data/gaze_prf/derivatives/pp_data/sub-005/decode/tsv/sub-005_task-GazeCenterAttendBar_decode_par.pkl\n",
      "saving /home/mszinte/disks/meso_S/data/gaze_prf/derivatives/pp_data/sub-005/decode/tsv/sub-005_task-GazeLeftAttendFix_decode_par.pkl\n",
      "saving /home/mszinte/disks/meso_S/data/gaze_prf/derivatives/pp_data/sub-005/decode/tsv/sub-005_task-GazeLeftAttendBar_decode_par.pkl\n",
      "saving /home/mszinte/disks/meso_S/data/gaze_prf/derivatives/pp_data/sub-005/decode/tsv/sub-005_task-GazeRightAttendFix_decode_par.pkl\n",
      "saving /home/mszinte/disks/meso_S/data/gaze_prf/derivatives/pp_data/sub-005/decode/tsv/sub-005_task-GazeRightAttendBar_decode_par.pkl\n",
      "saving /home/mszinte/disks/meso_S/data/gaze_prf/derivatives/pp_data/sub-006/decode/tsv/sub-006_task-GazeCenterAttendFix_decode_par.pkl\n",
      "saving /home/mszinte/disks/meso_S/data/gaze_prf/derivatives/pp_data/sub-006/decode/tsv/sub-006_task-GazeCenterAttendBar_decode_par.pkl\n",
      "saving /home/mszinte/disks/meso_S/data/gaze_prf/derivatives/pp_data/sub-006/decode/tsv/sub-006_task-GazeLeftAttendFix_decode_par.pkl\n",
      "saving /home/mszinte/disks/meso_S/data/gaze_prf/derivatives/pp_data/sub-006/decode/tsv/sub-006_task-GazeLeftAttendBar_decode_par.pkl\n",
      "saving /home/mszinte/disks/meso_S/data/gaze_prf/derivatives/pp_data/sub-006/decode/tsv/sub-006_task-GazeRightAttendFix_decode_par.pkl\n",
      "saving /home/mszinte/disks/meso_S/data/gaze_prf/derivatives/pp_data/sub-006/decode/tsv/sub-006_task-GazeRightAttendBar_decode_par.pkl\n",
      "saving /home/mszinte/disks/meso_S/data/gaze_prf/derivatives/pp_data/sub-007/decode/tsv/sub-007_task-GazeCenterAttendFix_decode_par.pkl\n",
      "saving /home/mszinte/disks/meso_S/data/gaze_prf/derivatives/pp_data/sub-007/decode/tsv/sub-007_task-GazeCenterAttendBar_decode_par.pkl\n",
      "saving /home/mszinte/disks/meso_S/data/gaze_prf/derivatives/pp_data/sub-007/decode/tsv/sub-007_task-GazeLeftAttendFix_decode_par.pkl\n",
      "saving /home/mszinte/disks/meso_S/data/gaze_prf/derivatives/pp_data/sub-007/decode/tsv/sub-007_task-GazeLeftAttendBar_decode_par.pkl\n",
      "saving /home/mszinte/disks/meso_S/data/gaze_prf/derivatives/pp_data/sub-007/decode/tsv/sub-007_task-GazeRightAttendFix_decode_par.pkl\n",
      "saving /home/mszinte/disks/meso_S/data/gaze_prf/derivatives/pp_data/sub-007/decode/tsv/sub-007_task-GazeRightAttendBar_decode_par.pkl\n",
      "saving /home/mszinte/disks/meso_S/data/gaze_prf/derivatives/pp_data/sub-008/decode/tsv/sub-008_task-GazeCenterAttendFix_decode_par.pkl\n",
      "saving /home/mszinte/disks/meso_S/data/gaze_prf/derivatives/pp_data/sub-008/decode/tsv/sub-008_task-GazeCenterAttendBar_decode_par.pkl\n",
      "saving /home/mszinte/disks/meso_S/data/gaze_prf/derivatives/pp_data/sub-008/decode/tsv/sub-008_task-GazeLeftAttendFix_decode_par.pkl\n",
      "saving /home/mszinte/disks/meso_S/data/gaze_prf/derivatives/pp_data/sub-008/decode/tsv/sub-008_task-GazeLeftAttendBar_decode_par.pkl\n",
      "saving /home/mszinte/disks/meso_S/data/gaze_prf/derivatives/pp_data/sub-008/decode/tsv/sub-008_task-GazeRightAttendFix_decode_par.pkl\n",
      "saving /home/mszinte/disks/meso_S/data/gaze_prf/derivatives/pp_data/sub-008/decode/tsv/sub-008_task-GazeRightAttendBar_decode_par.pkl\n"
     ]
    }
   ],
   "source": [
    "for subject in subjects:\n",
    "    tsv_dir = '{}/{}/decode/tsv'.format(pp_dir, subject)\n",
    "    try: os.makedirs(tsv_dir)\n",
    "    except: pass\n",
    "\n",
    "    for gaze_task in gaze_tasks:\n",
    "        for attend_task in attend_tasks:\n",
    "            for roi_num, roi in enumerate(rois):\n",
    "\n",
    "                # load files\n",
    "                run1_fn = \"{}/{}/decode/fit/{}_ses-01_task-{}{}_roi-{}_nvoxels-250_resizefactor-3_mcmcbarpars.tsv\".format(pp_dir, subject, subject, gaze_task, attend_task, roi)\n",
    "                run2_fn = \"{}/{}/decode/fit/{}_ses-02_task-{}{}_roi-{}_nvoxels-250_resizefactor-3_mcmcbarpars.tsv\".format(pp_dir, subject, subject, gaze_task, attend_task, roi)\n",
    "\n",
    "                run1_df = pd.read_csv(run1_fn,sep=\"\\t\")\n",
    "                run2_df = pd.read_csv(run2_fn,sep=\"\\t\")\n",
    "\n",
    "                tr = np.nanmean((run1_df.groupby(['time']).time.mean(),run2_df.groupby(['time']).time.mean()),axis=0)\n",
    "                \n",
    "                # create dataframe\n",
    "                df_roi = pd.DataFrame({'subject': [subject] * tr.shape[0],\n",
    "                                       'roi': [roi] * tr.shape[0],\n",
    "                                       'TR': tr,\n",
    "                                       'decoded_x_mean': np.nanmean((run1_df.groupby(['time']).x.mean(),run2_df.groupby(['time']).x.mean()),axis=0),\n",
    "                                       'decoded_x_std': np.nanmean((run1_df.groupby(['time']).x.std(),run2_df.groupby(['time']).x.std()),axis=0),\n",
    "                                       'decoded_h_mean': np.nanmean((run1_df.groupby(['time']).height.mean(),run2_df.groupby(['time']).height.mean()),axis=0),\n",
    "                                       'decoded_h_std': np.nanmean((run1_df.groupby(['time']).height.std(),run2_df.groupby(['time']).height.std()),axis=0)})\n",
    "                                       \n",
    "                # across roi\n",
    "                if roi_num > 0: df = pd.concat([df,df_roi], ignore_index=True)\n",
    "                else: df = df_roi\n",
    "                \n",
    "            # Save dataframe as tsv\n",
    "            df_fn = \"{}/{}_task-{}{}_decode_par.pkl\".format(tsv_dir,subject,gaze_task,attend_task)\n",
    "            print('saving {}'.format(df_fn))\n",
    "            df.to_pickle(df_fn)\n",
    "            \n",
    "            del df"
   ]
  },
  {
   "cell_type": "code",
   "execution_count": null,
   "id": "a530429a-85ac-4f63-ba43-0de22807d456",
   "metadata": {},
   "outputs": [],
   "source": []
  }
 ],
 "metadata": {
  "kernelspec": {
   "display_name": "mszinte",
   "language": "python",
   "name": "mszinte"
  },
  "language_info": {
   "codemirror_mode": {
    "name": "ipython",
    "version": 3
   },
   "file_extension": ".py",
   "mimetype": "text/x-python",
   "name": "python",
   "nbconvert_exporter": "python",
   "pygments_lexer": "ipython3",
   "version": "3.9.12"
  }
 },
 "nbformat": 4,
 "nbformat_minor": 5
}
