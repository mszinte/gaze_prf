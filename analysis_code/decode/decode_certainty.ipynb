{
 "cells": [
  {
   "cell_type": "markdown",
   "id": "9b6f659f-54e9-4d7d-956b-0d40e4d08765",
   "metadata": {},
   "source": [
    "#### Code to write\n",
    "- [x] x dispersion vs. ROIs with legend Attend-bar / Attend-Fix for GazeLeft / GazeCenter / GazeRight (1 line by 3 column plot)\n",
    "- [x] x dispersion vs. ROIs with legend GazeLeft / GazeCenter / GazeRight for Attend-bar / Attend-Fix (1 line 2 column plot)\n",
    "- [x] Per ROIs Attend-Bar vs Attend-Fix irrespective of gaze-conditions\n",
    "- [x] Per ROIs Attend-Bar vs Attend-Fix irrespective of gaze-conditions\n",
    "- [x] Save all figures"
   ]
  },
  {
   "cell_type": "code",
   "execution_count": 4,
   "id": "48f02737-fa47-4383-ab32-288b92760393",
   "metadata": {
    "tags": []
   },
   "outputs": [],
   "source": [
    "# Imports\n",
    "import os\n",
    "import numpy as np\n",
    "import pandas as pd\n",
    "import warnings\n",
    "warnings.filterwarnings('ignore')\n",
    "\n",
    "# Figure imports\n",
    "import plotly.graph_objects as go\n",
    "from plotly.subplots import make_subplots\n",
    "import plotly.express as px\n",
    "import plotly.express as px\n",
    "from plot_utils import plotly_template\n",
    "\n",
    "# stats\n",
    "from scipy.stats import permutation_test\n",
    "def statistic(condA, condB, axis):\n",
    "    return np.nanmean(condA, axis=axis) - np.nanmean(condB, axis=axis)\n",
    "n_permutation = 10000\n",
    "\n",
    "def get_pval(perm_res):\n",
    "    p_val_unilateral = perm_res.pvalue/2\n",
    "    p_val_bilateral = perm_res.pvalue\n",
    "\n",
    "    if p_val_unilateral > 0.05: p_text_unilateral = 'p = {:1.2f}'.format(p_val_unilateral)\n",
    "    if p_val_unilateral < 0.05: p_text_unilateral = 'p < 0.05'\n",
    "    if p_val_unilateral < 0.01: p_text_unilateral = 'p < 0.01'\n",
    "    if p_val_unilateral < 0.001: p_text_unilateral = 'p < 0.001'\n",
    "    if p_val_unilateral < 0.0001: p_text_unilateral = 'p < 0.0001'\n",
    "\n",
    "    if p_val_bilateral > 0.05: p_text_bilateral = 'p = {:1.2f}'.format(p_val_bilateral)\n",
    "    if p_val_bilateral < 0.05: p_text_bilateral = 'p < 0.05'\n",
    "    if p_val_bilateral < 0.01: p_text_bilateral = 'p < 0.01'\n",
    "    if p_val_bilateral < 0.001: p_text_bilateral = 'p < 0.001'\n",
    "    if p_val_bilateral < 0.0001: p_text_bilateral = 'p < 0.0001'\n",
    "    \n",
    "    return (p_val_unilateral, p_text_unilateral, p_val_bilateral, p_text_bilateral)\n",
    "    \n",
    "\n",
    "# Define parameters\n",
    "subjects = ['sub-001', 'sub-002', 'sub-003', 'sub-004',\n",
    "            'sub-005', 'sub-006', 'sub-007', 'sub-008']\n",
    "subjects_plot = ['sub-001', 'sub-002', 'sub-003', 'sub-004',\n",
    "                 'sub-005', 'sub-006', 'sub-007', 'sub-008', 'group']\n",
    "rois = ['V1', 'V2', 'V3', 'V3AB', 'hMT+', 'LO',\n",
    "        'VO', 'iIPS', 'sIPS', 'iPCS', 'sPCS', 'mPCS']\n",
    "\n",
    "# Graph specific plot\n",
    "gaze_tasks = ['GazeCenter', 'GazeLeft', 'GazeRight']\n",
    "attend_tasks = ['AttendBar','AttendFix']\n",
    "attend_tasks_txt = ['Attend-bar', 'Attend-fix']\n",
    "\n",
    "# Define folders\n",
    "base_dir = '/home/mszinte/disks/meso_S/data/gaze_prf'\n",
    "bids_dir = \"{}\".format(base_dir)\n",
    "pp_dir = \"{}/derivatives/pp_data\".format(base_dir)\n",
    "group_tsv_dir = '{}/{}/decode/tsv'.format(pp_dir, 'group')\n",
    "\n",
    "\n",
    "# General figure settings\n",
    "template_specs = dict(  axes_color=\"rgba(0, 0, 0, 1)\",\n",
    "                        axes_width=2,\n",
    "                        axes_font_size=13,\n",
    "                        bg_col=\"rgba(255, 255, 255, 1)\",\n",
    "                        font='Arial',\n",
    "                        title_font_size=15,\n",
    "                        plot_width=1.5)\n",
    "fig_template = plotly_template(template_specs)"
   ]
  },
  {
   "cell_type": "code",
   "execution_count": 63,
   "id": "4ae59842-eb9c-4c4f-8e48-9bfbcea16037",
   "metadata": {
    "tags": []
   },
   "outputs": [],
   "source": [
    "# Figure settings\n",
    "margin_t, margin_b, margin_l, margin_r = 50, 100, 100 ,50\n",
    "yaxis_range = [0.3, 12.7]\n",
    "yaxis_tick = 12\n",
    "yaxis_tickvals = np.flipud(np.linspace(1,12,yaxis_tick))\n",
    "yaxis_ticktext = rois\n",
    "\n",
    "gc_colors = [\"rgba(243, 146, 0, 1)\", \"rgba(242, 190, 121, 1)\"]\n",
    "gl_colors = [\"rgba(41, 101, 44, 1)\", \"rgba(153, 198, 98, 1)\"]\n",
    "gr_colors = [\"rgba(142, 19, 84, 1)\", \"rgba(230, 151, 193, 1)\"]\n",
    "\n",
    "hover = 'ROI: %{y}<br>' + 'Decoded uncertainty: %{x:1.2f}'\n",
    "y_rois = np.flipud(np.arange(0,len(rois))+1)\n",
    "\n",
    "xaxis_range = [0, 10]\n",
    "xaxis_tick = 6\n",
    "xaxis_tickvals = np.linspace(xaxis_range[0],xaxis_range[1],xaxis_tick)\n",
    "xaxis_title = 'Decoded uncertainty (dva)'\n",
    "xaxis_ticktext = []\n",
    "[xaxis_ticktext.append(('{:g}'.format(val))) for val in xaxis_tickvals];\n",
    "\n",
    "# x_gap_line = 0.2*xaxis_range[1]\n",
    "# x_gap_asterisk = 0.25*xaxis_range[1]\n",
    "# x_gap2_line = 0.25*xaxis_range[1]\n",
    "# x_gap2_asterisk = 0.3*xaxis_range[1]\n",
    "# x_gap3_line = 0.3*xaxis_range[1]\n",
    "# x_gap3_asterisk = 0.35*xaxis_range[1]\n",
    "\n",
    "x_gap_asterisk = 0.25\n",
    "x_stats_line = 8;\n",
    "x_stats2_line = 8.5;\n",
    "x_stats3_line = 9;\n",
    "\n",
    "showlegend = False"
   ]
  },
  {
   "cell_type": "code",
   "execution_count": 47,
   "id": "ff5679f0-3324-40ed-b770-c54e75e2cea4",
   "metadata": {
    "tags": []
   },
   "outputs": [],
   "source": [
    "fist_line = 0\n",
    "for subject in subjects:\n",
    "    for gaze_task in gaze_tasks:\n",
    "        for attend_task, attend_task_txt in zip(attend_tasks, attend_tasks_txt):\n",
    "            for roi_num, roi in enumerate(rois):\n",
    "                \n",
    "                # load files\n",
    "                run1_fn = \"{}/{}/decode/fit/{}_ses-01_task-{}{}_roi-{}_nvoxels-250_resizefactor-3_mcmcbarpars.tsv\".format(pp_dir, subject, subject, gaze_task, attend_task, roi)\n",
    "                run2_fn = \"{}/{}/decode/fit/{}_ses-02_task-{}{}_roi-{}_nvoxels-250_resizefactor-3_mcmcbarpars.tsv\".format(pp_dir, subject, subject, gaze_task, attend_task, roi)\n",
    "\n",
    "                run1_df = pd.read_csv(run1_fn,sep=\"\\t\")\n",
    "                run2_df = pd.read_csv(run2_fn,sep=\"\\t\")\n",
    "                \n",
    "                x_std_run1 = run1_df.groupby(['time']).x.std().mean()\n",
    "                x_std_run2 = run2_df.groupby(['time']).x.std().mean()\n",
    "                df_roi = pd.DataFrame({'subject': [subject],\n",
    "                                       'gaze_task': [gaze_task],\n",
    "                                       'roi': [roi],\n",
    "                                       'attend_task': [attend_task],\n",
    "                                       'decoded_x_std': np.mean((x_std_run1,x_std_run2)),\n",
    "                                       })\n",
    "                \n",
    "                # across subject\n",
    "                if fist_line == 0:\n",
    "                    df_group = df_roi\n",
    "                    fist_line = 1\n",
    "                else: \n",
    "                    df_group = pd.concat([df_group, df_roi])"
   ]
  },
  {
   "cell_type": "code",
   "execution_count": 49,
   "id": "11ebf5e0-7b0f-4365-9b55-70e000d6b700",
   "metadata": {
    "tags": []
   },
   "outputs": [
    {
     "data": {
      "text/html": [
       "<div>\n",
       "<style scoped>\n",
       "    .dataframe tbody tr th:only-of-type {\n",
       "        vertical-align: middle;\n",
       "    }\n",
       "\n",
       "    .dataframe tbody tr th {\n",
       "        vertical-align: top;\n",
       "    }\n",
       "\n",
       "    .dataframe thead th {\n",
       "        text-align: right;\n",
       "    }\n",
       "</style>\n",
       "<table border=\"1\" class=\"dataframe\">\n",
       "  <thead>\n",
       "    <tr style=\"text-align: right;\">\n",
       "      <th></th>\n",
       "      <th>subject</th>\n",
       "      <th>gaze_task</th>\n",
       "      <th>roi</th>\n",
       "      <th>attend_task</th>\n",
       "      <th>decoded_x_std</th>\n",
       "    </tr>\n",
       "  </thead>\n",
       "  <tbody>\n",
       "    <tr>\n",
       "      <th>0</th>\n",
       "      <td>sub-001</td>\n",
       "      <td>GazeCenter</td>\n",
       "      <td>V1</td>\n",
       "      <td>AttendBar</td>\n",
       "      <td>2.589076</td>\n",
       "    </tr>\n",
       "    <tr>\n",
       "      <th>0</th>\n",
       "      <td>sub-001</td>\n",
       "      <td>GazeCenter</td>\n",
       "      <td>V2</td>\n",
       "      <td>AttendBar</td>\n",
       "      <td>2.082974</td>\n",
       "    </tr>\n",
       "    <tr>\n",
       "      <th>0</th>\n",
       "      <td>sub-001</td>\n",
       "      <td>GazeCenter</td>\n",
       "      <td>V3</td>\n",
       "      <td>AttendBar</td>\n",
       "      <td>1.703871</td>\n",
       "    </tr>\n",
       "    <tr>\n",
       "      <th>0</th>\n",
       "      <td>sub-001</td>\n",
       "      <td>GazeCenter</td>\n",
       "      <td>V3AB</td>\n",
       "      <td>AttendBar</td>\n",
       "      <td>2.880360</td>\n",
       "    </tr>\n",
       "    <tr>\n",
       "      <th>0</th>\n",
       "      <td>sub-001</td>\n",
       "      <td>GazeCenter</td>\n",
       "      <td>hMT+</td>\n",
       "      <td>AttendBar</td>\n",
       "      <td>5.172390</td>\n",
       "    </tr>\n",
       "    <tr>\n",
       "      <th>...</th>\n",
       "      <td>...</td>\n",
       "      <td>...</td>\n",
       "      <td>...</td>\n",
       "      <td>...</td>\n",
       "      <td>...</td>\n",
       "    </tr>\n",
       "    <tr>\n",
       "      <th>0</th>\n",
       "      <td>sub-008</td>\n",
       "      <td>GazeRight</td>\n",
       "      <td>iIPS</td>\n",
       "      <td>AttendFix</td>\n",
       "      <td>5.267257</td>\n",
       "    </tr>\n",
       "    <tr>\n",
       "      <th>0</th>\n",
       "      <td>sub-008</td>\n",
       "      <td>GazeRight</td>\n",
       "      <td>sIPS</td>\n",
       "      <td>AttendFix</td>\n",
       "      <td>5.297307</td>\n",
       "    </tr>\n",
       "    <tr>\n",
       "      <th>0</th>\n",
       "      <td>sub-008</td>\n",
       "      <td>GazeRight</td>\n",
       "      <td>iPCS</td>\n",
       "      <td>AttendFix</td>\n",
       "      <td>4.708274</td>\n",
       "    </tr>\n",
       "    <tr>\n",
       "      <th>0</th>\n",
       "      <td>sub-008</td>\n",
       "      <td>GazeRight</td>\n",
       "      <td>sPCS</td>\n",
       "      <td>AttendFix</td>\n",
       "      <td>5.169447</td>\n",
       "    </tr>\n",
       "    <tr>\n",
       "      <th>0</th>\n",
       "      <td>sub-008</td>\n",
       "      <td>GazeRight</td>\n",
       "      <td>mPCS</td>\n",
       "      <td>AttendFix</td>\n",
       "      <td>4.646300</td>\n",
       "    </tr>\n",
       "  </tbody>\n",
       "</table>\n",
       "<p>576 rows × 5 columns</p>\n",
       "</div>"
      ],
      "text/plain": [
       "    subject   gaze_task   roi attend_task  decoded_x_std\n",
       "0   sub-001  GazeCenter    V1   AttendBar       2.589076\n",
       "0   sub-001  GazeCenter    V2   AttendBar       2.082974\n",
       "0   sub-001  GazeCenter    V3   AttendBar       1.703871\n",
       "0   sub-001  GazeCenter  V3AB   AttendBar       2.880360\n",
       "0   sub-001  GazeCenter  hMT+   AttendBar       5.172390\n",
       "..      ...         ...   ...         ...            ...\n",
       "0   sub-008   GazeRight  iIPS   AttendFix       5.267257\n",
       "0   sub-008   GazeRight  sIPS   AttendFix       5.297307\n",
       "0   sub-008   GazeRight  iPCS   AttendFix       4.708274\n",
       "0   sub-008   GazeRight  sPCS   AttendFix       5.169447\n",
       "0   sub-008   GazeRight  mPCS   AttendFix       4.646300\n",
       "\n",
       "[576 rows x 5 columns]"
      ]
     },
     "execution_count": 49,
     "metadata": {},
     "output_type": "execute_result"
    }
   ],
   "source": [
    "df_group"
   ]
  },
  {
   "cell_type": "markdown",
   "id": "c6f277a7-a989-4fc7-86ae-0dd27a2683ba",
   "metadata": {
    "tags": []
   },
   "source": [
    "### Attend-bar vs. Attend-fix in different gaze conditions"
   ]
  },
  {
   "cell_type": "code",
   "execution_count": 71,
   "id": "440135f8-38ef-41b4-ad42-74ba2dff4361",
   "metadata": {
    "tags": []
   },
   "outputs": [
    {
     "name": "stdout",
     "output_type": "stream",
     "text": [
      "saving /home/mszinte/disks/meso_S/data/gaze_prf/derivatives/pp_data/group/decode/tsv/group_decoded_std_stats.tsv\n"
     ]
    }
   ],
   "source": [
    "# Compute permutation statistics results\n",
    "fist_line = 0\n",
    "for gaze_task in gaze_tasks:\n",
    "    for roi_num, roi in enumerate(rois):\n",
    "        # get values\n",
    "        ab_decoded_std_array = df_group.loc[(df_group.gaze_task==gaze_task) & \n",
    "                                            (df_group.attend_task=='AttendBar') & (df_group.roi==roi)\n",
    "                                           ].groupby(['subject']).decoded_x_std.mean()\n",
    "\n",
    "        af_decoded_std_array = df_group.loc[(df_group.gaze_task==gaze_task) & \n",
    "                                            (df_group.attend_task=='AttendFix') & (df_group.roi==roi)\n",
    "                                           ].groupby(['subject']).decoded_x_std.mean()\n",
    "        \n",
    "        # comparison ab/af\n",
    "        ab_af_perm_res = permutation_test((ab_decoded_std_array, af_decoded_std_array), statistic, n_resamples=n_permutation, \n",
    "                                     alternative='two-sided', permutation_type='samples', vectorized=True, axis=0)\n",
    "        ab_af_p_val_uni, ab_af_p_text_uni, ab_af_p_val_bi, ab_af_p_text_bi = get_pval(ab_af_perm_res)\n",
    "        \n",
    "        df_stats = pd.DataFrame({  'roi': [roi],\n",
    "                                   'gaze_task': gaze_task,\n",
    "                                   'ab_decoded_std_mean': np.nanmean(ab_decoded_std_array),\n",
    "                                   'ab_decoded_std_sem': np.nanstd(ab_decoded_std_array)/np.sqrt(ab_decoded_std_array.shape[0]-1),  \n",
    "                                   'af_decoded_std_mean': np.nanmean(af_decoded_std_array),\n",
    "                                   'af_decoded_std_sem': np.nanstd(af_decoded_std_array)/np.sqrt(af_decoded_std_array.shape[0]-1),\n",
    "                                   'ab_af_diff': ab_af_perm_res.statistic,\n",
    "                                   'ab_af_p_val_unilateral': ab_af_p_val_uni,\n",
    "                                   'ab_af_p_text_unilateral': ab_af_p_text_uni,\n",
    "                                   'ab_af_p_val_bilateral': ab_af_p_val_bi,\n",
    "                                   'ab_af_p_text_bilateral': ab_af_p_text_bi})\n",
    "        \n",
    "        # across roi\n",
    "        if fist_line == 0: \n",
    "            df_stats_roi = df_stats\n",
    "            fist_line = 1\n",
    "        else: \n",
    "            df_stats_roi = pd.concat([df_stats_roi, df_stats])\n",
    "\n",
    "df_stats_roi_fn = \"{}/group_decoded_std_stats.tsv\".format(group_tsv_dir)\n",
    "print('saving {}'.format(df_stats_roi_fn))\n",
    "df_stats_roi.to_csv(df_stats_roi_fn, sep=\"\\t\", na_rep='NaN')"
   ]
  },
  {
   "cell_type": "code",
   "execution_count": 72,
   "id": "3ce3e9cf-48a2-42aa-93a7-d817b6e1cc04",
   "metadata": {
    "tags": []
   },
   "outputs": [
    {
     "data": {
      "application/vnd.plotly.v1+json": {
       "config": {
        "displayModeBar": false,
        "plotlyServerURL": "https://plot.ly"
       },
       "data": [
        {
         "error_x": {
          "array": [
           0.27617656483083525,
           0.21538067322142418,
           0.11963334315127433,
           0.08671118405325089,
           0.11443676134025801,
           0.1293095900943203,
           0.21209279019187724,
           0.03481424421222945,
           0.036270320416824216,
           0.06234310321516982,
           0.049465459913163805,
           0.11000059074369041
          ],
          "arrayminus": [
           0.27617656483083525,
           0.21538067322142418,
           0.11963334315127433,
           0.08671118405325089,
           0.11443676134025801,
           0.1293095900943203,
           0.21209279019187724,
           0.03481424421222945,
           0.036270320416824216,
           0.06234310321516982,
           0.049465459913163805,
           0.11000059074369041
          ],
          "symmetric": false,
          "type": "data"
         },
         "hovertemplate": "ROI: %{y}<br>Decoded uncertainty: %{x:1.2f}",
         "legendgroup": "attend-fix",
         "marker": {
          "color": "rgba(242, 190, 121, 1)"
         },
         "name": "<i>attend-fix<i>",
         "orientation": "h",
         "showlegend": false,
         "type": "bar",
         "x": [
          2.908740610348265,
          2.8517288424145226,
          3.0873996340236314,
          4.721892964461428,
          5.263717108081696,
          5.054937053082689,
          4.600180660670393,
          5.288839816632076,
          5.380516263721525,
          5.339303974470401,
          5.372726143456421,
          5.233614322905591
         ],
         "xaxis": "x",
         "y": [
          12,
          11,
          10,
          9,
          8,
          7,
          6,
          5,
          4,
          3,
          2,
          1
         ],
         "yaxis": "y"
        },
        {
         "error_x": {
          "array": [
           0.3410525890872121,
           0.22531960115823246,
           0.3088158387582208,
           0.3462134140183331,
           0.1670002689643866,
           0.20091672364894997,
           0.2484594004502242,
           0.13473050270341982,
           0.09037103899526072,
           0.08987857966214106,
           0.0313700183991179,
           0.05145866902572921
          ],
          "arrayminus": [
           0.3410525890872121,
           0.22531960115823246,
           0.3088158387582208,
           0.3462134140183331,
           0.1670002689643866,
           0.20091672364894997,
           0.2484594004502242,
           0.13473050270341982,
           0.09037103899526072,
           0.08987857966214106,
           0.0313700183991179,
           0.05145866902572921
          ],
          "symmetric": false,
          "type": "data"
         },
         "hovertemplate": "ROI: %{y}<br>Decoded uncertainty: %{x:1.2f}",
         "legendgroup": "attend-bar",
         "marker": {
          "color": "rgba(243, 146, 0, 1)"
         },
         "name": "<i>attend-bar<i>",
         "orientation": "h",
         "showlegend": false,
         "type": "bar",
         "x": [
          2.7130953471057015,
          2.2867576614336773,
          2.6023285971627557,
          3.659512488538157,
          5.058725786192486,
          4.4687740822535025,
          4.054838863887953,
          4.930847087350936,
          5.234996200366456,
          5.265163034833707,
          5.298948402820018,
          5.348062695271806
         ],
         "xaxis": "x",
         "y": [
          12,
          11,
          10,
          9,
          8,
          7,
          6,
          5,
          4,
          3,
          2,
          1
         ],
         "yaxis": "y"
        },
        {
         "hoverinfo": "skip",
         "line": {
          "width": 1.5
         },
         "marker": {
          "color": "black",
          "symbol": "line-ns-open"
         },
         "mode": "lines",
         "showlegend": false,
         "type": "scatter",
         "x": [
          8,
          8,
          8,
          8,
          8,
          8,
          8,
          8,
          8,
          8
         ],
         "xaxis": "x",
         "y": [
          11.25,
          11.194444444444445,
          11.13888888888889,
          11.083333333333334,
          11.027777777777779,
          10.972222222222221,
          10.916666666666666,
          10.86111111111111,
          10.805555555555555,
          10.75
         ],
         "yaxis": "y"
        },
        {
         "hoverinfo": "skip",
         "marker": {
          "color": "black",
          "size": 5,
          "symbol": "asterisk-open"
         },
         "mode": "markers",
         "showlegend": false,
         "type": "scatter",
         "x": [
          8.25,
          8.25,
          8.25,
          8.25,
          8.25,
          8.25,
          8.25,
          8.25,
          8.25,
          8.25
         ],
         "xaxis": "x",
         "y": [
          11
         ],
         "yaxis": "y"
        },
        {
         "hoverinfo": "skip",
         "line": {
          "width": 1.5
         },
         "marker": {
          "color": "black",
          "symbol": "line-ns-open"
         },
         "mode": "lines",
         "showlegend": false,
         "type": "scatter",
         "x": [
          8,
          8,
          8,
          8,
          8,
          8,
          8,
          8,
          8,
          8
         ],
         "xaxis": "x",
         "y": [
          9.25,
          9.194444444444445,
          9.13888888888889,
          9.083333333333334,
          9.027777777777779,
          8.972222222222221,
          8.916666666666666,
          8.86111111111111,
          8.805555555555555,
          8.75
         ],
         "yaxis": "y"
        },
        {
         "hoverinfo": "skip",
         "marker": {
          "color": "black",
          "size": 5,
          "symbol": "asterisk-open"
         },
         "mode": "markers",
         "showlegend": false,
         "type": "scatter",
         "x": [
          8.25,
          8.25,
          8.25,
          8.25,
          8.25,
          8.25,
          8.25,
          8.25,
          8.25,
          8.25
         ],
         "xaxis": "x",
         "y": [
          9
         ],
         "yaxis": "y"
        },
        {
         "hoverinfo": "skip",
         "line": {
          "width": 1.5
         },
         "marker": {
          "color": "black",
          "symbol": "line-ns-open"
         },
         "mode": "lines",
         "showlegend": false,
         "type": "scatter",
         "x": [
          8,
          8,
          8,
          8,
          8,
          8,
          8,
          8,
          8,
          8
         ],
         "xaxis": "x",
         "y": [
          8.25,
          8.194444444444445,
          8.13888888888889,
          8.083333333333334,
          8.027777777777779,
          7.972222222222222,
          7.916666666666667,
          7.861111111111111,
          7.805555555555555,
          7.75
         ],
         "yaxis": "y"
        },
        {
         "hoverinfo": "skip",
         "marker": {
          "color": "black",
          "size": 5,
          "symbol": "asterisk-open"
         },
         "mode": "markers",
         "showlegend": false,
         "type": "scatter",
         "x": [
          8.25,
          8.25,
          8.25,
          8.25,
          8.25,
          8.25,
          8.25,
          8.25,
          8.25,
          8.25
         ],
         "xaxis": "x",
         "y": [
          8
         ],
         "yaxis": "y"
        },
        {
         "hoverinfo": "skip",
         "line": {
          "width": 1.5
         },
         "marker": {
          "color": "black",
          "symbol": "line-ns-open"
         },
         "mode": "lines",
         "showlegend": false,
         "type": "scatter",
         "x": [
          8,
          8,
          8,
          8,
          8,
          8,
          8,
          8,
          8,
          8
         ],
         "xaxis": "x",
         "y": [
          7.25,
          7.194444444444445,
          7.138888888888889,
          7.083333333333333,
          7.027777777777778,
          6.972222222222222,
          6.916666666666667,
          6.861111111111111,
          6.805555555555555,
          6.75
         ],
         "yaxis": "y"
        },
        {
         "hoverinfo": "skip",
         "marker": {
          "color": "black",
          "size": 5,
          "symbol": "asterisk-open"
         },
         "mode": "markers",
         "showlegend": false,
         "type": "scatter",
         "x": [
          8.25,
          8.25,
          8.25,
          8.25,
          8.25,
          8.25,
          8.25,
          8.25,
          8.25,
          8.25
         ],
         "xaxis": "x",
         "y": [
          7
         ],
         "yaxis": "y"
        },
        {
         "hoverinfo": "skip",
         "line": {
          "width": 1.5
         },
         "marker": {
          "color": "black",
          "symbol": "line-ns-open"
         },
         "mode": "lines",
         "showlegend": false,
         "type": "scatter",
         "x": [
          8,
          8,
          8,
          8,
          8,
          8,
          8,
          8,
          8,
          8
         ],
         "xaxis": "x",
         "y": [
          6.25,
          6.194444444444445,
          6.138888888888889,
          6.083333333333333,
          6.027777777777778,
          5.972222222222222,
          5.916666666666667,
          5.861111111111111,
          5.805555555555555,
          5.75
         ],
         "yaxis": "y"
        },
        {
         "hoverinfo": "skip",
         "marker": {
          "color": "black",
          "size": 5,
          "symbol": "asterisk-open"
         },
         "mode": "markers",
         "showlegend": false,
         "type": "scatter",
         "x": [
          8.25,
          8.25,
          8.25,
          8.25,
          8.25,
          8.25,
          8.25,
          8.25,
          8.25,
          8.25
         ],
         "xaxis": "x",
         "y": [
          6
         ],
         "yaxis": "y"
        },
        {
         "hoverinfo": "skip",
         "line": {
          "width": 1.5
         },
         "marker": {
          "color": "black",
          "symbol": "line-ns-open"
         },
         "mode": "lines",
         "showlegend": false,
         "type": "scatter",
         "x": [
          8,
          8,
          8,
          8,
          8,
          8,
          8,
          8,
          8,
          8
         ],
         "xaxis": "x",
         "y": [
          5.25,
          5.194444444444445,
          5.138888888888889,
          5.083333333333333,
          5.027777777777778,
          4.972222222222222,
          4.916666666666667,
          4.861111111111111,
          4.805555555555555,
          4.75
         ],
         "yaxis": "y"
        },
        {
         "hoverinfo": "skip",
         "marker": {
          "color": "black",
          "size": 5,
          "symbol": "asterisk-open"
         },
         "mode": "markers",
         "showlegend": false,
         "type": "scatter",
         "x": [
          8.25,
          8.25,
          8.25,
          8.25,
          8.25,
          8.25,
          8.25,
          8.25,
          8.25,
          8.25
         ],
         "xaxis": "x",
         "y": [
          5
         ],
         "yaxis": "y"
        },
        {
         "hoverinfo": "skip",
         "line": {
          "width": 1.5
         },
         "marker": {
          "color": "black",
          "symbol": "line-ns-open"
         },
         "mode": "lines",
         "showlegend": false,
         "type": "scatter",
         "x": [
          8,
          8,
          8,
          8,
          8,
          8,
          8,
          8,
          8,
          8
         ],
         "xaxis": "x",
         "y": [
          1.25,
          1.1944444444444444,
          1.1388888888888888,
          1.0833333333333333,
          1.0277777777777777,
          0.9722222222222222,
          0.9166666666666667,
          0.8611111111111112,
          0.8055555555555556,
          0.75
         ],
         "yaxis": "y"
        },
        {
         "hoverinfo": "skip",
         "marker": {
          "color": "black",
          "size": 5,
          "symbol": "asterisk-open"
         },
         "mode": "markers",
         "showlegend": false,
         "type": "scatter",
         "x": [
          8.25,
          8.25,
          8.25,
          8.25,
          8.25,
          8.25,
          8.25,
          8.25,
          8.25,
          8.25
         ],
         "xaxis": "x",
         "y": [
          1
         ],
         "yaxis": "y"
        },
        {
         "error_x": {
          "array": [
           0.2766294574125057,
           0.20886292124000652,
           0.13835149246927675,
           0.10379601537403249,
           0.11419949110285808,
           0.14297939012843525,
           0.1944552268798407,
           0.07050632744357455,
           0.04208878465479889,
           0.07959108263739922,
           0.04538796962950391,
           0.09906335201297588
          ],
          "arrayminus": [
           0.2766294574125057,
           0.20886292124000652,
           0.13835149246927675,
           0.10379601537403249,
           0.11419949110285808,
           0.14297939012843525,
           0.1944552268798407,
           0.07050632744357455,
           0.04208878465479889,
           0.07959108263739922,
           0.04538796962950391,
           0.09906335201297588
          ],
          "symmetric": false,
          "type": "data"
         },
         "hovertemplate": "ROI: %{y}<br>Decoded uncertainty: %{x:1.2f}",
         "legendgroup": "attend-fix",
         "marker": {
          "color": "rgba(153, 198, 98, 1)"
         },
         "name": "<i>attend-fix<i>",
         "orientation": "h",
         "showlegend": false,
         "type": "bar",
         "x": [
          2.949524129170039,
          2.679170243985488,
          3.0625990149779962,
          4.657331411515451,
          5.260126569080123,
          4.978624640449593,
          4.571404168203433,
          5.188018397125557,
          5.337388228942679,
          5.307053872650214,
          5.338680912612612,
          5.2430428359204955
         ],
         "xaxis": "x2",
         "y": [
          12,
          11,
          10,
          9,
          8,
          7,
          6,
          5,
          4,
          3,
          2,
          1
         ],
         "yaxis": "y2"
        },
        {
         "error_x": {
          "array": [
           0.3255374150947129,
           0.2319036689201075,
           0.28567204773884614,
           0.3699536503488924,
           0.1779299419856133,
           0.21422045602713644,
           0.25222775351198634,
           0.12691650739735685,
           0.09634262361987898,
           0.08983910825494339,
           0.05711315967187996,
           0.05982978831334668
          ],
          "arrayminus": [
           0.3255374150947129,
           0.2319036689201075,
           0.28567204773884614,
           0.3699536503488924,
           0.1779299419856133,
           0.21422045602713644,
           0.25222775351198634,
           0.12691650739735685,
           0.09634262361987898,
           0.08983910825494339,
           0.05711315967187996,
           0.05982978831334668
          ],
          "symmetric": false,
          "type": "data"
         },
         "hovertemplate": "ROI: %{y}<br>Decoded uncertainty: %{x:1.2f}",
         "legendgroup": "attend-bar",
         "marker": {
          "color": "rgba(41, 101, 44, 1)"
         },
         "name": "<i>attend-bar<i>",
         "orientation": "h",
         "showlegend": false,
         "type": "bar",
         "x": [
          2.726400408685089,
          2.4062327466738243,
          2.588547621363724,
          3.60901399302337,
          5.07546614575149,
          4.466687568770271,
          4.050194254017352,
          4.974227249358211,
          5.207096162739148,
          5.260430637144564,
          5.267199487725572,
          5.337209452656584
         ],
         "xaxis": "x2",
         "y": [
          12,
          11,
          10,
          9,
          8,
          7,
          6,
          5,
          4,
          3,
          2,
          1
         ],
         "yaxis": "y2"
        },
        {
         "hoverinfo": "skip",
         "line": {
          "width": 1.5
         },
         "marker": {
          "color": "black",
          "symbol": "line-ns-open"
         },
         "mode": "lines",
         "showlegend": false,
         "type": "scatter",
         "x": [
          8,
          8,
          8,
          8,
          8,
          8,
          8,
          8,
          8,
          8
         ],
         "xaxis": "x2",
         "y": [
          9.25,
          9.194444444444445,
          9.13888888888889,
          9.083333333333334,
          9.027777777777779,
          8.972222222222221,
          8.916666666666666,
          8.86111111111111,
          8.805555555555555,
          8.75
         ],
         "yaxis": "y2"
        },
        {
         "hoverinfo": "skip",
         "marker": {
          "color": "black",
          "size": 5,
          "symbol": "asterisk-open"
         },
         "mode": "markers",
         "showlegend": false,
         "type": "scatter",
         "x": [
          8.25,
          8.25,
          8.25,
          8.25,
          8.25,
          8.25,
          8.25,
          8.25,
          8.25,
          8.25
         ],
         "xaxis": "x2",
         "y": [
          9
         ],
         "yaxis": "y2"
        },
        {
         "hoverinfo": "skip",
         "line": {
          "width": 1.5
         },
         "marker": {
          "color": "black",
          "symbol": "line-ns-open"
         },
         "mode": "lines",
         "showlegend": false,
         "type": "scatter",
         "x": [
          8,
          8,
          8,
          8,
          8,
          8,
          8,
          8,
          8,
          8
         ],
         "xaxis": "x2",
         "y": [
          8.25,
          8.194444444444445,
          8.13888888888889,
          8.083333333333334,
          8.027777777777779,
          7.972222222222222,
          7.916666666666667,
          7.861111111111111,
          7.805555555555555,
          7.75
         ],
         "yaxis": "y2"
        },
        {
         "hoverinfo": "skip",
         "marker": {
          "color": "black",
          "size": 5,
          "symbol": "asterisk-open"
         },
         "mode": "markers",
         "showlegend": false,
         "type": "scatter",
         "x": [
          8.25,
          8.25,
          8.25,
          8.25,
          8.25,
          8.25,
          8.25,
          8.25,
          8.25,
          8.25
         ],
         "xaxis": "x2",
         "y": [
          8
         ],
         "yaxis": "y2"
        },
        {
         "hoverinfo": "skip",
         "line": {
          "width": 1.5
         },
         "marker": {
          "color": "black",
          "symbol": "line-ns-open"
         },
         "mode": "lines",
         "showlegend": false,
         "type": "scatter",
         "x": [
          8,
          8,
          8,
          8,
          8,
          8,
          8,
          8,
          8,
          8
         ],
         "xaxis": "x2",
         "y": [
          7.25,
          7.194444444444445,
          7.138888888888889,
          7.083333333333333,
          7.027777777777778,
          6.972222222222222,
          6.916666666666667,
          6.861111111111111,
          6.805555555555555,
          6.75
         ],
         "yaxis": "y2"
        },
        {
         "hoverinfo": "skip",
         "marker": {
          "color": "black",
          "size": 5,
          "symbol": "asterisk-open"
         },
         "mode": "markers",
         "showlegend": false,
         "type": "scatter",
         "x": [
          8.25,
          8.25,
          8.25,
          8.25,
          8.25,
          8.25,
          8.25,
          8.25,
          8.25,
          8.25
         ],
         "xaxis": "x2",
         "y": [
          7
         ],
         "yaxis": "y2"
        },
        {
         "hoverinfo": "skip",
         "line": {
          "width": 1.5
         },
         "marker": {
          "color": "black",
          "symbol": "line-ns-open"
         },
         "mode": "lines",
         "showlegend": false,
         "type": "scatter",
         "x": [
          8,
          8,
          8,
          8,
          8,
          8,
          8,
          8,
          8,
          8
         ],
         "xaxis": "x2",
         "y": [
          6.25,
          6.194444444444445,
          6.138888888888889,
          6.083333333333333,
          6.027777777777778,
          5.972222222222222,
          5.916666666666667,
          5.861111111111111,
          5.805555555555555,
          5.75
         ],
         "yaxis": "y2"
        },
        {
         "hoverinfo": "skip",
         "marker": {
          "color": "black",
          "size": 5,
          "symbol": "asterisk-open"
         },
         "mode": "markers",
         "showlegend": false,
         "type": "scatter",
         "x": [
          8.25,
          8.25,
          8.25,
          8.25,
          8.25,
          8.25,
          8.25,
          8.25,
          8.25,
          8.25
         ],
         "xaxis": "x2",
         "y": [
          6
         ],
         "yaxis": "y2"
        },
        {
         "hoverinfo": "skip",
         "line": {
          "width": 1.5
         },
         "marker": {
          "color": "black",
          "symbol": "line-ns-open"
         },
         "mode": "lines",
         "showlegend": false,
         "type": "scatter",
         "x": [
          8,
          8,
          8,
          8,
          8,
          8,
          8,
          8,
          8,
          8
         ],
         "xaxis": "x2",
         "y": [
          1.25,
          1.1944444444444444,
          1.1388888888888888,
          1.0833333333333333,
          1.0277777777777777,
          0.9722222222222222,
          0.9166666666666667,
          0.8611111111111112,
          0.8055555555555556,
          0.75
         ],
         "yaxis": "y2"
        },
        {
         "hoverinfo": "skip",
         "marker": {
          "color": "black",
          "size": 5,
          "symbol": "asterisk-open"
         },
         "mode": "markers",
         "showlegend": false,
         "type": "scatter",
         "x": [
          8.25,
          8.25,
          8.25,
          8.25,
          8.25,
          8.25,
          8.25,
          8.25,
          8.25,
          8.25
         ],
         "xaxis": "x2",
         "y": [
          1
         ],
         "yaxis": "y2"
        },
        {
         "error_x": {
          "array": [
           0.21660051975841754,
           0.12395979701063074,
           0.1562664979051665,
           0.09785411892679606,
           0.09315656451750874,
           0.13320037827133074,
           0.20790841902481128,
           0.04035777085672473,
           0.032671118006245524,
           0.0961777746692812,
           0.05112971553651051,
           0.0989576810308978
          ],
          "arrayminus": [
           0.21660051975841754,
           0.12395979701063074,
           0.1562664979051665,
           0.09785411892679606,
           0.09315656451750874,
           0.13320037827133074,
           0.20790841902481128,
           0.04035777085672473,
           0.032671118006245524,
           0.0961777746692812,
           0.05112971553651051,
           0.0989576810308978
          ],
          "symmetric": false,
          "type": "data"
         },
         "hovertemplate": "ROI: %{y}<br>Decoded uncertainty: %{x:1.2f}",
         "legendgroup": "attend-fix",
         "marker": {
          "color": "rgba(230, 151, 193, 1)"
         },
         "name": "<i>attend-fix<i>",
         "orientation": "h",
         "showlegend": false,
         "type": "bar",
         "x": [
          2.8792381481048253,
          2.732629015581118,
          3.0476148126850373,
          4.662890174174592,
          5.28231460950936,
          4.981864911482434,
          4.587043222873555,
          5.204961648637671,
          5.355038413579919,
          5.291082511063614,
          5.342660506056346,
          5.2705703214576936
         ],
         "xaxis": "x3",
         "y": [
          12,
          11,
          10,
          9,
          8,
          7,
          6,
          5,
          4,
          3,
          2,
          1
         ],
         "yaxis": "y3"
        },
        {
         "error_x": {
          "array": [
           0.322030914102919,
           0.20419718610272072,
           0.26627834483072216,
           0.35521035029534836,
           0.17635924420877044,
           0.23949828476029802,
           0.26569206337711154,
           0.10050046432610386,
           0.08952727018508533,
           0.108814396133095,
           0.06281490270254629,
           0.05139555914358516
          ],
          "arrayminus": [
           0.322030914102919,
           0.20419718610272072,
           0.26627834483072216,
           0.35521035029534836,
           0.17635924420877044,
           0.23949828476029802,
           0.26569206337711154,
           0.10050046432610386,
           0.08952727018508533,
           0.108814396133095,
           0.06281490270254629,
           0.05139555914358516
          ],
          "symmetric": false,
          "type": "data"
         },
         "hovertemplate": "ROI: %{y}<br>Decoded uncertainty: %{x:1.2f}",
         "legendgroup": "attend-bar",
         "marker": {
          "color": "rgba(142, 19, 84, 1)"
         },
         "name": "<i>attend-bar<i>",
         "orientation": "h",
         "showlegend": false,
         "type": "bar",
         "x": [
          2.7826500494284803,
          2.2553345763489596,
          2.621640043116638,
          3.639660905034517,
          5.088566618374025,
          4.4411177740642795,
          3.9763261841891713,
          4.963646668436922,
          5.2126231097920925,
          5.242321513478915,
          5.270166207550872,
          5.308945428298228
         ],
         "xaxis": "x3",
         "y": [
          12,
          11,
          10,
          9,
          8,
          7,
          6,
          5,
          4,
          3,
          2,
          1
         ],
         "yaxis": "y3"
        },
        {
         "hoverinfo": "skip",
         "line": {
          "width": 1.5
         },
         "marker": {
          "color": "black",
          "symbol": "line-ns-open"
         },
         "mode": "lines",
         "showlegend": false,
         "type": "scatter",
         "x": [
          8,
          8,
          8,
          8,
          8,
          8,
          8,
          8,
          8,
          8
         ],
         "xaxis": "x3",
         "y": [
          9.25,
          9.194444444444445,
          9.13888888888889,
          9.083333333333334,
          9.027777777777779,
          8.972222222222221,
          8.916666666666666,
          8.86111111111111,
          8.805555555555555,
          8.75
         ],
         "yaxis": "y3"
        },
        {
         "hoverinfo": "skip",
         "marker": {
          "color": "black",
          "size": 5,
          "symbol": "asterisk-open"
         },
         "mode": "markers",
         "showlegend": false,
         "type": "scatter",
         "x": [
          8.25,
          8.25,
          8.25,
          8.25,
          8.25,
          8.25,
          8.25,
          8.25,
          8.25,
          8.25
         ],
         "xaxis": "x3",
         "y": [
          9
         ],
         "yaxis": "y3"
        },
        {
         "hoverinfo": "skip",
         "line": {
          "width": 1.5
         },
         "marker": {
          "color": "black",
          "symbol": "line-ns-open"
         },
         "mode": "lines",
         "showlegend": false,
         "type": "scatter",
         "x": [
          8,
          8,
          8,
          8,
          8,
          8,
          8,
          8,
          8,
          8
         ],
         "xaxis": "x3",
         "y": [
          8.25,
          8.194444444444445,
          8.13888888888889,
          8.083333333333334,
          8.027777777777779,
          7.972222222222222,
          7.916666666666667,
          7.861111111111111,
          7.805555555555555,
          7.75
         ],
         "yaxis": "y3"
        },
        {
         "hoverinfo": "skip",
         "marker": {
          "color": "black",
          "size": 5,
          "symbol": "asterisk-open"
         },
         "mode": "markers",
         "showlegend": false,
         "type": "scatter",
         "x": [
          8.25,
          8.25,
          8.25,
          8.25,
          8.25,
          8.25,
          8.25,
          8.25,
          8.25,
          8.25
         ],
         "xaxis": "x3",
         "y": [
          8
         ],
         "yaxis": "y3"
        },
        {
         "hoverinfo": "skip",
         "line": {
          "width": 1.5
         },
         "marker": {
          "color": "black",
          "symbol": "line-ns-open"
         },
         "mode": "lines",
         "showlegend": false,
         "type": "scatter",
         "x": [
          8,
          8,
          8,
          8,
          8,
          8,
          8,
          8,
          8,
          8
         ],
         "xaxis": "x3",
         "y": [
          7.25,
          7.194444444444445,
          7.138888888888889,
          7.083333333333333,
          7.027777777777778,
          6.972222222222222,
          6.916666666666667,
          6.861111111111111,
          6.805555555555555,
          6.75
         ],
         "yaxis": "y3"
        },
        {
         "hoverinfo": "skip",
         "marker": {
          "color": "black",
          "size": 5,
          "symbol": "asterisk-open"
         },
         "mode": "markers",
         "showlegend": false,
         "type": "scatter",
         "x": [
          8.25,
          8.25,
          8.25,
          8.25,
          8.25,
          8.25,
          8.25,
          8.25,
          8.25,
          8.25
         ],
         "xaxis": "x3",
         "y": [
          7
         ],
         "yaxis": "y3"
        },
        {
         "hoverinfo": "skip",
         "line": {
          "width": 1.5
         },
         "marker": {
          "color": "black",
          "symbol": "line-ns-open"
         },
         "mode": "lines",
         "showlegend": false,
         "type": "scatter",
         "x": [
          8,
          8,
          8,
          8,
          8,
          8,
          8,
          8,
          8,
          8
         ],
         "xaxis": "x3",
         "y": [
          6.25,
          6.194444444444445,
          6.138888888888889,
          6.083333333333333,
          6.027777777777778,
          5.972222222222222,
          5.916666666666667,
          5.861111111111111,
          5.805555555555555,
          5.75
         ],
         "yaxis": "y3"
        },
        {
         "hoverinfo": "skip",
         "marker": {
          "color": "black",
          "size": 5,
          "symbol": "asterisk-open"
         },
         "mode": "markers",
         "showlegend": false,
         "type": "scatter",
         "x": [
          8.25,
          8.25,
          8.25,
          8.25,
          8.25,
          8.25,
          8.25,
          8.25,
          8.25,
          8.25
         ],
         "xaxis": "x3",
         "y": [
          6
         ],
         "yaxis": "y3"
        },
        {
         "hoverinfo": "skip",
         "line": {
          "width": 1.5
         },
         "marker": {
          "color": "black",
          "symbol": "line-ns-open"
         },
         "mode": "lines",
         "showlegend": false,
         "type": "scatter",
         "x": [
          8,
          8,
          8,
          8,
          8,
          8,
          8,
          8,
          8,
          8
         ],
         "xaxis": "x3",
         "y": [
          4.25,
          4.194444444444445,
          4.138888888888889,
          4.083333333333333,
          4.027777777777778,
          3.9722222222222223,
          3.9166666666666665,
          3.861111111111111,
          3.8055555555555554,
          3.75
         ],
         "yaxis": "y3"
        },
        {
         "hoverinfo": "skip",
         "marker": {
          "color": "black",
          "size": 5,
          "symbol": "asterisk-open"
         },
         "mode": "markers",
         "showlegend": false,
         "type": "scatter",
         "x": [
          8.25,
          8.25,
          8.25,
          8.25,
          8.25,
          8.25,
          8.25,
          8.25,
          8.25,
          8.25
         ],
         "xaxis": "x3",
         "y": [
          4
         ],
         "yaxis": "y3"
        }
       ],
       "layout": {
        "annotations": [
         {
          "font": {
           "size": 16
          },
          "showarrow": false,
          "text": "<b>Gaze center</b><br>(group)",
          "x": 0.0875,
          "xanchor": "center",
          "xref": "paper",
          "y": 1,
          "yanchor": "bottom",
          "yref": "paper"
         },
         {
          "font": {
           "size": 16
          },
          "showarrow": false,
          "text": "<b>Gaze right</b><br>(group)",
          "x": 0.36250000000000004,
          "xanchor": "center",
          "xref": "paper",
          "y": 1,
          "yanchor": "bottom",
          "yref": "paper"
         },
         {
          "font": {
           "size": 16
          },
          "showarrow": false,
          "text": "<b>Gaze left</b><br>(group)",
          "x": 0.6375000000000001,
          "xanchor": "center",
          "xref": "paper",
          "y": 1,
          "yanchor": "bottom",
          "yref": "paper"
         }
        ],
        "bargap": 0.3,
        "height": 850,
        "legend": {
         "bgcolor": "rgba(255,255,255,0)",
         "tracegroupgap": 1,
         "x": -0.05,
         "xanchor": "left",
         "y": -0.15,
         "yanchor": "top"
        },
        "margin": {
         "b": 100,
         "l": 100,
         "r": 50,
         "t": 50
        },
        "template": {
         "data": {
          "barpolar": [
           {
            "marker": {
             "line": {
              "color": "rgba(0, 0, 0, 1)",
              "width": 1.5
             }
            },
            "showlegend": false,
            "thetaunit": "radians",
            "type": "barpolar"
           }
          ],
          "pie": [
           {
            "direction": "clockwise",
            "hole": 0.4,
            "marker": {
             "line": {
              "color": [
               "rgba(0, 0, 0, 1)",
               "rgba(255,255,255,0)"
              ],
              "width": [
               1.5,
               0
              ]
             }
            },
            "rotation": 0,
            "showlegend": false,
            "sort": false,
            "textposition": [
             "inside",
             "none"
            ],
            "type": "pie"
           }
          ],
          "violin": [
           {
            "box": {
             "visible": false
            },
            "hoveron": "violins",
            "line": {
             "color": "rgba(0, 0, 0, 1)",
             "width": 1.5
            },
            "marker": {
             "opacity": 0.5,
             "symbol": "x"
            },
            "meanline": {
             "color": "rgba(0, 0, 0, 1)",
             "visible": true,
             "width": 1.5
            },
            "opacity": 1,
            "points": false,
            "showlegend": false,
            "type": "violin",
            "width": 0.8
           }
          ]
         },
         "layout": {
          "annotationdefaults": {
           "font": {
            "color": "rgba(0, 0, 0, 1)",
            "family": "Arial",
            "size": 15
           }
          },
          "font": {
           "family": "Arial",
           "size": 13
          },
          "plot_bgcolor": "rgba(255, 255, 255, 1)",
          "polar": {
           "angularaxis": {
            "showticklabels": false,
            "ticks": "",
            "visible": false
           },
           "radialaxis": {
            "showticklabels": false,
            "ticks": "",
            "visible": false
           }
          },
          "xaxis": {
           "color": "rgba(0, 0, 0, 1)",
           "hoverformat": ".1f",
           "linewidth": 2,
           "range": [
            0,
            1
           ],
           "showgrid": false,
           "tickfont": {
            "family": "Arial",
            "size": 13
           },
           "ticklen": 8,
           "ticks": "outside",
           "tickwidth": 2,
           "title": {
            "font": {
             "family": "Arial",
             "size": 15
            }
           },
           "visible": true,
           "zeroline": false,
           "zerolinecolor": "rgba(0, 0, 0, 1)",
           "zerolinewidth": 2
          },
          "yaxis": {
           "color": "rgba(0, 0, 0, 1)",
           "hoverformat": ".1f",
           "linewidth": 2,
           "showgrid": false,
           "tickfont": {
            "family": "Arial",
            "size": 13
           },
           "ticklen": 8,
           "ticks": "outside",
           "tickwidth": 2,
           "title": {
            "font": {
             "family": "Arial",
             "size": 15
            }
           },
           "visible": true,
           "zeroline": false,
           "zerolinecolor": "rgba(0, 0, 0, 1)",
           "zerolinewidth": 2
          }
         }
        },
        "width": 1350,
        "xaxis": {
         "anchor": "y",
         "domain": [
          0,
          0.175
         ],
         "linewidth": 2,
         "range": [
          0,
          10
         ],
         "ticklen": 8,
         "ticktext": [
          "0",
          "2",
          "4",
          "6",
          "8",
          "10"
         ],
         "tickvals": [
          0,
          2,
          4,
          6,
          8,
          10
         ],
         "title": {
          "text": "Decoded uncertainty (dva)"
         },
         "type": "linear",
         "visible": true,
         "zeroline": true
        },
        "xaxis2": {
         "anchor": "y2",
         "domain": [
          0.275,
          0.45
         ],
         "linewidth": 2,
         "range": [
          0,
          10
         ],
         "ticklen": 8,
         "ticktext": [
          "0",
          "2",
          "4",
          "6",
          "8",
          "10"
         ],
         "tickvals": [
          0,
          2,
          4,
          6,
          8,
          10
         ],
         "title": {
          "text": "Decoded uncertainty (dva)"
         },
         "type": "linear",
         "visible": true,
         "zeroline": true
        },
        "xaxis3": {
         "anchor": "y3",
         "domain": [
          0.55,
          0.7250000000000001
         ],
         "linewidth": 2,
         "range": [
          0,
          10
         ],
         "ticklen": 8,
         "ticktext": [
          "0",
          "2",
          "4",
          "6",
          "8",
          "10"
         ],
         "tickvals": [
          0,
          2,
          4,
          6,
          8,
          10
         ],
         "title": {
          "text": "Decoded uncertainty (dva)"
         },
         "type": "linear",
         "visible": true,
         "zeroline": true
        },
        "xaxis4": {
         "anchor": "y4",
         "domain": [
          0.825,
          1
         ],
         "linewidth": 2,
         "range": [
          0,
          10
         ],
         "ticklen": 8,
         "ticktext": [
          "0",
          "2",
          "4",
          "6",
          "8",
          "10"
         ],
         "tickvals": [
          0,
          2,
          4,
          6,
          8,
          10
         ],
         "title": {
          "text": "Decoded uncertainty (dva)"
         },
         "visible": true,
         "zeroline": true
        },
        "yaxis": {
         "anchor": "x",
         "color": "rgba(0, 0, 0, 0)",
         "domain": [
          0,
          1
         ],
         "range": [
          0.3,
          12.7
         ],
         "tickfont": {
          "color": "black"
         },
         "ticktext": [
          "V1",
          "V2",
          "V3",
          "V3AB",
          "hMT+",
          "LO",
          "VO",
          "iIPS",
          "sIPS",
          "iPCS",
          "sPCS",
          "mPCS"
         ],
         "tickvals": [
          12,
          11,
          10,
          9,
          8,
          7,
          6,
          5,
          4,
          3,
          2,
          1
         ],
         "title": {
          "text": ""
         },
         "type": "linear"
        },
        "yaxis2": {
         "anchor": "x2",
         "domain": [
          0,
          1
         ],
         "range": [
          0.3,
          12.7
         ],
         "ticktext": [
          "V1",
          "V2",
          "V3",
          "V3AB",
          "hMT+",
          "LO",
          "VO",
          "iIPS",
          "sIPS",
          "iPCS",
          "sPCS",
          "mPCS"
         ],
         "tickvals": [
          12,
          11,
          10,
          9,
          8,
          7,
          6,
          5,
          4,
          3,
          2,
          1
         ],
         "type": "linear"
        },
        "yaxis3": {
         "anchor": "x3",
         "domain": [
          0,
          1
         ],
         "range": [
          0.3,
          12.7
         ],
         "ticktext": [
          "V1",
          "V2",
          "V3",
          "V3AB",
          "hMT+",
          "LO",
          "VO",
          "iIPS",
          "sIPS",
          "iPCS",
          "sPCS",
          "mPCS"
         ],
         "tickvals": [
          12,
          11,
          10,
          9,
          8,
          7,
          6,
          5,
          4,
          3,
          2,
          1
         ],
         "type": "linear"
        },
        "yaxis4": {
         "anchor": "x4",
         "domain": [
          0,
          1
         ],
         "range": [
          0.3,
          12.7
         ],
         "ticktext": [
          "V1",
          "V2",
          "V3",
          "V3AB",
          "hMT+",
          "LO",
          "VO",
          "iIPS",
          "sIPS",
          "iPCS",
          "sPCS",
          "mPCS"
         ],
         "tickvals": [
          12,
          11,
          10,
          9,
          8,
          7,
          6,
          5,
          4,
          3,
          2,
          1
         ]
        }
       }
      },
      "image/png": "[encoded data removed]",
      "text/html": [
       "<div>                            <div id=\"4e2ac51f-5916-4049-83d3-4d7785909751\" class=\"plotly-graph-div\" style=\"height:850px; width:1350px;\"></div>            <script type=\"text/javascript\">                require([\"plotly\"], function(Plotly) {                    window.PLOTLYENV=window.PLOTLYENV || {};                                    if (document.getElementById(\"4e2ac51f-5916-4049-83d3-4d7785909751\")) {                    Plotly.newPlot(                        \"4e2ac51f-5916-4049-83d3-4d7785909751\",                        [{\"error_x\":{\"array\":[0.27617656483083525,0.21538067322142418,0.11963334315127433,0.08671118405325089,0.11443676134025801,0.1293095900943203,0.21209279019187724,0.03481424421222945,0.036270320416824216,0.06234310321516982,0.049465459913163805,0.11000059074369041],\"arrayminus\":[0.27617656483083525,0.21538067322142418,0.11963334315127433,0.08671118405325089,0.11443676134025801,0.1293095900943203,0.21209279019187724,0.03481424421222945,0.036270320416824216,0.06234310321516982,0.049465459913163805,0.11000059074369041],\"symmetric\":false,\"type\":\"data\"},\"hovertemplate\":\"ROI: %{y}<br>Decoded uncertainty: %{x:1.2f}\",\"legendgroup\":\"attend-fix\",\"marker\":{\"color\":\"rgba(242, 190, 121, 1)\"},\"name\":\"<i>attend-fix<i>\",\"orientation\":\"h\",\"showlegend\":false,\"x\":[2.908740610348265,2.8517288424145226,3.0873996340236314,4.721892964461428,5.263717108081696,5.054937053082689,4.600180660670393,5.288839816632076,5.380516263721525,5.339303974470401,5.372726143456421,5.233614322905591],\"y\":[12,11,10,9,8,7,6,5,4,3,2,1],\"type\":\"bar\",\"xaxis\":\"x\",\"yaxis\":\"y\"},{\"error_x\":{\"array\":[0.3410525890872121,0.22531960115823246,0.3088158387582208,0.3462134140183331,0.1670002689643866,0.20091672364894997,0.2484594004502242,0.13473050270341982,0.09037103899526072,0.08987857966214106,0.0313700183991179,0.05145866902572921],\"arrayminus\":[0.3410525890872121,0.22531960115823246,0.3088158387582208,0.3462134140183331,0.1670002689643866,0.20091672364894997,0.2484594004502242,0.13473050270341982,0.09037103899526072,0.08987857966214106,0.0313700183991179,0.05145866902572921],\"symmetric\":false,\"type\":\"data\"},\"hovertemplate\":\"ROI: %{y}<br>Decoded uncertainty: %{x:1.2f}\",\"legendgroup\":\"attend-bar\",\"marker\":{\"color\":\"rgba(243, 146, 0, 1)\"},\"name\":\"<i>attend-bar<i>\",\"orientation\":\"h\",\"showlegend\":false,\"x\":[2.7130953471057015,2.2867576614336773,2.6023285971627557,3.659512488538157,5.058725786192486,4.4687740822535025,4.054838863887953,4.930847087350936,5.234996200366456,5.265163034833707,5.298948402820018,5.348062695271806],\"y\":[12,11,10,9,8,7,6,5,4,3,2,1],\"type\":\"bar\",\"xaxis\":\"x\",\"yaxis\":\"y\"},{\"hoverinfo\":\"skip\",\"line\":{\"width\":1.5},\"marker\":{\"color\":\"black\",\"symbol\":\"line-ns-open\"},\"mode\":\"lines\",\"showlegend\":false,\"x\":[8.0,8.0,8.0,8.0,8.0,8.0,8.0,8.0,8.0,8.0],\"y\":[11.25,11.194444444444445,11.13888888888889,11.083333333333334,11.027777777777779,10.972222222222221,10.916666666666666,10.86111111111111,10.805555555555555,10.75],\"type\":\"scatter\",\"xaxis\":\"x\",\"yaxis\":\"y\"},{\"hoverinfo\":\"skip\",\"marker\":{\"color\":\"black\",\"size\":5,\"symbol\":\"asterisk-open\"},\"mode\":\"markers\",\"showlegend\":false,\"x\":[8.25,8.25,8.25,8.25,8.25,8.25,8.25,8.25,8.25,8.25],\"y\":[11.0],\"type\":\"scatter\",\"xaxis\":\"x\",\"yaxis\":\"y\"},{\"hoverinfo\":\"skip\",\"line\":{\"width\":1.5},\"marker\":{\"color\":\"black\",\"symbol\":\"line-ns-open\"},\"mode\":\"lines\",\"showlegend\":false,\"x\":[8.0,8.0,8.0,8.0,8.0,8.0,8.0,8.0,8.0,8.0],\"y\":[9.25,9.194444444444445,9.13888888888889,9.083333333333334,9.027777777777779,8.972222222222221,8.916666666666666,8.86111111111111,8.805555555555555,8.75],\"type\":\"scatter\",\"xaxis\":\"x\",\"yaxis\":\"y\"},{\"hoverinfo\":\"skip\",\"marker\":{\"color\":\"black\",\"size\":5,\"symbol\":\"asterisk-open\"},\"mode\":\"markers\",\"showlegend\":false,\"x\":[8.25,8.25,8.25,8.25,8.25,8.25,8.25,8.25,8.25,8.25],\"y\":[9.0],\"type\":\"scatter\",\"xaxis\":\"x\",\"yaxis\":\"y\"},{\"hoverinfo\":\"skip\",\"line\":{\"width\":1.5},\"marker\":{\"color\":\"black\",\"symbol\":\"line-ns-open\"},\"mode\":\"lines\",\"showlegend\":false,\"x\":[8.0,8.0,8.0,8.0,8.0,8.0,8.0,8.0,8.0,8.0],\"y\":[8.25,8.194444444444445,8.13888888888889,8.083333333333334,8.027777777777779,7.972222222222222,7.916666666666667,7.861111111111111,7.805555555555555,7.75],\"type\":\"scatter\",\"xaxis\":\"x\",\"yaxis\":\"y\"},{\"hoverinfo\":\"skip\",\"marker\":{\"color\":\"black\",\"size\":5,\"symbol\":\"asterisk-open\"},\"mode\":\"markers\",\"showlegend\":false,\"x\":[8.25,8.25,8.25,8.25,8.25,8.25,8.25,8.25,8.25,8.25],\"y\":[8.0],\"type\":\"scatter\",\"xaxis\":\"x\",\"yaxis\":\"y\"},{\"hoverinfo\":\"skip\",\"line\":{\"width\":1.5},\"marker\":{\"color\":\"black\",\"symbol\":\"line-ns-open\"},\"mode\":\"lines\",\"showlegend\":false,\"x\":[8.0,8.0,8.0,8.0,8.0,8.0,8.0,8.0,8.0,8.0],\"y\":[7.25,7.194444444444445,7.138888888888889,7.083333333333333,7.027777777777778,6.972222222222222,6.916666666666667,6.861111111111111,6.805555555555555,6.75],\"type\":\"scatter\",\"xaxis\":\"x\",\"yaxis\":\"y\"},{\"hoverinfo\":\"skip\",\"marker\":{\"color\":\"black\",\"size\":5,\"symbol\":\"asterisk-open\"},\"mode\":\"markers\",\"showlegend\":false,\"x\":[8.25,8.25,8.25,8.25,8.25,8.25,8.25,8.25,8.25,8.25],\"y\":[7.0],\"type\":\"scatter\",\"xaxis\":\"x\",\"yaxis\":\"y\"},{\"hoverinfo\":\"skip\",\"line\":{\"width\":1.5},\"marker\":{\"color\":\"black\",\"symbol\":\"line-ns-open\"},\"mode\":\"lines\",\"showlegend\":false,\"x\":[8.0,8.0,8.0,8.0,8.0,8.0,8.0,8.0,8.0,8.0],\"y\":[6.25,6.194444444444445,6.138888888888889,6.083333333333333,6.027777777777778,5.972222222222222,5.916666666666667,5.861111111111111,5.805555555555555,5.75],\"type\":\"scatter\",\"xaxis\":\"x\",\"yaxis\":\"y\"},{\"hoverinfo\":\"skip\",\"marker\":{\"color\":\"black\",\"size\":5,\"symbol\":\"asterisk-open\"},\"mode\":\"markers\",\"showlegend\":false,\"x\":[8.25,8.25,8.25,8.25,8.25,8.25,8.25,8.25,8.25,8.25],\"y\":[6.0],\"type\":\"scatter\",\"xaxis\":\"x\",\"yaxis\":\"y\"},{\"hoverinfo\":\"skip\",\"line\":{\"width\":1.5},\"marker\":{\"color\":\"black\",\"symbol\":\"line-ns-open\"},\"mode\":\"lines\",\"showlegend\":false,\"x\":[8.0,8.0,8.0,8.0,8.0,8.0,8.0,8.0,8.0,8.0],\"y\":[5.25,5.194444444444445,5.138888888888889,5.083333333333333,5.027777777777778,4.972222222222222,4.916666666666667,4.861111111111111,4.805555555555555,4.75],\"type\":\"scatter\",\"xaxis\":\"x\",\"yaxis\":\"y\"},{\"hoverinfo\":\"skip\",\"marker\":{\"color\":\"black\",\"size\":5,\"symbol\":\"asterisk-open\"},\"mode\":\"markers\",\"showlegend\":false,\"x\":[8.25,8.25,8.25,8.25,8.25,8.25,8.25,8.25,8.25,8.25],\"y\":[5.0],\"type\":\"scatter\",\"xaxis\":\"x\",\"yaxis\":\"y\"},{\"hoverinfo\":\"skip\",\"line\":{\"width\":1.5},\"marker\":{\"color\":\"black\",\"symbol\":\"line-ns-open\"},\"mode\":\"lines\",\"showlegend\":false,\"x\":[8.0,8.0,8.0,8.0,8.0,8.0,8.0,8.0,8.0,8.0],\"y\":[1.25,1.1944444444444444,1.1388888888888888,1.0833333333333333,1.0277777777777777,0.9722222222222222,0.9166666666666667,0.8611111111111112,0.8055555555555556,0.75],\"type\":\"scatter\",\"xaxis\":\"x\",\"yaxis\":\"y\"},{\"hoverinfo\":\"skip\",\"marker\":{\"color\":\"black\",\"size\":5,\"symbol\":\"asterisk-open\"},\"mode\":\"markers\",\"showlegend\":false,\"x\":[8.25,8.25,8.25,8.25,8.25,8.25,8.25,8.25,8.25,8.25],\"y\":[1.0],\"type\":\"scatter\",\"xaxis\":\"x\",\"yaxis\":\"y\"},{\"error_x\":{\"array\":[0.2766294574125057,0.20886292124000652,0.13835149246927675,0.10379601537403249,0.11419949110285808,0.14297939012843525,0.1944552268798407,0.07050632744357455,0.04208878465479889,0.07959108263739922,0.04538796962950391,0.09906335201297588],\"arrayminus\":[0.2766294574125057,0.20886292124000652,0.13835149246927675,0.10379601537403249,0.11419949110285808,0.14297939012843525,0.1944552268798407,0.07050632744357455,0.04208878465479889,0.07959108263739922,0.04538796962950391,0.09906335201297588],\"symmetric\":false,\"type\":\"data\"},\"hovertemplate\":\"ROI: %{y}<br>Decoded uncertainty: %{x:1.2f}\",\"legendgroup\":\"attend-fix\",\"marker\":{\"color\":\"rgba(153, 198, 98, 1)\"},\"name\":\"<i>attend-fix<i>\",\"orientation\":\"h\",\"showlegend\":false,\"x\":[2.949524129170039,2.679170243985488,3.0625990149779962,4.657331411515451,5.260126569080123,4.978624640449593,4.571404168203433,5.188018397125557,5.337388228942679,5.307053872650214,5.338680912612612,5.2430428359204955],\"y\":[12,11,10,9,8,7,6,5,4,3,2,1],\"type\":\"bar\",\"xaxis\":\"x2\",\"yaxis\":\"y2\"},{\"error_x\":{\"array\":[0.3255374150947129,0.2319036689201075,0.28567204773884614,0.3699536503488924,0.1779299419856133,0.21422045602713644,0.25222775351198634,0.12691650739735685,0.09634262361987898,0.08983910825494339,0.05711315967187996,0.05982978831334668],\"arrayminus\":[0.3255374150947129,0.2319036689201075,0.28567204773884614,0.3699536503488924,0.1779299419856133,0.21422045602713644,0.25222775351198634,0.12691650739735685,0.09634262361987898,0.08983910825494339,0.05711315967187996,0.05982978831334668],\"symmetric\":false,\"type\":\"data\"},\"hovertemplate\":\"ROI: %{y}<br>Decoded uncertainty: %{x:1.2f}\",\"legendgroup\":\"attend-bar\",\"marker\":{\"color\":\"rgba(41, 101, 44, 1)\"},\"name\":\"<i>attend-bar<i>\",\"orientation\":\"h\",\"showlegend\":false,\"x\":[2.726400408685089,2.4062327466738243,2.588547621363724,3.60901399302337,5.07546614575149,4.466687568770271,4.050194254017352,4.974227249358211,5.207096162739148,5.260430637144564,5.267199487725572,5.337209452656584],\"y\":[12,11,10,9,8,7,6,5,4,3,2,1],\"type\":\"bar\",\"xaxis\":\"x2\",\"yaxis\":\"y2\"},{\"hoverinfo\":\"skip\",\"line\":{\"width\":1.5},\"marker\":{\"color\":\"black\",\"symbol\":\"line-ns-open\"},\"mode\":\"lines\",\"showlegend\":false,\"x\":[8.0,8.0,8.0,8.0,8.0,8.0,8.0,8.0,8.0,8.0],\"y\":[9.25,9.194444444444445,9.13888888888889,9.083333333333334,9.027777777777779,8.972222222222221,8.916666666666666,8.86111111111111,8.805555555555555,8.75],\"type\":\"scatter\",\"xaxis\":\"x2\",\"yaxis\":\"y2\"},{\"hoverinfo\":\"skip\",\"marker\":{\"color\":\"black\",\"size\":5,\"symbol\":\"asterisk-open\"},\"mode\":\"markers\",\"showlegend\":false,\"x\":[8.25,8.25,8.25,8.25,8.25,8.25,8.25,8.25,8.25,8.25],\"y\":[9.0],\"type\":\"scatter\",\"xaxis\":\"x2\",\"yaxis\":\"y2\"},{\"hoverinfo\":\"skip\",\"line\":{\"width\":1.5},\"marker\":{\"color\":\"black\",\"symbol\":\"line-ns-open\"},\"mode\":\"lines\",\"showlegend\":false,\"x\":[8.0,8.0,8.0,8.0,8.0,8.0,8.0,8.0,8.0,8.0],\"y\":[8.25,8.194444444444445,8.13888888888889,8.083333333333334,8.027777777777779,7.972222222222222,7.916666666666667,7.861111111111111,7.805555555555555,7.75],\"type\":\"scatter\",\"xaxis\":\"x2\",\"yaxis\":\"y2\"},{\"hoverinfo\":\"skip\",\"marker\":{\"color\":\"black\",\"size\":5,\"symbol\":\"asterisk-open\"},\"mode\":\"markers\",\"showlegend\":false,\"x\":[8.25,8.25,8.25,8.25,8.25,8.25,8.25,8.25,8.25,8.25],\"y\":[8.0],\"type\":\"scatter\",\"xaxis\":\"x2\",\"yaxis\":\"y2\"},{\"hoverinfo\":\"skip\",\"line\":{\"width\":1.5},\"marker\":{\"color\":\"black\",\"symbol\":\"line-ns-open\"},\"mode\":\"lines\",\"showlegend\":false,\"x\":[8.0,8.0,8.0,8.0,8.0,8.0,8.0,8.0,8.0,8.0],\"y\":[7.25,7.194444444444445,7.138888888888889,7.083333333333333,7.027777777777778,6.972222222222222,6.916666666666667,6.861111111111111,6.805555555555555,6.75],\"type\":\"scatter\",\"xaxis\":\"x2\",\"yaxis\":\"y2\"},{\"hoverinfo\":\"skip\",\"marker\":{\"color\":\"black\",\"size\":5,\"symbol\":\"asterisk-open\"},\"mode\":\"markers\",\"showlegend\":false,\"x\":[8.25,8.25,8.25,8.25,8.25,8.25,8.25,8.25,8.25,8.25],\"y\":[7.0],\"type\":\"scatter\",\"xaxis\":\"x2\",\"yaxis\":\"y2\"},{\"hoverinfo\":\"skip\",\"line\":{\"width\":1.5},\"marker\":{\"color\":\"black\",\"symbol\":\"line-ns-open\"},\"mode\":\"lines\",\"showlegend\":false,\"x\":[8.0,8.0,8.0,8.0,8.0,8.0,8.0,8.0,8.0,8.0],\"y\":[6.25,6.194444444444445,6.138888888888889,6.083333333333333,6.027777777777778,5.972222222222222,5.916666666666667,5.861111111111111,5.805555555555555,5.75],\"type\":\"scatter\",\"xaxis\":\"x2\",\"yaxis\":\"y2\"},{\"hoverinfo\":\"skip\",\"marker\":{\"color\":\"black\",\"size\":5,\"symbol\":\"asterisk-open\"},\"mode\":\"markers\",\"showlegend\":false,\"x\":[8.25,8.25,8.25,8.25,8.25,8.25,8.25,8.25,8.25,8.25],\"y\":[6.0],\"type\":\"scatter\",\"xaxis\":\"x2\",\"yaxis\":\"y2\"},{\"hoverinfo\":\"skip\",\"line\":{\"width\":1.5},\"marker\":{\"color\":\"black\",\"symbol\":\"line-ns-open\"},\"mode\":\"lines\",\"showlegend\":false,\"x\":[8.0,8.0,8.0,8.0,8.0,8.0,8.0,8.0,8.0,8.0],\"y\":[1.25,1.1944444444444444,1.1388888888888888,1.0833333333333333,1.0277777777777777,0.9722222222222222,0.9166666666666667,0.8611111111111112,0.8055555555555556,0.75],\"type\":\"scatter\",\"xaxis\":\"x2\",\"yaxis\":\"y2\"},{\"hoverinfo\":\"skip\",\"marker\":{\"color\":\"black\",\"size\":5,\"symbol\":\"asterisk-open\"},\"mode\":\"markers\",\"showlegend\":false,\"x\":[8.25,8.25,8.25,8.25,8.25,8.25,8.25,8.25,8.25,8.25],\"y\":[1.0],\"type\":\"scatter\",\"xaxis\":\"x2\",\"yaxis\":\"y2\"},{\"error_x\":{\"array\":[0.21660051975841754,0.12395979701063074,0.1562664979051665,0.09785411892679606,0.09315656451750874,0.13320037827133074,0.20790841902481128,0.04035777085672473,0.032671118006245524,0.0961777746692812,0.05112971553651051,0.0989576810308978],\"arrayminus\":[0.21660051975841754,0.12395979701063074,0.1562664979051665,0.09785411892679606,0.09315656451750874,0.13320037827133074,0.20790841902481128,0.04035777085672473,0.032671118006245524,0.0961777746692812,0.05112971553651051,0.0989576810308978],\"symmetric\":false,\"type\":\"data\"},\"hovertemplate\":\"ROI: %{y}<br>Decoded uncertainty: %{x:1.2f}\",\"legendgroup\":\"attend-fix\",\"marker\":{\"color\":\"rgba(230, 151, 193, 1)\"},\"name\":\"<i>attend-fix<i>\",\"orientation\":\"h\",\"showlegend\":false,\"x\":[2.8792381481048253,2.732629015581118,3.0476148126850373,4.662890174174592,5.28231460950936,4.981864911482434,4.587043222873555,5.204961648637671,5.355038413579919,5.291082511063614,5.342660506056346,5.2705703214576936],\"y\":[12,11,10,9,8,7,6,5,4,3,2,1],\"type\":\"bar\",\"xaxis\":\"x3\",\"yaxis\":\"y3\"},{\"error_x\":{\"array\":[0.322030914102919,0.20419718610272072,0.26627834483072216,0.35521035029534836,0.17635924420877044,0.23949828476029802,0.26569206337711154,0.10050046432610386,0.08952727018508533,0.108814396133095,0.06281490270254629,0.05139555914358516],\"arrayminus\":[0.322030914102919,0.20419718610272072,0.26627834483072216,0.35521035029534836,0.17635924420877044,0.23949828476029802,0.26569206337711154,0.10050046432610386,0.08952727018508533,0.108814396133095,0.06281490270254629,0.05139555914358516],\"symmetric\":false,\"type\":\"data\"},\"hovertemplate\":\"ROI: %{y}<br>Decoded uncertainty: %{x:1.2f}\",\"legendgroup\":\"attend-bar\",\"marker\":{\"color\":\"rgba(142, 19, 84, 1)\"},\"name\":\"<i>attend-bar<i>\",\"orientation\":\"h\",\"showlegend\":false,\"x\":[2.7826500494284803,2.2553345763489596,2.621640043116638,3.639660905034517,5.088566618374025,4.4411177740642795,3.9763261841891713,4.963646668436922,5.2126231097920925,5.242321513478915,5.270166207550872,5.308945428298228],\"y\":[12,11,10,9,8,7,6,5,4,3,2,1],\"type\":\"bar\",\"xaxis\":\"x3\",\"yaxis\":\"y3\"},{\"hoverinfo\":\"skip\",\"line\":{\"width\":1.5},\"marker\":{\"color\":\"black\",\"symbol\":\"line-ns-open\"},\"mode\":\"lines\",\"showlegend\":false,\"x\":[8.0,8.0,8.0,8.0,8.0,8.0,8.0,8.0,8.0,8.0],\"y\":[9.25,9.194444444444445,9.13888888888889,9.083333333333334,9.027777777777779,8.972222222222221,8.916666666666666,8.86111111111111,8.805555555555555,8.75],\"type\":\"scatter\",\"xaxis\":\"x3\",\"yaxis\":\"y3\"},{\"hoverinfo\":\"skip\",\"marker\":{\"color\":\"black\",\"size\":5,\"symbol\":\"asterisk-open\"},\"mode\":\"markers\",\"showlegend\":false,\"x\":[8.25,8.25,8.25,8.25,8.25,8.25,8.25,8.25,8.25,8.25],\"y\":[9.0],\"type\":\"scatter\",\"xaxis\":\"x3\",\"yaxis\":\"y3\"},{\"hoverinfo\":\"skip\",\"line\":{\"width\":1.5},\"marker\":{\"color\":\"black\",\"symbol\":\"line-ns-open\"},\"mode\":\"lines\",\"showlegend\":false,\"x\":[8.0,8.0,8.0,8.0,8.0,8.0,8.0,8.0,8.0,8.0],\"y\":[8.25,8.194444444444445,8.13888888888889,8.083333333333334,8.027777777777779,7.972222222222222,7.916666666666667,7.861111111111111,7.805555555555555,7.75],\"type\":\"scatter\",\"xaxis\":\"x3\",\"yaxis\":\"y3\"},{\"hoverinfo\":\"skip\",\"marker\":{\"color\":\"black\",\"size\":5,\"symbol\":\"asterisk-open\"},\"mode\":\"markers\",\"showlegend\":false,\"x\":[8.25,8.25,8.25,8.25,8.25,8.25,8.25,8.25,8.25,8.25],\"y\":[8.0],\"type\":\"scatter\",\"xaxis\":\"x3\",\"yaxis\":\"y3\"},{\"hoverinfo\":\"skip\",\"line\":{\"width\":1.5},\"marker\":{\"color\":\"black\",\"symbol\":\"line-ns-open\"},\"mode\":\"lines\",\"showlegend\":false,\"x\":[8.0,8.0,8.0,8.0,8.0,8.0,8.0,8.0,8.0,8.0],\"y\":[7.25,7.194444444444445,7.138888888888889,7.083333333333333,7.027777777777778,6.972222222222222,6.916666666666667,6.861111111111111,6.805555555555555,6.75],\"type\":\"scatter\",\"xaxis\":\"x3\",\"yaxis\":\"y3\"},{\"hoverinfo\":\"skip\",\"marker\":{\"color\":\"black\",\"size\":5,\"symbol\":\"asterisk-open\"},\"mode\":\"markers\",\"showlegend\":false,\"x\":[8.25,8.25,8.25,8.25,8.25,8.25,8.25,8.25,8.25,8.25],\"y\":[7.0],\"type\":\"scatter\",\"xaxis\":\"x3\",\"yaxis\":\"y3\"},{\"hoverinfo\":\"skip\",\"line\":{\"width\":1.5},\"marker\":{\"color\":\"black\",\"symbol\":\"line-ns-open\"},\"mode\":\"lines\",\"showlegend\":false,\"x\":[8.0,8.0,8.0,8.0,8.0,8.0,8.0,8.0,8.0,8.0],\"y\":[6.25,6.194444444444445,6.138888888888889,6.083333333333333,6.027777777777778,5.972222222222222,5.916666666666667,5.861111111111111,5.805555555555555,5.75],\"type\":\"scatter\",\"xaxis\":\"x3\",\"yaxis\":\"y3\"},{\"hoverinfo\":\"skip\",\"marker\":{\"color\":\"black\",\"size\":5,\"symbol\":\"asterisk-open\"},\"mode\":\"markers\",\"showlegend\":false,\"x\":[8.25,8.25,8.25,8.25,8.25,8.25,8.25,8.25,8.25,8.25],\"y\":[6.0],\"type\":\"scatter\",\"xaxis\":\"x3\",\"yaxis\":\"y3\"},{\"hoverinfo\":\"skip\",\"line\":{\"width\":1.5},\"marker\":{\"color\":\"black\",\"symbol\":\"line-ns-open\"},\"mode\":\"lines\",\"showlegend\":false,\"x\":[8.0,8.0,8.0,8.0,8.0,8.0,8.0,8.0,8.0,8.0],\"y\":[4.25,4.194444444444445,4.138888888888889,4.083333333333333,4.027777777777778,3.9722222222222223,3.9166666666666665,3.861111111111111,3.8055555555555554,3.75],\"type\":\"scatter\",\"xaxis\":\"x3\",\"yaxis\":\"y3\"},{\"hoverinfo\":\"skip\",\"marker\":{\"color\":\"black\",\"size\":5,\"symbol\":\"asterisk-open\"},\"mode\":\"markers\",\"showlegend\":false,\"x\":[8.25,8.25,8.25,8.25,8.25,8.25,8.25,8.25,8.25,8.25],\"y\":[4.0],\"type\":\"scatter\",\"xaxis\":\"x3\",\"yaxis\":\"y3\"}],                        {\"template\":{\"data\":{\"barpolar\":[{\"marker\":{\"line\":{\"color\":\"rgba(0,0,0,1)\",\"width\":1.5}},\"showlegend\":false,\"thetaunit\":\"radians\",\"type\":\"barpolar\"}],\"pie\":[{\"direction\":\"clockwise\",\"hole\":0.4,\"marker\":{\"line\":{\"color\":[\"rgba(0,0,0,1)\",\"rgba(255,255,255,0)\"],\"width\":[1.5,0]}},\"rotation\":0,\"showlegend\":false,\"sort\":false,\"textposition\":[\"inside\",\"none\"],\"type\":\"pie\"}],\"violin\":[{\"box\":{\"visible\":false},\"hoveron\":\"violins\",\"line\":{\"color\":\"rgba(0, 0, 0, 1)\",\"width\":1.5},\"marker\":{\"opacity\":0.5,\"symbol\":\"x\"},\"meanline\":{\"color\":\"rgba(0, 0, 0, 1)\",\"visible\":true,\"width\":1.5},\"opacity\":1,\"points\":false,\"showlegend\":false,\"width\":0.8,\"type\":\"violin\"}]},\"layout\":{\"annotationdefaults\":{\"font\":{\"color\":\"rgba(0, 0, 0, 1)\",\"family\":\"Arial\",\"size\":15}},\"font\":{\"family\":\"Arial\",\"size\":13},\"plot_bgcolor\":\"rgba(255, 255, 255, 1)\",\"polar\":{\"angularaxis\":{\"showticklabels\":false,\"ticks\":\"\",\"visible\":false},\"radialaxis\":{\"showticklabels\":false,\"ticks\":\"\",\"visible\":false}},\"xaxis\":{\"color\":\"rgba(0, 0, 0, 1)\",\"hoverformat\":\".1f\",\"linewidth\":2,\"range\":[0,1],\"showgrid\":false,\"tickfont\":{\"family\":\"Arial\",\"size\":13},\"ticklen\":8,\"ticks\":\"outside\",\"tickwidth\":2,\"title\":{\"font\":{\"family\":\"Arial\",\"size\":15}},\"visible\":true,\"zeroline\":false,\"zerolinecolor\":\"rgba(0, 0, 0, 1)\",\"zerolinewidth\":2},\"yaxis\":{\"color\":\"rgba(0, 0, 0, 1)\",\"hoverformat\":\".1f\",\"linewidth\":2,\"showgrid\":false,\"tickfont\":{\"family\":\"Arial\",\"size\":13},\"ticklen\":8,\"ticks\":\"outside\",\"tickwidth\":2,\"title\":{\"font\":{\"family\":\"Arial\",\"size\":15}},\"visible\":true,\"zeroline\":false,\"zerolinecolor\":\"rgba(0, 0, 0, 1)\",\"zerolinewidth\":2}}},\"xaxis\":{\"anchor\":\"y\",\"domain\":[0.0,0.175],\"range\":[0,10],\"title\":{\"text\":\"Decoded uncertainty (dva)\"},\"tickvals\":[0.0,2.0,4.0,6.0,8.0,10.0],\"ticktext\":[\"0\",\"2\",\"4\",\"6\",\"8\",\"10\"],\"zeroline\":true,\"visible\":true,\"ticklen\":8,\"linewidth\":2},\"yaxis\":{\"anchor\":\"x\",\"domain\":[0.0,1.0],\"range\":[0.3,12.7],\"tickvals\":[12.0,11.0,10.0,9.0,8.0,7.0,6.0,5.0,4.0,3.0,2.0,1.0],\"ticktext\":[\"V1\",\"V2\",\"V3\",\"V3AB\",\"hMT+\",\"LO\",\"VO\",\"iIPS\",\"sIPS\",\"iPCS\",\"sPCS\",\"mPCS\"],\"tickfont\":{\"color\":\"black\"},\"title\":{\"text\":\"\"},\"color\":\"rgba(0,0,0,0)\"},\"xaxis2\":{\"anchor\":\"y2\",\"domain\":[0.275,0.45],\"range\":[0,10],\"title\":{\"text\":\"Decoded uncertainty (dva)\"},\"tickvals\":[0.0,2.0,4.0,6.0,8.0,10.0],\"ticktext\":[\"0\",\"2\",\"4\",\"6\",\"8\",\"10\"],\"zeroline\":true,\"visible\":true,\"ticklen\":8,\"linewidth\":2},\"yaxis2\":{\"anchor\":\"x2\",\"domain\":[0.0,1.0],\"range\":[0.3,12.7],\"tickvals\":[12.0,11.0,10.0,9.0,8.0,7.0,6.0,5.0,4.0,3.0,2.0,1.0],\"ticktext\":[\"V1\",\"V2\",\"V3\",\"V3AB\",\"hMT+\",\"LO\",\"VO\",\"iIPS\",\"sIPS\",\"iPCS\",\"sPCS\",\"mPCS\"]},\"xaxis3\":{\"anchor\":\"y3\",\"domain\":[0.55,0.7250000000000001],\"range\":[0,10],\"title\":{\"text\":\"Decoded uncertainty (dva)\"},\"tickvals\":[0.0,2.0,4.0,6.0,8.0,10.0],\"ticktext\":[\"0\",\"2\",\"4\",\"6\",\"8\",\"10\"],\"zeroline\":true,\"visible\":true,\"ticklen\":8,\"linewidth\":2},\"yaxis3\":{\"anchor\":\"x3\",\"domain\":[0.0,1.0],\"range\":[0.3,12.7],\"tickvals\":[12.0,11.0,10.0,9.0,8.0,7.0,6.0,5.0,4.0,3.0,2.0,1.0],\"ticktext\":[\"V1\",\"V2\",\"V3\",\"V3AB\",\"hMT+\",\"LO\",\"VO\",\"iIPS\",\"sIPS\",\"iPCS\",\"sPCS\",\"mPCS\"]},\"xaxis4\":{\"anchor\":\"y4\",\"domain\":[0.825,1.0],\"range\":[0,10],\"title\":{\"text\":\"Decoded uncertainty (dva)\"},\"tickvals\":[0.0,2.0,4.0,6.0,8.0,10.0],\"ticktext\":[\"0\",\"2\",\"4\",\"6\",\"8\",\"10\"],\"zeroline\":true,\"visible\":true,\"ticklen\":8,\"linewidth\":2},\"yaxis4\":{\"anchor\":\"x4\",\"domain\":[0.0,1.0],\"range\":[0.3,12.7],\"tickvals\":[12.0,11.0,10.0,9.0,8.0,7.0,6.0,5.0,4.0,3.0,2.0,1.0],\"ticktext\":[\"V1\",\"V2\",\"V3\",\"V3AB\",\"hMT+\",\"LO\",\"VO\",\"iIPS\",\"sIPS\",\"iPCS\",\"sPCS\",\"mPCS\"]},\"annotations\":[{\"font\":{\"size\":16},\"showarrow\":false,\"text\":\"<b>Gaze center</b><br>(group)\",\"x\":0.0875,\"xanchor\":\"center\",\"xref\":\"paper\",\"y\":1.0,\"yanchor\":\"bottom\",\"yref\":\"paper\"},{\"font\":{\"size\":16},\"showarrow\":false,\"text\":\"<b>Gaze right</b><br>(group)\",\"x\":0.36250000000000004,\"xanchor\":\"center\",\"xref\":\"paper\",\"y\":1.0,\"yanchor\":\"bottom\",\"yref\":\"paper\"},{\"font\":{\"size\":16},\"showarrow\":false,\"text\":\"<b>Gaze left</b><br>(group)\",\"x\":0.6375000000000001,\"xanchor\":\"center\",\"xref\":\"paper\",\"y\":1.0,\"yanchor\":\"bottom\",\"yref\":\"paper\"}],\"margin\":{\"l\":100,\"r\":50,\"t\":50,\"b\":100},\"legend\":{\"yanchor\":\"top\",\"y\":-0.15,\"x\":-0.05,\"xanchor\":\"left\",\"bgcolor\":\"rgba(255,255,255,0)\",\"tracegroupgap\":1},\"bargap\":0.3,\"width\":1350,\"height\":850},                        {\"displayModeBar\": false, \"responsive\": true}                    ).then(function(){\n",
       "                            \n",
       "var gd = document.getElementById('4e2ac51f-5916-4049-83d3-4d7785909751');\n",
       "var x = new MutationObserver(function (mutations, observer) {{\n",
       "        var display = window.getComputedStyle(gd).display;\n",
       "        if (!display || display === 'none') {{\n",
       "            console.log([gd, 'removed!']);\n",
       "            Plotly.purge(gd);\n",
       "            observer.disconnect();\n",
       "        }}\n",
       "}});\n",
       "\n",
       "// Listen for the removal of the full notebook cells\n",
       "var notebookContainer = gd.closest('#notebook-container');\n",
       "if (notebookContainer) {{\n",
       "    x.observe(notebookContainer, {childList: true});\n",
       "}}\n",
       "\n",
       "// Listen for the clearing of the current output cell\n",
       "var outputEl = gd.closest('.output');\n",
       "if (outputEl) {{\n",
       "    x.observe(outputEl, {childList: true});\n",
       "}}\n",
       "\n",
       "                        })                };                });            </script>        </div>"
      ]
     },
     "metadata": {},
     "output_type": "display_data"
    }
   ],
   "source": [
    "# Subplot settings\n",
    "rows, cols = 1, 4\n",
    "row_heights, column_widths =  [1], [1,1,1,1]\n",
    "sb_specs = [[{},{},{},{}]]\n",
    "subplot_width, subplot_height = 300,700\n",
    "\n",
    "fig_width, fig_height = 0, 0\n",
    "for column_width in column_widths:fig_width += subplot_width*column_width\n",
    "for row_height in row_heights: fig_height +=subplot_height*row_height\n",
    "fig_width = fig_width + margin_l + margin_r\n",
    "fig_height = fig_height + margin_t + margin_b\n",
    "\n",
    "subplot_titles = ['<b>Gaze center</b><br>(group)'.format(subject),\n",
    "                  '<b>Gaze right</b><br>(group)'.format(subject),\n",
    "                  '<b>Gaze left</b><br>(group)'.format(subject)]\n",
    "\n",
    "fig = make_subplots(rows=rows, cols=cols, specs=sb_specs, print_grid=False, vertical_spacing=0.04, horizontal_spacing=0.1,\n",
    "                    column_widths=column_widths, row_heights=row_heights,  subplot_titles=subplot_titles)\n",
    "\n",
    "# Draw figure\n",
    "for gaze_task in gaze_tasks:\n",
    "    if gaze_task == 'GazeCenter': \n",
    "        marker_colors, col = gc_colors, 1\n",
    "    elif gaze_task == 'GazeLeft': \n",
    "        marker_colors, col = gl_colors, 2 \n",
    "    elif gaze_task == 'GazeRight': \n",
    "        marker_colors, col = gr_colors, 3\n",
    "\n",
    "    # get data\n",
    "    df_stats.roi = pd.Categorical(df_stats.roi,categories=rois)\n",
    "    x_af = df_stats_roi.loc[df_stats_roi.gaze_task==gaze_task].af_decoded_std_mean\n",
    "    x_af_eb = df_stats_roi.loc[df_stats_roi.gaze_task==gaze_task].af_decoded_std_sem\n",
    "    \n",
    "    x_ab = df_stats_roi.loc[df_stats_roi.gaze_task==gaze_task].ab_decoded_std_mean\n",
    "    x_ab_eb = df_stats_roi.loc[df_stats_roi.gaze_task==gaze_task].ab_decoded_std_sem\n",
    "    \n",
    "    # plot data\n",
    "    fig.append_trace(go.Bar(y=y_rois, x=x_af, orientation='h', marker_color=marker_colors[1], \n",
    "                            hovertemplate=hover, showlegend=showlegend, \n",
    "                            legendgroup='attend-fix', name='<i>attend-fix<i>', \n",
    "                            error_x_type='data', error_x_symmetric=False, \n",
    "                            error_x_array=x_af_eb, error_x_arrayminus=x_af_eb),\n",
    "                     row=1, col=col)\n",
    "    \n",
    "    fig.append_trace(go.Bar(y=y_rois, x=x_ab, orientation='h', marker_color=marker_colors[0], \n",
    "                            hovertemplate=hover, showlegend=showlegend, \n",
    "                            legendgroup='attend-bar', name='<i>attend-bar<i>',\n",
    "                            error_x_type='data', error_x_symmetric=False, \n",
    "                            error_x_array=x_ab_eb, error_x_arrayminus=x_ab_eb),\n",
    "                     row=1, col=col)\n",
    "    \n",
    "    # plot stats\n",
    "#     p_flag = np.array(df_stats_roi.loc[df_stats_roi.gaze_task==gaze_task].ab_af_p_val_bilateral<0.05)\n",
    "#     fig.append_trace(go.Scatter(x=np.max((x_af,x_ab),axis=0)[p_flag]+x_gap_line, y=y_rois[p_flag], marker_symbol='line-ns-open', \n",
    "#                                 showlegend=False, mode='markers', marker_color='black', hoverinfo='skip', marker_size= 15),row=1, col=col)\n",
    "\n",
    "#     fig.append_trace(go.Scatter(x=np.max((x_af,x_ab),axis=0)[p_flag]+x_gap_asterisk, y=y_rois[p_flag], marker_symbol='asterisk-open',\n",
    "#                                 showlegend=False, mode='markers', marker_color='black', hoverinfo='skip', marker_size= 10),row=1, col=col)\n",
    "\n",
    "    \n",
    "    p_flags = np.array(df_stats_roi.loc[df_stats_roi.gaze_task==gaze_task].ab_af_p_val_bilateral<0.05)\n",
    "    for t, p_flag in enumerate(p_flags):\n",
    "        if p_flag:\n",
    "            y_line = np.linspace(y_rois[t]+0.25,y_rois[t]-0.25,10)\n",
    "            x_line = y_line*0+x_stats_line\n",
    "            fig.append_trace(go.Scatter(x=x_line,y=y_line, marker_symbol='line-ns-open', showlegend=False, line_width = 1.5,\n",
    "                                        mode='lines', marker_color='black', hoverinfo='skip'),row=1, col=col)\n",
    "            \n",
    "            fig.append_trace(go.Scatter(x=x_line+x_gap_asterisk,\n",
    "                                        y=[np.mean(y_line)], marker_symbol='asterisk-open', showlegend=False, \n",
    "                                        mode='markers', marker_color='black', hoverinfo='skip', marker_size=5),row=1, col=col)\n",
    "    \n",
    "    \n",
    "    \n",
    "# set figure axis\n",
    "for xaxis in ['xaxis', 'xaxis2', 'xaxis3', 'xaxis4']:\n",
    "    exec(\"fig.layout.update({}_range=xaxis_range)\".format(xaxis))\n",
    "    exec(\"fig.layout.update({}_title=xaxis_title)\".format(xaxis))\n",
    "    exec(\"fig.layout.update({}_tickvals=xaxis_tickvals)\".format(xaxis))\n",
    "    exec(\"fig.layout.update({}_ticktext=xaxis_ticktext)\".format(xaxis))\n",
    "    exec(\"fig.layout.update({}_zeroline=True)\".format(xaxis))\n",
    "\n",
    "for yaxis in ['yaxis', 'yaxis2', 'yaxis3', 'yaxis4']:\n",
    "    exec(\"fig.layout.update({}_range=yaxis_range)\".format(yaxis))\n",
    "    exec(\"fig.layout.update({}_tickvals=yaxis_tickvals)\".format(yaxis))\n",
    "    exec(\"fig.layout.update({}_ticktext=yaxis_ticktext)\".format(yaxis))\n",
    "\n",
    "# set axis\n",
    "for row in np.arange(rows):\n",
    "    for col in np.arange(cols):\n",
    "        fig.update_xaxes(visible=True, ticklen=8, linewidth=template_specs['axes_width'], row=row+1, col=col+1)\n",
    "\n",
    "# set figure\n",
    "fig.layout.update(yaxis_title='', yaxis_color = 'rgba(0,0,0,0)', yaxis_tickfont_color='black', bargap=0.3, template=fig_template, width=fig_width, height=fig_height, margin_l=margin_l, margin_r=margin_r, margin_t=margin_t, margin_b=margin_b,\n",
    "                  legend_yanchor='top', legend_y=-0.15,legend_x=-0.05, legend_xanchor='left', legend_bgcolor='rgba(255,255,255,0)', legend_tracegroupgap=1)\n",
    "\n",
    "# show and save figure\n",
    "fig.show(config={\"displayModeBar\": False})\n",
    "fig.write_image(\"{}/{}_decode_std.pdf\".format(group_tsv_dir, subject))\n",
    "fig.write_html(\"{}/{}_decode_std.html\".format(group_tsv_dir, subject),config={\"displayModeBar\": False})"
   ]
  },
  {
   "cell_type": "markdown",
   "id": "0bece9f0-8725-4a12-8388-a83b5ab81ea5",
   "metadata": {},
   "source": [
    "### Gaze center vs. Gaze left vs. Gaze right in different attention conditions"
   ]
  },
  {
   "cell_type": "code",
   "execution_count": 67,
   "id": "64b9d048-107f-4ce4-b1e9-d6176e2bc303",
   "metadata": {
    "tags": []
   },
   "outputs": [
    {
     "name": "stdout",
     "output_type": "stream",
     "text": [
      "saving /home/mszinte/disks/meso_S/data/gaze_prf/derivatives/pp_data/group/decode/tsv/group_decoded_std_stats2.tsv\n"
     ]
    }
   ],
   "source": [
    "# Compute permutation statistics results\n",
    "fist_line = 0\n",
    "for attend_task in attend_tasks:\n",
    "    for roi_num, roi in enumerate(rois):\n",
    "        # get values\n",
    "        gc_decoded_std_array = df_group.loc[(df_group.gaze_task=='GazeCenter') & \n",
    "                                            (df_group.attend_task==attend_task) & (df_group.roi==roi)\n",
    "                                           ].groupby(['subject']).decoded_x_std.mean()\n",
    "        \n",
    "        gl_decoded_std_array = df_group.loc[(df_group.gaze_task=='GazeLeft') & \n",
    "                                            (df_group.attend_task==attend_task) & (df_group.roi==roi)\n",
    "                                           ].groupby(['subject']).decoded_x_std.mean()\n",
    "        \n",
    "        gr_decoded_std_array = df_group.loc[(df_group.gaze_task=='GazeRight') & \n",
    "                                            (df_group.attend_task==attend_task) & (df_group.roi==roi)\n",
    "                                           ].groupby(['subject']).decoded_x_std.mean()\n",
    "        \n",
    "        # comparison ab/af\n",
    "        gc_gl_perm_res = permutation_test((gc_decoded_std_array, gl_decoded_std_array), statistic, n_resamples=n_permutation, \n",
    "                                     alternative='two-sided', permutation_type='samples', vectorized=True, axis=0)\n",
    "        gc_gl_p_val_uni, gc_gl_p_text_uni, gc_gl_p_val_bi, gc_gl_p_text_bi = get_pval(gc_gl_perm_res)\n",
    "        \n",
    "        gc_gr_perm_res = permutation_test((gc_decoded_std_array, gr_decoded_std_array), statistic, n_resamples=n_permutation, \n",
    "                                     alternative='two-sided', permutation_type='samples', vectorized=True, axis=0)\n",
    "        gc_gr_p_val_uni, gc_gr_p_text_uni, gc_gr_p_val_bi, gc_gr_p_text_bi = get_pval(gc_gr_perm_res)\n",
    "        \n",
    "        gl_gr_perm_res = permutation_test((gl_decoded_std_array, gr_decoded_std_array), statistic, n_resamples=n_permutation, \n",
    "                                     alternative='two-sided', permutation_type='samples', vectorized=True, axis=0)\n",
    "        gl_gr_p_val_uni, gl_gr_p_text_uni, gl_gr_p_val_bi, gl_gr_p_text_bi = get_pval(gl_gr_perm_res)\n",
    "        \n",
    "        df_stats = pd.DataFrame({'roi': [roi],\n",
    "                                 'attend_task': attend_task,\n",
    "                                 'gc_decoded_std_mean': np.nanmean(gc_decoded_std_array),\n",
    "                                 'gc_decoded_std_sem': np.nanstd(gc_decoded_std_array)/np.sqrt(gc_decoded_std_array.shape[0]-1),  \n",
    "                                 'gl_decoded_std_mean': np.nanmean(gl_decoded_std_array),\n",
    "                                 'gl_decoded_std_sem': np.nanstd(gl_decoded_std_array)/np.sqrt(gl_decoded_std_array.shape[0]-1),\n",
    "                                 'gr_decoded_std_mean': np.nanmean(gr_decoded_std_array),\n",
    "                                 'gr_decoded_std_sem': np.nanstd(gr_decoded_std_array)/np.sqrt(gr_decoded_std_array.shape[0]-1),\n",
    "                                 'gc_gl_diff': gc_gl_perm_res.statistic,\n",
    "                                 'gc_gl_p_val_unilateral': gc_gl_p_val_uni,\n",
    "                                 'gc_gl_p_text_unilateral': gc_gl_p_text_uni,\n",
    "                                 'gc_gl_p_val_bilateral': gc_gl_p_val_bi,\n",
    "                                 'gc_gl_p_text_bilateral': gc_gl_p_text_bi,\n",
    "                                 'gc_gr_diff': gc_gr_perm_res.statistic,\n",
    "                                 'gc_gr_p_val_unilateral': gc_gr_p_val_uni,\n",
    "                                 'gc_gr_p_text_unilateral': gc_gr_p_text_uni,\n",
    "                                 'gc_gr_p_val_bilateral': gc_gr_p_val_bi,\n",
    "                                 'gc_gr_p_text_bilateral': gc_gr_p_text_bi,\n",
    "                                 'gl_gr_diff': gl_gr_perm_res.statistic,\n",
    "                                 'gl_gr_p_val_unilateral': gl_gr_p_val_uni,\n",
    "                                 'gl_gr_p_text_unilateral': gl_gr_p_text_uni,\n",
    "                                 'gl_gr_p_val_bilateral': gl_gr_p_val_bi,\n",
    "                                 'gl_gr_p_text_bilateral': gl_gr_p_text_bi,\n",
    "                                })\n",
    "        \n",
    "        # across roi\n",
    "        if fist_line == 0: \n",
    "            df_stats_roi = df_stats\n",
    "            fist_line = 1\n",
    "        else: \n",
    "            df_stats_roi = pd.concat([df_stats_roi, df_stats])\n",
    "\n",
    "df_stats_roi_fn = \"{}/group_decoded_std_stats2.tsv\".format(group_tsv_dir)\n",
    "print('saving {}'.format(df_stats_roi_fn))\n",
    "df_stats_roi.to_csv(df_stats_roi_fn, sep=\"\\t\", na_rep='NaN')"
   ]
  },
  {
   "cell_type": "code",
   "execution_count": 69,
   "id": "8f507d1e-7e37-4e8d-b4c3-f8624f2ad0cc",
   "metadata": {
    "tags": []
   },
   "outputs": [
    {
     "data": {
      "application/vnd.plotly.v1+json": {
       "config": {
        "displayModeBar": false,
        "plotlyServerURL": "https://plot.ly"
       },
       "data": [
        {
         "error_x": {
          "array": [
           0.322030914102919,
           0.20419718610272072,
           0.26627834483072216,
           0.35521035029534836,
           0.17635924420877044,
           0.23949828476029802,
           0.26569206337711154,
           0.10050046432610386,
           0.08952727018508533,
           0.108814396133095,
           0.06281490270254629,
           0.05139555914358516
          ],
          "arrayminus": [
           0.322030914102919,
           0.20419718610272072,
           0.26627834483072216,
           0.35521035029534836,
           0.17635924420877044,
           0.23949828476029802,
           0.26569206337711154,
           0.10050046432610386,
           0.08952727018508533,
           0.108814396133095,
           0.06281490270254629,
           0.05139555914358516
          ],
          "symmetric": false,
          "type": "data"
         },
         "hovertemplate": "ROI: %{y}<br>Decoded uncertainty: %{x:1.2f}",
         "legendgroup": "gaze-right",
         "marker": {
          "color": "rgba(142, 19, 84, 1)"
         },
         "name": "<i>Gaze right<i>",
         "orientation": "h",
         "showlegend": false,
         "type": "bar",
         "x": [
          2.7826500494284803,
          2.2553345763489596,
          2.621640043116638,
          3.639660905034517,
          5.088566618374025,
          4.4411177740642795,
          3.9763261841891713,
          4.963646668436922,
          5.2126231097920925,
          5.242321513478915,
          5.270166207550872,
          5.308945428298228
         ],
         "xaxis": "x",
         "y": [
          12,
          11,
          10,
          9,
          8,
          7,
          6,
          5,
          4,
          3,
          2,
          1
         ],
         "yaxis": "y"
        },
        {
         "error_x": {
          "array": [
           0.3255374150947129,
           0.2319036689201075,
           0.28567204773884614,
           0.3699536503488924,
           0.1779299419856133,
           0.21422045602713644,
           0.25222775351198634,
           0.12691650739735685,
           0.09634262361987898,
           0.08983910825494339,
           0.05711315967187996,
           0.05982978831334668
          ],
          "arrayminus": [
           0.3255374150947129,
           0.2319036689201075,
           0.28567204773884614,
           0.3699536503488924,
           0.1779299419856133,
           0.21422045602713644,
           0.25222775351198634,
           0.12691650739735685,
           0.09634262361987898,
           0.08983910825494339,
           0.05711315967187996,
           0.05982978831334668
          ],
          "symmetric": false,
          "type": "data"
         },
         "hovertemplate": "ROI: %{y}<br>Decoded uncertainty: %{x:1.2f}",
         "legendgroup": "gaze-left",
         "marker": {
          "color": "rgba(41, 101, 44, 1)"
         },
         "name": "<i>Gaze left<i>",
         "orientation": "h",
         "showlegend": false,
         "type": "bar",
         "x": [
          2.726400408685089,
          2.4062327466738243,
          2.588547621363724,
          3.60901399302337,
          5.07546614575149,
          4.466687568770271,
          4.050194254017352,
          4.974227249358211,
          5.207096162739148,
          5.260430637144564,
          5.267199487725572,
          5.337209452656584
         ],
         "xaxis": "x",
         "y": [
          12,
          11,
          10,
          9,
          8,
          7,
          6,
          5,
          4,
          3,
          2,
          1
         ],
         "yaxis": "y"
        },
        {
         "error_x": {
          "array": [
           0.3410525890872121,
           0.22531960115823246,
           0.3088158387582208,
           0.3462134140183331,
           0.1670002689643866,
           0.20091672364894997,
           0.2484594004502242,
           0.13473050270341982,
           0.09037103899526072,
           0.08987857966214106,
           0.0313700183991179,
           0.05145866902572921
          ],
          "arrayminus": [
           0.3410525890872121,
           0.22531960115823246,
           0.3088158387582208,
           0.3462134140183331,
           0.1670002689643866,
           0.20091672364894997,
           0.2484594004502242,
           0.13473050270341982,
           0.09037103899526072,
           0.08987857966214106,
           0.0313700183991179,
           0.05145866902572921
          ],
          "symmetric": false,
          "type": "data"
         },
         "hovertemplate": "ROI: %{y}<br>Decoded uncertainty: %{x:1.2f}",
         "legendgroup": "gaze-center",
         "marker": {
          "color": "rgba(243, 146, 0, 1)"
         },
         "name": "<i>Gaze center<i>",
         "orientation": "h",
         "showlegend": false,
         "type": "bar",
         "x": [
          2.7130953471057015,
          2.2867576614336773,
          2.6023285971627557,
          3.659512488538157,
          5.058725786192486,
          4.4687740822535025,
          4.054838863887953,
          4.930847087350936,
          5.234996200366456,
          5.265163034833707,
          5.298948402820018,
          5.348062695271806
         ],
         "xaxis": "x",
         "y": [
          12,
          11,
          10,
          9,
          8,
          7,
          6,
          5,
          4,
          3,
          2,
          1
         ],
         "yaxis": "y"
        },
        {
         "hoverinfo": "skip",
         "line": {
          "width": 1.5
         },
         "marker": {
          "color": "black",
          "symbol": "line-ns-open"
         },
         "mode": "lines",
         "showlegend": false,
         "type": "scatter",
         "x": [
          8,
          8,
          8,
          8,
          8,
          8,
          8,
          8,
          8,
          8
         ],
         "xaxis": "x",
         "y": [
          5.25,
          5.222222222222222,
          5.194444444444445,
          5.166666666666667,
          5.138888888888889,
          5.111111111111111,
          5.083333333333333,
          5.055555555555555,
          5.027777777777778,
          5
         ],
         "yaxis": "y"
        },
        {
         "hoverinfo": "skip",
         "marker": {
          "color": "black",
          "size": 5,
          "symbol": "asterisk-open"
         },
         "mode": "markers",
         "showlegend": false,
         "type": "scatter",
         "x": [
          8.25,
          8.25,
          8.25,
          8.25,
          8.25,
          8.25,
          8.25,
          8.25,
          8.25,
          8.25
         ],
         "xaxis": "x",
         "y": [
          5.125
         ],
         "yaxis": "y"
        },
        {
         "error_x": {
          "array": [
           0.21660051975841754,
           0.12395979701063074,
           0.1562664979051665,
           0.09785411892679606,
           0.09315656451750874,
           0.13320037827133074,
           0.20790841902481128,
           0.04035777085672473,
           0.032671118006245524,
           0.0961777746692812,
           0.05112971553651051,
           0.0989576810308978
          ],
          "arrayminus": [
           0.21660051975841754,
           0.12395979701063074,
           0.1562664979051665,
           0.09785411892679606,
           0.09315656451750874,
           0.13320037827133074,
           0.20790841902481128,
           0.04035777085672473,
           0.032671118006245524,
           0.0961777746692812,
           0.05112971553651051,
           0.0989576810308978
          ],
          "symmetric": false,
          "type": "data"
         },
         "hovertemplate": "ROI: %{y}<br>Decoded uncertainty: %{x:1.2f}",
         "legendgroup": "gaze-right",
         "marker": {
          "color": "rgba(230, 151, 193, 1)"
         },
         "name": "<i>Gaze right<i>",
         "orientation": "h",
         "showlegend": false,
         "type": "bar",
         "x": [
          2.8792381481048253,
          2.732629015581118,
          3.0476148126850373,
          4.662890174174592,
          5.28231460950936,
          4.981864911482434,
          4.587043222873555,
          5.204961648637671,
          5.355038413579919,
          5.291082511063614,
          5.342660506056346,
          5.2705703214576936
         ],
         "xaxis": "x2",
         "y": [
          12,
          11,
          10,
          9,
          8,
          7,
          6,
          5,
          4,
          3,
          2,
          1
         ],
         "yaxis": "y2"
        },
        {
         "error_x": {
          "array": [
           0.2766294574125057,
           0.20886292124000652,
           0.13835149246927675,
           0.10379601537403249,
           0.11419949110285808,
           0.14297939012843525,
           0.1944552268798407,
           0.07050632744357455,
           0.04208878465479889,
           0.07959108263739922,
           0.04538796962950391,
           0.09906335201297588
          ],
          "arrayminus": [
           0.2766294574125057,
           0.20886292124000652,
           0.13835149246927675,
           0.10379601537403249,
           0.11419949110285808,
           0.14297939012843525,
           0.1944552268798407,
           0.07050632744357455,
           0.04208878465479889,
           0.07959108263739922,
           0.04538796962950391,
           0.09906335201297588
          ],
          "symmetric": false,
          "type": "data"
         },
         "hovertemplate": "ROI: %{y}<br>Decoded uncertainty: %{x:1.2f}",
         "legendgroup": "gaze-left",
         "marker": {
          "color": "rgba(153, 198, 98, 1)"
         },
         "name": "<i>Gaze left<i>",
         "orientation": "h",
         "showlegend": false,
         "type": "bar",
         "x": [
          2.949524129170039,
          2.679170243985488,
          3.0625990149779962,
          4.657331411515451,
          5.260126569080123,
          4.978624640449593,
          4.571404168203433,
          5.188018397125557,
          5.337388228942679,
          5.307053872650214,
          5.338680912612612,
          5.2430428359204955
         ],
         "xaxis": "x2",
         "y": [
          12,
          11,
          10,
          9,
          8,
          7,
          6,
          5,
          4,
          3,
          2,
          1
         ],
         "yaxis": "y2"
        },
        {
         "error_x": {
          "array": [
           0.27617656483083525,
           0.21538067322142418,
           0.11963334315127433,
           0.08671118405325089,
           0.11443676134025801,
           0.1293095900943203,
           0.21209279019187724,
           0.03481424421222945,
           0.036270320416824216,
           0.06234310321516982,
           0.049465459913163805,
           0.11000059074369041
          ],
          "arrayminus": [
           0.27617656483083525,
           0.21538067322142418,
           0.11963334315127433,
           0.08671118405325089,
           0.11443676134025801,
           0.1293095900943203,
           0.21209279019187724,
           0.03481424421222945,
           0.036270320416824216,
           0.06234310321516982,
           0.049465459913163805,
           0.11000059074369041
          ],
          "symmetric": false,
          "type": "data"
         },
         "hovertemplate": "ROI: %{y}<br>Decoded uncertainty: %{x:1.2f}",
         "legendgroup": "gaze-center",
         "marker": {
          "color": "rgba(242, 190, 121, 1)"
         },
         "name": "<i>Gaze center<i>",
         "orientation": "h",
         "showlegend": false,
         "type": "bar",
         "x": [
          2.908740610348265,
          2.8517288424145226,
          3.0873996340236314,
          4.721892964461428,
          5.263717108081696,
          5.054937053082689,
          4.600180660670393,
          5.288839816632076,
          5.380516263721525,
          5.339303974470401,
          5.372726143456421,
          5.233614322905591
         ],
         "xaxis": "x2",
         "y": [
          12,
          11,
          10,
          9,
          8,
          7,
          6,
          5,
          4,
          3,
          2,
          1
         ],
         "yaxis": "y2"
        },
        {
         "hoverinfo": "skip",
         "line": {
          "width": 1.5
         },
         "marker": {
          "color": "black",
          "symbol": "line-ns-open"
         },
         "mode": "lines",
         "showlegend": false,
         "type": "scatter",
         "x": [
          8,
          8,
          8,
          8,
          8,
          8,
          8,
          8,
          8,
          8
         ],
         "xaxis": "x2",
         "y": [
          11.25,
          11.222222222222221,
          11.194444444444445,
          11.166666666666666,
          11.13888888888889,
          11.11111111111111,
          11.083333333333334,
          11.055555555555555,
          11.027777777777779,
          11
         ],
         "yaxis": "y2"
        },
        {
         "hoverinfo": "skip",
         "marker": {
          "color": "black",
          "size": 5,
          "symbol": "asterisk-open"
         },
         "mode": "markers",
         "showlegend": false,
         "type": "scatter",
         "x": [
          8.25,
          8.25,
          8.25,
          8.25,
          8.25,
          8.25,
          8.25,
          8.25,
          8.25,
          8.25
         ],
         "xaxis": "x2",
         "y": [
          11.125
         ],
         "yaxis": "y2"
        },
        {
         "hoverinfo": "skip",
         "line": {
          "width": 1.5
         },
         "marker": {
          "color": "black",
          "symbol": "line-ns-open"
         },
         "mode": "lines",
         "showlegend": false,
         "type": "scatter",
         "x": [
          8,
          8,
          8,
          8,
          8,
          8,
          8,
          8,
          8,
          8
         ],
         "xaxis": "x2",
         "y": [
          4.25,
          4.222222222222222,
          4.194444444444445,
          4.166666666666667,
          4.138888888888889,
          4.111111111111111,
          4.083333333333333,
          4.055555555555555,
          4.027777777777778,
          4
         ],
         "yaxis": "y2"
        },
        {
         "hoverinfo": "skip",
         "marker": {
          "color": "black",
          "size": 5,
          "symbol": "asterisk-open"
         },
         "mode": "markers",
         "showlegend": false,
         "type": "scatter",
         "x": [
          8.25,
          8.25,
          8.25,
          8.25,
          8.25,
          8.25,
          8.25,
          8.25,
          8.25,
          8.25
         ],
         "xaxis": "x2",
         "y": [
          4.125
         ],
         "yaxis": "y2"
        },
        {
         "hoverinfo": "skip",
         "line": {
          "width": 1.5
         },
         "marker": {
          "color": "black",
          "symbol": "line-ns-open"
         },
         "mode": "lines",
         "showlegend": false,
         "type": "scatter",
         "x": [
          9,
          9,
          9,
          9,
          9,
          9,
          9,
          9,
          9,
          9
         ],
         "xaxis": "x2",
         "y": [
          5.25,
          5.194444444444445,
          5.138888888888889,
          5.083333333333333,
          5.027777777777778,
          4.972222222222222,
          4.916666666666667,
          4.861111111111111,
          4.805555555555555,
          4.75
         ],
         "yaxis": "y2"
        },
        {
         "hoverinfo": "skip",
         "marker": {
          "color": "black",
          "size": 5,
          "symbol": "asterisk-open"
         },
         "mode": "markers",
         "showlegend": false,
         "type": "scatter",
         "x": [
          9.25,
          9.25,
          9.25,
          9.25,
          9.25,
          9.25,
          9.25,
          9.25,
          9.25,
          9.25
         ],
         "xaxis": "x2",
         "y": [
          5
         ],
         "yaxis": "y2"
        },
        {
         "hoverinfo": "skip",
         "line": {
          "width": 1.5
         },
         "marker": {
          "color": "black",
          "symbol": "line-ns-open"
         },
         "mode": "lines",
         "showlegend": false,
         "type": "scatter",
         "x": [
          9,
          9,
          9,
          9,
          9,
          9,
          9,
          9,
          9,
          9
         ],
         "xaxis": "x2",
         "y": [
          2.25,
          2.1944444444444446,
          2.138888888888889,
          2.0833333333333335,
          2.0277777777777777,
          1.9722222222222223,
          1.9166666666666667,
          1.8611111111111112,
          1.8055555555555556,
          1.75
         ],
         "yaxis": "y2"
        },
        {
         "hoverinfo": "skip",
         "marker": {
          "color": "black",
          "size": 5,
          "symbol": "asterisk-open"
         },
         "mode": "markers",
         "showlegend": false,
         "type": "scatter",
         "x": [
          9.25,
          9.25,
          9.25,
          9.25,
          9.25,
          9.25,
          9.25,
          9.25,
          9.25,
          9.25
         ],
         "xaxis": "x2",
         "y": [
          2.0000000000000004
         ],
         "yaxis": "y2"
        },
        {
         "hoverinfo": "skip",
         "line": {
          "width": 1.5
         },
         "marker": {
          "color": "black",
          "symbol": "line-ns-open"
         },
         "mode": "lines",
         "showlegend": false,
         "type": "scatter",
         "x": [
          8.5,
          8.5,
          8.5,
          8.5,
          8.5,
          8.5,
          8.5,
          8.5,
          8.5,
          8.5
         ],
         "xaxis": "x2",
         "y": [
          5,
          4.972222222222222,
          4.944444444444445,
          4.916666666666667,
          4.888888888888889,
          4.861111111111111,
          4.833333333333333,
          4.805555555555555,
          4.777777777777778,
          4.75
         ],
         "yaxis": "y2"
        },
        {
         "hoverinfo": "skip",
         "marker": {
          "color": "black",
          "size": 5,
          "symbol": "asterisk-open"
         },
         "mode": "markers",
         "showlegend": false,
         "type": "scatter",
         "x": [
          8.75,
          8.75,
          8.75,
          8.75,
          8.75,
          8.75,
          8.75,
          8.75,
          8.75,
          8.75
         ],
         "xaxis": "x2",
         "y": [
          4.875
         ],
         "yaxis": "y2"
        },
        {
         "hoverinfo": "skip",
         "line": {
          "width": 1.5
         },
         "marker": {
          "color": "black",
          "symbol": "line-ns-open"
         },
         "mode": "lines",
         "showlegend": false,
         "type": "scatter",
         "x": [
          8.5,
          8.5,
          8.5,
          8.5,
          8.5,
          8.5,
          8.5,
          8.5,
          8.5,
          8.5
         ],
         "xaxis": "x2",
         "y": [
          2,
          1.9722222222222223,
          1.9444444444444444,
          1.9166666666666667,
          1.8888888888888888,
          1.8611111111111112,
          1.8333333333333333,
          1.8055555555555556,
          1.7777777777777777,
          1.75
         ],
         "yaxis": "y2"
        },
        {
         "hoverinfo": "skip",
         "marker": {
          "color": "black",
          "size": 5,
          "symbol": "asterisk-open"
         },
         "mode": "markers",
         "showlegend": false,
         "type": "scatter",
         "x": [
          8.75,
          8.75,
          8.75,
          8.75,
          8.75,
          8.75,
          8.75,
          8.75,
          8.75,
          8.75
         ],
         "xaxis": "x2",
         "y": [
          1.875
         ],
         "yaxis": "y2"
        }
       ],
       "layout": {
        "annotations": [
         {
          "font": {
           "size": 16
          },
          "showarrow": false,
          "text": "<b>Attend-bar</b><br>(group)",
          "x": 0.225,
          "xanchor": "center",
          "xref": "paper",
          "y": 1,
          "yanchor": "bottom",
          "yref": "paper"
         },
         {
          "font": {
           "size": 16
          },
          "showarrow": false,
          "text": "<b>Attend-fix</b><br>(group)",
          "x": 0.775,
          "xanchor": "center",
          "xref": "paper",
          "y": 1,
          "yanchor": "bottom",
          "yref": "paper"
         }
        ],
        "bargap": 0.3,
        "height": 850,
        "legend": {
         "bgcolor": "rgba(255,255,255,0)",
         "tracegroupgap": 1,
         "x": -0.05,
         "xanchor": "left",
         "y": -0.15,
         "yanchor": "top"
        },
        "margin": {
         "b": 100,
         "l": 100,
         "r": 50,
         "t": 50
        },
        "template": {
         "data": {
          "barpolar": [
           {
            "marker": {
             "line": {
              "color": "rgba(0, 0, 0, 1)",
              "width": 1.5
             }
            },
            "showlegend": false,
            "thetaunit": "radians",
            "type": "barpolar"
           }
          ],
          "pie": [
           {
            "direction": "clockwise",
            "hole": 0.4,
            "marker": {
             "line": {
              "color": [
               "rgba(0, 0, 0, 1)",
               "rgba(255,255,255,0)"
              ],
              "width": [
               1.5,
               0
              ]
             }
            },
            "rotation": 0,
            "showlegend": false,
            "sort": false,
            "textposition": [
             "inside",
             "none"
            ],
            "type": "pie"
           }
          ],
          "violin": [
           {
            "box": {
             "visible": false
            },
            "hoveron": "violins",
            "line": {
             "color": "rgba(0, 0, 0, 1)",
             "width": 1.5
            },
            "marker": {
             "opacity": 0.5,
             "symbol": "x"
            },
            "meanline": {
             "color": "rgba(0, 0, 0, 1)",
             "visible": true,
             "width": 1.5
            },
            "opacity": 1,
            "points": false,
            "showlegend": false,
            "type": "violin",
            "width": 0.8
           }
          ]
         },
         "layout": {
          "annotationdefaults": {
           "font": {
            "color": "rgba(0, 0, 0, 1)",
            "family": "Arial",
            "size": 15
           }
          },
          "font": {
           "family": "Arial",
           "size": 13
          },
          "plot_bgcolor": "rgba(255, 255, 255, 1)",
          "polar": {
           "angularaxis": {
            "showticklabels": false,
            "ticks": "",
            "visible": false
           },
           "radialaxis": {
            "showticklabels": false,
            "ticks": "",
            "visible": false
           }
          },
          "xaxis": {
           "color": "rgba(0, 0, 0, 1)",
           "hoverformat": ".1f",
           "linewidth": 2,
           "range": [
            0,
            1
           ],
           "showgrid": false,
           "tickfont": {
            "family": "Arial",
            "size": 13
           },
           "ticklen": 8,
           "ticks": "outside",
           "tickwidth": 2,
           "title": {
            "font": {
             "family": "Arial",
             "size": 15
            }
           },
           "visible": true,
           "zeroline": false,
           "zerolinecolor": "rgba(0, 0, 0, 1)",
           "zerolinewidth": 2
          },
          "yaxis": {
           "color": "rgba(0, 0, 0, 1)",
           "hoverformat": ".1f",
           "linewidth": 2,
           "showgrid": false,
           "tickfont": {
            "family": "Arial",
            "size": 13
           },
           "ticklen": 8,
           "ticks": "outside",
           "tickwidth": 2,
           "title": {
            "font": {
             "family": "Arial",
             "size": 15
            }
           },
           "visible": true,
           "zeroline": false,
           "zerolinecolor": "rgba(0, 0, 0, 1)",
           "zerolinewidth": 2
          }
         }
        },
        "width": 750,
        "xaxis": {
         "anchor": "y",
         "domain": [
          0,
          0.45
         ],
         "linewidth": 2,
         "range": [
          0,
          10
         ],
         "ticklen": 8,
         "ticktext": [
          "0",
          "2",
          "4",
          "6",
          "8",
          "10"
         ],
         "tickvals": [
          0,
          2,
          4,
          6,
          8,
          10
         ],
         "title": {
          "text": "Decoded uncertainty (dva)"
         },
         "type": "linear",
         "visible": true,
         "zeroline": true
        },
        "xaxis2": {
         "anchor": "y2",
         "domain": [
          0.55,
          1
         ],
         "linewidth": 2,
         "range": [
          0,
          10
         ],
         "ticklen": 8,
         "ticktext": [
          "0",
          "2",
          "4",
          "6",
          "8",
          "10"
         ],
         "tickvals": [
          0,
          2,
          4,
          6,
          8,
          10
         ],
         "title": {
          "text": "Decoded uncertainty (dva)"
         },
         "type": "linear",
         "visible": true,
         "zeroline": true
        },
        "yaxis": {
         "anchor": "x",
         "color": "rgba(0, 0, 0, 0)",
         "domain": [
          0,
          1
         ],
         "range": [
          0.3,
          12.7
         ],
         "tickfont": {
          "color": "black"
         },
         "ticktext": [
          "V1",
          "V2",
          "V3",
          "V3AB",
          "hMT+",
          "LO",
          "VO",
          "iIPS",
          "sIPS",
          "iPCS",
          "sPCS",
          "mPCS"
         ],
         "tickvals": [
          12,
          11,
          10,
          9,
          8,
          7,
          6,
          5,
          4,
          3,
          2,
          1
         ],
         "title": {
          "text": ""
         },
         "type": "linear"
        },
        "yaxis2": {
         "anchor": "x2",
         "domain": [
          0,
          1
         ],
         "range": [
          0.3,
          12.7
         ],
         "ticktext": [
          "V1",
          "V2",
          "V3",
          "V3AB",
          "hMT+",
          "LO",
          "VO",
          "iIPS",
          "sIPS",
          "iPCS",
          "sPCS",
          "mPCS"
         ],
         "tickvals": [
          12,
          11,
          10,
          9,
          8,
          7,
          6,
          5,
          4,
          3,
          2,
          1
         ],
         "type": "linear"
        }
       }
      },
      "image/png": "[encoded data removed]",
      "text/html": [
       "<div>                            <div id=\"3a2de175-5d1c-412f-a5d0-d6ff36bb4978\" class=\"plotly-graph-div\" style=\"height:850px; width:750px;\"></div>            <script type=\"text/javascript\">                require([\"plotly\"], function(Plotly) {                    window.PLOTLYENV=window.PLOTLYENV || {};                                    if (document.getElementById(\"3a2de175-5d1c-412f-a5d0-d6ff36bb4978\")) {                    Plotly.newPlot(                        \"3a2de175-5d1c-412f-a5d0-d6ff36bb4978\",                        [{\"error_x\":{\"array\":[0.322030914102919,0.20419718610272072,0.26627834483072216,0.35521035029534836,0.17635924420877044,0.23949828476029802,0.26569206337711154,0.10050046432610386,0.08952727018508533,0.108814396133095,0.06281490270254629,0.05139555914358516],\"arrayminus\":[0.322030914102919,0.20419718610272072,0.26627834483072216,0.35521035029534836,0.17635924420877044,0.23949828476029802,0.26569206337711154,0.10050046432610386,0.08952727018508533,0.108814396133095,0.06281490270254629,0.05139555914358516],\"symmetric\":false,\"type\":\"data\"},\"hovertemplate\":\"ROI: %{y}<br>Decoded uncertainty: %{x:1.2f}\",\"legendgroup\":\"gaze-right\",\"marker\":{\"color\":\"rgba(142, 19, 84, 1)\"},\"name\":\"<i>Gaze right<i>\",\"orientation\":\"h\",\"showlegend\":false,\"x\":[2.7826500494284803,2.2553345763489596,2.621640043116638,3.639660905034517,5.088566618374025,4.4411177740642795,3.9763261841891713,4.963646668436922,5.2126231097920925,5.242321513478915,5.270166207550872,5.308945428298228],\"y\":[12,11,10,9,8,7,6,5,4,3,2,1],\"type\":\"bar\",\"xaxis\":\"x\",\"yaxis\":\"y\"},{\"error_x\":{\"array\":[0.3255374150947129,0.2319036689201075,0.28567204773884614,0.3699536503488924,0.1779299419856133,0.21422045602713644,0.25222775351198634,0.12691650739735685,0.09634262361987898,0.08983910825494339,0.05711315967187996,0.05982978831334668],\"arrayminus\":[0.3255374150947129,0.2319036689201075,0.28567204773884614,0.3699536503488924,0.1779299419856133,0.21422045602713644,0.25222775351198634,0.12691650739735685,0.09634262361987898,0.08983910825494339,0.05711315967187996,0.05982978831334668],\"symmetric\":false,\"type\":\"data\"},\"hovertemplate\":\"ROI: %{y}<br>Decoded uncertainty: %{x:1.2f}\",\"legendgroup\":\"gaze-left\",\"marker\":{\"color\":\"rgba(41, 101, 44, 1)\"},\"name\":\"<i>Gaze left<i>\",\"orientation\":\"h\",\"showlegend\":false,\"x\":[2.726400408685089,2.4062327466738243,2.588547621363724,3.60901399302337,5.07546614575149,4.466687568770271,4.050194254017352,4.974227249358211,5.207096162739148,5.260430637144564,5.267199487725572,5.337209452656584],\"y\":[12,11,10,9,8,7,6,5,4,3,2,1],\"type\":\"bar\",\"xaxis\":\"x\",\"yaxis\":\"y\"},{\"error_x\":{\"array\":[0.3410525890872121,0.22531960115823246,0.3088158387582208,0.3462134140183331,0.1670002689643866,0.20091672364894997,0.2484594004502242,0.13473050270341982,0.09037103899526072,0.08987857966214106,0.0313700183991179,0.05145866902572921],\"arrayminus\":[0.3410525890872121,0.22531960115823246,0.3088158387582208,0.3462134140183331,0.1670002689643866,0.20091672364894997,0.2484594004502242,0.13473050270341982,0.09037103899526072,0.08987857966214106,0.0313700183991179,0.05145866902572921],\"symmetric\":false,\"type\":\"data\"},\"hovertemplate\":\"ROI: %{y}<br>Decoded uncertainty: %{x:1.2f}\",\"legendgroup\":\"gaze-center\",\"marker\":{\"color\":\"rgba(243, 146, 0, 1)\"},\"name\":\"<i>Gaze center<i>\",\"orientation\":\"h\",\"showlegend\":false,\"x\":[2.7130953471057015,2.2867576614336773,2.6023285971627557,3.659512488538157,5.058725786192486,4.4687740822535025,4.054838863887953,4.930847087350936,5.234996200366456,5.265163034833707,5.298948402820018,5.348062695271806],\"y\":[12,11,10,9,8,7,6,5,4,3,2,1],\"type\":\"bar\",\"xaxis\":\"x\",\"yaxis\":\"y\"},{\"hoverinfo\":\"skip\",\"line\":{\"width\":1.5},\"marker\":{\"color\":\"black\",\"symbol\":\"line-ns-open\"},\"mode\":\"lines\",\"showlegend\":false,\"x\":[8.0,8.0,8.0,8.0,8.0,8.0,8.0,8.0,8.0,8.0],\"y\":[5.25,5.222222222222222,5.194444444444445,5.166666666666667,5.138888888888889,5.111111111111111,5.083333333333333,5.055555555555555,5.027777777777778,5.0],\"type\":\"scatter\",\"xaxis\":\"x\",\"yaxis\":\"y\"},{\"hoverinfo\":\"skip\",\"marker\":{\"color\":\"black\",\"size\":5,\"symbol\":\"asterisk-open\"},\"mode\":\"markers\",\"showlegend\":false,\"x\":[8.25,8.25,8.25,8.25,8.25,8.25,8.25,8.25,8.25,8.25],\"y\":[5.125],\"type\":\"scatter\",\"xaxis\":\"x\",\"yaxis\":\"y\"},{\"error_x\":{\"array\":[0.21660051975841754,0.12395979701063074,0.1562664979051665,0.09785411892679606,0.09315656451750874,0.13320037827133074,0.20790841902481128,0.04035777085672473,0.032671118006245524,0.0961777746692812,0.05112971553651051,0.0989576810308978],\"arrayminus\":[0.21660051975841754,0.12395979701063074,0.1562664979051665,0.09785411892679606,0.09315656451750874,0.13320037827133074,0.20790841902481128,0.04035777085672473,0.032671118006245524,0.0961777746692812,0.05112971553651051,0.0989576810308978],\"symmetric\":false,\"type\":\"data\"},\"hovertemplate\":\"ROI: %{y}<br>Decoded uncertainty: %{x:1.2f}\",\"legendgroup\":\"gaze-right\",\"marker\":{\"color\":\"rgba(230, 151, 193, 1)\"},\"name\":\"<i>Gaze right<i>\",\"orientation\":\"h\",\"showlegend\":false,\"x\":[2.8792381481048253,2.732629015581118,3.0476148126850373,4.662890174174592,5.28231460950936,4.981864911482434,4.587043222873555,5.204961648637671,5.355038413579919,5.291082511063614,5.342660506056346,5.2705703214576936],\"y\":[12,11,10,9,8,7,6,5,4,3,2,1],\"type\":\"bar\",\"xaxis\":\"x2\",\"yaxis\":\"y2\"},{\"error_x\":{\"array\":[0.2766294574125057,0.20886292124000652,0.13835149246927675,0.10379601537403249,0.11419949110285808,0.14297939012843525,0.1944552268798407,0.07050632744357455,0.04208878465479889,0.07959108263739922,0.04538796962950391,0.09906335201297588],\"arrayminus\":[0.2766294574125057,0.20886292124000652,0.13835149246927675,0.10379601537403249,0.11419949110285808,0.14297939012843525,0.1944552268798407,0.07050632744357455,0.04208878465479889,0.07959108263739922,0.04538796962950391,0.09906335201297588],\"symmetric\":false,\"type\":\"data\"},\"hovertemplate\":\"ROI: %{y}<br>Decoded uncertainty: %{x:1.2f}\",\"legendgroup\":\"gaze-left\",\"marker\":{\"color\":\"rgba(153, 198, 98, 1)\"},\"name\":\"<i>Gaze left<i>\",\"orientation\":\"h\",\"showlegend\":false,\"x\":[2.949524129170039,2.679170243985488,3.0625990149779962,4.657331411515451,5.260126569080123,4.978624640449593,4.571404168203433,5.188018397125557,5.337388228942679,5.307053872650214,5.338680912612612,5.2430428359204955],\"y\":[12,11,10,9,8,7,6,5,4,3,2,1],\"type\":\"bar\",\"xaxis\":\"x2\",\"yaxis\":\"y2\"},{\"error_x\":{\"array\":[0.27617656483083525,0.21538067322142418,0.11963334315127433,0.08671118405325089,0.11443676134025801,0.1293095900943203,0.21209279019187724,0.03481424421222945,0.036270320416824216,0.06234310321516982,0.049465459913163805,0.11000059074369041],\"arrayminus\":[0.27617656483083525,0.21538067322142418,0.11963334315127433,0.08671118405325089,0.11443676134025801,0.1293095900943203,0.21209279019187724,0.03481424421222945,0.036270320416824216,0.06234310321516982,0.049465459913163805,0.11000059074369041],\"symmetric\":false,\"type\":\"data\"},\"hovertemplate\":\"ROI: %{y}<br>Decoded uncertainty: %{x:1.2f}\",\"legendgroup\":\"gaze-center\",\"marker\":{\"color\":\"rgba(242, 190, 121, 1)\"},\"name\":\"<i>Gaze center<i>\",\"orientation\":\"h\",\"showlegend\":false,\"x\":[2.908740610348265,2.8517288424145226,3.0873996340236314,4.721892964461428,5.263717108081696,5.054937053082689,4.600180660670393,5.288839816632076,5.380516263721525,5.339303974470401,5.372726143456421,5.233614322905591],\"y\":[12,11,10,9,8,7,6,5,4,3,2,1],\"type\":\"bar\",\"xaxis\":\"x2\",\"yaxis\":\"y2\"},{\"hoverinfo\":\"skip\",\"line\":{\"width\":1.5},\"marker\":{\"color\":\"black\",\"symbol\":\"line-ns-open\"},\"mode\":\"lines\",\"showlegend\":false,\"x\":[8.0,8.0,8.0,8.0,8.0,8.0,8.0,8.0,8.0,8.0],\"y\":[11.25,11.222222222222221,11.194444444444445,11.166666666666666,11.13888888888889,11.11111111111111,11.083333333333334,11.055555555555555,11.027777777777779,11.0],\"type\":\"scatter\",\"xaxis\":\"x2\",\"yaxis\":\"y2\"},{\"hoverinfo\":\"skip\",\"marker\":{\"color\":\"black\",\"size\":5,\"symbol\":\"asterisk-open\"},\"mode\":\"markers\",\"showlegend\":false,\"x\":[8.25,8.25,8.25,8.25,8.25,8.25,8.25,8.25,8.25,8.25],\"y\":[11.125],\"type\":\"scatter\",\"xaxis\":\"x2\",\"yaxis\":\"y2\"},{\"hoverinfo\":\"skip\",\"line\":{\"width\":1.5},\"marker\":{\"color\":\"black\",\"symbol\":\"line-ns-open\"},\"mode\":\"lines\",\"showlegend\":false,\"x\":[8.0,8.0,8.0,8.0,8.0,8.0,8.0,8.0,8.0,8.0],\"y\":[4.25,4.222222222222222,4.194444444444445,4.166666666666667,4.138888888888889,4.111111111111111,4.083333333333333,4.055555555555555,4.027777777777778,4.0],\"type\":\"scatter\",\"xaxis\":\"x2\",\"yaxis\":\"y2\"},{\"hoverinfo\":\"skip\",\"marker\":{\"color\":\"black\",\"size\":5,\"symbol\":\"asterisk-open\"},\"mode\":\"markers\",\"showlegend\":false,\"x\":[8.25,8.25,8.25,8.25,8.25,8.25,8.25,8.25,8.25,8.25],\"y\":[4.125],\"type\":\"scatter\",\"xaxis\":\"x2\",\"yaxis\":\"y2\"},{\"hoverinfo\":\"skip\",\"line\":{\"width\":1.5},\"marker\":{\"color\":\"black\",\"symbol\":\"line-ns-open\"},\"mode\":\"lines\",\"showlegend\":false,\"x\":[9.0,9.0,9.0,9.0,9.0,9.0,9.0,9.0,9.0,9.0],\"y\":[5.25,5.194444444444445,5.138888888888889,5.083333333333333,5.027777777777778,4.972222222222222,4.916666666666667,4.861111111111111,4.805555555555555,4.75],\"type\":\"scatter\",\"xaxis\":\"x2\",\"yaxis\":\"y2\"},{\"hoverinfo\":\"skip\",\"marker\":{\"color\":\"black\",\"size\":5,\"symbol\":\"asterisk-open\"},\"mode\":\"markers\",\"showlegend\":false,\"x\":[9.25,9.25,9.25,9.25,9.25,9.25,9.25,9.25,9.25,9.25],\"y\":[5.0],\"type\":\"scatter\",\"xaxis\":\"x2\",\"yaxis\":\"y2\"},{\"hoverinfo\":\"skip\",\"line\":{\"width\":1.5},\"marker\":{\"color\":\"black\",\"symbol\":\"line-ns-open\"},\"mode\":\"lines\",\"showlegend\":false,\"x\":[9.0,9.0,9.0,9.0,9.0,9.0,9.0,9.0,9.0,9.0],\"y\":[2.25,2.1944444444444446,2.138888888888889,2.0833333333333335,2.0277777777777777,1.9722222222222223,1.9166666666666667,1.8611111111111112,1.8055555555555556,1.75],\"type\":\"scatter\",\"xaxis\":\"x2\",\"yaxis\":\"y2\"},{\"hoverinfo\":\"skip\",\"marker\":{\"color\":\"black\",\"size\":5,\"symbol\":\"asterisk-open\"},\"mode\":\"markers\",\"showlegend\":false,\"x\":[9.25,9.25,9.25,9.25,9.25,9.25,9.25,9.25,9.25,9.25],\"y\":[2.0000000000000004],\"type\":\"scatter\",\"xaxis\":\"x2\",\"yaxis\":\"y2\"},{\"hoverinfo\":\"skip\",\"line\":{\"width\":1.5},\"marker\":{\"color\":\"black\",\"symbol\":\"line-ns-open\"},\"mode\":\"lines\",\"showlegend\":false,\"x\":[8.5,8.5,8.5,8.5,8.5,8.5,8.5,8.5,8.5,8.5],\"y\":[5.0,4.972222222222222,4.944444444444445,4.916666666666667,4.888888888888889,4.861111111111111,4.833333333333333,4.805555555555555,4.777777777777778,4.75],\"type\":\"scatter\",\"xaxis\":\"x2\",\"yaxis\":\"y2\"},{\"hoverinfo\":\"skip\",\"marker\":{\"color\":\"black\",\"size\":5,\"symbol\":\"asterisk-open\"},\"mode\":\"markers\",\"showlegend\":false,\"x\":[8.75,8.75,8.75,8.75,8.75,8.75,8.75,8.75,8.75,8.75],\"y\":[4.875],\"type\":\"scatter\",\"xaxis\":\"x2\",\"yaxis\":\"y2\"},{\"hoverinfo\":\"skip\",\"line\":{\"width\":1.5},\"marker\":{\"color\":\"black\",\"symbol\":\"line-ns-open\"},\"mode\":\"lines\",\"showlegend\":false,\"x\":[8.5,8.5,8.5,8.5,8.5,8.5,8.5,8.5,8.5,8.5],\"y\":[2.0,1.9722222222222223,1.9444444444444444,1.9166666666666667,1.8888888888888888,1.8611111111111112,1.8333333333333333,1.8055555555555556,1.7777777777777777,1.75],\"type\":\"scatter\",\"xaxis\":\"x2\",\"yaxis\":\"y2\"},{\"hoverinfo\":\"skip\",\"marker\":{\"color\":\"black\",\"size\":5,\"symbol\":\"asterisk-open\"},\"mode\":\"markers\",\"showlegend\":false,\"x\":[8.75,8.75,8.75,8.75,8.75,8.75,8.75,8.75,8.75,8.75],\"y\":[1.875],\"type\":\"scatter\",\"xaxis\":\"x2\",\"yaxis\":\"y2\"}],                        {\"template\":{\"data\":{\"barpolar\":[{\"marker\":{\"line\":{\"color\":\"rgba(0,0,0,1)\",\"width\":1.5}},\"showlegend\":false,\"thetaunit\":\"radians\",\"type\":\"barpolar\"}],\"pie\":[{\"direction\":\"clockwise\",\"hole\":0.4,\"marker\":{\"line\":{\"color\":[\"rgba(0,0,0,1)\",\"rgba(255,255,255,0)\"],\"width\":[1.5,0]}},\"rotation\":0,\"showlegend\":false,\"sort\":false,\"textposition\":[\"inside\",\"none\"],\"type\":\"pie\"}],\"violin\":[{\"box\":{\"visible\":false},\"hoveron\":\"violins\",\"line\":{\"color\":\"rgba(0, 0, 0, 1)\",\"width\":1.5},\"marker\":{\"opacity\":0.5,\"symbol\":\"x\"},\"meanline\":{\"color\":\"rgba(0, 0, 0, 1)\",\"visible\":true,\"width\":1.5},\"opacity\":1,\"points\":false,\"showlegend\":false,\"width\":0.8,\"type\":\"violin\"}]},\"layout\":{\"annotationdefaults\":{\"font\":{\"color\":\"rgba(0, 0, 0, 1)\",\"family\":\"Arial\",\"size\":15}},\"font\":{\"family\":\"Arial\",\"size\":13},\"plot_bgcolor\":\"rgba(255, 255, 255, 1)\",\"polar\":{\"angularaxis\":{\"showticklabels\":false,\"ticks\":\"\",\"visible\":false},\"radialaxis\":{\"showticklabels\":false,\"ticks\":\"\",\"visible\":false}},\"xaxis\":{\"color\":\"rgba(0, 0, 0, 1)\",\"hoverformat\":\".1f\",\"linewidth\":2,\"range\":[0,1],\"showgrid\":false,\"tickfont\":{\"family\":\"Arial\",\"size\":13},\"ticklen\":8,\"ticks\":\"outside\",\"tickwidth\":2,\"title\":{\"font\":{\"family\":\"Arial\",\"size\":15}},\"visible\":true,\"zeroline\":false,\"zerolinecolor\":\"rgba(0, 0, 0, 1)\",\"zerolinewidth\":2},\"yaxis\":{\"color\":\"rgba(0, 0, 0, 1)\",\"hoverformat\":\".1f\",\"linewidth\":2,\"showgrid\":false,\"tickfont\":{\"family\":\"Arial\",\"size\":13},\"ticklen\":8,\"ticks\":\"outside\",\"tickwidth\":2,\"title\":{\"font\":{\"family\":\"Arial\",\"size\":15}},\"visible\":true,\"zeroline\":false,\"zerolinecolor\":\"rgba(0, 0, 0, 1)\",\"zerolinewidth\":2}}},\"xaxis\":{\"anchor\":\"y\",\"domain\":[0.0,0.45],\"range\":[0,10],\"title\":{\"text\":\"Decoded uncertainty (dva)\"},\"tickvals\":[0.0,2.0,4.0,6.0,8.0,10.0],\"ticktext\":[\"0\",\"2\",\"4\",\"6\",\"8\",\"10\"],\"zeroline\":true,\"visible\":true,\"ticklen\":8,\"linewidth\":2},\"yaxis\":{\"anchor\":\"x\",\"domain\":[0.0,1.0],\"range\":[0.3,12.7],\"tickvals\":[12.0,11.0,10.0,9.0,8.0,7.0,6.0,5.0,4.0,3.0,2.0,1.0],\"ticktext\":[\"V1\",\"V2\",\"V3\",\"V3AB\",\"hMT+\",\"LO\",\"VO\",\"iIPS\",\"sIPS\",\"iPCS\",\"sPCS\",\"mPCS\"],\"tickfont\":{\"color\":\"black\"},\"title\":{\"text\":\"\"},\"color\":\"rgba(0,0,0,0)\"},\"xaxis2\":{\"anchor\":\"y2\",\"domain\":[0.55,1.0],\"range\":[0,10],\"title\":{\"text\":\"Decoded uncertainty (dva)\"},\"tickvals\":[0.0,2.0,4.0,6.0,8.0,10.0],\"ticktext\":[\"0\",\"2\",\"4\",\"6\",\"8\",\"10\"],\"zeroline\":true,\"visible\":true,\"ticklen\":8,\"linewidth\":2},\"yaxis2\":{\"anchor\":\"x2\",\"domain\":[0.0,1.0],\"range\":[0.3,12.7],\"tickvals\":[12.0,11.0,10.0,9.0,8.0,7.0,6.0,5.0,4.0,3.0,2.0,1.0],\"ticktext\":[\"V1\",\"V2\",\"V3\",\"V3AB\",\"hMT+\",\"LO\",\"VO\",\"iIPS\",\"sIPS\",\"iPCS\",\"sPCS\",\"mPCS\"]},\"annotations\":[{\"font\":{\"size\":16},\"showarrow\":false,\"text\":\"<b>Attend-bar</b><br>(group)\",\"x\":0.225,\"xanchor\":\"center\",\"xref\":\"paper\",\"y\":1.0,\"yanchor\":\"bottom\",\"yref\":\"paper\"},{\"font\":{\"size\":16},\"showarrow\":false,\"text\":\"<b>Attend-fix</b><br>(group)\",\"x\":0.775,\"xanchor\":\"center\",\"xref\":\"paper\",\"y\":1.0,\"yanchor\":\"bottom\",\"yref\":\"paper\"}],\"margin\":{\"l\":100,\"r\":50,\"t\":50,\"b\":100},\"legend\":{\"yanchor\":\"top\",\"y\":-0.15,\"x\":-0.05,\"xanchor\":\"left\",\"bgcolor\":\"rgba(255,255,255,0)\",\"tracegroupgap\":1},\"bargap\":0.3,\"width\":750,\"height\":850},                        {\"displayModeBar\": false, \"responsive\": true}                    ).then(function(){\n",
       "                            \n",
       "var gd = document.getElementById('3a2de175-5d1c-412f-a5d0-d6ff36bb4978');\n",
       "var x = new MutationObserver(function (mutations, observer) {{\n",
       "        var display = window.getComputedStyle(gd).display;\n",
       "        if (!display || display === 'none') {{\n",
       "            console.log([gd, 'removed!']);\n",
       "            Plotly.purge(gd);\n",
       "            observer.disconnect();\n",
       "        }}\n",
       "}});\n",
       "\n",
       "// Listen for the removal of the full notebook cells\n",
       "var notebookContainer = gd.closest('#notebook-container');\n",
       "if (notebookContainer) {{\n",
       "    x.observe(notebookContainer, {childList: true});\n",
       "}}\n",
       "\n",
       "// Listen for the clearing of the current output cell\n",
       "var outputEl = gd.closest('.output');\n",
       "if (outputEl) {{\n",
       "    x.observe(outputEl, {childList: true});\n",
       "}}\n",
       "\n",
       "                        })                };                });            </script>        </div>"
      ]
     },
     "metadata": {},
     "output_type": "display_data"
    }
   ],
   "source": [
    "# Subplot settings\n",
    "rows, cols = 1, 2\n",
    "row_heights, column_widths =  [1], [1,1]\n",
    "sb_specs = [[{},{}]]\n",
    "subplot_width, subplot_height = 300,700\n",
    "\n",
    "fig_width, fig_height = 0, 0\n",
    "for column_width in column_widths:fig_width += subplot_width*column_width\n",
    "for row_height in row_heights: fig_height +=subplot_height*row_height\n",
    "fig_width = fig_width + margin_l + margin_r\n",
    "fig_height = fig_height + margin_t + margin_b\n",
    "subplot_titles = ['<b>Attend-bar</b><br>(group)'.format(subject),\n",
    "                  '<b>Attend-fix</b><br>(group)'.format(subject)]\n",
    "\n",
    "fig = make_subplots(rows=rows, cols=cols, specs=sb_specs, print_grid=False, vertical_spacing=0.04, horizontal_spacing=0.1,\n",
    "                    column_widths=column_widths, row_heights=row_heights,  subplot_titles=subplot_titles)\n",
    "\n",
    "# Draw figure\n",
    "for attend_task, attend_task_txt in zip(attend_tasks, attend_tasks_txt):\n",
    "    if attend_task == 'AttendBar': \n",
    "        col = 1\n",
    "        showlegend = False\n",
    "        marker_colors = [gc_colors[0], gl_colors[0], gr_colors[0]]\n",
    "    elif attend_task == 'AttendFix': \n",
    "        col = 2 \n",
    "        marker_colors = [gc_colors[1], gl_colors[1], gr_colors[1]]\n",
    "\n",
    "    # get data    \n",
    "    df_stats.roi = pd.Categorical(df_stats.roi,categories=rois)\n",
    "    x_gc = df_stats_roi.loc[df_stats_roi.attend_task==attend_task].gc_decoded_std_mean\n",
    "    x_gc_eb = df_stats_roi.loc[df_stats_roi.attend_task==attend_task].gc_decoded_std_sem\n",
    "    x_gl = df_stats_roi.loc[df_stats_roi.attend_task==attend_task].gl_decoded_std_mean\n",
    "    x_gl_eb = df_stats_roi.loc[df_stats_roi.attend_task==attend_task].gl_decoded_std_sem\n",
    "    x_gr = df_stats_roi.loc[df_stats_roi.attend_task==attend_task].gr_decoded_std_mean\n",
    "    x_gr_eb = df_stats_roi.loc[df_stats_roi.attend_task==attend_task].gr_decoded_std_sem\n",
    "\n",
    "    # plot data\n",
    "    fig.append_trace(go.Bar(y=y_rois, x=x_gr, orientation='h', marker_color=marker_colors[2], \n",
    "                            hovertemplate=hover, showlegend=showlegend, \n",
    "                            legendgroup='gaze-right', name='<i>Gaze right<i>',\n",
    "                            error_x_type='data', error_x_symmetric=False,\n",
    "                            error_x_array=x_gr_eb, error_x_arrayminus=x_gr_eb),\n",
    "                     row=1, col=col)\n",
    "    \n",
    "    fig.append_trace(go.Bar(y=y_rois, x=x_gl, orientation='h', marker_color=marker_colors[1], \n",
    "                            hovertemplate=hover, showlegend=showlegend, \n",
    "                            legendgroup='gaze-left', name='<i>Gaze left<i>',\n",
    "                            error_x_type='data', error_x_symmetric=False,\n",
    "                            error_x_array=x_gl_eb, error_x_arrayminus=x_gl_eb),\n",
    "                     row=1, col=col)\n",
    "    \n",
    "    fig.append_trace(go.Bar(y=y_rois, x=x_gc, orientation='h', marker_color=marker_colors[0], \n",
    "                            hovertemplate=hover, showlegend=showlegend, \n",
    "                            legendgroup='gaze-center', name='<i>Gaze center<i>',\n",
    "                            error_x_type='data', error_x_symmetric=False,\n",
    "                            error_x_array=x_gc_eb, error_x_arrayminus=x_gc_eb),\n",
    "                     row=1, col=col)\n",
    "    \n",
    "    # plot stats\n",
    "    p_flags = np.array(df_stats_roi.loc[df_stats_roi.attend_task==attend_task].gc_gl_p_val_bilateral<0.05)\n",
    "    for t, p_flag in enumerate(p_flags):\n",
    "        if p_flag:\n",
    "            y_line = np.linspace(y_rois[t]+0.25,y_rois[t]-0,10)\n",
    "            x_line = y_line*0+x_stats_line\n",
    "            fig.append_trace(go.Scatter(x=x_line,y=y_line, marker_symbol='line-ns-open', showlegend=False, line_width = 1.5,\n",
    "                                        mode='lines', marker_color='black', hoverinfo='skip'),row=1, col=col)\n",
    "            \n",
    "            fig.append_trace(go.Scatter(x=x_line+x_gap_asterisk,\n",
    "                                        y=[np.mean(y_line)], marker_symbol='asterisk-open', showlegend=False, \n",
    "                                        mode='markers', marker_color='black', hoverinfo='skip', marker_size=5),row=1, col=col)\n",
    "            \n",
    "    p2_flags = np.array(df_stats_roi.loc[df_stats_roi.attend_task==attend_task].gc_gr_p_val_bilateral<0.05)\n",
    "    for t, p_flag in enumerate(p2_flags):\n",
    "        if p_flag:\n",
    "            y_line = np.linspace(y_rois[t]+0.25,y_rois[t]-0.25,10)\n",
    "            x_line = y_line*0+x_stats3_line\n",
    "            fig.append_trace(go.Scatter(x=x_line,y=y_line, marker_symbol='line-ns-open', showlegend=False, line_width = 1.5,\n",
    "                                        mode='lines', marker_color='black', hoverinfo='skip'),row=1, col=col)\n",
    "            \n",
    "            fig.append_trace(go.Scatter(x=x_line+x_gap_asterisk,\n",
    "                                        y=[np.mean(y_line)], marker_symbol='asterisk-open', showlegend=False, \n",
    "                                        mode='markers', marker_color='black', hoverinfo='skip', marker_size=5),row=1, col=col)\n",
    "            \n",
    "    p3_flags = np.array(df_stats_roi.loc[df_stats_roi.attend_task==attend_task].gl_gr_p_val_bilateral<0.05)\n",
    "    for t, p_flag in enumerate(p2_flags):\n",
    "        if p_flag:\n",
    "            y_line = np.linspace(y_rois[t]+0,y_rois[t]-0.25,10)\n",
    "            x_line = y_line*0+x_stats2_line\n",
    "            fig.append_trace(go.Scatter(x=x_line,y=y_line, marker_symbol='line-ns-open', showlegend=False, line_width = 1.5,\n",
    "                                        mode='lines', marker_color='black', hoverinfo='skip'),row=1, col=col)\n",
    "            \n",
    "            fig.append_trace(go.Scatter(x=x_line+x_gap_asterisk,\n",
    "                                        y=[np.mean(y_line)], marker_symbol='asterisk-open', showlegend=False, \n",
    "                                        mode='markers', marker_color='black', hoverinfo='skip', marker_size=5),row=1, col=col)\n",
    "                \n",
    "    \n",
    "# set figure axis\n",
    "for xaxis in ['xaxis', 'xaxis2']:\n",
    "    exec(\"fig.layout.update({}_range=xaxis_range)\".format(xaxis))\n",
    "    exec(\"fig.layout.update({}_title=xaxis_title)\".format(xaxis))\n",
    "    exec(\"fig.layout.update({}_tickvals=xaxis_tickvals)\".format(xaxis))\n",
    "    exec(\"fig.layout.update({}_ticktext=xaxis_ticktext)\".format(xaxis))\n",
    "    exec(\"fig.layout.update({}_zeroline=True)\".format(xaxis))\n",
    "\n",
    "for yaxis in ['yaxis', 'yaxis2', ]:\n",
    "    exec(\"fig.layout.update({}_range=yaxis_range)\".format(yaxis))\n",
    "    exec(\"fig.layout.update({}_tickvals=yaxis_tickvals)\".format(yaxis))\n",
    "    exec(\"fig.layout.update({}_ticktext=yaxis_ticktext)\".format(yaxis))\n",
    "\n",
    "# set axis\n",
    "for row in np.arange(rows):\n",
    "    for col in np.arange(cols):\n",
    "        fig.update_xaxes(visible=True, ticklen=8, linewidth=template_specs['axes_width'], row=row+1, col=col+1)\n",
    "\n",
    "# set figure\n",
    "fig.layout.update(yaxis_title='', yaxis_color = 'rgba(0,0,0,0)', yaxis_tickfont_color='black', bargap=0.3, template=fig_template, width=fig_width, height=fig_height, margin_l=margin_l, margin_r=margin_r, margin_t=margin_t, margin_b=margin_b,\n",
    "                  legend_yanchor='top', legend_y=-0.15,legend_x=-0.05, legend_xanchor='left', legend_bgcolor='rgba(255,255,255,0)', legend_tracegroupgap=1)\n",
    "\n",
    "# show and save figure\n",
    "fig.show(config={\"displayModeBar\": False})\n",
    "fig.write_image(\"{}/{}_decode_std2.pdf\".format(group_tsv_dir, subject))\n",
    "fig.write_html(\"{}/{}_decode_std2.html\".format(group_tsv_dir, subject),config={\"displayModeBar\": False})"
   ]
  },
  {
   "cell_type": "code",
   "execution_count": null,
   "id": "6873c1cf-9800-4214-87db-002e91032529",
   "metadata": {},
   "outputs": [],
   "source": []
  }
 ],
 "metadata": {
  "kernelspec": {
   "display_name": "mszinte",
   "language": "python",
   "name": "mszinte"
  },
  "language_info": {
   "codemirror_mode": {
    "name": "ipython",
    "version": 3
   },
   "file_extension": ".py",
   "mimetype": "text/x-python",
   "name": "python",
   "nbconvert_exporter": "python",
   "pygments_lexer": "ipython3",
   "version": "3.9.13"
  }
 },
 "nbformat": 4,
 "nbformat_minor": 5
}
